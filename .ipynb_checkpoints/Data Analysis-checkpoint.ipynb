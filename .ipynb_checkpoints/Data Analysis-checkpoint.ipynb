{
 "cells": [
  {
   "cell_type": "markdown",
   "id": "9317b891",
   "metadata": {},
   "source": [
    "# Basic Analysis"
   ]
  },
  {
   "cell_type": "markdown",
   "id": "1aa9a114",
   "metadata": {},
   "source": [
    "## Tweet and user volume"
   ]
  },
  {
   "cell_type": "code",
   "execution_count": 2,
   "id": "053aa3f7",
   "metadata": {},
   "outputs": [],
   "source": [
    "import pandas as pd"
   ]
  },
  {
   "cell_type": "code",
   "execution_count": 39,
   "id": "0d0d06f3",
   "metadata": {},
   "outputs": [],
   "source": [
    "df = pd.read_csv ('IchBinHanna.csv')"
   ]
  },
  {
   "cell_type": "code",
   "execution_count": 40,
   "id": "ede6be7d",
   "metadata": {},
   "outputs": [
    {
     "name": "stdout",
     "output_type": "stream",
     "text": [
      "116928\n",
      "19010\n"
     ]
    }
   ],
   "source": [
    "#number of total tweets\n",
    "print(df.shape[0])\n",
    "#number of total unique users\n",
    "print(len(pd.unique(df['author.id'])))"
   ]
  },
  {
   "cell_type": "code",
   "execution_count": 51,
   "id": "063385bf",
   "metadata": {},
   "outputs": [
    {
     "ename": "TypeError",
     "evalue": "strftime() got an unexpected keyword argument 'errors'",
     "output_type": "error",
     "traceback": [
      "\u001b[1;31m---------------------------------------------------------------------------\u001b[0m",
      "\u001b[1;31mTypeError\u001b[0m                                 Traceback (most recent call last)",
      "\u001b[1;32m~\\AppData\\Local\\Temp/ipykernel_14216/1938811690.py\u001b[0m in \u001b[0;36m<module>\u001b[1;34m\u001b[0m\n\u001b[0;32m      1\u001b[0m \u001b[1;31m#only keep tweets from 01/06/2021 - 30/09/2021\u001b[0m\u001b[1;33m\u001b[0m\u001b[1;33m\u001b[0m\u001b[1;33m\u001b[0m\u001b[0m\n\u001b[0;32m      2\u001b[0m \u001b[1;32mfrom\u001b[0m \u001b[0mdatetime\u001b[0m \u001b[1;32mimport\u001b[0m \u001b[0mdatetime\u001b[0m\u001b[1;33m\u001b[0m\u001b[1;33m\u001b[0m\u001b[0m\n\u001b[1;32m----> 3\u001b[1;33m \u001b[0mdf\u001b[0m\u001b[1;33m[\u001b[0m\u001b[1;34m'new_date'\u001b[0m\u001b[1;33m]\u001b[0m \u001b[1;33m=\u001b[0m \u001b[0mpd\u001b[0m\u001b[1;33m.\u001b[0m\u001b[0mto_datetime\u001b[0m\u001b[1;33m(\u001b[0m\u001b[0mdf\u001b[0m\u001b[1;33m[\u001b[0m\u001b[1;34m'created_at'\u001b[0m\u001b[1;33m]\u001b[0m\u001b[1;33m)\u001b[0m\u001b[1;33m.\u001b[0m\u001b[0mdt\u001b[0m\u001b[1;33m.\u001b[0m\u001b[0mstrftime\u001b[0m\u001b[1;33m(\u001b[0m\u001b[1;34m'%Y-%m-%d %H:%M:%S'\u001b[0m\u001b[1;33m,\u001b[0m \u001b[0merrors\u001b[0m\u001b[1;33m=\u001b[0m\u001b[1;34m'coerce'\u001b[0m\u001b[1;33m)\u001b[0m\u001b[1;33m\u001b[0m\u001b[1;33m\u001b[0m\u001b[0m\n\u001b[0m\u001b[0;32m      4\u001b[0m \u001b[0mdf_date\u001b[0m \u001b[1;33m=\u001b[0m \u001b[0mdf\u001b[0m\u001b[1;33m.\u001b[0m\u001b[0mloc\u001b[0m\u001b[1;33m[\u001b[0m\u001b[1;33m(\u001b[0m\u001b[0mdf\u001b[0m\u001b[1;33m[\u001b[0m\u001b[1;34m'new_date'\u001b[0m\u001b[1;33m]\u001b[0m \u001b[1;33m>\u001b[0m \u001b[1;34m'2021-06-01 00:00:00'\u001b[0m\u001b[1;33m)\u001b[0m \u001b[1;33m&\u001b[0m \u001b[1;33m(\u001b[0m\u001b[0mdf\u001b[0m\u001b[1;33m[\u001b[0m\u001b[1;34m'new_date'\u001b[0m\u001b[1;33m]\u001b[0m \u001b[1;33m<=\u001b[0m \u001b[1;34m'2021-09-30 23:59:59'\u001b[0m\u001b[1;33m)\u001b[0m\u001b[1;33m]\u001b[0m\u001b[1;33m\u001b[0m\u001b[1;33m\u001b[0m\u001b[0m\n",
      "\u001b[1;32m~\\anaconda3\\lib\\site-packages\\pandas\\core\\accessor.py\u001b[0m in \u001b[0;36mf\u001b[1;34m(self, *args, **kwargs)\u001b[0m\n\u001b[0;32m     91\u001b[0m         \u001b[1;32mdef\u001b[0m \u001b[0m_create_delegator_method\u001b[0m\u001b[1;33m(\u001b[0m\u001b[0mname\u001b[0m\u001b[1;33m)\u001b[0m\u001b[1;33m:\u001b[0m\u001b[1;33m\u001b[0m\u001b[1;33m\u001b[0m\u001b[0m\n\u001b[0;32m     92\u001b[0m             \u001b[1;32mdef\u001b[0m \u001b[0mf\u001b[0m\u001b[1;33m(\u001b[0m\u001b[0mself\u001b[0m\u001b[1;33m,\u001b[0m \u001b[1;33m*\u001b[0m\u001b[0margs\u001b[0m\u001b[1;33m,\u001b[0m \u001b[1;33m**\u001b[0m\u001b[0mkwargs\u001b[0m\u001b[1;33m)\u001b[0m\u001b[1;33m:\u001b[0m\u001b[1;33m\u001b[0m\u001b[1;33m\u001b[0m\u001b[0m\n\u001b[1;32m---> 93\u001b[1;33m                 \u001b[1;32mreturn\u001b[0m \u001b[0mself\u001b[0m\u001b[1;33m.\u001b[0m\u001b[0m_delegate_method\u001b[0m\u001b[1;33m(\u001b[0m\u001b[0mname\u001b[0m\u001b[1;33m,\u001b[0m \u001b[1;33m*\u001b[0m\u001b[0margs\u001b[0m\u001b[1;33m,\u001b[0m \u001b[1;33m**\u001b[0m\u001b[0mkwargs\u001b[0m\u001b[1;33m)\u001b[0m\u001b[1;33m\u001b[0m\u001b[1;33m\u001b[0m\u001b[0m\n\u001b[0m\u001b[0;32m     94\u001b[0m \u001b[1;33m\u001b[0m\u001b[0m\n\u001b[0;32m     95\u001b[0m             \u001b[0mf\u001b[0m\u001b[1;33m.\u001b[0m\u001b[0m__name__\u001b[0m \u001b[1;33m=\u001b[0m \u001b[0mname\u001b[0m\u001b[1;33m\u001b[0m\u001b[1;33m\u001b[0m\u001b[0m\n",
      "\u001b[1;32m~\\anaconda3\\lib\\site-packages\\pandas\\core\\indexes\\accessors.py\u001b[0m in \u001b[0;36m_delegate_method\u001b[1;34m(self, name, *args, **kwargs)\u001b[0m\n\u001b[0;32m    119\u001b[0m \u001b[1;33m\u001b[0m\u001b[0m\n\u001b[0;32m    120\u001b[0m         \u001b[0mmethod\u001b[0m \u001b[1;33m=\u001b[0m \u001b[0mgetattr\u001b[0m\u001b[1;33m(\u001b[0m\u001b[0mvalues\u001b[0m\u001b[1;33m,\u001b[0m \u001b[0mname\u001b[0m\u001b[1;33m)\u001b[0m\u001b[1;33m\u001b[0m\u001b[1;33m\u001b[0m\u001b[0m\n\u001b[1;32m--> 121\u001b[1;33m         \u001b[0mresult\u001b[0m \u001b[1;33m=\u001b[0m \u001b[0mmethod\u001b[0m\u001b[1;33m(\u001b[0m\u001b[1;33m*\u001b[0m\u001b[0margs\u001b[0m\u001b[1;33m,\u001b[0m \u001b[1;33m**\u001b[0m\u001b[0mkwargs\u001b[0m\u001b[1;33m)\u001b[0m\u001b[1;33m\u001b[0m\u001b[1;33m\u001b[0m\u001b[0m\n\u001b[0m\u001b[0;32m    122\u001b[0m \u001b[1;33m\u001b[0m\u001b[0m\n\u001b[0;32m    123\u001b[0m         \u001b[1;32mif\u001b[0m \u001b[1;32mnot\u001b[0m \u001b[0mis_list_like\u001b[0m\u001b[1;33m(\u001b[0m\u001b[0mresult\u001b[0m\u001b[1;33m)\u001b[0m\u001b[1;33m:\u001b[0m\u001b[1;33m\u001b[0m\u001b[1;33m\u001b[0m\u001b[0m\n",
      "\u001b[1;32m~\\anaconda3\\lib\\site-packages\\pandas\\core\\indexes\\extension.py\u001b[0m in \u001b[0;36mmethod\u001b[1;34m(self, *args, **kwargs)\u001b[0m\n\u001b[0;32m    103\u001b[0m \u001b[1;33m\u001b[0m\u001b[0m\n\u001b[0;32m    104\u001b[0m         \u001b[1;32mdef\u001b[0m \u001b[0mmethod\u001b[0m\u001b[1;33m(\u001b[0m\u001b[0mself\u001b[0m\u001b[1;33m,\u001b[0m \u001b[1;33m*\u001b[0m\u001b[0margs\u001b[0m\u001b[1;33m,\u001b[0m \u001b[1;33m**\u001b[0m\u001b[0mkwargs\u001b[0m\u001b[1;33m)\u001b[0m\u001b[1;33m:\u001b[0m\u001b[1;33m\u001b[0m\u001b[1;33m\u001b[0m\u001b[0m\n\u001b[1;32m--> 105\u001b[1;33m             \u001b[0mresult\u001b[0m \u001b[1;33m=\u001b[0m \u001b[0mattr\u001b[0m\u001b[1;33m(\u001b[0m\u001b[0mself\u001b[0m\u001b[1;33m.\u001b[0m\u001b[0m_data\u001b[0m\u001b[1;33m,\u001b[0m \u001b[1;33m*\u001b[0m\u001b[0margs\u001b[0m\u001b[1;33m,\u001b[0m \u001b[1;33m**\u001b[0m\u001b[0mkwargs\u001b[0m\u001b[1;33m)\u001b[0m\u001b[1;33m\u001b[0m\u001b[1;33m\u001b[0m\u001b[0m\n\u001b[0m\u001b[0;32m    106\u001b[0m             \u001b[1;32mif\u001b[0m \u001b[0mwrap\u001b[0m\u001b[1;33m:\u001b[0m\u001b[1;33m\u001b[0m\u001b[1;33m\u001b[0m\u001b[0m\n\u001b[0;32m    107\u001b[0m                 \u001b[1;32mif\u001b[0m \u001b[0misinstance\u001b[0m\u001b[1;33m(\u001b[0m\u001b[0mresult\u001b[0m\u001b[1;33m,\u001b[0m \u001b[0mtype\u001b[0m\u001b[1;33m(\u001b[0m\u001b[0mself\u001b[0m\u001b[1;33m.\u001b[0m\u001b[0m_data\u001b[0m\u001b[1;33m)\u001b[0m\u001b[1;33m)\u001b[0m\u001b[1;33m:\u001b[0m\u001b[1;33m\u001b[0m\u001b[1;33m\u001b[0m\u001b[0m\n",
      "\u001b[1;31mTypeError\u001b[0m: strftime() got an unexpected keyword argument 'errors'"
     ]
    }
   ],
   "source": [
    "#only keep tweets from 01/06/2021 - 30/09/2021\n",
    "from datetime import datetime\n",
    "df['new_date'] = pd.to_datetime(df['created_at']).dt.strftime('%Y-%m-%d %H:%M:%S')\n",
    "df_date = df.loc[(df['new_date'] > '2021-06-01 00:00:00') & (df['new_date'] <= '2021-09-30 23:59:59')]"
   ]
  },
  {
   "cell_type": "code",
   "execution_count": 68,
   "id": "24ff3b4c",
   "metadata": {},
   "outputs": [
    {
     "name": "stdout",
     "output_type": "stream",
     "text": [
      "116717\n",
      "18987\n",
      "__twarc.retrieved_at                                98885\n",
      "__twarc.url                                         98885\n",
      "__twarc.version                                     98885\n",
      "attachments.media                                    3287\n",
      "attachments.media_keys                               3287\n",
      "attachments.poll.duration_minutes                      83\n",
      "attachments.poll.end_datetime                          83\n",
      "attachments.poll.id                                    83\n",
      "attachments.poll.options                               83\n",
      "attachments.poll.voting_status                         83\n",
      "attachments.poll_ids                                   89\n",
      "author.created_at                                  116717\n",
      "author.description                                 111104\n",
      "author.entities.description.cashtags                    9\n",
      "author.entities.description.hashtags                40708\n",
      "author.entities.description.mentions                51884\n",
      "author.entities.description.urls                     7687\n",
      "author.entities.url.urls                            59215\n",
      "author.id                                          116717\n",
      "author.location                                     73732\n",
      "author.name                                        116717\n",
      "author.pinned_tweet_id                              62969\n",
      "author.profile_image_url                           116717\n",
      "author.protected                                   116717\n",
      "author.public_metrics.followers_count              116717\n",
      "author.public_metrics.following_count              116717\n",
      "author.public_metrics.listed_count                 116717\n",
      "author.public_metrics.tweet_count                  116717\n",
      "author.url                                          59215\n",
      "author.username                                    116717\n",
      "author.verified                                    116717\n",
      "author.withheld.country_codes                           0\n",
      "author_id                                          116717\n",
      "context_annotations                                  9218\n",
      "conversation_id                                    116717\n",
      "created_at                                         116717\n",
      "entities.annotations                                 3196\n",
      "entities.cashtags                                       6\n",
      "entities.hashtags                                   73991\n",
      "entities.mentions                                  100702\n",
      "entities.urls                                       18276\n",
      "geo.coordinates.coordinates                             2\n",
      "geo.coordinates.type                                    2\n",
      "geo.country                                           126\n",
      "geo.country_code                                      126\n",
      "geo.full_name                                         126\n",
      "geo.geo.bbox                                          126\n",
      "geo.geo.type                                          126\n",
      "geo.id                                                126\n",
      "geo.name                                              126\n",
      "geo.place_id                                          249\n",
      "geo.place_type                                        126\n",
      "id                                                 116717\n",
      "in_reply_to_user.created_at                          9004\n",
      "in_reply_to_user.description                         8801\n",
      "in_reply_to_user.entities.description.cashtags          1\n",
      "in_reply_to_user.entities.description.hashtags       2990\n",
      "in_reply_to_user.entities.description.mentions       4305\n",
      "in_reply_to_user.entities.description.urls            942\n",
      "in_reply_to_user.entities.url.urls                   5185\n",
      "in_reply_to_user.id                                  9004\n",
      "in_reply_to_user.location                            6374\n",
      "in_reply_to_user.name                                9003\n",
      "in_reply_to_user.pinned_tweet_id                     5365\n",
      "in_reply_to_user.profile_image_url                   9003\n",
      "in_reply_to_user.protected                           9004\n",
      "in_reply_to_user.public_metrics.followers_count      9004\n",
      "in_reply_to_user.public_metrics.following_count      9004\n",
      "in_reply_to_user.public_metrics.listed_count         9004\n",
      "in_reply_to_user.public_metrics.tweet_count          9004\n",
      "in_reply_to_user.url                                 5185\n",
      "in_reply_to_user.username                            9004\n",
      "in_reply_to_user.verified                            9004\n",
      "in_reply_to_user.withheld.country_codes                 0\n",
      "in_reply_to_user_id                                  9177\n",
      "lang                                               116717\n",
      "possibly_sensitive                                 116717\n",
      "public_metrics.like_count                          116717\n",
      "public_metrics.quote_count                         116717\n",
      "public_metrics.reply_count                         116717\n",
      "public_metrics.retweet_count                       116717\n",
      "referenced_tweets                                  106970\n",
      "reply_settings                                     116717\n",
      "source                                             116717\n",
      "text                                               116717\n",
      "type                                                17832\n",
      "withheld.scope                                          0\n",
      "withheld.copyright                                      0\n",
      "withheld.country_codes                                  0\n",
      "hashtags                                            73991\n",
      "reference_type                                     116717\n",
      "wanted_tag                                         116717\n",
      "new_date                                           116717\n",
      "date_week                                          116717\n",
      "dtype: int64\n"
     ]
    }
   ],
   "source": [
    "pd.set_option('display.max_rows', 100)\n",
    "#number of remaining tweets\n",
    "print(df_date.shape[0])\n",
    "#number of remaining unique users\n",
    "print(len(pd.unique(df_date['author.id'])))\n",
    "#overview over \"missing values\"\n",
    "print(df_date.count())"
   ]
  },
  {
   "cell_type": "code",
   "execution_count": 75,
   "id": "f7388bd3",
   "metadata": {},
   "outputs": [
    {
     "data": {
      "text/plain": [
       "<AxesSubplot:xlabel='week'>"
      ]
     },
     "execution_count": 75,
     "metadata": {},
     "output_type": "execute_result"
    },
    {
     "data": {
      "image/png": "[encoded data removed]",
      "text/plain": [
       "<Figure size 432x288 with 1 Axes>"
      ]
     },
     "metadata": {
      "needs_background": "light"
     },
     "output_type": "display_data"
    }
   ],
   "source": [
    "week_groups = df_date.groupby([pd.to_datetime(df_date['new_date']).dt.isocalendar().week]).size()\n",
    "week_groups.plot(kind='bar', legend = False)"
   ]
  }
 ],
 "metadata": {
  "kernelspec": {
   "display_name": "Python 3 (ipykernel)",
   "language": "python",
   "name": "python3"
  },
  "language_info": {
   "codemirror_mode": {
    "name": "ipython",
    "version": 3
   },
   "file_extension": ".py",
   "mimetype": "text/x-python",
   "name": "python",
   "nbconvert_exporter": "python",
   "pygments_lexer": "ipython3",
   "version": "3.8.5"
  }
 },
 "nbformat": 4,
 "nbformat_minor": 5
}
