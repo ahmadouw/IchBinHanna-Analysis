{
 "cells": [
  {
   "cell_type": "code",
   "execution_count": 1,
   "id": "e93f6bc2",
   "metadata": {},
   "outputs": [],
   "source": [
    "import pandas as pd\n",
    "import numpy as np\n",
    "import liwc\n",
    "import re\n",
    "import emoji\n",
    "from matplotlib import pyplot as plt\n",
    "from nltk.tokenize import TweetTokenizer\n",
    "from collections import Counter\n",
    "import nltk\n",
    "from nltk.corpus import stopwords\n",
    "\n",
    "import warnings\n",
    "warnings.filterwarnings('ignore')"
   ]
  },
  {
   "cell_type": "code",
   "execution_count": 2,
   "id": "17a24848",
   "metadata": {},
   "outputs": [],
   "source": [
    "#load data and dictionaries\n",
    "df = pd.read_csv ('data/tweets/IchBinHanna.csv')\n",
    "german_parse, german_categories = liwc.load_token_parser('data/dicts/LIWC2007_German.dic')\n",
    "english_parse, english_categories = liwc.load_token_parser('data/dicts/LIWC2015_English.dic')"
   ]
  },
  {
   "cell_type": "code",
   "execution_count": 3,
   "id": "73f0dd81",
   "metadata": {},
   "outputs": [
    {
     "name": "stderr",
     "output_type": "stream",
     "text": [
      "[nltk_data] Downloading package stopwords to\n",
      "[nltk_data]     C:\\Users\\Admin\\AppData\\Roaming\\nltk_data...\n",
      "[nltk_data]   Package stopwords is already up-to-date!\n"
     ]
    }
   ],
   "source": [
    "#prepare data, drop retweets and split it into german and english tweets\n",
    "def rem_url(tweet):\n",
    "     return \" \".join(re.sub(\"([^0-9A-Za-zßäöü \\t])|(\\w+:\\/\\/\\S+)\", \" \", tweet).split())\n",
    "#only keep tweets from 01/06/2021 - 30/09/2021\n",
    "df['new_date'] = pd.to_datetime(df['created_at']).dt.strftime('%Y-%m-%d %H:%M:%S')\n",
    "df = df.loc[(df['new_date'] > '2021-06-01 00:00:00') & (df['new_date'] <= '2021-09-30 23:59:59')]\n",
    "df = df.loc[df['reference_type'] != 'retweeted']\n",
    "df = df[df['text'].str.contains(\"#ichbinhanna\", case = False)]\n",
    "df['processed'] = df['text'].replace(r'\\\\n',  ' ', regex=True)\n",
    "df['processed'] = df['processed'].apply(lambda x:  re.sub(r'[0-9]+', '', x))\n",
    "df['processed'] = df['processed'].apply(rem_url)\n",
    "#remove emojis (as seen here: https://towardsdatascience.com/twitter-topic-modeling-e0e3315b12e2)\n",
    "def rem_emojis(text):\n",
    "    emojis = [x for x in text if x in emoji.UNICODE_EMOJI]\n",
    "    cleaned = ' '.join([str for str in text.split() if not any(i in str for i in emojis)])\n",
    "    return cleaned\n",
    "df['processed'] = df['processed'].apply(lambda x: rem_emojis(x))\n",
    "df['processed'] = df['processed'].astype(str)\n",
    "#tokenize tweets\n",
    "tweet_tokenizer = TweetTokenizer()\n",
    "df['tokenized'] = df['processed'].apply(lambda x: tweet_tokenizer.tokenize(x.lower()))\n",
    "#remove stopwords\n",
    "nltk.download(\"stopwords\")\n",
    "german_stop = set(stopwords.words('german'))\n",
    "english_stop = set(stopwords.words('english'))\n",
    "df['tokenized'] = df[['tokenized','lang']].apply(lambda x: ' '.join([word for word in x['tokenized'] if word not in (english_stop)]).split() if x['lang'] == 'en' else ' '.join([word for word in x['tokenized'] if word not in (german_stop)]).split(),axis=1)\n",
    "#remove additional stopwords encountered (like \"innen\" which occurs because of gendering in german), as well as the hashtag itself, rt etc.\n",
    "add_stop_all = [\"rt\", \"ichbinhanna\", \"hanna\", \"innen\", \"amp\"]\n",
    "add_stop_ger = [\"mehr\", \"mal\", \"innen\", \"ja\", \"schon\"]\n",
    "add_stop_en = []\n",
    "df['tokenized'] = df[['tokenized','lang']].apply(lambda x: ' '.join([word for word in x['tokenized'] if word not in (add_stop_all) and word not in  (add_stop_en)]).split() if x['lang'] == 'en' else ' '.join([word for word in x['tokenized'] if word not in (add_stop_all) and word not in  (add_stop_ger)]).split(),axis=1)\n",
    "#remove all words consisting of only one character (isn'\"t\", it'\"s\" etc.)\n",
    "df['tokenized'] = df['tokenized'].apply(lambda x: [word for word in x if len(word) > 1])\n",
    "df_ger = df.loc[df['lang'] == \"de\"]\n",
    "df_en = df.loc[df['lang'] == \"en\"]"
   ]
  },
  {
   "cell_type": "code",
   "execution_count": 4,
   "id": "653ed170",
   "metadata": {},
   "outputs": [],
   "source": [
    "df_ger['categories'] = df_ger['tokenized'].apply(lambda x: Counter(category for token in x for category in german_parse(token)))\n",
    "df_en['categories'] = df_en['tokenized'].apply(lambda x: Counter(category for token in x for category in english_parse(token)))"
   ]
  },
  {
   "cell_type": "code",
   "execution_count": 5,
   "id": "97d2c545",
   "metadata": {},
   "outputs": [],
   "source": [
    "#function to get relative scores of each category\n",
    "def get_relative(cats, tokens):\n",
    "    out = {}\n",
    "    for k in cats:\n",
    "        out[k] = round(cats[k]/len(tokens),4)\n",
    "    return out"
   ]
  },
  {
   "cell_type": "code",
   "execution_count": 6,
   "id": "40269916",
   "metadata": {},
   "outputs": [],
   "source": [
    "#convert counter to dict\n",
    "df_en['categories'] = df_en['categories'].apply(lambda x: dict(x))\n",
    "df_ger['categories'] = df_ger['categories'].apply(lambda x: dict(x))\n",
    "#get percentage of classes\n",
    "df_en['categories'] = [get_relative(x, y) for x, y in zip(df_en['categories'], df_en['tokenized'])]\n",
    "df_ger['categories'] = [get_relative(x, y) for x, y in zip(df_ger['categories'], df_ger['tokenized'])]"
   ]
  },
  {
   "cell_type": "code",
   "execution_count": 7,
   "id": "f4270a4e",
   "metadata": {},
   "outputs": [],
   "source": [
    "#only keep sentiment information from category-list and align category names from the different dictionarys (Posfeel from the german dictionary is excluded, as all words from this category are also Posemo)\n",
    "cat_list = ['Posemo', 'Negemo', 'Anx', 'Sad', 'Anger',  'posemo (Positive Emotions)', 'negemo (Negative Emotions)', 'anx (Anx)', 'sad (Sad)', 'anger (Anger)']\n",
    "def keep_cats(cats):\n",
    "    out={}\n",
    "    for k in cats:\n",
    "        if k in cat_list:\n",
    "            if k == 'posemo (Positive Emotions)':\n",
    "                out['Posemo'] = cats[k]\n",
    "            elif k == 'negemo (Negative Emotions)':\n",
    "                out['Negemo'] = cats[k]\n",
    "            elif k == 'anx (Anx)':\n",
    "                out['Anx'] = cats[k]\n",
    "            elif k == 'sad (Sad)':\n",
    "                out['Sad'] = cats[k]\n",
    "            elif k == 'anger (Anger)':\n",
    "                out['Anger'] = cats[k]\n",
    "            else:\n",
    "                out[k] = cats[k]\n",
    "    return out"
   ]
  },
  {
   "cell_type": "code",
   "execution_count": 8,
   "id": "3ea0e0dc",
   "metadata": {},
   "outputs": [],
   "source": [
    "df_en['categories'] = [keep_cats(x) for x in df_en['categories']]\n",
    "df_ger['categories'] = [keep_cats(x) for x in df_ger['categories']]"
   ]
  },
  {
   "cell_type": "code",
   "execution_count": 9,
   "id": "5ccaff4e",
   "metadata": {},
   "outputs": [],
   "source": [
    "#create new columns for each score\n",
    "df_en[['Posemo', 'Negemo','Anx','Anger', 'Sad']] = df_en['categories'].apply(pd.Series)\n",
    "df_ger[['Posemo', 'Negemo','Anx','Sad', 'Anger']] = df_ger['categories'].apply(pd.Series)"
   ]
  },
  {
   "cell_type": "code",
   "execution_count": 10,
   "id": "70c2bfbe",
   "metadata": {},
   "outputs": [],
   "source": [
    "#make index for the new columns coherent\n",
    "def df_column_switch(df, column1, column2):\n",
    "    i = list(df.columns)\n",
    "    a, b = i.index(column1), i.index(column2)\n",
    "    i[b], i[a] = i[a], i[b]\n",
    "    df = df[i]\n",
    "    return df\n",
    "df_en = df_column_switch(df_en, 'Sad', 'Anger')"
   ]
  },
  {
   "cell_type": "code",
   "execution_count": 11,
   "id": "502cf9e4",
   "metadata": {},
   "outputs": [],
   "source": [
    "#rejoin data frame, then fill sentiment values with NaN with zeros\n",
    "df_sentiment = pd.concat([df_en,df_ger])\n",
    "df_sentiment['Posemo'] = df_sentiment['Posemo'].fillna(0.0)\n",
    "df_sentiment['Negemo'] = df_sentiment['Negemo'].fillna(0.0)\n",
    "df_sentiment['Anger'] = df_sentiment['Anger'].fillna(0.0)\n",
    "df_sentiment['Sad'] = df_sentiment['Sad'].fillna(0.0)\n",
    "df_sentiment['Anx'] = df_sentiment['Anx'].fillna(0.0)"
   ]
  },
  {
   "cell_type": "code",
   "execution_count": 12,
   "id": "529a203e",
   "metadata": {},
   "outputs": [],
   "source": [
    "df_sentiment['Sentiment Score'] = df_sentiment['Posemo'] - df_sentiment['Negemo']"
   ]
  },
  {
   "cell_type": "code",
   "execution_count": 13,
   "id": "49157ba1",
   "metadata": {},
   "outputs": [
    {
     "name": "stdout",
     "output_type": "stream",
     "text": [
      "neutral     8786\n",
      "positive    7638\n",
      "negative    3512\n",
      "Name: sentiment, dtype: int64\n"
     ]
    }
   ],
   "source": [
    "conditions = [(df_sentiment['Sentiment Score'] < 0), (df_sentiment['Sentiment Score'] == 0),(df_sentiment['Sentiment Score'] > 0)]\n",
    "values = ['negative', 'neutral', 'positive']\n",
    "df_sentiment['sentiment'] = np.select(conditions, values)\n",
    "print(df_sentiment['sentiment'].value_counts())"
   ]
  },
  {
   "cell_type": "code",
   "execution_count": 14,
   "id": "7374e16c",
   "metadata": {},
   "outputs": [],
   "source": [
    "df_sentiment_de = df_sentiment.loc[df_sentiment['lang']=='de']\n",
    "df_sentiment_en = df_sentiment.loc[df_sentiment['lang'] == 'en']"
   ]
  },
  {
   "cell_type": "code",
   "execution_count": 15,
   "id": "15febc44",
   "metadata": {},
   "outputs": [
    {
     "name": "stdout",
     "output_type": "stream",
     "text": [
      "Max and Min Sentiment scores:\n",
      " Max:1.0\n",
      " Min:-1.0\n",
      "Mean Sentiment score:\n",
      " 0.0262\n",
      "neutral     7688\n",
      "positive    6597\n",
      "negative    3029\n",
      "Name: sentiment, dtype: int64\n",
      "neutral     0.444034\n",
      "positive    0.381021\n",
      "negative    0.174945\n",
      "Name: sentiment, dtype: float64\n",
      "neutral     1098\n",
      "positive    1041\n",
      "negative     483\n",
      "Name: sentiment, dtype: int64\n",
      "neutral     0.418764\n",
      "positive    0.397025\n",
      "negative    0.184211\n",
      "Name: sentiment, dtype: float64\n"
     ]
    }
   ],
   "source": [
    "#some descriptive statistics\n",
    "print(\"Max and Min Sentiment scores:\\n Max:{0}\\n Min:{1}\".format(df_sentiment['Sentiment Score'].max(), df_sentiment['Sentiment Score'].min()))\n",
    "print(\"Mean Sentiment score:\\n {0}\".format(round(df_sentiment['Sentiment Score'].mean(),4)))\n",
    "print(df_sentiment_de['sentiment'].value_counts())\n",
    "print(df_sentiment_de['sentiment'].value_counts(normalize=True))\n",
    "print(df_sentiment_en['sentiment'].value_counts())\n",
    "print(df_sentiment_en['sentiment'].value_counts(normalize =True))"
   ]
  },
  {
   "cell_type": "code",
   "execution_count": 16,
   "id": "f108f86c",
   "metadata": {},
   "outputs": [
    {
     "data": {
      "image/png": "[encoded data removed]",
      "text/plain": [
       "<Figure size 432x288 with 1 Axes>"
      ]
     },
     "metadata": {
      "needs_background": "light"
     },
     "output_type": "display_data"
    }
   ],
   "source": [
    "#distribution of overall sentiment scores\n",
    "df_sentiment['Sentiment Score'].hist()\n",
    "plt.title('Sentiments of all english and german tweets')\n",
    "plt.xlabel('compound sentiment score')\n",
    "plt.show()"
   ]
  },
  {
   "cell_type": "code",
   "execution_count": 17,
   "id": "55256d5f",
   "metadata": {},
   "outputs": [],
   "source": [
    "df_day = df_sentiment[['new_date', 'Sentiment Score']]\n",
    "#compute mean scores over days\n",
    "df_day = df_day.groupby([pd.to_datetime(df_day['new_date']).dt.date]).mean()\n",
    "df_day = df_day.reset_index()"
   ]
  },
  {
   "cell_type": "code",
   "execution_count": 18,
   "id": "9cb32a72",
   "metadata": {},
   "outputs": [
    {
     "data": {
      "image/png": "[encoded data removed]",
      "text/plain": [
       "<Figure size 432x288 with 1 Axes>"
      ]
     },
     "metadata": {
      "needs_background": "light"
     },
     "output_type": "display_data"
    }
   ],
   "source": [
    "plt.plot(df_day['new_date'],df_day['Sentiment Score'])\n",
    "plt.title('Sentiment Score over whole timespan')\n",
    "plt.xlabel('Date')\n",
    "plt.ylabel('Score')\n",
    "plt.xticks(rotation='vertical')\n",
    "plt.show()"
   ]
  },
  {
   "cell_type": "code",
   "execution_count": 19,
   "id": "ef8c8dd4",
   "metadata": {},
   "outputs": [
    {
     "data": {
      "image/png": "[encoded data removed]",
      "text/plain": [
       "<Figure size 432x288 with 1 Axes>"
      ]
     },
     "metadata": {
      "needs_background": "light"
     },
     "output_type": "display_data"
    }
   ],
   "source": [
    "#for a better overview, split the data into months\n",
    "df_june = df_day.loc[df_day['new_date'] < pd.to_datetime('2021-07-01')]\n",
    "plt.plot(df_june['new_date'],df_june['Sentiment Score'])\n",
    "plt.title('Sentiment Scores in June')\n",
    "plt.xlabel('Date')\n",
    "plt.ylabel('Score')\n",
    "plt.xticks(rotation='vertical')\n",
    "plt.show()"
   ]
  },
  {
   "cell_type": "code",
   "execution_count": 20,
   "id": "6a6ee35d",
   "metadata": {},
   "outputs": [
    {
     "data": {
      "image/png": "[encoded data removed]",
      "text/plain": [
       "<Figure size 432x288 with 1 Axes>"
      ]
     },
     "metadata": {
      "needs_background": "light"
     },
     "output_type": "display_data"
    }
   ],
   "source": [
    "df_july = df_day.loc[(df_day['new_date'] > pd.to_datetime('2021-06-30')) & (df_day['new_date'] < pd.to_datetime('2021-08-01'))]\n",
    "plt.plot(df_july['new_date'],df_july['Sentiment Score'])\n",
    "plt.title('Sentiment Scores in July')\n",
    "plt.xlabel('Date')\n",
    "plt.ylabel('Score')\n",
    "plt.xticks(rotation='vertical')\n",
    "plt.show()"
   ]
  },
  {
   "cell_type": "code",
   "execution_count": 21,
   "id": "dd622752",
   "metadata": {
    "scrolled": true
   },
   "outputs": [
    {
     "data": {
      "image/png": "[encoded data removed]",
      "text/plain": [
       "<Figure size 432x288 with 1 Axes>"
      ]
     },
     "metadata": {
      "needs_background": "light"
     },
     "output_type": "display_data"
    }
   ],
   "source": [
    "df_august = df_day.loc[(df_day['new_date'] > pd.to_datetime('2021-07-31')) & (df_day['new_date'] < pd.to_datetime('2021-09-01'))]\n",
    "plt.plot(df_august['new_date'],df_august['Sentiment Score'])\n",
    "plt.title('Sentiment Scores in August')\n",
    "plt.xlabel('Date')\n",
    "plt.ylabel('Score')\n",
    "plt.xticks(rotation='vertical')\n",
    "plt.show()"
   ]
  },
  {
   "cell_type": "code",
   "execution_count": 22,
   "id": "179a6c75",
   "metadata": {},
   "outputs": [
    {
     "data": {
      "image/png": "[encoded data removed]",
      "text/plain": [
       "<Figure size 432x288 with 1 Axes>"
      ]
     },
     "metadata": {
      "needs_background": "light"
     },
     "output_type": "display_data"
    }
   ],
   "source": [
    "df_september = df_day.loc[(df_day['new_date'] > pd.to_datetime('2021-08-31')) & (df_day['new_date'] < pd.to_datetime('2021-10-01'))]\n",
    "plt.plot(df_september['new_date'],df_september['Sentiment Score'])\n",
    "plt.title('Sentiment Scores in September')\n",
    "plt.xlabel('Date')\n",
    "plt.ylabel('Score')\n",
    "plt.xticks(rotation='vertical')\n",
    "plt.show()"
   ]
  },
  {
   "cell_type": "code",
   "execution_count": 23,
   "id": "d6560bc6",
   "metadata": {},
   "outputs": [],
   "source": [
    "pos_LIWC = df_sentiment.loc[df_sentiment['sentiment'] == 'positive']\n",
    "neg_LIWC = df_sentiment.loc[df_sentiment['sentiment'] == 'negative']\n",
    "pos_LIWC = pos_LIWC['text']\n",
    "neg_LIWC = neg_LIWC['text']"
   ]
  },
  {
   "cell_type": "code",
   "execution_count": 24,
   "id": "4fc85cf4",
   "metadata": {},
   "outputs": [],
   "source": [
    "#for further investigation\n",
    "compression_opts = dict(method='zip',\n",
    "                        archive_name='pos_LIWC.csv')  \n",
    "pos_LIWC.to_csv('out.zip', index=False,\n",
    "          compression=compression_opts) "
   ]
  },
  {
   "cell_type": "code",
   "execution_count": 25,
   "id": "f0c420f4",
   "metadata": {},
   "outputs": [],
   "source": [
    "#for further investigation\n",
    "compression_opts = dict(method='zip',\n",
    "                        archive_name='neg_LIWC.csv')  \n",
    "neg_LIWC.to_csv('out.zip', index=False,\n",
    "          compression=compression_opts) "
   ]
  },
  {
   "cell_type": "markdown",
   "id": "6be69d45",
   "metadata": {},
   "source": [
    "## Agreement of LIWC and VADER"
   ]
  },
  {
   "cell_type": "code",
   "execution_count": 26,
   "id": "a14bb35d",
   "metadata": {},
   "outputs": [],
   "source": [
    "vader_sentiment = pd.read_csv ('data/tweets/vader_sentiment.csv', index_col=0)"
   ]
  },
  {
   "cell_type": "code",
   "execution_count": 27,
   "id": "b17c196f",
   "metadata": {},
   "outputs": [
    {
     "name": "stdout",
     "output_type": "stream",
     "text": [
      "19936\n",
      "19936\n"
     ]
    }
   ],
   "source": [
    "print(len(vader_sentiment))\n",
    "print(len(df_sentiment))"
   ]
  },
  {
   "cell_type": "code",
   "execution_count": 28,
   "id": "a75c3e6e",
   "metadata": {},
   "outputs": [
    {
     "data": {
      "text/html": [
       "<div>\n",
       "<style scoped>\n",
       "    .dataframe tbody tr th:only-of-type {\n",
       "        vertical-align: middle;\n",
       "    }\n",
       "\n",
       "    .dataframe tbody tr th {\n",
       "        vertical-align: top;\n",
       "    }\n",
       "\n",
       "    .dataframe thead th {\n",
       "        text-align: right;\n",
       "    }\n",
       "</style>\n",
       "<table border=\"1\" class=\"dataframe\">\n",
       "  <thead>\n",
       "    <tr style=\"text-align: right;\">\n",
       "      <th></th>\n",
       "      <th>__twarc.retrieved_at</th>\n",
       "      <th>__twarc.url</th>\n",
       "      <th>__twarc.version</th>\n",
       "      <th>attachments.media</th>\n",
       "      <th>attachments.media_keys</th>\n",
       "      <th>attachments.poll.duration_minutes</th>\n",
       "      <th>attachments.poll.end_datetime</th>\n",
       "      <th>attachments.poll.id</th>\n",
       "      <th>attachments.poll.options</th>\n",
       "      <th>attachments.poll.voting_status</th>\n",
       "      <th>...</th>\n",
       "      <th>wanted_tag</th>\n",
       "      <th>new_date</th>\n",
       "      <th>processed</th>\n",
       "      <th>neg</th>\n",
       "      <th>neu</th>\n",
       "      <th>pos</th>\n",
       "      <th>compound</th>\n",
       "      <th>sentiment</th>\n",
       "      <th>hashtags separated</th>\n",
       "      <th>tokenized</th>\n",
       "    </tr>\n",
       "  </thead>\n",
       "  <tbody>\n",
       "    <tr>\n",
       "      <th>0</th>\n",
       "      <td>NaN</td>\n",
       "      <td>NaN</td>\n",
       "      <td>NaN</td>\n",
       "      <td>NaN</td>\n",
       "      <td>NaN</td>\n",
       "      <td>NaN</td>\n",
       "      <td>NaN</td>\n",
       "      <td>NaN</td>\n",
       "      <td>NaN</td>\n",
       "      <td>NaN</td>\n",
       "      <td>...</td>\n",
       "      <td>True</td>\n",
       "      <td>2021-07-26 21:40:18</td>\n",
       "      <td>Summer break. Pause, leisure, relaxation. Mayb...</td>\n",
       "      <td>0.131</td>\n",
       "      <td>0.712</td>\n",
       "      <td>0.157</td>\n",
       "      <td>0.2235</td>\n",
       "      <td>positive</td>\n",
       "      <td>[\"'IchbinHanna'\"]</td>\n",
       "      <td>['summer', 'break', 'pause', 'leisure', 'relax...</td>\n",
       "    </tr>\n",
       "    <tr>\n",
       "      <th>3</th>\n",
       "      <td>2021-07-27T13:10:02+00:00</td>\n",
       "      <td>https://api.twitter.com/2/tweets/search/all?ex...</td>\n",
       "      <td>2.1.6</td>\n",
       "      <td>NaN</td>\n",
       "      <td>NaN</td>\n",
       "      <td>NaN</td>\n",
       "      <td>NaN</td>\n",
       "      <td>NaN</td>\n",
       "      <td>NaN</td>\n",
       "      <td>NaN</td>\n",
       "      <td>...</td>\n",
       "      <td>True</td>\n",
       "      <td>2021-07-26 21:40:23</td>\n",
       "      <td>Hanna will be just another number in the acade...</td>\n",
       "      <td>0.000</td>\n",
       "      <td>0.776</td>\n",
       "      <td>0.224</td>\n",
       "      <td>0.8176</td>\n",
       "      <td>positive</td>\n",
       "      <td>[\"'WirsindHanna'\", \" 'IchbinHanna'\"]</td>\n",
       "      <td>['another', 'number', 'academic', 'records', '...</td>\n",
       "    </tr>\n",
       "    <tr>\n",
       "      <th>8</th>\n",
       "      <td>NaN</td>\n",
       "      <td>NaN</td>\n",
       "      <td>NaN</td>\n",
       "      <td>NaN</td>\n",
       "      <td>NaN</td>\n",
       "      <td>NaN</td>\n",
       "      <td>NaN</td>\n",
       "      <td>NaN</td>\n",
       "      <td>NaN</td>\n",
       "      <td>NaN</td>\n",
       "      <td>...</td>\n",
       "      <td>True</td>\n",
       "      <td>2021-07-26 18:44:06</td>\n",
       "      <td>In th middle of #IchbinHanna debates in German...</td>\n",
       "      <td>0.000</td>\n",
       "      <td>1.000</td>\n",
       "      <td>0.000</td>\n",
       "      <td>0.0000</td>\n",
       "      <td>neutral</td>\n",
       "      <td>[\"'IchbinHanna'\", \" 'SchrödingerPostdoc'\", \" '...</td>\n",
       "      <td>['th', 'middle', 'debates', 'germany', 'amreib...</td>\n",
       "    </tr>\n",
       "    <tr>\n",
       "      <th>42</th>\n",
       "      <td>NaN</td>\n",
       "      <td>NaN</td>\n",
       "      <td>NaN</td>\n",
       "      <td>NaN</td>\n",
       "      <td>NaN</td>\n",
       "      <td>NaN</td>\n",
       "      <td>NaN</td>\n",
       "      <td>NaN</td>\n",
       "      <td>NaN</td>\n",
       "      <td>NaN</td>\n",
       "      <td>...</td>\n",
       "      <td>True</td>\n",
       "      <td>2021-07-26 09:03:27</td>\n",
       "      <td>With some delay, here is an English version of...</td>\n",
       "      <td>0.119</td>\n",
       "      <td>0.881</td>\n",
       "      <td>0.000</td>\n",
       "      <td>-0.3182</td>\n",
       "      <td>negative</td>\n",
       "      <td>[\"'IchBinHanna'\", \" 'Ichbinreyhan'\"]</td>\n",
       "      <td>['delay', 'english', 'version', 'amreibahr', '...</td>\n",
       "    </tr>\n",
       "    <tr>\n",
       "      <th>85</th>\n",
       "      <td>2021-07-27T13:10:02+00:00</td>\n",
       "      <td>https://api.twitter.com/2/tweets/search/all?ex...</td>\n",
       "      <td>2.1.6</td>\n",
       "      <td>NaN</td>\n",
       "      <td>NaN</td>\n",
       "      <td>NaN</td>\n",
       "      <td>NaN</td>\n",
       "      <td>NaN</td>\n",
       "      <td>NaN</td>\n",
       "      <td>NaN</td>\n",
       "      <td>...</td>\n",
       "      <td>True</td>\n",
       "      <td>2021-07-26 16:05:49</td>\n",
       "      <td>#IchbinHanna - with a view on recent US HEI fa...</td>\n",
       "      <td>0.000</td>\n",
       "      <td>1.000</td>\n",
       "      <td>0.000</td>\n",
       "      <td>0.0000</td>\n",
       "      <td>neutral</td>\n",
       "      <td>[\"'IchbinHanna'\"]</td>\n",
       "      <td>['view', 'recent', 'us', 'hei', 'faculty', 'em...</td>\n",
       "    </tr>\n",
       "    <tr>\n",
       "      <th>...</th>\n",
       "      <td>...</td>\n",
       "      <td>...</td>\n",
       "      <td>...</td>\n",
       "      <td>...</td>\n",
       "      <td>...</td>\n",
       "      <td>...</td>\n",
       "      <td>...</td>\n",
       "      <td>...</td>\n",
       "      <td>...</td>\n",
       "      <td>...</td>\n",
       "      <td>...</td>\n",
       "      <td>...</td>\n",
       "      <td>...</td>\n",
       "      <td>...</td>\n",
       "      <td>...</td>\n",
       "      <td>...</td>\n",
       "      <td>...</td>\n",
       "      <td>...</td>\n",
       "      <td>...</td>\n",
       "      <td>...</td>\n",
       "      <td>...</td>\n",
       "    </tr>\n",
       "    <tr>\n",
       "      <th>116906</th>\n",
       "      <td>2021-10-01T06:52:58+00:00</td>\n",
       "      <td>https://api.twitter.com/2/tweets/search/all?ex...</td>\n",
       "      <td>2.3.10</td>\n",
       "      <td>NaN</td>\n",
       "      <td>NaN</td>\n",
       "      <td>NaN</td>\n",
       "      <td>NaN</td>\n",
       "      <td>NaN</td>\n",
       "      <td>NaN</td>\n",
       "      <td>NaN</td>\n",
       "      <td>...</td>\n",
       "      <td>True</td>\n",
       "      <td>2021-07-27 06:48:08</td>\n",
       "      <td>15 € netto die Stunde. Respekt.   #IchBinHannah</td>\n",
       "      <td>0.000</td>\n",
       "      <td>0.625</td>\n",
       "      <td>0.375</td>\n",
       "      <td>0.4588</td>\n",
       "      <td>positive</td>\n",
       "      <td>[\"'IchBinHannah'\"]</td>\n",
       "      <td>['elisabethbhm', '15', 'netto', 'stunde', 'res...</td>\n",
       "    </tr>\n",
       "    <tr>\n",
       "      <th>116909</th>\n",
       "      <td>2021-10-01T06:52:58+00:00</td>\n",
       "      <td>https://api.twitter.com/2/tweets/search/all?ex...</td>\n",
       "      <td>2.3.10</td>\n",
       "      <td>NaN</td>\n",
       "      <td>NaN</td>\n",
       "      <td>NaN</td>\n",
       "      <td>NaN</td>\n",
       "      <td>NaN</td>\n",
       "      <td>NaN</td>\n",
       "      <td>NaN</td>\n",
       "      <td>...</td>\n",
       "      <td>True</td>\n",
       "      <td>2021-07-27 06:42:22</td>\n",
       "      <td>Professorin zu #IchBinHanna : „Alle sind ausge...</td>\n",
       "      <td>0.000</td>\n",
       "      <td>1.000</td>\n",
       "      <td>0.000</td>\n",
       "      <td>0.0000</td>\n",
       "      <td>neutral</td>\n",
       "      <td>[\"'IchBinHanna'\"]</td>\n",
       "      <td>['professorin', 'ausgebrannt', 'deprimiert']</td>\n",
       "    </tr>\n",
       "    <tr>\n",
       "      <th>116919</th>\n",
       "      <td>2021-10-01T06:52:58+00:00</td>\n",
       "      <td>https://api.twitter.com/2/tweets/search/all?ex...</td>\n",
       "      <td>2.3.10</td>\n",
       "      <td>NaN</td>\n",
       "      <td>NaN</td>\n",
       "      <td>NaN</td>\n",
       "      <td>NaN</td>\n",
       "      <td>NaN</td>\n",
       "      <td>NaN</td>\n",
       "      <td>NaN</td>\n",
       "      <td>...</td>\n",
       "      <td>True</td>\n",
       "      <td>2021-07-27 06:09:05</td>\n",
       "      <td>#StopThecuts #IchbinHanna #onlineLehre #online...</td>\n",
       "      <td>0.000</td>\n",
       "      <td>0.797</td>\n",
       "      <td>0.203</td>\n",
       "      <td>0.4215</td>\n",
       "      <td>positive</td>\n",
       "      <td>[\"'StopThecuts'\", \" 'IchbinHanna'\", \" 'onlineL...</td>\n",
       "      <td>['schaut', 'blogbeiträge', 'rein']</td>\n",
       "    </tr>\n",
       "    <tr>\n",
       "      <th>116924</th>\n",
       "      <td>2021-10-01T06:52:58+00:00</td>\n",
       "      <td>https://api.twitter.com/2/tweets/search/all?ex...</td>\n",
       "      <td>2.3.10</td>\n",
       "      <td>NaN</td>\n",
       "      <td>NaN</td>\n",
       "      <td>NaN</td>\n",
       "      <td>NaN</td>\n",
       "      <td>NaN</td>\n",
       "      <td>NaN</td>\n",
       "      <td>NaN</td>\n",
       "      <td>...</td>\n",
       "      <td>True</td>\n",
       "      <td>2021-07-27 04:16:11</td>\n",
       "      <td>Ihr armen Hannas. Im 1.Semester hat man euch g...</td>\n",
       "      <td>0.154</td>\n",
       "      <td>0.846</td>\n",
       "      <td>0.000</td>\n",
       "      <td>-0.7256</td>\n",
       "      <td>negative</td>\n",
       "      <td>[\"'IchbinHanna'\"]</td>\n",
       "      <td>['armen', 'hannas', 'semester', 'gesagt', 'uni...</td>\n",
       "    </tr>\n",
       "    <tr>\n",
       "      <th>116927</th>\n",
       "      <td>2021-10-01T06:52:58+00:00</td>\n",
       "      <td>https://api.twitter.com/2/tweets/search/all?ex...</td>\n",
       "      <td>2.3.10</td>\n",
       "      <td>NaN</td>\n",
       "      <td>NaN</td>\n",
       "      <td>NaN</td>\n",
       "      <td>NaN</td>\n",
       "      <td>NaN</td>\n",
       "      <td>NaN</td>\n",
       "      <td>NaN</td>\n",
       "      <td>...</td>\n",
       "      <td>True</td>\n",
       "      <td>2021-07-27 00:54:44</td>\n",
       "      <td>Bei mir setzt sich die  momentan auch gut auf...</td>\n",
       "      <td>0.000</td>\n",
       "      <td>0.708</td>\n",
       "      <td>0.292</td>\n",
       "      <td>0.7351</td>\n",
       "      <td>positive</td>\n",
       "      <td>[\"'IchbinHanna'\"]</td>\n",
       "      <td>['maxbunse', 'setzt', 'gew', 'bund', 'momentan...</td>\n",
       "    </tr>\n",
       "  </tbody>\n",
       "</table>\n",
       "<p>19936 rows × 101 columns</p>\n",
       "</div>"
      ],
      "text/plain": [
       "             __twarc.retrieved_at  \\\n",
       "0                             NaN   \n",
       "3       2021-07-27T13:10:02+00:00   \n",
       "8                             NaN   \n",
       "42                            NaN   \n",
       "85      2021-07-27T13:10:02+00:00   \n",
       "...                           ...   \n",
       "116906  2021-10-01T06:52:58+00:00   \n",
       "116909  2021-10-01T06:52:58+00:00   \n",
       "116919  2021-10-01T06:52:58+00:00   \n",
       "116924  2021-10-01T06:52:58+00:00   \n",
       "116927  2021-10-01T06:52:58+00:00   \n",
       "\n",
       "                                              __twarc.url __twarc.version  \\\n",
       "0                                                     NaN             NaN   \n",
       "3       https://api.twitter.com/2/tweets/search/all?ex...           2.1.6   \n",
       "8                                                     NaN             NaN   \n",
       "42                                                    NaN             NaN   \n",
       "85      https://api.twitter.com/2/tweets/search/all?ex...           2.1.6   \n",
       "...                                                   ...             ...   \n",
       "116906  https://api.twitter.com/2/tweets/search/all?ex...          2.3.10   \n",
       "116909  https://api.twitter.com/2/tweets/search/all?ex...          2.3.10   \n",
       "116919  https://api.twitter.com/2/tweets/search/all?ex...          2.3.10   \n",
       "116924  https://api.twitter.com/2/tweets/search/all?ex...          2.3.10   \n",
       "116927  https://api.twitter.com/2/tweets/search/all?ex...          2.3.10   \n",
       "\n",
       "       attachments.media attachments.media_keys  \\\n",
       "0                    NaN                    NaN   \n",
       "3                    NaN                    NaN   \n",
       "8                    NaN                    NaN   \n",
       "42                   NaN                    NaN   \n",
       "85                   NaN                    NaN   \n",
       "...                  ...                    ...   \n",
       "116906               NaN                    NaN   \n",
       "116909               NaN                    NaN   \n",
       "116919               NaN                    NaN   \n",
       "116924               NaN                    NaN   \n",
       "116927               NaN                    NaN   \n",
       "\n",
       "        attachments.poll.duration_minutes attachments.poll.end_datetime  \\\n",
       "0                                     NaN                           NaN   \n",
       "3                                     NaN                           NaN   \n",
       "8                                     NaN                           NaN   \n",
       "42                                    NaN                           NaN   \n",
       "85                                    NaN                           NaN   \n",
       "...                                   ...                           ...   \n",
       "116906                                NaN                           NaN   \n",
       "116909                                NaN                           NaN   \n",
       "116919                                NaN                           NaN   \n",
       "116924                                NaN                           NaN   \n",
       "116927                                NaN                           NaN   \n",
       "\n",
       "        attachments.poll.id attachments.poll.options  \\\n",
       "0                       NaN                      NaN   \n",
       "3                       NaN                      NaN   \n",
       "8                       NaN                      NaN   \n",
       "42                      NaN                      NaN   \n",
       "85                      NaN                      NaN   \n",
       "...                     ...                      ...   \n",
       "116906                  NaN                      NaN   \n",
       "116909                  NaN                      NaN   \n",
       "116919                  NaN                      NaN   \n",
       "116924                  NaN                      NaN   \n",
       "116927                  NaN                      NaN   \n",
       "\n",
       "       attachments.poll.voting_status  ... wanted_tag             new_date  \\\n",
       "0                                 NaN  ...       True  2021-07-26 21:40:18   \n",
       "3                                 NaN  ...       True  2021-07-26 21:40:23   \n",
       "8                                 NaN  ...       True  2021-07-26 18:44:06   \n",
       "42                                NaN  ...       True  2021-07-26 09:03:27   \n",
       "85                                NaN  ...       True  2021-07-26 16:05:49   \n",
       "...                               ...  ...        ...                  ...   \n",
       "116906                            NaN  ...       True  2021-07-27 06:48:08   \n",
       "116909                            NaN  ...       True  2021-07-27 06:42:22   \n",
       "116919                            NaN  ...       True  2021-07-27 06:09:05   \n",
       "116924                            NaN  ...       True  2021-07-27 04:16:11   \n",
       "116927                            NaN  ...       True  2021-07-27 00:54:44   \n",
       "\n",
       "                                                processed    neg    neu  \\\n",
       "0       Summer break. Pause, leisure, relaxation. Mayb...  0.131  0.712   \n",
       "3       Hanna will be just another number in the acade...  0.000  0.776   \n",
       "8       In th middle of #IchbinHanna debates in German...  0.000  1.000   \n",
       "42      With some delay, here is an English version of...  0.119  0.881   \n",
       "85      #IchbinHanna - with a view on recent US HEI fa...  0.000  1.000   \n",
       "...                                                   ...    ...    ...   \n",
       "116906    15 € netto die Stunde. Respekt.   #IchBinHannah  0.000  0.625   \n",
       "116909  Professorin zu #IchBinHanna : „Alle sind ausge...  0.000  1.000   \n",
       "116919  #StopThecuts #IchbinHanna #onlineLehre #online...  0.000  0.797   \n",
       "116924  Ihr armen Hannas. Im 1.Semester hat man euch g...  0.154  0.846   \n",
       "116927   Bei mir setzt sich die  momentan auch gut auf...  0.000  0.708   \n",
       "\n",
       "          pos compound sentiment  \\\n",
       "0       0.157   0.2235  positive   \n",
       "3       0.224   0.8176  positive   \n",
       "8       0.000   0.0000   neutral   \n",
       "42      0.000  -0.3182  negative   \n",
       "85      0.000   0.0000   neutral   \n",
       "...       ...      ...       ...   \n",
       "116906  0.375   0.4588  positive   \n",
       "116909  0.000   0.0000   neutral   \n",
       "116919  0.203   0.4215  positive   \n",
       "116924  0.000  -0.7256  negative   \n",
       "116927  0.292   0.7351  positive   \n",
       "\n",
       "                                       hashtags separated  \\\n",
       "0                                       [\"'IchbinHanna'\"]   \n",
       "3                    [\"'WirsindHanna'\", \" 'IchbinHanna'\"]   \n",
       "8       [\"'IchbinHanna'\", \" 'SchrödingerPostdoc'\", \" '...   \n",
       "42                   [\"'IchBinHanna'\", \" 'Ichbinreyhan'\"]   \n",
       "85                                      [\"'IchbinHanna'\"]   \n",
       "...                                                   ...   \n",
       "116906                                 [\"'IchBinHannah'\"]   \n",
       "116909                                  [\"'IchBinHanna'\"]   \n",
       "116919  [\"'StopThecuts'\", \" 'IchbinHanna'\", \" 'onlineL...   \n",
       "116924                                  [\"'IchbinHanna'\"]   \n",
       "116927                                  [\"'IchbinHanna'\"]   \n",
       "\n",
       "                                                tokenized  \n",
       "0       ['summer', 'break', 'pause', 'leisure', 'relax...  \n",
       "3       ['another', 'number', 'academic', 'records', '...  \n",
       "8       ['th', 'middle', 'debates', 'germany', 'amreib...  \n",
       "42      ['delay', 'english', 'version', 'amreibahr', '...  \n",
       "85      ['view', 'recent', 'us', 'hei', 'faculty', 'em...  \n",
       "...                                                   ...  \n",
       "116906  ['elisabethbhm', '15', 'netto', 'stunde', 'res...  \n",
       "116909       ['professorin', 'ausgebrannt', 'deprimiert']  \n",
       "116919                 ['schaut', 'blogbeiträge', 'rein']  \n",
       "116924  ['armen', 'hannas', 'semester', 'gesagt', 'uni...  \n",
       "116927  ['maxbunse', 'setzt', 'gew', 'bund', 'momentan...  \n",
       "\n",
       "[19936 rows x 101 columns]"
      ]
     },
     "execution_count": 28,
     "metadata": {},
     "output_type": "execute_result"
    }
   ],
   "source": [
    "vader_sentiment"
   ]
  },
  {
   "cell_type": "code",
   "execution_count": 29,
   "id": "687b043b",
   "metadata": {},
   "outputs": [],
   "source": [
    "vader_sent = vader_sentiment['sentiment']\n",
    "df_sentiment['vader sentiment'] = vader_sent\n",
    "total_agreement = np.where(df_sentiment['sentiment'] == df_sentiment['vader sentiment'])\n",
    "df_pos_ag = df_sentiment.loc[df_sentiment['sentiment'] == 'positive']\n",
    "positive_agreement = np.where(df_pos_ag['sentiment'] == df_pos_ag['vader sentiment'])\n",
    "df_neg_ag = df_sentiment.loc[df_sentiment['sentiment'] == 'negative']\n",
    "negative_agreement = np.where(df_neg_ag['sentiment'] == df_neg_ag['vader sentiment'])\n",
    "df_neu_ag = df_sentiment.loc[df_sentiment['sentiment'] == 'neutral']\n",
    "neutral_agreement = np.where(df_neu_ag['sentiment'] == df_neu_ag['vader sentiment'])"
   ]
  },
  {
   "cell_type": "code",
   "execution_count": 30,
   "id": "c78dd7cb",
   "metadata": {},
   "outputs": [
    {
     "name": "stdout",
     "output_type": "stream",
     "text": [
      "Total agreement: 11387 \n",
      "Relative: 0.5711777688603531\n",
      "Positive agreement: 6192 \n",
      "Relative: 0.8106834249803614\n",
      "Negative agreement: 1954 \n",
      "Relative: 0.556378132118451\n",
      "Neutral agreement: 3241 \n",
      "Relative: 0.3688823127703164\n"
     ]
    }
   ],
   "source": [
    "print('Total agreement: {0} \\nRelative: {1}'.format(len(total_agreement[0]), len(total_agreement[0])/len(df_sentiment)))\n",
    "print('Positive agreement: {0} \\nRelative: {1}'.format(len(positive_agreement[0]), len(positive_agreement[0])/len(df_pos_ag)))\n",
    "print('Negative agreement: {0} \\nRelative: {1}'.format(len(negative_agreement[0]), len(negative_agreement[0])/len(df_neg_ag)))\n",
    "print('Neutral agreement: {0} \\nRelative: {1}'.format(len(neutral_agreement[0]), len(neutral_agreement[0])/len(df_neu_ag)))"
   ]
  },
  {
   "cell_type": "code",
   "execution_count": 31,
   "id": "caffe94f",
   "metadata": {},
   "outputs": [
    {
     "name": "stdout",
     "output_type": "stream",
     "text": [
      "neutral     15186\n",
      "positive     3469\n",
      "negative     1281\n",
      "Name: thresholded sentiment, dtype: int64\n",
      "Total agreement: 7543 \n",
      "Relative: 0.3783607544141252\n",
      "Positive agreement: 2941 \n",
      "Relative: 0.847794753531277\n",
      "Negative agreement: 806 \n",
      "Relative: 0.6291959406713505\n",
      "Neutral agreement: 3796 \n",
      "Relative: 0.24996707493744239\n"
     ]
    }
   ],
   "source": [
    "#change threshold for neutral tweets to -0.1 - 0.1 (for LIWC)\n",
    "conditions = [(df_sentiment['Sentiment Score'] <= -0.1), (-0.1 < df_sentiment['Sentiment Score'])&(df_sentiment['Sentiment Score'] < 0.1),(df_sentiment['Sentiment Score'] >= 0.1)]\n",
    "values = ['negative', 'neutral', 'positive']\n",
    "df_sentiment['thresholded sentiment'] = np.select(conditions, values)\n",
    "print(df_sentiment['thresholded sentiment'].value_counts())\n",
    "total_agreement = np.where(df_sentiment['thresholded sentiment'] == df_sentiment['vader sentiment'])\n",
    "df_pos_ag = df_sentiment.loc[df_sentiment['thresholded sentiment'] == 'positive']\n",
    "positive_agreement = np.where(df_pos_ag['thresholded sentiment'] == df_pos_ag['vader sentiment'])\n",
    "df_neg_ag = df_sentiment.loc[df_sentiment['thresholded sentiment'] == 'negative']\n",
    "negative_agreement = np.where(df_neg_ag['thresholded sentiment'] == df_neg_ag['vader sentiment'])\n",
    "df_neu_ag = df_sentiment.loc[df_sentiment['thresholded sentiment'] == 'neutral']\n",
    "neutral_agreement = np.where(df_neu_ag['thresholded sentiment'] == df_neu_ag['vader sentiment'])\n",
    "print('Total agreement: {0} \\nRelative: {1}'.format(len(total_agreement[0]), len(total_agreement[0])/len(df_sentiment)))\n",
    "print('Positive agreement: {0} \\nRelative: {1}'.format(len(positive_agreement[0]), len(positive_agreement[0])/len(df_pos_ag)))\n",
    "print('Negative agreement: {0} \\nRelative: {1}'.format(len(negative_agreement[0]), len(negative_agreement[0])/len(df_neg_ag)))\n",
    "print('Neutral agreement: {0} \\nRelative: {1}'.format(len(neutral_agreement[0]), len(neutral_agreement[0])/len(df_neu_ag)))"
   ]
  }
 ],
 "metadata": {
  "kernelspec": {
   "display_name": "Python 3 (ipykernel)",
   "language": "python",
   "name": "python3"
  },
  "language_info": {
   "codemirror_mode": {
    "name": "ipython",
    "version": 3
   },
   "file_extension": ".py",
   "mimetype": "text/x-python",
   "name": "python",
   "nbconvert_exporter": "python",
   "pygments_lexer": "ipython3",
   "version": "3.8.5"
  }
 },
 "nbformat": 4,
 "nbformat_minor": 5
}
