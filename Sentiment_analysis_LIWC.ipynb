{
 "cells": [
  {
   "cell_type": "code",
   "execution_count": 1,
   "id": "e93f6bc2",
   "metadata": {},
   "outputs": [],
   "source": [
    "import pandas as pd\n",
    "import numpy as np\n",
    "import liwc\n",
    "import re\n",
    "from matplotlib import pyplot as plt\n",
    "from nltk.tokenize import TweetTokenizer\n",
    "from collections import Counter\n",
    "\n",
    "import warnings\n",
    "warnings.filterwarnings('ignore')"
   ]
  },
  {
   "cell_type": "code",
   "execution_count": 2,
   "id": "17a24848",
   "metadata": {},
   "outputs": [],
   "source": [
    "#load data and dictionaries\n",
    "df = pd.read_csv ('IchBinHanna.csv')\n",
    "german_parse, german_categories = liwc.load_token_parser('LIWC2007_German.dic')\n",
    "english_parse, english_categories = liwc.load_token_parser('LIWC2015_English.dic')"
   ]
  },
  {
   "cell_type": "code",
   "execution_count": 54,
   "id": "73f0dd81",
   "metadata": {},
   "outputs": [],
   "source": [
    "#prepare data, drop retweets and split it into german and english tweets\n",
    "def rem_url(tweet):\n",
    "     return \" \".join(re.sub(\"([^0-9A-Za-zßäöü \\t])|(\\w+:\\/\\/\\S+)\", \" \", tweet).split())\n",
    "#only keep tweets from 01/06/2021 - 30/09/2021\n",
    "df['new_date'] = pd.to_datetime(df['created_at']).dt.strftime('%Y-%m-%d %H:%M:%S')\n",
    "df = df.loc[(df['new_date'] > '2021-06-01 00:00:00') & (df['new_date'] <= '2021-09-30 23:59:59')]\n",
    "df = df.loc[df['reference_type'] != 'retweeted']\n",
    "df['text'] = df['text'].replace(r'\\\\n',  ' ', regex=True)\n",
    "df['text'] = df['text'].apply(rem_url)\n",
    "df['text'] = df['text'].astype(str)\n",
    "#tokenize tweets\n",
    "tweet_tokenizer = TweetTokenizer()\n",
    "df['tokenized'] = df['text'].apply(lambda x: tweet_tokenizer.tokenize(x.lower()))\n",
    "df_ger = df.loc[df['lang'] == \"de\"]\n",
    "df_en = df.loc[df['lang'] == \"en\"]"
   ]
  },
  {
   "cell_type": "code",
   "execution_count": 55,
   "id": "653ed170",
   "metadata": {},
   "outputs": [],
   "source": [
    "df_ger['categories'] = df_ger['tokenized'].apply(lambda x: Counter(category for token in x for category in german_parse(token)))\n",
    "df_en['categories'] = df_en['tokenized'].apply(lambda x: Counter(category for token in x for category in english_parse(token)))"
   ]
  },
  {
   "cell_type": "code",
   "execution_count": 59,
   "id": "97d2c545",
   "metadata": {},
   "outputs": [],
   "source": [
    "#function to get relative scores of each category\n",
    "def get_relative(cats, tokens):\n",
    "    out = {}\n",
    "    for k in cats:\n",
    "        out[k] = round(cats[k]/len(tokens),4)\n",
    "    return out"
   ]
  },
  {
   "cell_type": "code",
   "execution_count": 60,
   "id": "40269916",
   "metadata": {},
   "outputs": [],
   "source": [
    "#convert counter to dict\n",
    "df_en['categories'] = df_en['categories'].apply(lambda x: dict(x))\n",
    "df_ger['categories'] = df_ger['categories'].apply(lambda x: dict(x))\n",
    "#get percentage of classes\n",
    "df_en['categories'] = [get_relative(x, y) for x, y in zip(df_en['categories'], df_en['tokenized'])]\n",
    "df_ger['categories'] = [get_relative(x, y) for x, y in zip(df_ger['categories'], df_ger['tokenized'])]"
   ]
  },
  {
   "cell_type": "code",
   "execution_count": 61,
   "id": "f4270a4e",
   "metadata": {},
   "outputs": [],
   "source": [
    "#only keep sentiment information from category-list and align category names from the different dictionarys (Posfeel from the german dictionary is excluded, as all words from this category are also Posemo)\n",
    "cat_list = ['Posemo', 'Negemo', 'Anx', 'Sad', 'Anger',  'posemo (Positive Emotions)', 'negemo (Negative Emotions)', 'anx (Anx)', 'sad (Sad)', 'anger (Anger)']\n",
    "def keep_cats(cats):\n",
    "    out={}\n",
    "    for k in cats:\n",
    "        if k in cat_list:\n",
    "            if k == 'posemo (Positive Emotions)':\n",
    "                out['Posemo'] = cats[k]\n",
    "            elif k == 'negemo (Negative Emotions)':\n",
    "                out['Negemo'] = cats[k]\n",
    "            elif k == 'anx (Anx)':\n",
    "                out['Anx'] = cats[k]\n",
    "            elif k == 'sad (Sad)':\n",
    "                out['Sad'] = cats[k]\n",
    "            elif k == 'anger (Anger)':\n",
    "                out['Anger'] = cats[k]\n",
    "            else:\n",
    "                out[k] = cats[k]\n",
    "    return out"
   ]
  },
  {
   "cell_type": "code",
   "execution_count": 62,
   "id": "3ea0e0dc",
   "metadata": {},
   "outputs": [],
   "source": [
    "df_en['categories'] = [keep_cats(x) for x in df_en['categories']]\n",
    "df_ger['categories'] = [keep_cats(x) for x in df_ger['categories']]"
   ]
  },
  {
   "cell_type": "code",
   "execution_count": 75,
   "id": "5ccaff4e",
   "metadata": {},
   "outputs": [],
   "source": [
    "#create new columns for each score\n",
    "df_en[['Posemo', 'Negemo','Anx','Anger', 'Sad']] = df_en['categories'].apply(pd.Series)"
   ]
  },
  {
   "cell_type": "code",
   "execution_count": 82,
   "id": "70c2bfbe",
   "metadata": {},
   "outputs": [],
   "source": [
    "#make index for the new columns coherent\n",
    "def df_column_switch(df, column1, column2):\n",
    "    i = list(df.columns)\n",
    "    a, b = i.index(column1), i.index(column2)\n",
    "    i[b], i[a] = i[a], i[b]\n",
    "    df = df[i]\n",
    "    return df\n",
    "df_en = df_column_switch(df_en, 'Sad', 'Anger')"
   ]
  },
  {
   "cell_type": "code",
   "execution_count": 89,
   "id": "502cf9e4",
   "metadata": {},
   "outputs": [],
   "source": [
    "#rejoin data frame, then fill sentiment values with NaN with zeros\n",
    "df_sentiment = pd.concat([df_en,df_ger])\n",
    "df_sentiment['Posemo'] = df_sentiment['Posemo'].fillna(0.0)\n",
    "df_sentiment['Negemo'] = df_sentiment['Negemo'].fillna(0.0)\n",
    "df_sentiment['Anger'] = df_sentiment['Anger'].fillna(0.0)\n",
    "df_sentiment['Sad'] = df_sentiment['Sad'].fillna(0.0)\n",
    "df_sentiment['Anx'] = df_sentiment['Anx'].fillna(0.0)"
   ]
  }
 ],
 "metadata": {
  "kernelspec": {
   "display_name": "Python 3 (ipykernel)",
   "language": "python",
   "name": "python3"
  },
  "language_info": {
   "codemirror_mode": {
    "name": "ipython",
    "version": 3
   },
   "file_extension": ".py",
   "mimetype": "text/x-python",
   "name": "python",
   "nbconvert_exporter": "python",
   "pygments_lexer": "ipython3",
   "version": "3.8.5"
  }
 },
 "nbformat": 4,
 "nbformat_minor": 5
}
