{
 "cells": [
  {
   "cell_type": "markdown",
   "id": "e07432ab",
   "metadata": {},
   "source": [
    "## The sole purpose of this notebook is to comprehend the addition of user profiles to the data set"
   ]
  },
  {
   "cell_type": "code",
   "execution_count": 39,
   "id": "29bfd402",
   "metadata": {},
   "outputs": [],
   "source": [
    "import pandas as pd"
   ]
  },
  {
   "cell_type": "code",
   "execution_count": 75,
   "id": "ff306145",
   "metadata": {},
   "outputs": [],
   "source": [
    "user_profiles = pd.read_csv('data/tweets/TwitterUserClassification.csv')\n",
    "df = pd.read_csv('data/tweets/IchBinHanna.csv')\n",
    "#get the correct data\n",
    "df['new_date'] = pd.to_datetime(df['created_at']).dt.strftime('%Y-%m-%d %H:%M:%S')\n",
    "df = df.loc[(df['new_date'] > '2021-06-01 00:00:00') & (df['new_date'] <= '2021-09-30 23:59:59')]\n",
    "#df = df.loc[df['reference_type'] != 'retweeted']\n",
    "df = df[df['text'].str.contains(\"#ichbinhanna\", case = False)]\n",
    "df =df.loc[df['wanted_tag']== True]\n",
    "df = df.loc[(df['lang'] == 'de') | (df['lang'] == 'en')]"
   ]
  },
  {
   "cell_type": "code",
   "execution_count": 67,
   "id": "2b691f1f",
   "metadata": {},
   "outputs": [
    {
     "data": {
      "text/plain": [
       "99669"
      ]
     },
     "execution_count": 67,
     "metadata": {},
     "output_type": "execute_result"
    }
   ],
   "source": [
    "user_profiles['totaltweetsbyauthor'].sum()"
   ]
  },
  {
   "cell_type": "code",
   "execution_count": 68,
   "id": "6a9024e3",
   "metadata": {},
   "outputs": [
    {
     "data": {
      "text/plain": [
       "13431"
      ]
     },
     "execution_count": 68,
     "metadata": {},
     "output_type": "execute_result"
    }
   ],
   "source": [
    "len(pd.unique(df['author.id']))"
   ]
  },
  {
   "cell_type": "code",
   "execution_count": 69,
   "id": "76538f8b",
   "metadata": {},
   "outputs": [
    {
     "data": {
      "text/plain": [
       "15649"
      ]
     },
     "execution_count": 69,
     "metadata": {},
     "output_type": "execute_result"
    }
   ],
   "source": [
    "len(pd.unique(user_profiles['author.id']))"
   ]
  },
  {
   "cell_type": "code",
   "execution_count": 76,
   "id": "1de879bc",
   "metadata": {},
   "outputs": [],
   "source": [
    "user_merge = user_profiles[['author.id', 'user.group']]"
   ]
  },
  {
   "cell_type": "code",
   "execution_count": 77,
   "id": "b12b71f8",
   "metadata": {},
   "outputs": [],
   "source": [
    "merged_df = df.merge(user_merge, left_on ='author.id', right_on='author.id')"
   ]
  },
  {
   "cell_type": "code",
   "execution_count": 72,
   "id": "e4d40736",
   "metadata": {},
   "outputs": [
    {
     "data": {
      "text/plain": [
       "60614"
      ]
     },
     "execution_count": 72,
     "metadata": {},
     "output_type": "execute_result"
    }
   ],
   "source": [
    "len(merged_df)"
   ]
  },
  {
   "cell_type": "code",
   "execution_count": 73,
   "id": "155ae984",
   "metadata": {},
   "outputs": [
    {
     "data": {
      "text/plain": [
       "60769"
      ]
     },
     "execution_count": 73,
     "metadata": {},
     "output_type": "execute_result"
    }
   ],
   "source": [
    "len(df)"
   ]
  },
  {
   "cell_type": "code",
   "execution_count": 74,
   "id": "fc665e81",
   "metadata": {},
   "outputs": [
    {
     "data": {
      "text/plain": [
       "13038"
      ]
     },
     "execution_count": 74,
     "metadata": {},
     "output_type": "execute_result"
    }
   ],
   "source": [
    "len(pd.unique(merged_df['author.id']))"
   ]
  }
 ],
 "metadata": {
  "kernelspec": {
   "display_name": "Python 3 (ipykernel)",
   "language": "python",
   "name": "python3"
  },
  "language_info": {
   "codemirror_mode": {
    "name": "ipython",
    "version": 3
   },
   "file_extension": ".py",
   "mimetype": "text/x-python",
   "name": "python",
   "nbconvert_exporter": "python",
   "pygments_lexer": "ipython3",
   "version": "3.8.5"
  }
 },
 "nbformat": 4,
 "nbformat_minor": 5
}
