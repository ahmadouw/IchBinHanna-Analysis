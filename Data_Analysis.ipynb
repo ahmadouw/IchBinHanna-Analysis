{
 "cells": [
  {
   "cell_type": "markdown",
   "id": "38bee7b8",
   "metadata": {},
   "source": [
    "# Basic Analysis"
   ]
  },
  {
   "cell_type": "markdown",
   "id": "ce0e1439",
   "metadata": {},
   "source": [
    "## Tweet and user volume"
   ]
  },
  {
   "cell_type": "code",
   "execution_count": 7,
   "id": "e25754fb",
   "metadata": {},
   "outputs": [],
   "source": [
    "import pandas as pd\n",
    "import numpy as np\n",
    "import warnings\n",
    "import re\n",
    "import itertools\n",
    "import collections\n",
    "from datetime import datetime\n",
    "from matplotlib import pyplot as plt\n",
    "import nltk\n",
    "from nltk.corpus import stopwords\n",
    "warnings.filterwarnings('ignore')"
   ]
  },
  {
   "cell_type": "code",
   "execution_count": 2,
   "id": "b8e0025e",
   "metadata": {},
   "outputs": [],
   "source": [
    "df = pd.read_csv ('data/tweets/IchBinHanna.csv')\n",
    "#df= df[['author.description', 'author.id', 'author.name', 'author.public_metrics.followers_count', 'author.public_metrics.following_count', 'author.username', 'author_id', 'created_at', 'id', 'lang', 'public_metrics.retweet_count','text', 'hashtags','reference_type','wanted_tag','user.group']]"
   ]
  },
  {
   "cell_type": "code",
   "execution_count": 3,
   "id": "0d19f4bd",
   "metadata": {},
   "outputs": [],
   "source": [
    "#only keep tweets from 01/06/2021 - 30/09/2021\n",
    "df['new_date'] = pd.to_datetime(df['created_at']).dt.strftime('%Y-%m-%d %H:%M:%S')\n",
    "df_date = df.loc[(df['new_date'] > '2021-06-01 00:00:00') & (df['new_date'] <= '2021-09-30 23:59:59')]"
   ]
  },
  {
   "cell_type": "code",
   "execution_count": 4,
   "id": "4a7faab9",
   "metadata": {},
   "outputs": [
    {
     "name": "stdout",
     "output_type": "stream",
     "text": [
      "116928\n",
      "19032\n"
     ]
    }
   ],
   "source": [
    "#number of total tweets\n",
    "print(df.shape[0])\n",
    "#number of total unique users\n",
    "print(len(pd.unique(df['author.username'])))"
   ]
  },
  {
   "cell_type": "code",
   "execution_count": 5,
   "id": "10f35d60",
   "metadata": {
    "scrolled": true
   },
   "outputs": [
    {
     "name": "stdout",
     "output_type": "stream",
     "text": [
      "de     99219\n",
      "en     13648\n",
      "und     3147\n",
      "fr       302\n",
      "ja        61\n",
      "es        52\n",
      "nl        51\n",
      "it        32\n",
      "is        29\n",
      "da        21\n",
      "pt        20\n",
      "no        18\n",
      "lt        17\n",
      "tr        16\n",
      "ca        14\n",
      "pl        14\n",
      "sv        14\n",
      "ro         6\n",
      "hi         4\n",
      "et         4\n",
      "cs         3\n",
      "in         3\n",
      "ar         3\n",
      "tl         3\n",
      "fi         3\n",
      "lv         3\n",
      "fa         2\n",
      "cy         2\n",
      "ht         2\n",
      "vi         1\n",
      "zh         1\n",
      "ru         1\n",
      "eu         1\n",
      "Name: lang, dtype: int64\n"
     ]
    }
   ],
   "source": [
    "#List the distribution of languages in the tweets (important for preprocessing (stopwords etc.))\n",
    "print(df_date['lang'].value_counts())"
   ]
  },
  {
   "cell_type": "markdown",
   "id": "46d79d2d",
   "metadata": {},
   "source": [
    "As tweets with undefined language mostly consist of only hashtags, URls or emojis, they will be discarded. Otherwise only german and english tweets are kept for the analysis"
   ]
  },
  {
   "cell_type": "code",
   "execution_count": 6,
   "id": "306eedeb",
   "metadata": {},
   "outputs": [],
   "source": [
    "#This was relevant in an older version of the dataset, before user profiles were added; now the data set contains only german and english tweets to begin with\n",
    "df_date = df_date.loc[(df_date['lang'] == \"de\") | (df_date['lang'] == \"en\")]"
   ]
  },
  {
   "cell_type": "code",
   "execution_count": 7,
   "id": "53a1344c",
   "metadata": {
    "scrolled": true
   },
   "outputs": [
    {
     "name": "stdout",
     "output_type": "stream",
     "text": [
      "112867\n",
      "18534\n",
      "__twarc.retrieved_at                                95949\n",
      "__twarc.url                                         95949\n",
      "__twarc.version                                     95949\n",
      "attachments.media                                    2774\n",
      "attachments.media_keys                               2774\n",
      "attachments.poll.duration_minutes                      83\n",
      "attachments.poll.end_datetime                          83\n",
      "attachments.poll.id                                    83\n",
      "attachments.poll.options                               83\n",
      "attachments.poll.voting_status                         83\n",
      "attachments.poll_ids                                   88\n",
      "author.created_at                                  112867\n",
      "author.description                                 107368\n",
      "author.entities.description.cashtags                    9\n",
      "author.entities.description.hashtags                39280\n",
      "author.entities.description.mentions                49795\n",
      "author.entities.description.urls                     7509\n",
      "author.entities.url.urls                            57535\n",
      "author.id                                          112867\n",
      "author.location                                     71600\n",
      "author.name                                        112867\n",
      "author.pinned_tweet_id                              60576\n",
      "author.profile_image_url                           112867\n",
      "author.protected                                   112867\n",
      "author.public_metrics.followers_count              112867\n",
      "author.public_metrics.following_count              112867\n",
      "author.public_metrics.listed_count                 112867\n",
      "author.public_metrics.tweet_count                  112867\n",
      "author.url                                          57535\n",
      "author.username                                    112867\n",
      "author.verified                                    112867\n",
      "author.withheld.country_codes                           0\n",
      "author_id                                          112867\n",
      "context_annotations                                  8920\n",
      "conversation_id                                    112867\n",
      "created_at                                         112867\n",
      "entities.annotations                                 3111\n",
      "entities.cashtags                                       6\n",
      "entities.hashtags                                   70374\n",
      "entities.mentions                                   98701\n",
      "entities.urls                                       15378\n",
      "geo.coordinates.coordinates                             2\n",
      "geo.coordinates.type                                    2\n",
      "geo.country                                           118\n",
      "geo.country_code                                      118\n",
      "geo.full_name                                         118\n",
      "geo.geo.bbox                                          118\n",
      "geo.geo.type                                          118\n",
      "geo.id                                                118\n",
      "geo.name                                              118\n",
      "geo.place_id                                          237\n",
      "geo.place_type                                        118\n",
      "id                                                 112867\n",
      "in_reply_to_user.created_at                          8689\n",
      "in_reply_to_user.description                         8494\n",
      "in_reply_to_user.entities.description.cashtags          0\n",
      "in_reply_to_user.entities.description.hashtags       2892\n",
      "in_reply_to_user.entities.description.mentions       4176\n",
      "in_reply_to_user.entities.description.urls            890\n",
      "in_reply_to_user.entities.url.urls                   5001\n",
      "in_reply_to_user.id                                  8689\n",
      "in_reply_to_user.location                            6144\n",
      "in_reply_to_user.name                                8688\n",
      "in_reply_to_user.pinned_tweet_id                     5163\n",
      "in_reply_to_user.profile_image_url                   8688\n",
      "in_reply_to_user.protected                           8689\n",
      "in_reply_to_user.public_metrics.followers_count      8689\n",
      "in_reply_to_user.public_metrics.following_count      8689\n",
      "in_reply_to_user.public_metrics.listed_count         8689\n",
      "in_reply_to_user.public_metrics.tweet_count          8689\n",
      "in_reply_to_user.url                                 5001\n",
      "in_reply_to_user.username                            8689\n",
      "in_reply_to_user.verified                            8689\n",
      "in_reply_to_user.withheld.country_codes                 0\n",
      "in_reply_to_user_id                                  8859\n",
      "lang                                               112867\n",
      "possibly_sensitive                                 112867\n",
      "public_metrics.like_count                          112867\n",
      "public_metrics.quote_count                         112867\n",
      "public_metrics.reply_count                         112867\n",
      "public_metrics.retweet_count                       112867\n",
      "referenced_tweets                                  103455\n",
      "reply_settings                                     112867\n",
      "source                                             112867\n",
      "text                                               112867\n",
      "type                                                16918\n",
      "withheld.scope                                          0\n",
      "withheld.copyright                                      0\n",
      "withheld.country_codes                                  0\n",
      "hashtags                                            70374\n",
      "reference_type                                     112867\n",
      "wanted_tag                                         112867\n",
      "new_date                                           112867\n",
      "dtype: int64\n"
     ]
    }
   ],
   "source": [
    "pd.set_option('display.max_rows', 100)\n",
    "#number of remaining tweets\n",
    "print(df_date.shape[0])\n",
    "#number of remaining unique users\n",
    "print(len(pd.unique(df_date['author.id'])))\n",
    "#overview over \"missing values\"\n",
    "print(df_date.count())"
   ]
  },
  {
   "cell_type": "code",
   "execution_count": 8,
   "id": "dd518bef",
   "metadata": {},
   "outputs": [
    {
     "data": {
      "text/plain": [
       "<AxesSubplot:xlabel='week'>"
      ]
     },
     "execution_count": 8,
     "metadata": {},
     "output_type": "execute_result"
    },
    {
     "data": {
      "image/png": "[encoded data removed]",
      "text/plain": [
       "<Figure size 432x288 with 1 Axes>"
      ]
     },
     "metadata": {
      "needs_background": "light"
     },
     "output_type": "display_data"
    }
   ],
   "source": [
    "week_groups = df_date.groupby([pd.to_datetime(df_date['new_date']).dt.isocalendar().week]).size()\n",
    "week_groups.plot(kind='bar', legend = False)"
   ]
  },
  {
   "cell_type": "code",
   "execution_count": 9,
   "id": "9aa08075",
   "metadata": {},
   "outputs": [],
   "source": [
    "df_june = df_date.loc[(df_date['new_date'] > '2021-06-01 00:00:00') & (df_date['new_date'] <= '2021-06-30 23:59:59')]\n",
    "df_july = df_date.loc[(df_date['new_date'] > '2021-07-01 00:00:00') & (df_date['new_date'] <= '2021-07-31 23:59:59')]\n",
    "df_august = df_date.loc[(df_date['new_date'] > '2021-08-01 00:00:00') & (df_date['new_date'] <= '2021-08-31 23:59:59')]\n",
    "df_september = df_date.loc[(df_date['new_date'] > '2021-09-01 00:00:00') & (df_date['new_date'] <= '2021-09-30 23:59:59')]"
   ]
  },
  {
   "cell_type": "code",
   "execution_count": 10,
   "id": "da11f223",
   "metadata": {},
   "outputs": [
    {
     "data": {
      "text/plain": [
       "<AxesSubplot:xlabel='new_date'>"
      ]
     },
     "execution_count": 10,
     "metadata": {},
     "output_type": "execute_result"
    },
    {
     "data": {
      "image/png": "[encoded data removed]",
      "text/plain": [
       "<Figure size 432x288 with 2 Axes>"
      ]
     },
     "metadata": {
      "needs_background": "light"
     },
     "output_type": "display_data"
    }
   ],
   "source": [
    "june_groups = df_june.groupby([pd.to_datetime(df_june['new_date']).dt.day]).size()\n",
    "plt.subplot(1, 2, 1)\n",
    "june_groups.plot(kind='bar', legend = False)\n",
    "july_groups = df_july.groupby([pd.to_datetime(df_july['new_date']).dt.day]).size()\n",
    "plt.subplot(1, 2, 2)\n",
    "july_groups.plot(kind='bar', legend = False)"
   ]
  },
  {
   "cell_type": "code",
   "execution_count": 11,
   "id": "25a69ee6",
   "metadata": {},
   "outputs": [
    {
     "data": {
      "image/png": "[encoded data removed]",
      "text/plain": [
       "<Figure size 432x288 with 2 Axes>"
      ]
     },
     "metadata": {
      "needs_background": "light"
     },
     "output_type": "display_data"
    }
   ],
   "source": [
    "august_groups = df_august.groupby([pd.to_datetime(df_august['new_date']).dt.day]).size()\n",
    "plt.subplot(1, 2, 1)\n",
    "august_groups.plot(kind='bar', legend = False)\n",
    "september_groups = df_september.groupby([pd.to_datetime(df_september['new_date']).dt.day]).size()\n",
    "plt.subplot(1, 2, 2)\n",
    "september_groups.plot(kind='bar', legend = False)\n",
    "plt.xticks(rotation ='vertical')\n",
    "plt.show()"
   ]
  },
  {
   "cell_type": "markdown",
   "id": "82c7b854",
   "metadata": {},
   "source": [
    "## Missing Hashtag-Problem"
   ]
  },
  {
   "cell_type": "code",
   "execution_count": 12,
   "id": "8a97f5c8",
   "metadata": {},
   "outputs": [
    {
     "name": "stdout",
     "output_type": "stream",
     "text": [
      "60832\n"
     ]
    }
   ],
   "source": [
    "#number of tweets actually containing the hashtag\n",
    "df_hash = df_date[df_date['text'].str.contains(\"#ichbinhanna\", case = False)]\n",
    "print(df_hash.shape[0])"
   ]
  },
  {
   "cell_type": "code",
   "execution_count": 13,
   "id": "b7f401bd",
   "metadata": {},
   "outputs": [
    {
     "name": "stdout",
     "output_type": "stream",
     "text": [
      "52035\n"
     ]
    }
   ],
   "source": [
    "#number of tweets not containing the hashtag directly\n",
    "df_no_hash = df_date[-df_date['text'].str.contains(\"#ichbinhanna\", case = False)]\n",
    "print(df_no_hash.shape[0])"
   ]
  },
  {
   "cell_type": "code",
   "execution_count": 14,
   "id": "dc0428be",
   "metadata": {
    "scrolled": true
   },
   "outputs": [
    {
     "name": "stdout",
     "output_type": "stream",
     "text": [
      "47468\n",
      "40896\n"
     ]
    }
   ],
   "source": [
    "#number of tweets without the hashtag that are retweets (text from original tweet cut off)\n",
    "print(df_no_hash[df_no_hash['reference_type'] == 'retweeted'].shape[0])\n",
    "#number of tweets with the hashtag that are retweets\n",
    "print(df_hash[df_hash['reference_type'] == 'retweeted'].shape[0])"
   ]
  },
  {
   "cell_type": "code",
   "execution_count": 15,
   "id": "d594d880",
   "metadata": {},
   "outputs": [
    {
     "data": {
      "text/plain": [
       "2         Hanna is probably packing her/his/they suitcas...\n",
       "80        Gefühlt die ganze Sozialwissenschaftsnation be...\n",
       "84        Sobering data from @AAUP: In the fall of 2019,...\n",
       "90        I finally heard from JW. *Some* of the misogyn...\n",
       "108       QS World University Rankings 2022: Top 10: 5 🇺...\n",
       "                                ...                        \n",
       "116896    \"Kaputte Böden, alte zerkratzte Tische und ein...\n",
       "116905    \"Museumsverband Sachsen-Anhalt\" https://t.co/V...\n",
       "116907    A few years back at a conference, a prof told ...\n",
       "116912    Überwiegend befristete Verträge sorgen für Pre...\n",
       "116926    Verhandelter Tarif.\\nRechtsschutz im Arbeitsle...\n",
       "Name: text, Length: 4567, dtype: object"
      ]
     },
     "execution_count": 15,
     "metadata": {},
     "output_type": "execute_result"
    }
   ],
   "source": [
    "test =df_no_hash['text'].loc[df_no_hash['reference_type'] != 'retweeted']\n",
    "test"
   ]
  },
  {
   "cell_type": "code",
   "execution_count": 16,
   "id": "9eb022e5",
   "metadata": {},
   "outputs": [
    {
     "name": "stdout",
     "output_type": "stream",
     "text": [
      "retweeted       40896\n",
      "no_reference     8159\n",
      "quoted           6205\n",
      "replied_to       5572\n",
      "Name: reference_type, dtype: int64\n",
      "retweeted       47468\n",
      "replied_to       2760\n",
      "no_reference     1253\n",
      "quoted            554\n",
      "Name: reference_type, dtype: int64\n"
     ]
    }
   ],
   "source": [
    "print(df_hash['reference_type'].value_counts())\n",
    "print(df_no_hash['reference_type'].value_counts())"
   ]
  },
  {
   "cell_type": "markdown",
   "id": "07e902a8",
   "metadata": {},
   "source": [
    "As a majority of those tweets are retweets that are mostly cut off due to the character constraint, a first approach is to exclude retweets directly for the sentiment analysis, as the original tweet (as long as it falls into our time frame) is most likely in the collection as well. If certain users or networks have to be observed, the whole data set might be of more interest."
   ]
  },
  {
   "cell_type": "code",
   "execution_count": 17,
   "id": "578b3a45",
   "metadata": {},
   "outputs": [],
   "source": [
    "#for further investigation\n",
    "compression_opts = dict(method='zip',\n",
    "                        archive_name='out.csv')  \n",
    "df_no_hash.to_csv('out.zip', index=False,\n",
    "          compression=compression_opts) "
   ]
  },
  {
   "cell_type": "markdown",
   "id": "12dfc527",
   "metadata": {},
   "source": [
    "## Get top hashtags appearing in tweets along with #IchBinHanna"
   ]
  },
  {
   "cell_type": "code",
   "execution_count": 18,
   "id": "aa428a1b",
   "metadata": {},
   "outputs": [],
   "source": [
    "#make the hashtags a list of strings, then adapt the monthly data frames, also remove tweets not containing the hashtag,\n",
    "#but keep retweets for this part of the analysis\n",
    "df_date = df_hash\n",
    "df_date['hashtags'] = df_hash['hashtags'].str.replace('[', '').str.replace(']','')\n",
    "df_date['hashtags separated'] = df_date['hashtags'].str.split(',')\n",
    "df_september = df_date.loc[(df_date['new_date'] > '2021-09-01 00:00:00') & (df_date['new_date'] <= '2021-09-30 23:59:59')]\n",
    "df_june = df_date.loc[(df_date['new_date'] > '2021-06-01 00:00:00') & (df_date['new_date'] <= '2021-06-30 23:59:59')]\n",
    "df_july = df_date.loc[(df_date['new_date'] > '2021-07-01 00:00:00') & (df_date['new_date'] <= '2021-07-31 23:59:59')]\n",
    "df_august = df_date.loc[(df_date['new_date'] > '2021-08-01 00:00:00') & (df_date['new_date'] <= '2021-08-31 23:59:59')]\n",
    "june_groups = df_june.groupby([pd.to_datetime(df_june['new_date']).dt.day]).size()\n",
    "july_groups = df_july.groupby([pd.to_datetime(df_july['new_date']).dt.day]).size()\n",
    "august_groups = df_august.groupby([pd.to_datetime(df_august['new_date']).dt.day]).size()\n",
    "september_groups = df_september.groupby([pd.to_datetime(df_september['new_date']).dt.day]).size()"
   ]
  },
  {
   "cell_type": "code",
   "execution_count": 19,
   "id": "1323e7c9",
   "metadata": {},
   "outputs": [
    {
     "name": "stdout",
     "output_type": "stream",
     "text": [
      "4455\n",
      "37258\n",
      "13642\n",
      "5477\n"
     ]
    }
   ],
   "source": [
    "print(len(df_september))\n",
    "print(len(df_june))\n",
    "print(len(df_july))\n",
    "print(len(df_august))"
   ]
  },
  {
   "cell_type": "code",
   "execution_count": 20,
   "id": "27a2c2a2",
   "metadata": {},
   "outputs": [],
   "source": [
    "#flatten the lists to count occurences of all strings and drop all variations of #IchBinHanna\n",
    "flat_hashtags = df_september['hashtags separated'].explode().to_frame().dropna()\n",
    "flat_hashtags = flat_hashtags[-flat_hashtags['hashtags separated'].str.contains(\"ichbinhanna\", case = False)]"
   ]
  },
  {
   "cell_type": "code",
   "execution_count": 21,
   "id": "d9654cc1",
   "metadata": {},
   "outputs": [],
   "source": [
    "#count occurences \n",
    "hashtag_count = flat_hashtags.value_counts()\n",
    "hashtag_count = hashtag_count[hashtag_count > 10].reset_index()"
   ]
  },
  {
   "cell_type": "code",
   "execution_count": 22,
   "id": "3968c1b2",
   "metadata": {},
   "outputs": [],
   "source": [
    "#for further investigation\n",
    "compression_opts = dict(method='zip',\n",
    "                        archive_name='top_hashtags.csv')  \n",
    "hashtag_count.to_csv('out.zip', index=False,\n",
    "          compression=compression_opts) "
   ]
  },
  {
   "cell_type": "markdown",
   "id": "5b398355",
   "metadata": {},
   "source": [
    "## Identify Events by observing spikes in tweet volume"
   ]
  },
  {
   "cell_type": "code",
   "execution_count": 23,
   "id": "03f0bd13",
   "metadata": {
    "scrolled": true
   },
   "outputs": [
    {
     "name": "stdout",
     "output_type": "stream",
     "text": [
      "Highest activity in June:\n",
      "new_date\n",
      "11    5989\n",
      "10    4566\n",
      "24    4168\n",
      "25    3019\n",
      "14    1852\n",
      "17    1689\n",
      "30    1514\n",
      "12    1502\n",
      "13    1420\n",
      "26    1271\n",
      "dtype: int64\n",
      "Highest activity in July:\n",
      "new_date\n",
      "1     1465\n",
      "9     1258\n",
      "8     1048\n",
      "2     1045\n",
      "6      693\n",
      "7      682\n",
      "12     679\n",
      "16     512\n",
      "13     486\n",
      "10     477\n",
      "dtype: int64\n",
      "Highest activity in August:\n",
      "new_date\n",
      "3     491\n",
      "25    441\n",
      "2     390\n",
      "12    369\n",
      "4     347\n",
      "10    280\n",
      "23    270\n",
      "26    268\n",
      "20    204\n",
      "11    204\n",
      "dtype: int64\n",
      "Highest activity in September:\n",
      "new_date\n",
      "10    397\n",
      "29    362\n",
      "23    285\n",
      "2     246\n",
      "6     245\n",
      "7     231\n",
      "24    201\n",
      "1     198\n",
      "11    190\n",
      "22    175\n",
      "dtype: int64\n"
     ]
    }
   ],
   "source": [
    "print(\"Highest activity in June:\\n{}\".format(june_groups.sort_values(ascending = False).head(10)))\n",
    "print(\"Highest activity in July:\\n{}\".format(july_groups.sort_values(ascending = False).head(10)))\n",
    "print(\"Highest activity in August:\\n{}\".format(august_groups.sort_values(ascending = False).head(10)))\n",
    "print(\"Highest activity in September:\\n{}\".format(september_groups.sort_values(ascending = False).head(10)))"
   ]
  },
  {
   "cell_type": "markdown",
   "id": "ca01010c",
   "metadata": {},
   "source": [
    "### First approach: search for most frequent words in tweets with the hashtag for the days with the highest activity\n",
    "\n",
    "Retweets are kept here, as they give an indication about the engagement of a topic and reflect that in a higher word count for frequently discussed themes."
   ]
  },
  {
   "cell_type": "code",
   "execution_count": 24,
   "id": "95cefc9e",
   "metadata": {},
   "outputs": [],
   "source": [
    "#First step: process the raw text data\n",
    "#remove linebreaks separately\n",
    "df_date['processed text'] = df_date['text'].replace(r'\\\\n',  ' ', regex=True)\n",
    "#function to remove URLs, punctuation, @ etc. (source: https://www.earthdatascience.org/courses/use-data-open-source-python/intro-to-apis/calculate-tweet-word-frequencies-in-python/)\n",
    "def rem_url(tweet):\n",
    "     return \" \".join(re.sub(\"([^0-9A-Za-zßäöü \\t])|(\\w+:\\/\\/\\S+)\", \" \", tweet).split())\n",
    "df_date['processed text'] = df_date['processed text'].apply(rem_url)"
   ]
  },
  {
   "cell_type": "code",
   "execution_count": 25,
   "id": "c70cb58f",
   "metadata": {},
   "outputs": [],
   "source": [
    "#lowercases and tokenize text\n",
    "df_date['processed text'] = df_date['processed text'].str.lower().str.split()"
   ]
  },
  {
   "cell_type": "code",
   "execution_count": 26,
   "id": "69fa71b4",
   "metadata": {},
   "outputs": [
    {
     "name": "stderr",
     "output_type": "stream",
     "text": [
      "[nltk_data] Downloading package stopwords to\n",
      "[nltk_data]     C:\\Users\\Admin\\AppData\\Roaming\\nltk_data...\n",
      "[nltk_data]   Package stopwords is already up-to-date!\n"
     ]
    }
   ],
   "source": [
    "#remove german and english stopwords (separately for the given language of a tweet)\n",
    "nltk.download(\"stopwords\")\n",
    "german_stop = set(stopwords.words('german'))\n",
    "english_stop = set(stopwords.words('english'))\n",
    "df_date['processed w/o stopwords'] = df_date[['processed text','lang']].apply(lambda x: ' '.join([word for word in x['processed text'] if word not in (english_stop)]).split() if x['lang'] == 'en' else ' '.join([word for word in x['processed text'] if word not in (german_stop)]).split(),axis=1)"
   ]
  },
  {
   "cell_type": "code",
   "execution_count": 27,
   "id": "c115f012",
   "metadata": {},
   "outputs": [],
   "source": [
    "#remove all words consisting of only one character (isn'\"t\", it'\"s\" etc.)\n",
    "df_date['processed w/o stopwords'] = df_date['processed w/o stopwords'].apply(lambda x: [word for word in x if len(word) > 2])"
   ]
  },
  {
   "cell_type": "code",
   "execution_count": 28,
   "id": "56bd5370",
   "metadata": {
    "scrolled": true
   },
   "outputs": [
    {
     "data": {
      "text/plain": [
       "[('ichbinhanna', 59236),\n",
       " ('innen', 6229),\n",
       " ('amreibahr', 5585),\n",
       " ('bund', 5301),\n",
       " ('bmbf', 5075),\n",
       " ('amp', 5056),\n",
       " ('wissenschaft', 4578),\n",
       " ('wisszeitvg', 4384),\n",
       " ('hanna', 4134),\n",
       " ('wissenschaftler', 3673),\n",
       " ('drkeichhorn', 3410),\n",
       " ('viele', 3240),\n",
       " ('mehr', 2953),\n",
       " ('german', 2848),\n",
       " ('mal', 2501),\n",
       " ('heute', 2452),\n",
       " ('system', 2256),\n",
       " ('ichbinhannah', 2251),\n",
       " ('geht', 2099),\n",
       " ('schon', 1968),\n",
       " ('anjakarliczek', 1871),\n",
       " ('gibt', 1840),\n",
       " ('gerade', 1794),\n",
       " ('hannaimbundestag', 1754),\n",
       " ('gew', 1715)]"
      ]
     },
     "execution_count": 28,
     "metadata": {},
     "output_type": "execute_result"
    }
   ],
   "source": [
    "#most frequent words overall\n",
    "all_words = list(itertools.chain(*df_date['processed w/o stopwords']))\n",
    "total_word_count = collections.Counter(all_words)\n",
    "total_word_count.most_common(25)"
   ]
  },
  {
   "cell_type": "code",
   "execution_count": 29,
   "id": "5b8f9503",
   "metadata": {},
   "outputs": [],
   "source": [
    "#remove additional stopwords encountered (like \"innen\" which occurs because of gendering in german), as well as the hashtag itself, rt etc.\n",
    "add_stop_all = [\"rt\", \"ichbinhanna\", \"hanna\", \"amp\"]\n",
    "add_stop_ger = [\"mehr\", \"mal\", \"innen\", \"ja\", \"schon\"]\n",
    "add_stop_en = []\n",
    "df_date['processed w/o stopwords'] = df_date[['processed w/o stopwords','lang']].apply(lambda x: ' '.join([word for word in x['processed w/o stopwords'] if word not in (add_stop_all) and word not in  (add_stop_en)]).split() if x['lang'] == 'en' else ' '.join([word for word in x['processed w/o stopwords'] if word not in (add_stop_all) and word not in  (add_stop_ger)]).split(),axis=1)"
   ]
  },
  {
   "cell_type": "code",
   "execution_count": 30,
   "id": "24785bc4",
   "metadata": {
    "scrolled": true
   },
   "outputs": [
    {
     "name": "stdout",
     "output_type": "stream",
     "text": [
      "10.06.:\n",
      "[('wissenschaftler', 939), ('teilen', 786), ('wisszeitvg', 631), ('befristet', 593), ('prekären', 591), ('nachwuchs', 568), ('momentan', 530), ('status', 530), ('angestellte', 529), ('degneranja', 528), ('wissenschaft', 522), ('bmbf', 484), ('german', 341), ('viele', 324), ('innovation', 309), ('gerade', 278), ('deutschland', 267), ('sagt', 254), ('tatsächlich', 254), ('kontext', 250), ('sorgt', 248), ('schwere', 247), ('fördere', 246), ('trending', 245), ('sahiralsaid', 244)]\n",
      "11.06.:\n",
      "[('wissenschaftler', 799), ('german', 748), ('wissenschaft', 660), ('system', 613), ('viele', 601), ('teilen', 592), ('trending', 588), ('academic', 557), ('gerade', 438), ('bmbf', 373), ('academia', 335), ('since', 333), ('know', 327), ('befristungen', 317), ('martin', 313), ('wisszeitvg', 308), ('everyone', 308), ('messed', 305), ('hebart', 304), ('pia', 304), ('lamberty', 303), ('bec', 302), ('befristet', 295), ('tweets', 293), ('übrigens', 292)]\n",
      "24.06.:\n",
      "[('hannaimbundestag', 1104), ('geht', 417), ('wissenschaft', 346), ('anjakarliczek', 342), ('bundestag', 335), ('heute', 264), ('wisszeitvg', 251), ('debatte', 208), ('german', 200), ('bmbf', 193), ('amreibahr', 182), ('stunde', 172), ('bund', 172), ('sitte', 160), ('cdu', 157), ('karliczek', 151), ('winnerling', 149), ('petra', 146), ('wissenschaftler', 145), ('dorothee', 135), ('goetze', 135), ('argumente', 131), ('jenniferhenkehb', 131), ('sebastiankubon', 127), ('los', 123)]\n",
      "25.06.:\n",
      "[('chef', 1093), ('achimlandwehr', 1014), ('dekan', 1013), ('viele', 903), ('professor', 894), ('hannaimbundestag', 331), ('bund', 195), ('anjakarliczek', 194), ('amreibahr', 170), ('bmbf', 162), ('liebe', 133), ('diskussion', 126), ('wissenschaft', 119), ('wisszeitvg', 112), ('profs', 110), ('karliczek', 110), ('heute', 107), ('brauchen', 100), ('gew', 92), ('geht', 88), ('wurde', 85), ('hochschulleitungen', 81), ('stimmen', 81), ('thread', 81), ('unis', 79)]\n",
      "17.06.:\n",
      "[('gibt', 375), ('wisszeitvg', 271), ('wissenschaftler', 239), ('bmbf', 204), ('artikel', 186), ('mehrreiber', 182), ('wegen', 182), ('suche', 180), ('wissenschaftsbetr', 179), ('gelernt', 175), ('winnerling', 174), ('fehlwahrnehmung', 173), ('denken', 172), ('verbreitete', 171), ('bund', 152), ('amreibahr', 150), ('drkeichhorn', 132), ('wissenschaft', 120), ('tazgezwitscher', 80), ('video', 78), ('liebe', 76), ('bitte', 72), ('macht', 72), ('danke', 70), ('hashtag', 67)]\n",
      "30.06.:\n",
      "[('anjakarliczek', 328), ('wirsindhanna', 189), ('wisszeitvg', 162), ('bund', 153), ('doktorvater', 148), ('gespräch', 142), ('selbstwahrnehmung', 137), ('rät', 124), ('überhöhte', 124), ('vlt', 122), ('join', 121), ('außenwahr', 117), ('erklärung', 102), ('wissenschaftsverbänden', 98), ('anschlussverwendung', 93), ('gew', 90), ('wissenschaft', 85), ('bmbf', 82), ('vhdtweets', 81), ('ichbinhannah', 74), ('prekarität', 74), ('wissenschaftlicher', 74), ('wissen', 72), ('contracts', 71), ('laufbahnen', 71)]\n",
      "01.07.:\n",
      "[('gew', 207), ('bund', 190), ('hannabeidergew', 182), ('sollten', 138), ('drkeichhorn', 112), ('ichbinhannah', 99), ('wisszeitvg', 97), ('wirsindhanna', 97), ('kinofrau1', 94), ('bmbf', 94), ('janalasser', 93), ('amreibahr', 86), ('akellergew', 85), ('english', 79), ('arbeit', 78), ('uni', 74), ('danielhornuff', 71), ('karliczek', 69), ('professor', 69), ('äußern', 69), ('hashtag', 67), ('geht', 67), ('grund', 65), ('reaktionen', 64), ('simplen', 63)]\n",
      "02.07.:\n",
      "[('bund', 161), ('amreibahr', 143), ('bmbf', 132), ('wisszeitvg', 112), ('gew', 102), ('karliczek', 94), ('wissen', 94), ('reaktionen', 85), ('krudes', 83), ('ausbeuterisches', 83), ('verständnis', 83), ('bewusst', 78), ('akellergew', 63), ('drkeichhorn', 52), ('neurowissenschaftlerin', 50), ('wirsindhanna', 48), ('beitrag', 46), ('hashtag', 46), ('immer', 43), ('wdr3', 41), ('wissenschaft', 41), ('mahaelhissy', 40), ('fachgesellschaften', 38), ('gerade', 38), ('per', 37)]\n",
      "09.07.:\n",
      "[('tagesthemen', 224), ('tilojung', 142), ('amreibahr', 136), ('bund', 113), ('lange', 88), ('heute', 85), ('regierungspressekonferenz', 82), ('debatte', 81), ('früher', 78), ('thematisiert', 77), ('bewegung', 77), ('wisszeitvg', 76), ('kanzlerin', 75), ('erfahren', 73), ('merkel', 73), ('dauerstellen', 71), ('drkeichhorn', 71), ('nieniewieder', 70), ('trotz', 70), ('studium', 70), ('kind', 70), ('kommentar', 69), ('fachlicher', 67), ('erfolge', 67), ('arbeiter', 63)]\n",
      "08.07.:\n",
      "[('amreibahr', 372), ('tagesthemen', 357), ('heute', 316), ('drkeichhorn', 243), ('dauerstellen', 164), ('einschalten', 159), ('wort', 156), ('kommen', 154), ('niemand', 153), ('uhr', 153), ('abend', 152), ('pwun', 151), ('debatte', 120), ('postdocs', 113), ('nochmal', 104), ('mitschreiben', 103), ('gefordert', 103), ('ford', 102), ('kommentar', 79), ('bund', 64), ('beitrag', 55), ('gew', 53), ('eigentlich', 46), ('fordert', 45), ('wissenschaft', 43)]\n",
      "03.08.:\n",
      "[('christine', 176), ('blume', 176), ('amreibahr', 157), ('german', 130), ('academia', 118), ('law', 101), ('researchers', 100), ('protests', 98), ('forces', 98), ('check', 95), ('correspondence', 94), ('drkeichhorn', 74), ('sebastiankubon', 74), ('heutejournal', 70), ('heute', 60), ('gerade', 60), ('abend', 50), ('mahaelhissy', 39), ('kurzfristig', 33), ('erfahren', 33), ('erneut', 33), ('fernsehen', 33), ('schaltet', 33), ('uhr', 33), ('english', 33)]\n",
      "04.08.:\n",
      "[('german', 68), ('bmbf', 57), ('bund', 57), ('heutejournal', 55), ('amreibahr', 55), ('naturehumbehav', 50), ('academia', 50), ('wisszeitvg', 46), ('law', 46), ('forces', 46), ('researchers', 46), ('academics', 39), ('protest', 37), ('limiting', 37), ('numbe', 36), ('drkeichhorn', 35), ('christine', 35), ('blume', 35), ('mahaelhissy', 34), ('dhdinfo', 28), ('kam', 26), ('gestern', 25), ('uni', 24), ('beitrag', 20), ('ichbinhannah', 20)]\n",
      "25.08.:\n",
      "[('wissenschaft', 174), ('amreibahr', 155), ('befristungen', 128), ('deshalb', 123), ('gern', 123), ('findest', 122), ('großem', 122), ('stil', 122), ('total', 122), ('supi', 122), ('möchtest', 122), ('äußern', 122), ('ichbinreyhan', 56), ('torstenkathke', 34), ('berliner', 32), ('replik', 30), ('gute', 29), ('frage', 28), ('hilmarpreu', 26), ('mlunterfinanziert', 25), ('gibt', 24), ('beitrag', 23), ('jahn', 23), ('debatte', 22), ('reden', 22)]\n",
      "12.08.:\n",
      "[('amreibahr', 71), ('debatte', 61), ('drkeichhorn', 48), ('anjakarliczek', 43), ('jahn', 39), ('immer', 36), ('elternschaft', 35), ('janinefunke', 34), ('gerade', 31), ('genauso', 28), ('kindern', 27), ('befristungsbefürworter', 27), ('vorher', 26), ('gibt', 26), ('sorry', 26), ('liebe', 26), ('scheinargumente', 26), ('wiederzukäuen', 26), ('weiterarbeiten', 25), ('unterstützun', 24), ('forschung', 24), ('dauerstellen', 22), ('bund', 22), ('wissenschaft', 22), ('bereits', 21)]\n",
      "26.08.:\n",
      "[('amreibahr', 65), ('wissenschaft', 51), ('drkeichhorn', 37), ('gern', 34), ('deshalb', 33), ('total', 32), ('findest', 31), ('befristungen', 31), ('großem', 31), ('stil', 31), ('supi', 31), ('möchtest', 31), ('äußern', 31), ('waspostdocswollen', 26), ('berlin', 22), ('unis', 19), ('professoren', 18), ('durchschnittlich', 18), ('700', 18), ('professorinnen', 18), ('gehört', 18), ('sebastiankubon', 18), ('gibt', 18), ('verdienen', 17), ('berliner', 17)]\n",
      "29.09.:\n",
      "[('entfristethanna', 114), ('gew', 55), ('bund', 55), ('amreibahr', 52), ('drkeichhorn', 51), ('ichbinreyhan', 46), ('heute', 46), ('aktivenkonferenz', 34), ('chrizzy80', 33), ('einsatz', 28), ('neue', 27), ('campus', 27), ('karriere', 27), ('interview', 25), ('gleich', 25), ('studium', 22), ('dlf', 19), ('stellen', 18), ('erwartungen', 18), ('dauerstellen', 18), ('wer', 18), ('promotion', 17), ('simoneclaar', 17), ('diskussion', 17), ('erst', 17)]\n",
      "10.09.:\n",
      "[('seit', 161), ('amreibahr', 126), ('arbeitsverträge', 120), ('ende', 89), ('davon', 86), ('monate', 76), ('aktuellen', 75), ('hannainzahlen', 68), ('verträge', 66), ('vertrags', 58), ('erwerbsarbeitslosigkeit', 49), ('100', 47), ('btw21', 45), ('anlässlich', 44), ('zahlen', 42), ('jahre', 41), ('2023', 40), ('lasst', 40), ('ausmaße', 37), ('deutlich', 37), ('wissenschaftspolitische', 37), ('2009', 31), ('stipendien', 30), ('stip', 29), ('anzahl', 28)]\n",
      "02.09.:\n",
      "[('berlin', 49), ('wissenschaft', 42), ('heute', 29), ('akellergew', 28), ('neue', 25), ('befristung', 23), ('gew', 22), ('bund', 22), ('geht', 22), ('hannafürberlhg', 22), ('berliner', 22), ('gesetz', 21), ('grundmar', 20), ('majormrton2', 19), ('immer', 19), ('wege', 18), ('beschlossen', 18), ('arbeitsbedingungen', 18), ('rton', 17), ('glücklicher', 17), ('universitäten', 17), ('name', 16), ('physiker', 16), ('beruf', 16), ('typische', 16)]\n",
      "06.09.:\n",
      "[('amreibahr', 32), ('heute', 29), ('another', 28), ('day', 26), ('life', 26), ('dropped', 26), ('son', 26), ('daycare', 26), ('pulled', 26), ('aside', 26), ('one', 26), ('caretakers', 26), ('bundestagswahl', 26), ('chance', 26), ('dtruebutschek', 25), ('chastis', 25), ('wer', 21), ('nutzen', 21), ('tage', 20), ('lasst', 20), ('echte', 20), ('veränderung', 20), ('dahin', 20), ('nochmal', 20), ('mlunterfinanziert', 20)]\n",
      "03.09.:\n",
      "[('berlin', 22), ('wissenschaft', 18), ('akellergew', 16), ('wissenschaftssystem', 16), ('deutsche', 15), ('zweierlei', 14), ('eindrücklich', 14), ('gezeigt', 14), ('erstens', 14), ('inhärent', 14), ('ungerecht', 14), ('grundmar', 14), ('zweiten', 13), ('gew', 13), ('bund', 12), ('online', 10), ('stellen', 9), ('mlunterfinanziert', 9), ('gute', 9), ('arbeit', 9), ('wer', 9), ('hilmarpreu', 8), ('ichbinreyhan', 8), ('trifft', 8), ('statt', 8)]\n"
     ]
    }
   ],
   "source": [
    "#get most frequent terms for days with highest tweet volume per month\n",
    "current_day = df_date.loc[(df_date['new_date'] > '2021-06-10 00:00:00') & (df_date['new_date'] <= '2021-06-10 23:59:59')]\n",
    "daily_words = list(itertools.chain(*current_day['processed w/o stopwords']))\n",
    "daily_word_count = collections.Counter(daily_words)\n",
    "print(\"10.06.:\\n{}\".format(daily_word_count.most_common(25)))\n",
    "current_day = df_date.loc[(df_date['new_date'] > '2021-06-11 00:00:00') & (df_date['new_date'] <= '2021-06-11 23:59:59') ]\n",
    "daily_words = list(itertools.chain(*current_day['processed w/o stopwords']))\n",
    "daily_word_count = collections.Counter(daily_words)\n",
    "print(\"11.06.:\\n{}\".format(daily_word_count.most_common(25)))\n",
    "current_day = df_date.loc[(df_date['new_date'] > '2021-06-24 00:00:00') & (df_date['new_date'] <= '2021-06-24 23:59:59') ]\n",
    "daily_words = list(itertools.chain(*current_day['processed w/o stopwords']))\n",
    "daily_word_count = collections.Counter(daily_words)\n",
    "print(\"24.06.:\\n{}\".format(daily_word_count.most_common(25)))\n",
    "current_day = df_date.loc[(df_date['new_date'] > '2021-06-25 00:00:00') & (df_date['new_date'] <= '2021-06-25 23:59:59') ]\n",
    "daily_words = list(itertools.chain(*current_day['processed w/o stopwords']))\n",
    "daily_word_count = collections.Counter(daily_words)\n",
    "print(\"25.06.:\\n{}\".format(daily_word_count.most_common(25)))\n",
    "current_day = df_date.loc[(df_date['new_date'] > '2021-06-17 00:00:00') & (df_date['new_date'] <= '2021-06-17 23:59:59') ]\n",
    "daily_words = list(itertools.chain(*current_day['processed w/o stopwords']))\n",
    "daily_word_count = collections.Counter(daily_words)\n",
    "print(\"17.06.:\\n{}\".format(daily_word_count.most_common(25)))\n",
    "current_day = df_date.loc[(df_date['new_date'] > '2021-06-30 00:00:00') & (df_date['new_date'] <= '2021-06-30 23:59:59') ]\n",
    "daily_words = list(itertools.chain(*current_day['processed w/o stopwords']))\n",
    "daily_word_count = collections.Counter(daily_words)\n",
    "print(\"30.06.:\\n{}\".format(daily_word_count.most_common(25)))\n",
    "current_day = df_date.loc[(df_date['new_date'] > '2021-07-01 00:00:00') & (df_date['new_date'] <= '2021-07-01 23:59:59') ]\n",
    "daily_words = list(itertools.chain(*current_day['processed w/o stopwords']))\n",
    "daily_word_count = collections.Counter(daily_words)\n",
    "print(\"01.07.:\\n{}\".format(daily_word_count.most_common(25)))\n",
    "current_day = df_date.loc[(df_date['new_date'] > '2021-07-02 00:00:00') & (df_date['new_date'] <= '2021-07-02 23:59:59') ]\n",
    "daily_words = list(itertools.chain(*current_day['processed w/o stopwords']))\n",
    "daily_word_count = collections.Counter(daily_words)\n",
    "print(\"02.07.:\\n{}\".format(daily_word_count.most_common(25)))\n",
    "current_day = df_date.loc[(df_date['new_date'] > '2021-07-09 00:00:00') & (df_date['new_date'] <= '2021-07-09 23:59:59') ]\n",
    "daily_words = list(itertools.chain(*current_day['processed w/o stopwords']))\n",
    "daily_word_count = collections.Counter(daily_words)\n",
    "print(\"09.07.:\\n{}\".format(daily_word_count.most_common(25)))\n",
    "current_day = df_date.loc[(df_date['new_date'] > '2021-07-08 00:00:00') & (df_date['new_date'] <= '2021-07-08 23:59:59') ]\n",
    "daily_words = list(itertools.chain(*current_day['processed w/o stopwords']))\n",
    "daily_word_count = collections.Counter(daily_words)\n",
    "print(\"08.07.:\\n{}\".format(daily_word_count.most_common(25)))\n",
    "current_day = df_date.loc[(df_date['new_date'] > '2021-08-03 00:00:00') & (df_date['new_date'] <= '2021-08-03 23:59:59') ]\n",
    "daily_words = list(itertools.chain(*current_day['processed w/o stopwords']))\n",
    "daily_word_count = collections.Counter(daily_words)\n",
    "print(\"03.08.:\\n{}\".format(daily_word_count.most_common(25)))\n",
    "current_day = df_date.loc[(df_date['new_date'] > '2021-08-04 00:00:00') & (df_date['new_date'] <= '2021-08-04 23:59:59') ]\n",
    "daily_words = list(itertools.chain(*current_day['processed w/o stopwords']))\n",
    "daily_word_count = collections.Counter(daily_words)\n",
    "print(\"04.08.:\\n{}\".format(daily_word_count.most_common(25)))\n",
    "current_day = df_date.loc[(df_date['new_date'] > '2021-08-25 00:00:00') & (df_date['new_date'] <= '2021-08-25 23:59:59') ]\n",
    "daily_words = list(itertools.chain(*current_day['processed w/o stopwords']))\n",
    "daily_word_count = collections.Counter(daily_words)\n",
    "print(\"25.08.:\\n{}\".format(daily_word_count.most_common(25)))\n",
    "current_day = df_date.loc[(df_date['new_date'] > '2021-08-12 00:00:00') & (df_date['new_date'] <= '2021-08-12 23:59:59') ]\n",
    "daily_words = list(itertools.chain(*current_day['processed w/o stopwords']))\n",
    "daily_word_count = collections.Counter(daily_words)\n",
    "print(\"12.08.:\\n{}\".format(daily_word_count.most_common(25)))\n",
    "current_day = df_date.loc[(df_date['new_date'] > '2021-08-26 00:00:00') & (df_date['new_date'] <= '2021-08-26 23:59:59') ]\n",
    "daily_words = list(itertools.chain(*current_day['processed w/o stopwords']))\n",
    "daily_word_count = collections.Counter(daily_words)\n",
    "print(\"26.08.:\\n{}\".format(daily_word_count.most_common(25)))\n",
    "current_day = df_date.loc[(df_date['new_date'] > '2021-09-29 00:00:00') & (df_date['new_date'] <= '2021-09-29 23:59:59') ]\n",
    "daily_words = list(itertools.chain(*current_day['processed w/o stopwords']))\n",
    "daily_word_count = collections.Counter(daily_words)\n",
    "print(\"29.09.:\\n{}\".format(daily_word_count.most_common(25)))\n",
    "current_day = df_date.loc[(df_date['new_date'] > '2021-09-10 00:00:00') & (df_date['new_date'] <= '2021-09-10 23:59:59') ]\n",
    "daily_words = list(itertools.chain(*current_day['processed w/o stopwords']))\n",
    "daily_word_count = collections.Counter(daily_words)\n",
    "print(\"10.09.:\\n{}\".format(daily_word_count.most_common(25)))\n",
    "current_day = df_date.loc[(df_date['new_date'] > '2021-09-02 00:00:00') & (df_date['new_date'] <= '2021-09-02 23:59:59') ]\n",
    "daily_words = list(itertools.chain(*current_day['processed w/o stopwords']))\n",
    "daily_word_count = collections.Counter(daily_words)\n",
    "print(\"02.09.:\\n{}\".format(daily_word_count.most_common(25)))\n",
    "current_day = df_date.loc[(df_date['new_date'] > '2021-09-06 00:00:00') & (df_date['new_date'] <= '2021-09-06 23:59:59') ]\n",
    "daily_words = list(itertools.chain(*current_day['processed w/o stopwords']))\n",
    "daily_word_count = collections.Counter(daily_words)\n",
    "print(\"06.09.:\\n{}\".format(daily_word_count.most_common(25)))\n",
    "current_day = df_date.loc[(df_date['new_date'] > '2021-09-03 00:00:00') & (df_date['new_date'] <= '2021-09-03 23:59:59') ]\n",
    "daily_words = list(itertools.chain(*current_day['processed w/o stopwords']))\n",
    "daily_word_count = collections.Counter(daily_words)\n",
    "print(\"03.09.:\\n{}\".format(daily_word_count.most_common(25)))"
   ]
  },
  {
   "cell_type": "markdown",
   "id": "b843410f",
   "metadata": {},
   "source": [
    "### Observations June:\n",
    "10th + 11th: Start of the movement under the hashtag #IchBinHanna\n",
    "24th: Issue got discussed in the \"aktuelle Stunde\" of the german Bundestag\n",
    "25th: Series of tweets of Achim Landwehr, a Dean of studies critizing and portraying the situation of scientific workers\n",
    "17th: State scecretary Wolf-Dieter Lukas uploads a video addressing the issues that arose with the hashtag\n",
    "14th: Initial video of the BMBF gets deleted from their website.\n",
    "\n",
    "### Observations July:\n",
    "1st +  2nd: Zoom conference of the GEW (union for education and science) \n",
    "9th: Journalist Thilo Jung presents the issue at a press conference of the german government \n",
    "\n",
    "### Observations August:\n",
    "3rd + 4th: TV report about #IchBinHanna in ZDF's \"heute journal\" \n",
    "\n",
    "### Observations September:\n",
    "2nd + 3rd: declaration of new \"Berliner Hochschulgesetz\"\n",
    "29th: IchBinHanna discussed in the \"hessischer Landtag\""
   ]
  },
  {
   "cell_type": "markdown",
   "id": "68e3bba6",
   "metadata": {},
   "source": [
    "## Distribution of user profiles"
   ]
  },
  {
   "cell_type": "code",
   "execution_count": 50,
   "id": "a8cfc299",
   "metadata": {},
   "outputs": [
    {
     "data": {
      "text/plain": [
       "Postdoc                 0.447285\n",
       "Academic unspecified    0.248608\n",
       "Promovierende           0.091586\n",
       "Prof                    0.076155\n",
       "Bot                     0.034989\n",
       "Media                   0.027615\n",
       "Student                 0.022951\n",
       "Institution             0.016823\n",
       "Union rep               0.013576\n",
       "Political rep           0.008985\n",
       "Jun. prof               0.007813\n",
       "Teacher                 0.003492\n",
       "Medical doctor          0.000122\n",
       "Name: user.group, dtype: float64"
      ]
     },
     "execution_count": 50,
     "metadata": {},
     "output_type": "execute_result"
    }
   ],
   "source": [
    "df_no_bots = df_date.loc[(df_date['user.group']!='Bot')& (df_date['user.group']!='Academic unspecified')]\n",
    "df_june_no_bots = df_june.loc[(df_june['user.group']!='Bot')& (df_june['user.group']!='Academic unspecified')]\n",
    "df_july_no_bots = df_july.loc[(df_july['user.group']!='Bot')& (df_july['user.group']!='Academic unspecified')]\n",
    "df_august_no_bots = df_august.loc[(df_august['user.group']!='Bot')& (df_august['user.group']!='Academic unspecified')]\n",
    "df_september_no_bots = df_september.loc[(df_september['user.group']!='Bot')& (df_september['user.group']!='Academic unspecified')]\n",
    "df_date['user.group'].value_counts()/40956"
   ]
  },
  {
   "cell_type": "code",
   "execution_count": 47,
   "id": "3e3271ea",
   "metadata": {},
   "outputs": [
    {
     "data": {
      "text/plain": [
       "Academic unspecified    0.361422\n",
       "Postdoc                 0.213867\n",
       "Promovierende           0.143822\n",
       "Prof                    0.112889\n",
       "Media                   0.052267\n",
       "Student                 0.050133\n",
       "Political rep           0.019911\n",
       "Teacher                 0.014578\n",
       "Institution             0.010667\n",
       "Union rep               0.009244\n",
       "Jun. prof               0.006044\n",
       "Bot                     0.004622\n",
       "Medical doctor          0.000533\n",
       "Name: user.group, dtype: float64"
      ]
     },
     "execution_count": 47,
     "metadata": {},
     "output_type": "execute_result"
    }
   ],
   "source": [
    "unique_users = df_date.drop_duplicates('author.username')\n",
    "unique_users['user.group'].value_counts()/5625"
   ]
  },
  {
   "cell_type": "code",
   "execution_count": 44,
   "id": "d325ac63",
   "metadata": {},
   "outputs": [
    {
     "data": {
      "text/plain": [
       "array(['diballestero', 'schuh_melissa', 'TimTheRose', ...,\n",
       "       'HetEconVienna', 'heinekenuwe', 'ProfCha0s84'], dtype=object)"
      ]
     },
     "execution_count": 44,
     "metadata": {},
     "output_type": "execute_result"
    }
   ],
   "source": []
  },
  {
   "cell_type": "code",
   "execution_count": 33,
   "id": "2313e8c5",
   "metadata": {},
   "outputs": [
    {
     "data": {
      "image/png": "[encoded data removed]",
      "text/plain": [
       "<Figure size 432x288 with 1 Axes>"
      ]
     },
     "metadata": {
      "needs_background": "light"
     },
     "output_type": "display_data"
    }
   ],
   "source": [
    "#whole data set\n",
    "df_no_bots['user.group'].hist()\n",
    "plt.title('User profile distribution of all tweets')\n",
    "plt.xlabel('User group')\n",
    "plt.xticks(rotation='vertical')\n",
    "plt.show()"
   ]
  },
  {
   "cell_type": "markdown",
   "id": "0c284f21",
   "metadata": {},
   "source": [
    "To get a broader picture and see if the participants of the discussion changed over time, the distribution is also shown for the single months"
   ]
  },
  {
   "cell_type": "code",
   "execution_count": 51,
   "id": "b0ef6c5a",
   "metadata": {},
   "outputs": [
    {
     "data": {
      "text/plain": [
       "Postdoc                 0.266762\n",
       "Academic unspecified    0.159053\n",
       "Promovierende           0.061544\n",
       "Prof                    0.053707\n",
       "Media                   0.019539\n",
       "Bot                     0.018707\n",
       "Student                 0.017070\n",
       "Institution             0.008965\n",
       "Political rep           0.007086\n",
       "Union rep               0.006656\n",
       "Jun. prof               0.005932\n",
       "Teacher                 0.002818\n",
       "Medical doctor          0.000134\n",
       "Name: user.group, dtype: float64"
      ]
     },
     "execution_count": 51,
     "metadata": {},
     "output_type": "execute_result"
    }
   ],
   "source": [
    "df_june['user.group'].value_counts()/len(df_june)"
   ]
  },
  {
   "cell_type": "code",
   "execution_count": 35,
   "id": "eb5811a7",
   "metadata": {},
   "outputs": [
    {
     "data": {
      "image/png": "[encoded data removed]",
      "text/plain": [
       "<Figure size 432x288 with 1 Axes>"
      ]
     },
     "metadata": {
      "needs_background": "light"
     },
     "output_type": "display_data"
    }
   ],
   "source": [
    "#distribution in June\n",
    "df_june_no_bots['user.group'].hist()\n",
    "plt.title('User profile distribution in June')\n",
    "plt.xlabel('User group')\n",
    "plt.xticks(rotation='vertical')\n",
    "plt.show()"
   ]
  },
  {
   "cell_type": "code",
   "execution_count": 52,
   "id": "0627cda1",
   "metadata": {},
   "outputs": [
    {
     "data": {
      "text/plain": [
       "Postdoc                 0.332283\n",
       "Academic unspecified    0.190441\n",
       "Promovierende           0.063187\n",
       "Prof                    0.055857\n",
       "Bot                     0.034233\n",
       "Media                   0.017593\n",
       "Institution             0.015027\n",
       "Student                 0.013854\n",
       "Union rep               0.009090\n",
       "Jun. prof               0.004325\n",
       "Political rep           0.004178\n",
       "Teacher                 0.002199\n",
       "Name: user.group, dtype: float64"
      ]
     },
     "execution_count": 52,
     "metadata": {},
     "output_type": "execute_result"
    }
   ],
   "source": [
    "df_july['user.group'].value_counts()/len(df_july)"
   ]
  },
  {
   "cell_type": "code",
   "execution_count": 37,
   "id": "ebd2551c",
   "metadata": {},
   "outputs": [
    {
     "data": {
      "image/png": "[encoded data removed]",
      "text/plain": [
       "<Figure size 432x288 with 1 Axes>"
      ]
     },
     "metadata": {
      "needs_background": "light"
     },
     "output_type": "display_data"
    }
   ],
   "source": [
    "#distribution in July\n",
    "df_july_no_bots['user.group'].hist()\n",
    "plt.title('User profile distribution in June')\n",
    "plt.xlabel('User group')\n",
    "plt.xticks(rotation='vertical')\n",
    "plt.show()"
   ]
  },
  {
   "cell_type": "code",
   "execution_count": 53,
   "id": "d3643c25",
   "metadata": {},
   "outputs": [
    {
     "data": {
      "text/plain": [
       "Postdoc                 0.383422\n",
       "Academic unspecified    0.165236\n",
       "Promovierende           0.062078\n",
       "Prof                    0.041081\n",
       "Bot                     0.036516\n",
       "Media                   0.016432\n",
       "Union rep               0.013511\n",
       "Student                 0.011868\n",
       "Institution             0.010407\n",
       "Political rep           0.005112\n",
       "Jun. prof               0.004930\n",
       "Teacher                 0.001278\n",
       "Name: user.group, dtype: float64"
      ]
     },
     "execution_count": 53,
     "metadata": {},
     "output_type": "execute_result"
    }
   ],
   "source": [
    "df_august['user.group'].value_counts()/len(df_august)"
   ]
  },
  {
   "cell_type": "code",
   "execution_count": 39,
   "id": "2234798d",
   "metadata": {},
   "outputs": [
    {
     "data": {
      "image/png": "[encoded data removed]",
      "text/plain": [
       "<Figure size 432x288 with 1 Axes>"
      ]
     },
     "metadata": {
      "needs_background": "light"
     },
     "output_type": "display_data"
    }
   ],
   "source": [
    "#distribution in August\n",
    "df_august_no_bots['user.group'].hist()\n",
    "plt.title('User profile distribution in June')\n",
    "plt.xlabel('User group')\n",
    "plt.xticks(rotation='vertical')\n",
    "plt.show()"
   ]
  },
  {
   "cell_type": "code",
   "execution_count": 54,
   "id": "a264b644",
   "metadata": {},
   "outputs": [
    {
     "data": {
      "text/plain": [
       "Postdoc                 0.392144\n",
       "Academic unspecified    0.169024\n",
       "Promovierende           0.057464\n",
       "Prof                    0.029405\n",
       "Union rep               0.024691\n",
       "Institution             0.020875\n",
       "Media                   0.016386\n",
       "Bot                     0.015488\n",
       "Student                 0.011223\n",
       "Political rep           0.004265\n",
       "Jun. prof               0.002918\n",
       "Teacher                 0.000224\n",
       "Name: user.group, dtype: float64"
      ]
     },
     "execution_count": 54,
     "metadata": {},
     "output_type": "execute_result"
    }
   ],
   "source": [
    "df_september['user.group'].value_counts()/len(df_september)"
   ]
  },
  {
   "cell_type": "code",
   "execution_count": 41,
   "id": "973c6911",
   "metadata": {},
   "outputs": [
    {
     "data": {
      "image/png": "[encoded data removed]",
      "text/plain": [
       "<Figure size 432x288 with 1 Axes>"
      ]
     },
     "metadata": {
      "needs_background": "light"
     },
     "output_type": "display_data"
    }
   ],
   "source": [
    "#distribution in August\n",
    "df_september_no_bots['user.group'].hist()\n",
    "plt.title('User profile distribution in June')\n",
    "plt.xlabel('User group')\n",
    "plt.xticks(rotation='vertical')\n",
    "plt.show()"
   ]
  },
  {
   "cell_type": "markdown",
   "id": "37ca2e7a",
   "metadata": {},
   "source": [
    "## Updated Data Set"
   ]
  },
  {
   "cell_type": "markdown",
   "id": "1c48141a",
   "metadata": {},
   "source": [
    "The data set was updated to include tweets until April 2022 and the same analysis is performed on the newly obtained tweets to detect further events"
   ]
  },
  {
   "cell_type": "code",
   "execution_count": 8,
   "id": "8baf7fd9",
   "metadata": {},
   "outputs": [],
   "source": [
    "df_new = pd.read_csv ('data/tweets/IchBinHanna_updated.csv')"
   ]
  },
  {
   "cell_type": "code",
   "execution_count": 9,
   "id": "4213904f",
   "metadata": {},
   "outputs": [],
   "source": [
    "#only keep tweets from 01/06/2021 - 30/09/2021\n",
    "df_new['date'] = pd.to_datetime(df_new['created_at']).dt.strftime('%Y-%m-%d %H:%M:%S')\n",
    "df_new_date = df_new.loc[(df_new['date'] > '2021-10-01 00:00:00') & (df_new['date'] <= '2022-04-14 23:59:59')]"
   ]
  },
  {
   "cell_type": "code",
   "execution_count": 10,
   "id": "beb316d1",
   "metadata": {},
   "outputs": [
    {
     "name": "stdout",
     "output_type": "stream",
     "text": [
      "21291\n",
      "4963\n"
     ]
    }
   ],
   "source": [
    "#number of total tweets\n",
    "print(df_new_date.shape[0])\n",
    "#number of total unique users\n",
    "print(len(pd.unique(df_new_date['author.username'])))"
   ]
  },
  {
   "cell_type": "code",
   "execution_count": 11,
   "id": "6285a787",
   "metadata": {},
   "outputs": [
    {
     "name": "stdout",
     "output_type": "stream",
     "text": [
      "21247\n"
     ]
    }
   ],
   "source": [
    "print(len(pd.unique(df_new_date['id'])))\n",
    "df_new_date = df_new_date.drop_duplicates(subset = ['id'])"
   ]
  },
  {
   "cell_type": "code",
   "execution_count": 12,
   "id": "aaf1a5fd",
   "metadata": {},
   "outputs": [
    {
     "name": "stdout",
     "output_type": "stream",
     "text": [
      "21247\n",
      "4963\n"
     ]
    }
   ],
   "source": [
    "#number of total tweets\n",
    "print(df_new_date.shape[0])\n",
    "#number of total unique users\n",
    "print(len(pd.unique(df_new_date['author.username'])))"
   ]
  },
  {
   "cell_type": "code",
   "execution_count": 13,
   "id": "cfb1bc03",
   "metadata": {
    "scrolled": true
   },
   "outputs": [
    {
     "name": "stdout",
     "output_type": "stream",
     "text": [
      "de     18250\n",
      "en      1742\n",
      "und     1148\n",
      "fr        25\n",
      "es        17\n",
      "no        12\n",
      "in        10\n",
      "ht         8\n",
      "lt         7\n",
      "da         5\n",
      "tr         5\n",
      "it         3\n",
      "cs         3\n",
      "ko         2\n",
      "is         2\n",
      "pt         2\n",
      "nl         2\n",
      "fi         1\n",
      "ro         1\n",
      "et         1\n",
      "cy         1\n",
      "Name: lang, dtype: int64\n"
     ]
    }
   ],
   "source": [
    "print(df_new_date['lang'].value_counts())"
   ]
  },
  {
   "cell_type": "code",
   "execution_count": 14,
   "id": "394bf6ea",
   "metadata": {},
   "outputs": [],
   "source": [
    "df_new_date = df_new_date.loc[(df_new_date['lang'] == \"de\") | (df_new_date['lang'] == \"en\")]"
   ]
  },
  {
   "cell_type": "code",
   "execution_count": 15,
   "id": "a4aeceb7",
   "metadata": {
    "scrolled": true
   },
   "outputs": [
    {
     "name": "stdout",
     "output_type": "stream",
     "text": [
      "19992\n",
      "4708\n",
      "author.created_at                        19992\n",
      "author.description                       19253\n",
      "author.id                                19992\n",
      "author.location                          12754\n",
      "author.name                              19992\n",
      "author.public_metrics.followers_count    19992\n",
      "author.public_metrics.following_count    19992\n",
      "author.public_metrics.listed_count       19992\n",
      "author.public_metrics.tweet_count        19992\n",
      "author.username                          19992\n",
      "conversation_id                          19992\n",
      "created_at                               19992\n",
      "id                                       19992\n",
      "lang                                     19992\n",
      "public_metrics.like_count                19992\n",
      "public_metrics.quote_count               19992\n",
      "public_metrics.reply_count               19992\n",
      "public_metrics.retweet_count             19992\n",
      "text                                     19992\n",
      "reference_type                           19992\n",
      "date                                     19992\n",
      "dtype: int64\n"
     ]
    }
   ],
   "source": [
    "#number of remaining tweets\n",
    "print(df_new_date.shape[0])\n",
    "#number of remaining unique users\n",
    "print(len(pd.unique(df_new_date['author.id'])))\n",
    "#overview over \"missing values\"\n",
    "print(df_new_date.count())"
   ]
  },
  {
   "cell_type": "code",
   "execution_count": 16,
   "id": "057d3dc5",
   "metadata": {},
   "outputs": [
    {
     "data": {
      "text/plain": [
       "<AxesSubplot:xlabel='week'>"
      ]
     },
     "execution_count": 16,
     "metadata": {},
     "output_type": "execute_result"
    },
    {
     "data": {
      "image/png": "[encoded data removed]",
      "text/plain": [
       "<Figure size 432x288 with 1 Axes>"
      ]
     },
     "metadata": {
      "needs_background": "light"
     },
     "output_type": "display_data"
    }
   ],
   "source": [
    "week_groups = df_new_date.groupby([pd.to_datetime(df_new_date['date']).dt.isocalendar().week]).size()\n",
    "week_groups.plot(kind='bar', legend = False)"
   ]
  },
  {
   "cell_type": "code",
   "execution_count": 17,
   "id": "785a4081",
   "metadata": {},
   "outputs": [],
   "source": [
    "df_new_oct = df_new_date.loc[(df_new_date['date'] > '2021-10-01 00:00:00') & (df_new_date['date'] <= '2021-10-31 23:59:59')]\n",
    "df_new_nov = df_new_date.loc[(df_new_date['date'] > '2021-11-01 00:00:00') & (df_new_date['date'] <= '2021-11-30 23:59:59')]\n",
    "df_new_dec = df_new_date.loc[(df_new_date['date'] > '2021-12-01 00:00:00') & (df_new_date['date'] <= '2021-12-31 23:59:59')]\n",
    "df_new_jan = df_new_date.loc[(df_new_date['date'] > '2022-01-01 00:00:00') & (df_new_date['date'] <= '2022-01-31 23:59:59')]\n",
    "df_new_feb = df_new_date.loc[(df_new_date['date'] > '2022-02-01 00:00:00') & (df_new_date['date'] <= '2022-02-28 23:59:59')]\n",
    "df_new_mar = df_new_date.loc[(df_new_date['date'] > '2022-03-01 00:00:00') & (df_new_date['date'] <= '2022-03-31 23:59:59')]\n",
    "df_new_apr = df_new_date.loc[(df_new_date['date'] > '2022-04-01 00:00:00') & (df_new_date['date'] <= '2022-04-14 23:59:59')]\n",
    "oct_groups = df_new_oct.groupby([pd.to_datetime(df_new_oct['date']).dt.day]).size()\n",
    "nov_groups = df_new_nov.groupby([pd.to_datetime(df_new_nov['date']).dt.day]).size()\n",
    "dec_groups = df_new_dec.groupby([pd.to_datetime(df_new_dec['date']).dt.day]).size()\n",
    "jan_groups = df_new_jan.groupby([pd.to_datetime(df_new_jan['date']).dt.day]).size()\n",
    "feb_groups = df_new_feb.groupby([pd.to_datetime(df_new_feb['date']).dt.day]).size()\n",
    "mar_groups = df_new_mar.groupby([pd.to_datetime(df_new_mar['date']).dt.day]).size()\n",
    "apr_groups = df_new_apr.groupby([pd.to_datetime(df_new_apr['date']).dt.day]).size()"
   ]
  },
  {
   "cell_type": "code",
   "execution_count": 18,
   "id": "f2ed589c",
   "metadata": {},
   "outputs": [
    {
     "data": {
      "text/plain": [
       "<AxesSubplot:xlabel='date'>"
      ]
     },
     "execution_count": 18,
     "metadata": {},
     "output_type": "execute_result"
    },
    {
     "data": {
      "image/png": "[encoded data removed]",
      "text/plain": [
       "<Figure size 432x288 with 2 Axes>"
      ]
     },
     "metadata": {
      "needs_background": "light"
     },
     "output_type": "display_data"
    }
   ],
   "source": [
    "plt.subplot(1, 2, 1)\n",
    "oct_groups.plot(kind='bar', legend = False)\n",
    "plt.subplot(1, 2, 2)\n",
    "nov_groups.plot(kind='bar', legend = False)"
   ]
  },
  {
   "cell_type": "code",
   "execution_count": 19,
   "id": "3e83b6d1",
   "metadata": {},
   "outputs": [
    {
     "data": {
      "text/plain": [
       "<AxesSubplot:xlabel='date'>"
      ]
     },
     "execution_count": 19,
     "metadata": {},
     "output_type": "execute_result"
    },
    {
     "data": {
      "image/png": "[encoded data removed]",
      "text/plain": [
       "<Figure size 432x288 with 2 Axes>"
      ]
     },
     "metadata": {
      "needs_background": "light"
     },
     "output_type": "display_data"
    }
   ],
   "source": [
    "plt.subplot(1, 2, 1)\n",
    "dec_groups.plot(kind='bar', legend = False)\n",
    "plt.subplot(1, 2, 2)\n",
    "jan_groups.plot(kind='bar', legend = False)"
   ]
  },
  {
   "cell_type": "code",
   "execution_count": 20,
   "id": "d2d30b4e",
   "metadata": {},
   "outputs": [
    {
     "data": {
      "text/plain": [
       "<AxesSubplot:xlabel='date'>"
      ]
     },
     "execution_count": 20,
     "metadata": {},
     "output_type": "execute_result"
    },
    {
     "data": {
      "image/png": "[encoded data removed]",
      "text/plain": [
       "<Figure size 432x288 with 2 Axes>"
      ]
     },
     "metadata": {
      "needs_background": "light"
     },
     "output_type": "display_data"
    }
   ],
   "source": [
    "plt.subplot(1, 2, 1)\n",
    "feb_groups.plot(kind='bar', legend = False)\n",
    "plt.subplot(1, 2, 2)\n",
    "mar_groups.plot(kind='bar', legend = False)"
   ]
  },
  {
   "cell_type": "code",
   "execution_count": 21,
   "id": "e9b6852f",
   "metadata": {},
   "outputs": [
    {
     "data": {
      "text/plain": [
       "<AxesSubplot:xlabel='date'>"
      ]
     },
     "execution_count": 21,
     "metadata": {},
     "output_type": "execute_result"
    },
    {
     "data": {
      "image/png": "[encoded data removed]",
      "text/plain": [
       "<Figure size 432x288 with 1 Axes>"
      ]
     },
     "metadata": {
      "needs_background": "light"
     },
     "output_type": "display_data"
    }
   ],
   "source": [
    "apr_groups.plot(kind='bar', legend = False)"
   ]
  },
  {
   "cell_type": "code",
   "execution_count": 23,
   "id": "f366c198",
   "metadata": {},
   "outputs": [],
   "source": [
    "#First step: process the raw text data\n",
    "#remove linebreaks separately\n",
    "df_new_date['processed text'] = df_new_date['text'].replace(r'\\\\n',  ' ', regex=True)\n",
    "#function to remove URLs, punctuation, @ etc. (source: https://www.earthdatascience.org/courses/use-data-open-source-python/intro-to-apis/calculate-tweet-word-frequencies-in-python/)\n",
    "def rem_url(tweet):\n",
    "     return \" \".join(re.sub(\"([^0-9A-Za-zßäöü \\t])|(\\w+:\\/\\/\\S+)\", \" \", tweet).split())\n",
    "df_new_date['processed text'] = df_new_date['processed text'].apply(rem_url)"
   ]
  },
  {
   "cell_type": "code",
   "execution_count": 24,
   "id": "63fedb2b",
   "metadata": {},
   "outputs": [],
   "source": [
    "#lowercases and tokenize text\n",
    "df_new_date['processed text'] = df_new_date['processed text'].str.lower().str.split()"
   ]
  },
  {
   "cell_type": "code",
   "execution_count": 26,
   "id": "5e248984",
   "metadata": {},
   "outputs": [
    {
     "name": "stderr",
     "output_type": "stream",
     "text": [
      "[nltk_data] Downloading package stopwords to\n",
      "[nltk_data]     C:\\Users\\Admin\\AppData\\Roaming\\nltk_data...\n",
      "[nltk_data]   Package stopwords is already up-to-date!\n"
     ]
    }
   ],
   "source": [
    "#remove german and english stopwords (separately for the given language of a tweet)\n",
    "nltk.download(\"stopwords\")\n",
    "german_stop = set(stopwords.words('german'))\n",
    "english_stop = set(stopwords.words('english'))\n",
    "df_new_date['processed w/o stopwords'] = df_new_date[['processed text','lang']].apply(lambda x: ' '.join([word for word in x['processed text'] if word not in (english_stop)]).split() if x['lang'] == 'en' else ' '.join([word for word in x['processed text'] if word not in (german_stop)]).split(),axis=1)"
   ]
  },
  {
   "cell_type": "code",
   "execution_count": 27,
   "id": "6abdc60b",
   "metadata": {},
   "outputs": [],
   "source": [
    "#remove all words consisting of only one character (isn'\"t\", it'\"s\" etc.)\n",
    "df_new_date['processed w/o stopwords'] = df_new_date['processed w/o stopwords'].apply(lambda x: [word for word in x if len(word) > 2])"
   ]
  },
  {
   "cell_type": "code",
   "execution_count": 30,
   "id": "d3e0e34e",
   "metadata": {},
   "outputs": [],
   "source": [
    "#remove additional stopwords encountered (like \"innen\" which occurs because of gendering in german), as well as the hashtag itself, rt etc.\n",
    "add_stop_all = [\"rt\", \"ichbinhanna\", \"hanna\", \"amp\"]\n",
    "add_stop_ger = [\"mehr\", \"mal\", \"innen\", \"ja\", \"schon\"]\n",
    "add_stop_en = []\n",
    "df_new_date['processed w/o stopwords'] = df_new_date[['processed w/o stopwords','lang']].apply(lambda x: ' '.join([word for word in x['processed w/o stopwords'] if word not in (add_stop_all) and word not in  (add_stop_en)]).split() if x['lang'] == 'en' else ' '.join([word for word in x['processed w/o stopwords'] if word not in (add_stop_all) and word not in  (add_stop_ger)]).split(),axis=1)"
   ]
  },
  {
   "cell_type": "code",
   "execution_count": 31,
   "id": "f1cdabff",
   "metadata": {
    "scrolled": true
   },
   "outputs": [
    {
     "data": {
      "text/plain": [
       "[('amreibahr', 4134),\n",
       " ('ichbinreyhan', 2196),\n",
       " ('wissenschaft', 1592),\n",
       " ('gut', 1200),\n",
       " ('buch', 1178),\n",
       " ('suhrkamp', 1108),\n",
       " ('initiative', 1072),\n",
       " ('heute', 1035),\n",
       " ('drkeichhorn', 1029),\n",
       " ('tweet', 1013),\n",
       " ('kaum', 970),\n",
       " ('monate', 967),\n",
       " ('halten', 928),\n",
       " ('bund', 904),\n",
       " ('glauben', 875),\n",
       " ('händen', 872),\n",
       " ('gew', 855),\n",
       " ('sebastiankubon', 754),\n",
       " ('geht', 749),\n",
       " ('uni', 680),\n",
       " ('wisssystemfehler', 665),\n",
       " ('gibt', 652),\n",
       " ('ichbinhannah', 607),\n",
       " ('jenniferhenkehb', 597),\n",
       " ('arbeitsbedingungen', 588)]"
      ]
     },
     "execution_count": 31,
     "metadata": {},
     "output_type": "execute_result"
    }
   ],
   "source": [
    "#most frequent words overall\n",
    "all_words = list(itertools.chain(*df_new_date['processed w/o stopwords']))\n",
    "total_word_count = collections.Counter(all_words)\n",
    "total_word_count.most_common(25)"
   ]
  },
  {
   "cell_type": "code",
   "execution_count": 36,
   "id": "76626ef5",
   "metadata": {},
   "outputs": [],
   "source": [
    "#get most frequent terms for days with highest tweet volume per month\n",
    "def words_per_day(df,start,end,date):    \n",
    "    current_day = df.loc[(df['date'] > start ) & (df['date'] <= end)]\n",
    "    daily_words = list(itertools.chain(*current_day['processed w/o stopwords']))\n",
    "    daily_word_count = collections.Counter(daily_words)\n",
    "    print(\"{0}:\\n{1}\".format(date,daily_word_count.most_common(25)))"
   ]
  },
  {
   "cell_type": "code",
   "execution_count": 41,
   "id": "51f4c4b8",
   "metadata": {
    "scrolled": true
   },
   "outputs": [
    {
     "name": "stdout",
     "output_type": "stream",
     "text": [
      "25.10.:\n",
      "[('amreibahr', 148), ('anträge', 108), ('mehrfach', 103), ('daran', 103), ('gescheitert', 103), ('großes', 103), ('drittmittelprojekt', 101), ('einzuwerben', 101), ('umfangreiche', 101), ('wisssystemfehler', 45), ('ichbinreyhan', 31), ('drkeichhorn', 25), ('falls', 19), ('situation', 19), ('qualität', 19), ('jemand', 17), ('fragt', 17), ('studiums', 17), ('auswirkt', 17), ('ichbinhannah', 17), ('bund', 16), ('köln', 15), ('gew', 15), ('bahnhofsvorplatz', 14), ('donnerstag', 13)]\n",
      "05.10.:\n",
      "[('amreibahr', 32), ('vhdresolution', 31), ('ichbinreyhan', 29), ('gibt', 26), ('frage', 25), ('unterstützen', 23), ('diskussion', 23), ('wissenschaft', 23), ('histag21', 22), ('befristung', 20), ('ichbinhannah', 19), ('brief', 18), ('kampagne', 18), ('dabei', 18), ('stelle', 18), ('giub', 16), ('research', 16), ('öffentlichen', 15), ('professur', 14), ('mitarbeiter', 14), ('wiss', 13), ('hrk', 13), ('aktuell', 13), ('nga', 13), ('bene', 13)]\n",
      "11.10.:\n",
      "[('amreibahr', 69), ('hochschulen', 54), ('tvstud', 40), ('individuell', 37), ('fehlt', 37), ('institutionell', 36), ('nötigen', 36), ('finanzierung', 36), ('zig', 36), ('forschung', 36), ('drittmittela', 35), ('wisssystemfehler', 25), ('hamburg', 23), ('nochmal', 19), ('muß', 19), ('thema', 18), ('starke', 18), ('fokussierung', 18), ('drittmittel', 18), ('forschungsginanzierung', 18), ('wiase', 18), ('wurde', 15), ('kurzzeit', 15), ('projekte', 15), ('kurze', 15)]\n",
      "12.10.:\n",
      "[('amreibahr', 67), ('kämpfen', 40), ('hochschulen', 35), ('hamburg', 30), ('unis', 22), ('uni', 21), ('protest', 21), ('exzellenz', 20), ('forschende', 20), ('existenz', 20), ('verwechseln', 20), ('besetzen', 19), ('hörsaal', 19), ('beschäftigte', 19), ('sebwilken', 19), ('arbeit', 18), ('studierende', 18), ('gew', 17), ('ichbinreyhan', 16), ('bund', 15), ('wisssystemfehler', 15), ('tvstud', 15), ('spiegel', 15), ('lehre', 14), ('dasgewinnenwir', 13)]\n",
      "06.10.:\n",
      "[('amreibahr', 45), ('heute', 23), ('bringt', 21), ('status', 21), ('all', 21), ('quo', 20), ('wissenschaftssystems', 20), ('wanken', 20), ('toxischen', 20), ('narrative', 20), ('uni', 19), ('leistu', 19), ('ichbinreyhan', 17), ('viele', 16), ('kommt', 16), ('professur', 15), ('bedeutet', 14), ('vertrag', 14), ('wiss', 14), ('vhdresolution', 14), ('wissenschaft', 13), ('neues', 13), ('semester', 13), ('neuer', 13), ('wohnung', 13)]\n",
      "17.11.:\n",
      "[('gew', 160), ('aktionskonferenz', 143), ('bund', 122), ('ichbinreyhan', 99), ('heute', 78), ('dauerstellen', 77), ('ladybitchray1', 69), ('akellergew', 53), ('wisszeitvg', 35), ('daueraufgaben', 35), ('live', 28), ('ist', 28), ('ergänzend', 27), ('diskriminierenden', 27), ('rassistischen', 27), ('sexistischen', 27), ('strukturen', 27), ('wer', 27), ('sebastiankubon', 27), ('wisssystemfehler', 27), ('amreibahr', 27), ('system', 26), ('vorko', 26), ('vielen', 24), ('geschafft', 23)]\n",
      "24.11.:\n",
      "[('koalitionsvertrag', 229), ('amreibahr', 175), ('forderungen', 158), ('drin', 150), ('vertragslaufzeiten', 150), ('gesamte', 150), ('promotion', 150), ('wissenschaft', 48), ('fdp', 36), ('gibt', 29), ('kommen', 28), ('viele', 28), ('punkte', 28), ('etappensieg', 27), ('kritische', 27), ('zusammen', 27), ('thema', 27), ('machtmissbrauch', 27), ('bund', 26), ('spezifisch', 26), ('annikaspahn', 26), ('wisszeitvg', 22), ('bmbf', 21), ('ichbinreyhan', 21), ('wichtiger', 20)]\n",
      "16.11.:\n",
      "[('tvstud', 54), ('frististfrust', 51), ('gewsachsen', 42), ('mittelbaule', 40), ('geht', 40), ('dasgewinnenwir', 35), ('streik', 33), ('jmwiarda', 29), ('heute', 28), ('gew', 28), ('bund', 27), ('akellergew', 27), ('leipzig', 26), ('mittelbau', 26), ('aktionskonferenz', 26), ('grüße', 25), ('druck', 24), ('ichbinreyhan', 24), ('universitäten', 22), ('reagieren', 22), ('vollversammlung', 22), ('handlungsbereitschaft', 21), ('setzt', 21), ('rektoren', 20), ('hochschulen', 20)]\n",
      "01.11.:\n",
      "[('drkeichhorn', 52), ('amreibahr', 45), ('jherzstiftung', 30), ('wissenschaft', 25), ('debatte', 24), ('wisssystemfehler', 21), ('geht', 20), ('neue', 19), ('diskutiert', 18), ('nga', 18), ('wiss', 18), ('anja', 17), ('steinbeck', 17), ('gibt', 17), ('bund', 17), ('heckmannlea', 16), ('postdocs', 16), ('gew', 15), ('95vswisszeitvg', 15), ('ichbinreyhan', 14), ('rücktritt', 13), ('juni', 13), ('2021', 13), ('allerersten', 13), ('tweet', 13)]\n",
      "04.11.:\n",
      "[('verwaltung', 75), ('prof', 44), ('heute', 42), ('teilt', 42), ('socialdiginomad', 41), ('ende', 39), ('ruft', 37), ('fehlt', 37), ('sitzung', 37), ('vertragsend', 36), ('amreibahr', 31), ('deutschland', 19), ('wissenschaft', 17), ('diskutiert', 15), ('ganz', 15), ('faz', 14), ('sätze', 14), ('dissertationen', 14), ('sinnlos', 14), ('zusammenha', 13), ('solidarität', 12), ('tvstud', 12), ('ichbinhannah', 12), ('tun', 11), ('hochschulen', 11)]\n",
      "31.12.:\n",
      "[('amreibahr', 102), ('seit', 64), ('initiative', 60), ('wissenschaftspolitik', 57), ('vorher', 57), ('highlights', 56), ('unserer', 55), ('pre', 54), ('drkeichhorn', 31), ('sebastiankubon', 31), ('ichbinreyhan', 26), ('2022', 25), ('2021', 19), ('danke', 15), ('jahr', 13), ('tweets', 11), ('stellen', 11), ('wünsche', 11), ('jenniferhenkehb', 11), ('twitter', 10), ('hilmarpreu', 10), ('cmplxtv', 10), ('studies', 10), ('humboldtuni', 10), ('bund', 9)]\n",
      "10.12.:\n",
      "[('heute', 106), ('amreibahr', 105), ('jahr', 104), ('alt', 103), ('schöne', 97), ('gelegenheit', 97), ('bislang', 97), ('erreichte', 97), ('zurückzublicken', 97), ('drlutzboehm', 22), ('ichbinreyhan', 11), ('vieles', 10), ('drkeichhorn', 9), ('sebastiankubon', 9), ('braucht', 9), ('viele', 9), ('darum', 9), ('wurde', 9), ('zwei', 9), ('lesen', 9), ('müssen', 9), ('hochschule', 9), ('geht', 8), ('leute', 8), ('socialdiginomad', 8)]\n",
      "14.12.:\n",
      "[('liebe', 89), ('nachwuchs', 75), ('eigenen', 38), ('dbellingradt', 38), ('kindern', 37), ('wer', 37), ('wissenschaftlicher', 37), ('hoffentlichen', 37), ('berufung', 37), ('amreibahr', 35), ('hochschulen', 33), ('profs', 23), ('studierende', 22), ('verwaltungsmitarbeiter', 22), ('maßnahme', 21), ('hessen', 15), ('heute', 12), ('ichbinreyhan', 8), ('kodex', 8), ('pvbebenburg', 8), ('erfolg', 8), ('gilt', 8), ('dauerstellen', 8), ('daueraufgaben', 8), ('schauen', 8)]\n",
      "03.12.:\n",
      "[('uhr', 52), ('heute', 38), ('podiumsdiskussion', 36), ('amreibahr', 34), ('situation', 29), ('sebastiankubon', 19), ('neurobarbara', 18), ('hierarchien', 15), ('abhängigkeitsverhältnisse', 15), ('prekäre', 15), ('begünstigen', 15), ('personen', 15), ('machtpositionen', 15), ('reden', 15), ('realsci', 15), ('kontext', 15), ('aufgezeichnet', 14), ('youtube', 14), ('gestellt', 14), ('karrierewege', 13), ('spreche', 12), ('außerhalb', 12), ('universität', 12), ('christiane', 12), ('pyka', 12)]\n",
      "02.12.:\n",
      "[('amreibahr', 24), ('pandemie', 23), ('seit', 16), ('ichbinreyhan', 16), ('persönlichen', 12), ('einsatz', 12), ('wäre', 12), ('hochschulbetrieb', 12), ('zusammengebrochen', 12), ('bedeutet', 11), ('bund', 10), ('selbstausbeutung', 10), ('dauerüberarbeitung', 10), ('belastungsgrenze', 10), ('trainiert', 10), ('grade', 10), ('gefragt', 10), ('anleitung', 10), ('socialdiginomad', 10), ('liebe', 9), ('gew', 9), ('strapa', 9), ('leute', 8), ('uni', 8), ('gute', 8)]\n",
      "17.01.:\n",
      "[('dgps', 238), ('berlin', 125), ('tenure', 123), ('track', 90), ('befristung', 84), ('positionspapier', 84), ('anstatt', 83), ('vorstands', 80), ('zukunft', 80), ('haushaltsfinanzierter', 80), ('post', 80), ('fordert', 40), ('einrichtung', 39), ('vorstand', 36), ('großer', 35), ('tag', 34), ('stellungnahme', 34), ('jumis', 34), ('trending', 27), ('germany', 27), ('wondering', 27), ('last', 27), ('august', 27), ('naturehumbehav', 27), ('samanthaantusch', 26)]\n",
      "04.01.:\n",
      "[('amreibahr', 35), ('sws', 28), ('ichbinreyhan', 27), ('jenniferhenkehb', 22), ('bmbf', 18), ('arbeiten', 17), ('extrem', 17), ('profs', 16), ('heute', 14), ('wow', 14), ('stelle', 14), ('gehalt', 14), ('unbefristet', 14), ('bund', 14), ('jahr', 14), ('teile', 13), ('beitrag', 13), ('ten', 13), ('wichtig', 13), ('best', 13), ('quotes', 13), ('sonjdol', 13), ('mus', 13), ('ichbinre', 12), ('gibt', 11)]\n",
      "10.01.:\n",
      "[('amreibahr', 35), ('ichbinreyhan', 23), ('jahr', 22), ('uni', 22), ('asta', 21), ('stellungnahme', 19), ('prekäre', 19), ('wissenschaft', 18), ('arbeitsverhältnis', 18), ('neues', 17), ('wissenschaftsprekariat', 15), ('beschäftigungsverhältnisse', 15), ('hohen', 15), ('befristungsquoten', 15), ('levkeharders', 14), ('pbl', 14), ('blogpost', 13), ('berndbibra', 12), ('neuer', 12), ('blicke', 12), ('zurück', 12), ('erfahrungen', 12), ('wochen', 12), ('heute', 12), ('aufforderung', 11)]\n",
      "13.01.:\n",
      "[('uni', 45), ('gut', 22), ('prekäre', 22), ('arbeit', 22), ('finde', 21), ('ichbinhannah', 21), ('debatte', 21), ('etwa', 21), ('lalalaetc', 21), ('angeregt', 20), ('kassel', 20), ('wissenschaftssystem', 19), ('broxben', 19), ('deutschland', 15), ('symbolbild', 13), ('starkwatzinger', 13), ('ichbinreyhan', 13), ('wisszeitvg', 12), ('gerade', 11), ('forschung', 9), ('weiß', 9), ('kleine', 9), ('thread', 9), ('beitrag', 9), ('vielleicht', 9)]\n",
      "19.01.:\n",
      "[('diballestero', 30), ('account', 21), ('started', 20), ('year', 19), ('ago', 19), ('used', 19), ('heterogeneous', 19), ('group', 19), ('structural', 19), ('inequalities', 19), ('geht', 15), ('heute', 11), ('wisssystemfehler', 10), ('bedingungen', 9), ('mitarbeiter', 8), ('gleichzeitig', 8), ('konkurrent', 8), ('zusammenarbeit', 8), ('überhaupt', 8), ('leider', 8), ('stellen', 8), ('studiodisko', 8), ('ichbinreyhan', 7), ('catavar3', 7), ('unterkomplex', 7)]\n",
      "10.02.:\n",
      "[('maithinkx', 60), ('thema', 58), ('maithi', 57), ('team', 56), ('freuen', 51), ('folge', 51), ('aufgreifen', 51), ('seid', 51), ('amreibahr', 51), ('ichbinreyhan', 39), ('wiss', 35), ('jahre', 16), ('version', 14), ('jobs', 14), ('mitarb', 14), ('drkeichhorn', 12), ('mitarbeiterin', 12), ('befr', 11), ('saliva', 10), ('wissenschaft', 10), ('international', 10), ('karolinedoering', 10), ('wisssystemfehler', 9), ('genau', 8), ('frististfrust', 8)]\n",
      "11.02.:\n",
      "[('amreibahr', 57), ('arbeitsbedingungen', 46), ('kauf', 46), ('wissenschaftssystem', 45), ('lange', 45), ('darauf', 44), ('gesetzt', 44), ('prekäre', 44), ('nimmt', 44), ('wisse', 43), ('ichbinreyhan', 18), ('annika', 13), ('ynachten', 13), ('wissenschaft', 12), ('frauen', 12), ('thema', 12), ('katholisch', 12), ('guten', 12), ('zusammenfassung', 12), ('aktuellen', 12), ('situation', 12), ('falls', 12), ('wiss', 11), ('ichbinhannah', 11), ('iulia', 11)]\n",
      "17.02.:\n",
      "[('ichbinreyhan', 57), ('jenniferhenkehb', 36), ('inspiriert', 32), ('bewegenden', 32), ('anlässlich', 32), ('ucustrikes', 32), ('anbei', 32), ('versuch', 32), ('ver', 31), ('thema', 9), ('realsci', 9), ('wissenschaft', 8), ('heute', 7), ('thread', 7), ('amreibahr', 7), ('warum', 6), ('jahre', 6), ('zuckerpuppen', 5), ('hole', 5), ('kaffee', 5), ('bereite', 5), ('paar', 5), ('tweets', 5), ('hannas', 5), ('glücksspiel', 5)]\n",
      "16.02.:\n",
      "[('ichbinreyhan', 27), ('besten', 25), ('jahre', 25), ('glücksspiel', 24), ('einsatz', 24), ('lebens', 24), ('verzicht', 24), ('familiengründung', 24), ('amreibahr', 24), ('privatlebe', 23), ('wissenschaft', 9), ('braucht', 8), ('lenzen', 8), ('immer', 7), ('geld', 7), ('heute', 6), ('diskussions', 6), ('jour', 6), ('fixe', 6), ('gut', 6), ('stelle', 6), ('gerade', 6), ('gesagt', 6), ('müssen', 6), ('money', 6)]\n",
      "09.02.:\n",
      "[('ichbinreyhan', 26), ('jlugiessen', 21), ('starkwatzinger', 14), ('drkeichhorn', 14), ('wissenschaft', 12), ('interview', 9), ('daueraufgaben', 9), ('nachwuchswissenschaftler', 9), ('nennt', 9), ('sebastiankubon', 9), ('gesicht', 8), ('postdocs', 8), ('jemand', 8), ('nachwuchs', 8), ('morgen', 8), ('bund', 7), ('dauerstellen', 7), ('heute', 7), ('austausch', 7), ('forschung', 7), ('hannaorganisiertsich', 7), ('agehrlach', 7), ('viele', 7), ('wisssystemfehler', 7), ('wisszeitvg', 7)]\n",
      "24.03.:\n",
      "[('suhrkamp', 711), ('amreibahr', 711), ('buch', 706), ('tweet', 697), ('kaum', 693), ('initiative', 693), ('glauben', 692), ('gut', 692), ('monate', 692), ('halten', 692), ('händen', 692), ('sebastiankubon', 19), ('gewinne', 19), ('drkeichhorn', 16), ('wissenschaft', 15), ('ichbinreyhan', 10), ('wer', 10), ('exemplar', 9), ('danke', 9), ('deutschland', 7), ('collective', 7), ('neuerscheinung', 6), ('amrei', 6), ('bahr', 6), ('kristin', 6)]\n",
      "25.03.:\n",
      "[('amreibahr', 128), ('suhrkamp', 120), ('buch', 119), ('tweet', 112), ('kaum', 111), ('glauben', 111), ('gut', 111), ('monate', 111), ('halten', 111), ('initiative', 111), ('händen', 111), ('jmwiarda', 19), ('sebastiankubon', 15), ('menschen', 14), ('drkeichhorn', 14), ('viele', 13), ('gesicht', 13), ('gegeben', 13), ('wissenschaftspolitik', 13), ('verändert', 13), ('veröffentlich', 12), ('briefkasten', 6), ('herzlichen', 6), ('heute', 5), ('gesprochen', 5)]\n",
      "28.03.:\n",
      "[('buch', 72), ('prekäre', 47), ('amreibahr', 47), ('drkeichhorn', 39), ('wissenschaft', 35), ('suhrkamp', 31), ('deutschland', 27), ('initiatoren', 27), ('erklären', 27), ('präzisen', 27), ('polemischen', 27), ('gestern', 24), ('sebastiankubon', 23), ('debatte', 23), ('ichbinreyhan', 22), ('95vswisszeitvg', 21), ('wissenschaftliche', 20), ('laufbahn', 19), ('hashtags', 17), ('personalstruktur', 17), ('beschäftigung', 17), ('deutschen', 17), ('soziopolis', 17), ('kultur', 16), ('erschienen', 15)]\n",
      "29.03.:\n",
      "[('prekäre', 35), ('buch', 34), ('amreibahr', 33), ('wissenschaft', 27), ('initiatoren', 27), ('erklären', 27), ('präzisen', 27), ('polemischen', 27), ('wissenschaftliche', 26), ('laufbahn', 26), ('arbeitsbedingungen', 25), ('ichbinreyhan', 22), ('treffen', 21), ('belastend', 20), ('hannas', 20), ('angehörige', 20), ('partner', 20), ('elt', 19), ('deutschl', 18), ('deutschland', 16), ('drkeichhorn', 14), ('suhrkamp', 10), ('sebastiankubon', 9), ('durfte', 9), ('eigentlich', 9)]\n",
      "26.03.:\n",
      "[('buch', 25), ('amreibahr', 25), ('ichbinreyhan', 22), ('suhrkamp', 22), ('ichbinhannah', 18), ('karolinedoering', 18), ('monate', 16), ('gut', 14), ('halten', 14), ('essenz', 13), ('buches', 13), ('ernsthaft', 13), ('erwarten', 13), ('kaum', 13), ('glauben', 13), ('tweet', 13), ('initiative', 13), ('händen', 13), ('post', 11), ('deutschland', 11), ('leute', 11), ('arbeitsbedingungen', 11), ('schnell', 10), ('lesen', 10), ('schwer', 10)]\n",
      "04.04.:\n",
      "[('maithi', 85), ('wisszeitvg', 52), ('akademiker', 45), ('sagt', 45), ('wem', 43), ('entweder', 43), ('betroffen', 43), ('hält', 43), ('mimimi', 43), ('mehrheit', 43), ('drkeichhorn', 30), ('maithinkx', 28), ('zdf', 28), ('amreibahr', 28), ('liebe', 28), ('sebastiankubon', 27), ('wissenschaft', 27), ('ichbinreyhan', 25), ('bund', 22), ('gut', 20), ('akellergew', 20), ('video', 19), ('arbeitsbedingungen', 19), ('erleben', 19), ('braindrain', 19)]\n",
      "03.04.:\n",
      "[('maithi', 110), ('wisszeitvg', 80), ('sagt', 75), ('akademiker', 72), ('betroffen', 71), ('mimimi', 70), ('wem', 69), ('entweder', 69), ('hält', 69), ('mehrheit', 68), ('wissenschaft', 30), ('maithinkx', 22), ('druck', 16), ('politik', 16), ('informiert', 16), ('steuergeld', 16), ('ichbinreyhan', 16), ('hervorragende', 15), ('empfehlung', 15), ('sorgt', 15), ('amreibahr', 15), ('folge', 14), ('grundmar', 14), ('nic', 14), ('danke', 13)]\n",
      "06.04.:\n",
      "[('maithinkx', 82), ('maithi', 71), ('sebastiankubon', 67), ('mitinitiator', 62), ('fragen', 60), ('mai', 49), ('ask', 48), ('anything', 48), ('beantworten', 48), ('publikum', 48), ('geht', 48), ('wissenschaft', 32), ('amreibahr', 22), ('prekäre', 15), ('folge', 15), ('wissenschaftler', 14), ('prangern', 14), ('arbeitsverhältnisse', 14), ('prekären', 13), ('gegenblende', 13), ('paar', 12), ('wissenscha', 11), ('sendung', 11), ('wunderbare', 10), ('ichbinhannah', 10)]\n",
      "01.04.:\n",
      "[('wissenschaft', 34), ('amreibahr', 22), ('drkeichhorn', 22), ('arbeitsbedingungen', 21), ('berichten', 19), ('unzählige', 19), ('forschende', 19), ('schlechte', 19), ('perspektivlosigkeit', 19), ('wisse', 19), ('jacobinmag', 18), ('buch', 18), ('ichbinreyhan', 13), ('händen', 13), ('wissenschaftssystem', 13), ('hochschulen', 11), ('thesis', 11), ('paar', 11), ('gedanken', 11), ('gegenwärtige', 11), ('bessere', 10), ('suhrkamp', 10), ('endlich', 10), ('kampagne', 10), ('prekarität', 10)]\n",
      "10.04.:\n",
      "[('thread', 30), ('ichbinreyhan', 28), ('drkeichhorn', 25), ('argumente', 18), ('ichbinhannah', 16), ('problem', 15), ('michael', 14), ('gerloff', 14), ('geht', 14), ('argument', 13), ('diskussion', 13), ('geisteswissenschaften', 13), ('dlf', 12), ('gestrigen', 12), ('wichtiger', 12), ('super', 11), ('kunst', 10), ('glaube', 10), ('erneut', 10), ('unbelegte', 10), ('unplausible', 10), ('verteidigung', 10), ('wissenschaft', 9), ('bewegung', 9), ('amreibahr', 9)]\n"
     ]
    }
   ],
   "source": [
    "words_per_day(df_new_date,'2021-10-25 00:00:00', '2021-10-25 23:59:59', '25.10.')\n",
    "words_per_day(df_new_date,'2021-10-05 00:00:00', '2021-10-05 23:59:59', '05.10.')\n",
    "words_per_day(df_new_date,'2021-10-11 00:00:00', '2021-10-11 23:59:59', '11.10.')\n",
    "words_per_day(df_new_date,'2021-10-12 00:00:00', '2021-10-12 23:59:59', '12.10.')\n",
    "words_per_day(df_new_date,'2021-10-06 00:00:00', '2021-10-06 23:59:59', '06.10.')\n",
    "words_per_day(df_new_date,'2021-11-17 00:00:00', '2021-11-17 23:59:59', '17.11.')\n",
    "words_per_day(df_new_date,'2021-11-24 00:00:00', '2021-11-24 23:59:59', '24.11.')\n",
    "words_per_day(df_new_date,'2021-11-16 00:00:00', '2021-11-16 23:59:59', '16.11.')\n",
    "words_per_day(df_new_date,'2021-11-01 00:00:00', '2021-11-01 23:59:59', '01.11.')\n",
    "words_per_day(df_new_date,'2021-11-04 00:00:00', '2021-11-04 23:59:59', '04.11.')\n",
    "words_per_day(df_new_date,'2021-12-31 00:00:00', '2021-12-31 23:59:59', '31.12.')\n",
    "words_per_day(df_new_date,'2021-12-10 00:00:00', '2021-12-10 23:59:59', '10.12.')\n",
    "words_per_day(df_new_date,'2021-12-14 00:00:00', '2021-12-14 23:59:59', '14.12.')\n",
    "words_per_day(df_new_date,'2021-12-03 00:00:00', '2021-12-03 23:59:59', '03.12.')\n",
    "words_per_day(df_new_date,'2021-12-02 00:00:00', '2021-12-02 23:59:59', '02.12.')\n",
    "words_per_day(df_new_date,'2022-01-17 00:00:00', '2022-01-17 23:59:59', '17.01.')\n",
    "words_per_day(df_new_date,'2022-01-04 00:00:00', '2022-01-04 23:59:59', '04.01.')\n",
    "words_per_day(df_new_date,'2022-01-10 00:00:00', '2022-01-10 23:59:59', '10.01.')\n",
    "words_per_day(df_new_date,'2022-01-13 00:00:00', '2022-01-13 23:59:59', '13.01.')\n",
    "words_per_day(df_new_date,'2022-01-19 00:00:00', '2022-01-19 23:59:59', '19.01.')\n",
    "words_per_day(df_new_date,'2022-02-10 00:00:00', '2022-02-10 23:59:59', '10.02.')\n",
    "words_per_day(df_new_date,'2022-02-11 00:00:00', '2022-02-11 23:59:59', '11.02.')\n",
    "words_per_day(df_new_date,'2022-02-17 00:00:00', '2022-02-17 23:59:59', '17.02.')\n",
    "words_per_day(df_new_date,'2022-02-16 00:00:00', '2022-02-16 23:59:59', '16.02.')\n",
    "words_per_day(df_new_date,'2022-02-09 00:00:00', '2022-02-09 23:59:59', '09.02.')\n",
    "words_per_day(df_new_date,'2022-03-24 00:00:00', '2022-03-24 23:59:59', '24.03.')\n",
    "words_per_day(df_new_date,'2022-03-25 00:00:00', '2022-03-25 23:59:59', '25.03.')\n",
    "words_per_day(df_new_date,'2022-03-28 00:00:00', '2022-03-28 23:59:59', '28.03.')\n",
    "words_per_day(df_new_date,'2022-03-29 00:00:00', '2022-03-29 23:59:59', '29.03.')\n",
    "words_per_day(df_new_date,'2022-03-26 00:00:00', '2022-03-26 23:59:59', '26.03.')\n",
    "words_per_day(df_new_date,'2022-04-04 00:00:00', '2022-04-04 23:59:59', '04.04.')\n",
    "words_per_day(df_new_date,'2022-04-03 00:00:00', '2022-04-03 23:59:59', '03.04.')\n",
    "words_per_day(df_new_date,'2022-04-06 00:00:00', '2022-04-06 23:59:59', '06.04.')\n",
    "words_per_day(df_new_date,'2022-04-01 00:00:00', '2022-04-01 23:59:59', '01.04.')\n",
    "words_per_day(df_new_date,'2022-04-10 00:00:00', '2022-04-10 23:59:59', '10.04.')\n"
   ]
  },
  {
   "cell_type": "code",
   "execution_count": 22,
   "id": "692fb728",
   "metadata": {
    "scrolled": true
   },
   "outputs": [
    {
     "name": "stdout",
     "output_type": "stream",
     "text": [
      "Highest activity in October:\n",
      "date\n",
      "25    279\n",
      "5     270\n",
      "11    239\n",
      "12    238\n",
      "6     217\n",
      "8     204\n",
      "26    204\n",
      "4     194\n",
      "30    189\n",
      "14    175\n",
      "dtype: int64\n",
      "Highest activity in November:\n",
      "date\n",
      "17    473\n",
      "24    402\n",
      "16    350\n",
      "1     253\n",
      "4     220\n",
      "10    215\n",
      "8     196\n",
      "23    191\n",
      "18    190\n",
      "2     174\n",
      "dtype: int64\n",
      "Highest activity in December:\n",
      "date\n",
      "31    201\n",
      "10    189\n",
      "14    146\n",
      "3     135\n",
      "2     126\n",
      "11    114\n",
      "15    108\n",
      "16    108\n",
      "6     103\n",
      "30     96\n",
      "dtype: int64\n",
      "Highest activity in January:\n",
      "date\n",
      "17    261\n",
      "4     145\n",
      "10    125\n",
      "13    123\n",
      "19    113\n",
      "14    104\n",
      "11     98\n",
      "31     96\n",
      "18     96\n",
      "21     95\n",
      "dtype: int64\n",
      "Highest activity in February:\n",
      "date\n",
      "10    191\n",
      "11    184\n",
      "17    122\n",
      "16    120\n",
      "9     116\n",
      "15    109\n",
      "18    103\n",
      "1      83\n",
      "4      83\n",
      "7      80\n",
      "dtype: int64\n",
      "Highest activity in March:\n",
      "date\n",
      "24    790\n",
      "25    185\n",
      "28    164\n",
      "29    149\n",
      "26     99\n",
      "31     97\n",
      "18     92\n",
      "1      92\n",
      "30     86\n",
      "19     74\n",
      "dtype: int64\n",
      "Highest activity in April:\n",
      "date\n",
      "4     255\n",
      "3     234\n",
      "6     172\n",
      "1     144\n",
      "10    140\n",
      "5     125\n",
      "2      86\n",
      "7      59\n",
      "11     57\n",
      "8      52\n",
      "dtype: int64\n"
     ]
    }
   ],
   "source": [
    "print(\"Highest activity in October:\\n{}\".format(oct_groups.sort_values(ascending = False).head(10)))\n",
    "print(\"Highest activity in November:\\n{}\".format(nov_groups.sort_values(ascending = False).head(10)))\n",
    "print(\"Highest activity in December:\\n{}\".format(dec_groups.sort_values(ascending = False).head(10)))\n",
    "print(\"Highest activity in January:\\n{}\".format(jan_groups.sort_values(ascending = False).head(10)))\n",
    "print(\"Highest activity in February:\\n{}\".format(feb_groups.sort_values(ascending = False).head(10)))\n",
    "print(\"Highest activity in March:\\n{}\".format(mar_groups.sort_values(ascending = False).head(10)))\n",
    "print(\"Highest activity in April:\\n{}\".format(apr_groups.sort_values(ascending = False).head(10)))"
   ]
  },
  {
   "cell_type": "code",
   "execution_count": null,
   "id": "cd5a00d4",
   "metadata": {},
   "outputs": [],
   "source": []
  }
 ],
 "metadata": {
  "kernelspec": {
   "display_name": "Python 3 (ipykernel)",
   "language": "python",
   "name": "python3"
  },
  "language_info": {
   "codemirror_mode": {
    "name": "ipython",
    "version": 3
   },
   "file_extension": ".py",
   "mimetype": "text/x-python",
   "name": "python",
   "nbconvert_exporter": "python",
   "pygments_lexer": "ipython3",
   "version": "3.8.5"
  }
 },
 "nbformat": 4,
 "nbformat_minor": 5
}
