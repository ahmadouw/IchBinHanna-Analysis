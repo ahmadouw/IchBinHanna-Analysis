{
 "cells": [
  {
   "cell_type": "markdown",
   "id": "38bee7b8",
   "metadata": {},
   "source": [
    "# Basic Analysis"
   ]
  },
  {
   "cell_type": "markdown",
   "id": "ce0e1439",
   "metadata": {},
   "source": [
    "## Tweet and user volume"
   ]
  },
  {
   "cell_type": "code",
   "execution_count": 1,
   "id": "e25754fb",
   "metadata": {},
   "outputs": [],
   "source": [
    "import pandas as pd\n",
    "import numpy as np\n",
    "import warnings\n",
    "import re\n",
    "import itertools\n",
    "import collections\n",
    "from datetime import datetime\n",
    "from matplotlib import pyplot as plt\n",
    "import nltk\n",
    "from nltk.corpus import stopwords\n",
    "warnings.filterwarnings('ignore')"
   ]
  },
  {
   "cell_type": "code",
   "execution_count": 2,
   "id": "b8e0025e",
   "metadata": {},
   "outputs": [],
   "source": [
    "df = pd.read_csv ('data/tweets/IchBinHannaUser.csv')\n",
    "df= df[['author.description', 'author.id', 'author.name', 'author.public_metrics.followers_count', 'author.public_metrics.following_count', 'author.username', 'author_id', 'created_at', 'id', 'lang', 'public_metrics.retweet_count','text', 'hashtags','reference_type','wanted_tag','user.group']]"
   ]
  },
  {
   "cell_type": "code",
   "execution_count": 3,
   "id": "0d19f4bd",
   "metadata": {},
   "outputs": [],
   "source": [
    "#only keep tweets from 01/06/2021 - 30/09/2021\n",
    "df['new_date'] = pd.to_datetime(df['created_at']).dt.strftime('%Y-%m-%d %H:%M:%S')\n",
    "df_date = df.loc[(df['new_date'] > '2021-06-01 00:00:00') & (df['new_date'] <= '2021-09-30 23:59:59')]"
   ]
  },
  {
   "cell_type": "code",
   "execution_count": 4,
   "id": "4a7faab9",
   "metadata": {},
   "outputs": [
    {
     "name": "stdout",
     "output_type": "stream",
     "text": [
      "60832\n",
      "13444\n"
     ]
    }
   ],
   "source": [
    "#number of total tweets\n",
    "print(df.shape[0])\n",
    "#number of total unique users\n",
    "print(len(pd.unique(df['author.username'])))"
   ]
  },
  {
   "cell_type": "code",
   "execution_count": 5,
   "id": "10f35d60",
   "metadata": {
    "scrolled": true
   },
   "outputs": [
    {
     "name": "stdout",
     "output_type": "stream",
     "text": [
      "de    52407\n",
      "en     8425\n",
      "Name: lang, dtype: int64\n"
     ]
    }
   ],
   "source": [
    "#List the distribution of languages in the tweets (important for preprocessing (stopwords etc.))\n",
    "print(df_date['lang'].value_counts())"
   ]
  },
  {
   "cell_type": "markdown",
   "id": "46d79d2d",
   "metadata": {},
   "source": [
    "As tweets with undefined language mostly consist of only hashtags, URls or emojis, they will be discarded. Otherwise only german and english tweets are kept for the analysis"
   ]
  },
  {
   "cell_type": "code",
   "execution_count": 6,
   "id": "306eedeb",
   "metadata": {},
   "outputs": [],
   "source": [
    "#This was relevant in an older version of the dataset, before user profiles were added; now the data set contains only german and english tweets to begin with\n",
    "df_date = df_date.loc[(df_date['lang'] == \"de\") | (df_date['lang'] == \"en\")]"
   ]
  },
  {
   "cell_type": "code",
   "execution_count": 7,
   "id": "53a1344c",
   "metadata": {
    "scrolled": true
   },
   "outputs": [
    {
     "name": "stdout",
     "output_type": "stream",
     "text": [
      "60832\n",
      "4632\n",
      "author.description                       57888\n",
      "author.id                                60832\n",
      "author.name                              60832\n",
      "author.public_metrics.followers_count    60832\n",
      "author.public_metrics.following_count    60832\n",
      "author.username                          60832\n",
      "author_id                                60832\n",
      "created_at                               60832\n",
      "id                                       60832\n",
      "lang                                     60832\n",
      "public_metrics.retweet_count             60832\n",
      "text                                     60832\n",
      "hashtags                                 60810\n",
      "reference_type                           60832\n",
      "wanted_tag                               60832\n",
      "user.group                               40956\n",
      "new_date                                 60832\n",
      "dtype: int64\n"
     ]
    }
   ],
   "source": [
    "pd.set_option('display.max_rows', 100)\n",
    "#number of remaining tweets\n",
    "print(df_date.shape[0])\n",
    "#number of remaining unique users\n",
    "print(len(pd.unique(df_date['author.id'])))\n",
    "#overview over \"missing values\"\n",
    "print(df_date.count())"
   ]
  },
  {
   "cell_type": "code",
   "execution_count": 8,
   "id": "dd518bef",
   "metadata": {},
   "outputs": [
    {
     "data": {
      "text/plain": [
       "<AxesSubplot:xlabel='week'>"
      ]
     },
     "execution_count": 8,
     "metadata": {},
     "output_type": "execute_result"
    },
    {
     "data": {
      "image/png": "[encoded data removed]",
      "text/plain": [
       "<Figure size 432x288 with 1 Axes>"
      ]
     },
     "metadata": {
      "needs_background": "light"
     },
     "output_type": "display_data"
    }
   ],
   "source": [
    "week_groups = df_date.groupby([pd.to_datetime(df_date['new_date']).dt.isocalendar().week]).size()\n",
    "week_groups.plot(kind='bar', legend = False)"
   ]
  },
  {
   "cell_type": "code",
   "execution_count": 9,
   "id": "9aa08075",
   "metadata": {},
   "outputs": [],
   "source": [
    "df_june = df_date.loc[(df_date['new_date'] > '2021-06-01 00:00:00') & (df_date['new_date'] <= '2021-06-30 23:59:59')]\n",
    "df_july = df_date.loc[(df_date['new_date'] > '2021-07-01 00:00:00') & (df_date['new_date'] <= '2021-07-31 23:59:59')]\n",
    "df_august = df_date.loc[(df_date['new_date'] > '2021-08-01 00:00:00') & (df_date['new_date'] <= '2021-08-31 23:59:59')]\n",
    "df_september = df_date.loc[(df_date['new_date'] > '2021-09-01 00:00:00') & (df_date['new_date'] <= '2021-09-30 23:59:59')]"
   ]
  },
  {
   "cell_type": "code",
   "execution_count": 10,
   "id": "da11f223",
   "metadata": {},
   "outputs": [
    {
     "data": {
      "text/plain": [
       "<AxesSubplot:xlabel='new_date'>"
      ]
     },
     "execution_count": 10,
     "metadata": {},
     "output_type": "execute_result"
    },
    {
     "data": {
      "image/png": "[encoded data removed]",
      "text/plain": [
       "<Figure size 432x288 with 2 Axes>"
      ]
     },
     "metadata": {
      "needs_background": "light"
     },
     "output_type": "display_data"
    }
   ],
   "source": [
    "june_groups = df_june.groupby([pd.to_datetime(df_june['new_date']).dt.day]).size()\n",
    "plt.subplot(1, 2, 1)\n",
    "june_groups.plot(kind='bar', legend = False)\n",
    "july_groups = df_july.groupby([pd.to_datetime(df_july['new_date']).dt.day]).size()\n",
    "plt.subplot(1, 2, 2)\n",
    "july_groups.plot(kind='bar', legend = False)"
   ]
  },
  {
   "cell_type": "code",
   "execution_count": 11,
   "id": "25a69ee6",
   "metadata": {},
   "outputs": [
    {
     "data": {
      "image/png": "[encoded data removed]",
      "text/plain": [
       "<Figure size 432x288 with 2 Axes>"
      ]
     },
     "metadata": {
      "needs_background": "light"
     },
     "output_type": "display_data"
    }
   ],
   "source": [
    "august_groups = df_august.groupby([pd.to_datetime(df_august['new_date']).dt.day]).size()\n",
    "plt.subplot(1, 2, 1)\n",
    "august_groups.plot(kind='bar', legend = False)\n",
    "september_groups = df_september.groupby([pd.to_datetime(df_september['new_date']).dt.day]).size()\n",
    "plt.subplot(1, 2, 2)\n",
    "september_groups.plot(kind='bar', legend = False)\n",
    "plt.xticks(rotation ='vertical')\n",
    "plt.show()"
   ]
  },
  {
   "cell_type": "markdown",
   "id": "82c7b854",
   "metadata": {},
   "source": [
    "## Missing Hashtag-Problem"
   ]
  },
  {
   "cell_type": "code",
   "execution_count": 12,
   "id": "8a97f5c8",
   "metadata": {},
   "outputs": [
    {
     "name": "stdout",
     "output_type": "stream",
     "text": [
      "60832\n"
     ]
    }
   ],
   "source": [
    "#number of tweets actually containing the hashtag\n",
    "df_hash = df_date[df_date['text'].str.contains(\"#ichbinhanna\", case = False)]\n",
    "print(df_hash.shape[0])"
   ]
  },
  {
   "cell_type": "code",
   "execution_count": 13,
   "id": "b7f401bd",
   "metadata": {},
   "outputs": [
    {
     "name": "stdout",
     "output_type": "stream",
     "text": [
      "0\n"
     ]
    }
   ],
   "source": [
    "#number of tweets not containing the hashtag directly\n",
    "df_no_hash = df_date[-df_date['text'].str.contains(\"#ichbinhanna\", case = False)]\n",
    "print(df_no_hash.shape[0])"
   ]
  },
  {
   "cell_type": "code",
   "execution_count": 14,
   "id": "dc0428be",
   "metadata": {
    "scrolled": true
   },
   "outputs": [
    {
     "name": "stdout",
     "output_type": "stream",
     "text": [
      "0\n",
      "40896\n"
     ]
    }
   ],
   "source": [
    "#number of tweets without the hashtag that are retweets (text from original tweet cut off)\n",
    "print(df_no_hash[df_no_hash['reference_type'] == 'retweeted'].shape[0])\n",
    "#number of tweets with the hashtag that are retweets\n",
    "print(df_hash[df_hash['reference_type'] == 'retweeted'].shape[0])"
   ]
  },
  {
   "cell_type": "code",
   "execution_count": 15,
   "id": "d594d880",
   "metadata": {},
   "outputs": [
    {
     "data": {
      "text/plain": [
       "Series([], Name: text, dtype: object)"
      ]
     },
     "execution_count": 15,
     "metadata": {},
     "output_type": "execute_result"
    }
   ],
   "source": [
    "test =df_no_hash['text'].loc[df_no_hash['reference_type'] != 'retweeted']\n",
    "test"
   ]
  },
  {
   "cell_type": "code",
   "execution_count": 16,
   "id": "9eb022e5",
   "metadata": {},
   "outputs": [
    {
     "name": "stdout",
     "output_type": "stream",
     "text": [
      "retweeted       40896\n",
      "no_reference     8159\n",
      "quoted           6205\n",
      "replied_to       5572\n",
      "Name: reference_type, dtype: int64\n",
      "Series([], Name: reference_type, dtype: int64)\n"
     ]
    }
   ],
   "source": [
    "print(df_hash['reference_type'].value_counts())\n",
    "print(df_no_hash['reference_type'].value_counts())"
   ]
  },
  {
   "cell_type": "markdown",
   "id": "07e902a8",
   "metadata": {},
   "source": [
    "As a majority of those tweets are retweets that are mostly cut off due to the character constraint, a first approach is to exclude retweets directly for the sentiment analysis, as the original tweet (as long as it falls into our time frame) is most likely in the collection as well. If certain users or networks have to be observed, the whole data set might be of more interest."
   ]
  },
  {
   "cell_type": "code",
   "execution_count": 17,
   "id": "578b3a45",
   "metadata": {},
   "outputs": [],
   "source": [
    "#for further investigation\n",
    "compression_opts = dict(method='zip',\n",
    "                        archive_name='out.csv')  \n",
    "df_no_hash.to_csv('out.zip', index=False,\n",
    "          compression=compression_opts) "
   ]
  },
  {
   "cell_type": "markdown",
   "id": "12dfc527",
   "metadata": {},
   "source": [
    "## Get top hashtags appearing in tweets along with #IchBinHanna in september"
   ]
  },
  {
   "cell_type": "code",
   "execution_count": 18,
   "id": "aa428a1b",
   "metadata": {},
   "outputs": [],
   "source": [
    "#make the hashtags a list of strings, then adapt the monthly data frames, also remove tweets not containing the hashtag,\n",
    "#but keep retweets for this part of the analysis\n",
    "df_date = df_hash\n",
    "df_date['hashtags'] = df_hash['hashtags'].str.replace('[', '').str.replace(']','')\n",
    "df_date['hashtags separated'] = df_date['hashtags'].str.split(',')\n",
    "df_september = df_date.loc[(df_date['new_date'] > '2021-09-01 00:00:00') & (df_date['new_date'] <= '2021-09-30 23:59:59')]\n",
    "df_june = df_date.loc[(df_date['new_date'] > '2021-06-01 00:00:00') & (df_date['new_date'] <= '2021-06-30 23:59:59')]\n",
    "df_july = df_date.loc[(df_date['new_date'] > '2021-07-01 00:00:00') & (df_date['new_date'] <= '2021-07-31 23:59:59')]\n",
    "df_august = df_date.loc[(df_date['new_date'] > '2021-08-01 00:00:00') & (df_date['new_date'] <= '2021-08-31 23:59:59')]\n",
    "june_groups = df_june.groupby([pd.to_datetime(df_june['new_date']).dt.day]).size()\n",
    "july_groups = df_july.groupby([pd.to_datetime(df_july['new_date']).dt.day]).size()\n",
    "august_groups = df_august.groupby([pd.to_datetime(df_august['new_date']).dt.day]).size()\n",
    "september_groups = df_september.groupby([pd.to_datetime(df_september['new_date']).dt.day]).size()"
   ]
  },
  {
   "cell_type": "code",
   "execution_count": 19,
   "id": "1323e7c9",
   "metadata": {},
   "outputs": [
    {
     "name": "stdout",
     "output_type": "stream",
     "text": [
      "4455\n",
      "37258\n",
      "13642\n",
      "5477\n"
     ]
    }
   ],
   "source": [
    "print(len(df_september))\n",
    "print(len(df_june))\n",
    "print(len(df_july))\n",
    "print(len(df_august))"
   ]
  },
  {
   "cell_type": "code",
   "execution_count": 20,
   "id": "27a2c2a2",
   "metadata": {},
   "outputs": [],
   "source": [
    "#flatten the lists to count occurences of all strings and drop all variations of #IchBinHanna\n",
    "flat_hashtags = df_september['hashtags separated'].explode().to_frame().dropna()\n",
    "flat_hashtags = flat_hashtags[-flat_hashtags['hashtags separated'].str.contains(\"ichbinhanna\", case = False)]"
   ]
  },
  {
   "cell_type": "code",
   "execution_count": 21,
   "id": "d9654cc1",
   "metadata": {},
   "outputs": [],
   "source": [
    "#count occurences \n",
    "hashtag_count = flat_hashtags.value_counts()\n",
    "hashtag_count = hashtag_count[hashtag_count > 10].reset_index()"
   ]
  },
  {
   "cell_type": "code",
   "execution_count": 22,
   "id": "3968c1b2",
   "metadata": {},
   "outputs": [],
   "source": [
    "#for further investigation\n",
    "compression_opts = dict(method='zip',\n",
    "                        archive_name='top_hashtags.csv')  \n",
    "hashtag_count.to_csv('out.zip', index=False,\n",
    "          compression=compression_opts) "
   ]
  },
  {
   "cell_type": "markdown",
   "id": "5b398355",
   "metadata": {},
   "source": [
    "## Identify Events by observing spikes in tweet volume"
   ]
  },
  {
   "cell_type": "code",
   "execution_count": 23,
   "id": "03f0bd13",
   "metadata": {
    "scrolled": true
   },
   "outputs": [
    {
     "name": "stdout",
     "output_type": "stream",
     "text": [
      "Highest activity in June:\n",
      "new_date\n",
      "11    5989\n",
      "10    4566\n",
      "24    4168\n",
      "25    3019\n",
      "14    1852\n",
      "17    1689\n",
      "30    1514\n",
      "12    1502\n",
      "13    1420\n",
      "26    1271\n",
      "dtype: int64\n",
      "Highest activity in July:\n",
      "new_date\n",
      "1     1465\n",
      "9     1258\n",
      "8     1048\n",
      "2     1045\n",
      "6      693\n",
      "7      682\n",
      "12     679\n",
      "16     512\n",
      "13     486\n",
      "10     477\n",
      "dtype: int64\n",
      "Highest activity in August:\n",
      "new_date\n",
      "3     491\n",
      "25    441\n",
      "2     390\n",
      "12    369\n",
      "4     347\n",
      "10    280\n",
      "23    270\n",
      "26    268\n",
      "20    204\n",
      "11    204\n",
      "dtype: int64\n",
      "Highest activity in September:\n",
      "new_date\n",
      "10    397\n",
      "29    362\n",
      "23    285\n",
      "2     246\n",
      "6     245\n",
      "7     231\n",
      "24    201\n",
      "1     198\n",
      "11    190\n",
      "22    175\n",
      "dtype: int64\n"
     ]
    }
   ],
   "source": [
    "print(\"Highest activity in June:\\n{}\".format(june_groups.sort_values(ascending = False).head(10)))\n",
    "print(\"Highest activity in July:\\n{}\".format(july_groups.sort_values(ascending = False).head(10)))\n",
    "print(\"Highest activity in August:\\n{}\".format(august_groups.sort_values(ascending = False).head(10)))\n",
    "print(\"Highest activity in September:\\n{}\".format(september_groups.sort_values(ascending = False).head(10)))"
   ]
  },
  {
   "cell_type": "markdown",
   "id": "ca01010c",
   "metadata": {},
   "source": [
    "### First approach: search for most frequent words in tweets with the hashtag for the days with the highest activity\n",
    "\n",
    "Retweets are kept here, as they give an indication about the engagement of a topic and reflect that in a higher word count for frequently discussed themes."
   ]
  },
  {
   "cell_type": "code",
   "execution_count": 24,
   "id": "95cefc9e",
   "metadata": {},
   "outputs": [],
   "source": [
    "#First step: process the raw text data\n",
    "#remove linebreaks separately\n",
    "df_date['processed text'] = df_date['text'].replace(r'\\\\n',  ' ', regex=True)\n",
    "#function to remove URLs, punctuation, @ etc. (source: https://www.earthdatascience.org/courses/use-data-open-source-python/intro-to-apis/calculate-tweet-word-frequencies-in-python/)\n",
    "def rem_url(tweet):\n",
    "     return \" \".join(re.sub(\"([^0-9A-Za-zßäöü \\t])|(\\w+:\\/\\/\\S+)\", \" \", tweet).split())\n",
    "df_date['processed text'] = df_date['processed text'].apply(rem_url)"
   ]
  },
  {
   "cell_type": "code",
   "execution_count": 25,
   "id": "c70cb58f",
   "metadata": {},
   "outputs": [],
   "source": [
    "#lowercases and tokenize text\n",
    "df_date['processed text'] = df_date['processed text'].str.lower().str.split()"
   ]
  },
  {
   "cell_type": "code",
   "execution_count": 26,
   "id": "69fa71b4",
   "metadata": {},
   "outputs": [
    {
     "name": "stderr",
     "output_type": "stream",
     "text": [
      "[nltk_data] Downloading package stopwords to\n",
      "[nltk_data]     C:\\Users\\Admin\\AppData\\Roaming\\nltk_data...\n",
      "[nltk_data]   Package stopwords is already up-to-date!\n"
     ]
    }
   ],
   "source": [
    "#remove german and english stopwords (separately for the given language of a tweet)\n",
    "nltk.download(\"stopwords\")\n",
    "german_stop = set(stopwords.words('german'))\n",
    "english_stop = set(stopwords.words('english'))\n",
    "df_date['processed w/o stopwords'] = df_date[['processed text','lang']].apply(lambda x: ' '.join([word for word in x['processed text'] if word not in (english_stop)]).split() if x['lang'] == 'en' else ' '.join([word for word in x['processed text'] if word not in (german_stop)]).split(),axis=1)"
   ]
  },
  {
   "cell_type": "code",
   "execution_count": 27,
   "id": "c115f012",
   "metadata": {},
   "outputs": [],
   "source": [
    "#remove all words consisting of only one character (isn'\"t\", it'\"s\" etc.)\n",
    "df_date['processed w/o stopwords'] = df_date['processed w/o stopwords'].apply(lambda x: [word for word in x if len(word) > 2])"
   ]
  },
  {
   "cell_type": "code",
   "execution_count": 28,
   "id": "56bd5370",
   "metadata": {
    "scrolled": true
   },
   "outputs": [
    {
     "data": {
      "text/plain": [
       "[('ichbinhanna', 59236),\n",
       " ('innen', 6229),\n",
       " ('amreibahr', 5585),\n",
       " ('bund', 5301),\n",
       " ('bmbf', 5075),\n",
       " ('amp', 5056),\n",
       " ('wissenschaft', 4578),\n",
       " ('wisszeitvg', 4384),\n",
       " ('hanna', 4134),\n",
       " ('wissenschaftler', 3673),\n",
       " ('drkeichhorn', 3410),\n",
       " ('viele', 3240),\n",
       " ('mehr', 2953),\n",
       " ('german', 2848),\n",
       " ('mal', 2501),\n",
       " ('heute', 2452),\n",
       " ('system', 2256),\n",
       " ('ichbinhannah', 2251),\n",
       " ('geht', 2099),\n",
       " ('schon', 1968),\n",
       " ('anjakarliczek', 1871),\n",
       " ('gibt', 1840),\n",
       " ('gerade', 1794),\n",
       " ('hannaimbundestag', 1754),\n",
       " ('gew', 1715)]"
      ]
     },
     "execution_count": 28,
     "metadata": {},
     "output_type": "execute_result"
    }
   ],
   "source": [
    "#most frequent words overall\n",
    "all_words = list(itertools.chain(*df_date['processed w/o stopwords']))\n",
    "total_word_count = collections.Counter(all_words)\n",
    "total_word_count.most_common(25)"
   ]
  },
  {
   "cell_type": "code",
   "execution_count": 29,
   "id": "5b8f9503",
   "metadata": {},
   "outputs": [],
   "source": [
    "#remove additional stopwords encountered (like \"innen\" which occurs because of gendering in german), as well as the hashtag itself, rt etc.\n",
    "add_stop_all = [\"rt\", \"ichbinhanna\", \"hanna\", \"amp\"]\n",
    "add_stop_ger = [\"mehr\", \"mal\", \"innen\", \"ja\", \"schon\"]\n",
    "add_stop_en = []\n",
    "df_date['processed w/o stopwords'] = df_date[['processed w/o stopwords','lang']].apply(lambda x: ' '.join([word for word in x['processed w/o stopwords'] if word not in (add_stop_all) and word not in  (add_stop_en)]).split() if x['lang'] == 'en' else ' '.join([word for word in x['processed w/o stopwords'] if word not in (add_stop_all) and word not in  (add_stop_ger)]).split(),axis=1)"
   ]
  },
  {
   "cell_type": "code",
   "execution_count": 30,
   "id": "24785bc4",
   "metadata": {
    "scrolled": true
   },
   "outputs": [
    {
     "name": "stdout",
     "output_type": "stream",
     "text": [
      "10.06.:\n",
      "[('wissenschaftler', 939), ('teilen', 786), ('wisszeitvg', 631), ('befristet', 593), ('prekären', 591), ('nachwuchs', 568), ('momentan', 530), ('status', 530), ('angestellte', 529), ('degneranja', 528), ('wissenschaft', 522), ('bmbf', 484), ('german', 341), ('viele', 324), ('innovation', 309), ('gerade', 278), ('deutschland', 267), ('sagt', 254), ('tatsächlich', 254), ('kontext', 250), ('sorgt', 248), ('schwere', 247), ('fördere', 246), ('trending', 245), ('sahiralsaid', 244)]\n",
      "11.06.:\n",
      "[('wissenschaftler', 799), ('german', 748), ('wissenschaft', 660), ('system', 613), ('viele', 601), ('teilen', 592), ('trending', 588), ('academic', 557), ('gerade', 438), ('bmbf', 373), ('academia', 335), ('since', 333), ('know', 327), ('befristungen', 317), ('martin', 313), ('wisszeitvg', 308), ('everyone', 308), ('messed', 305), ('hebart', 304), ('pia', 304), ('lamberty', 303), ('bec', 302), ('befristet', 295), ('tweets', 293), ('übrigens', 292)]\n",
      "24.06.:\n",
      "[('hannaimbundestag', 1104), ('geht', 417), ('wissenschaft', 346), ('anjakarliczek', 342), ('bundestag', 335), ('heute', 264), ('wisszeitvg', 251), ('debatte', 208), ('german', 200), ('bmbf', 193), ('amreibahr', 182), ('stunde', 172), ('bund', 172), ('sitte', 160), ('cdu', 157), ('karliczek', 151), ('winnerling', 149), ('petra', 146), ('wissenschaftler', 145), ('dorothee', 135), ('goetze', 135), ('argumente', 131), ('jenniferhenkehb', 131), ('sebastiankubon', 127), ('los', 123)]\n",
      "25.06.:\n",
      "[('chef', 1093), ('achimlandwehr', 1014), ('dekan', 1013), ('viele', 903), ('professor', 894), ('hannaimbundestag', 331), ('bund', 195), ('anjakarliczek', 194), ('amreibahr', 170), ('bmbf', 162), ('liebe', 133), ('diskussion', 126), ('wissenschaft', 119), ('wisszeitvg', 112), ('profs', 110), ('karliczek', 110), ('heute', 107), ('brauchen', 100), ('gew', 92), ('geht', 88), ('wurde', 85), ('hochschulleitungen', 81), ('stimmen', 81), ('thread', 81), ('unis', 79)]\n",
      "17.06.:\n",
      "[('gibt', 375), ('wisszeitvg', 271), ('wissenschaftler', 239), ('bmbf', 204), ('artikel', 186), ('mehrreiber', 182), ('wegen', 182), ('suche', 180), ('wissenschaftsbetr', 179), ('gelernt', 175), ('winnerling', 174), ('fehlwahrnehmung', 173), ('denken', 172), ('verbreitete', 171), ('bund', 152), ('amreibahr', 150), ('drkeichhorn', 132), ('wissenschaft', 120), ('tazgezwitscher', 80), ('video', 78), ('liebe', 76), ('bitte', 72), ('macht', 72), ('danke', 70), ('hashtag', 67)]\n",
      "30.06.:\n",
      "[('anjakarliczek', 328), ('wirsindhanna', 189), ('wisszeitvg', 162), ('bund', 153), ('doktorvater', 148), ('gespräch', 142), ('selbstwahrnehmung', 137), ('rät', 124), ('überhöhte', 124), ('vlt', 122), ('join', 121), ('außenwahr', 117), ('erklärung', 102), ('wissenschaftsverbänden', 98), ('anschlussverwendung', 93), ('gew', 90), ('wissenschaft', 85), ('bmbf', 82), ('vhdtweets', 81), ('ichbinhannah', 74), ('prekarität', 74), ('wissenschaftlicher', 74), ('wissen', 72), ('contracts', 71), ('laufbahnen', 71)]\n",
      "01.07.:\n",
      "[('gew', 207), ('bund', 190), ('hannabeidergew', 182), ('sollten', 138), ('drkeichhorn', 112), ('ichbinhannah', 99), ('wisszeitvg', 97), ('wirsindhanna', 97), ('kinofrau1', 94), ('bmbf', 94), ('janalasser', 93), ('amreibahr', 86), ('akellergew', 85), ('english', 79), ('arbeit', 78), ('uni', 74), ('danielhornuff', 71), ('karliczek', 69), ('professor', 69), ('äußern', 69), ('hashtag', 67), ('geht', 67), ('grund', 65), ('reaktionen', 64), ('simplen', 63)]\n",
      "02.07.:\n",
      "[('bund', 161), ('amreibahr', 143), ('bmbf', 132), ('wisszeitvg', 112), ('gew', 102), ('karliczek', 94), ('wissen', 94), ('reaktionen', 85), ('krudes', 83), ('ausbeuterisches', 83), ('verständnis', 83), ('bewusst', 78), ('akellergew', 63), ('drkeichhorn', 52), ('neurowissenschaftlerin', 50), ('wirsindhanna', 48), ('beitrag', 46), ('hashtag', 46), ('immer', 43), ('wdr3', 41), ('wissenschaft', 41), ('mahaelhissy', 40), ('fachgesellschaften', 38), ('gerade', 38), ('per', 37)]\n",
      "09.07.:\n",
      "[('tagesthemen', 224), ('tilojung', 142), ('amreibahr', 136), ('bund', 113), ('lange', 88), ('heute', 85), ('regierungspressekonferenz', 82), ('debatte', 81), ('früher', 78), ('thematisiert', 77), ('bewegung', 77), ('wisszeitvg', 76), ('kanzlerin', 75), ('erfahren', 73), ('merkel', 73), ('dauerstellen', 71), ('drkeichhorn', 71), ('nieniewieder', 70), ('trotz', 70), ('studium', 70), ('kind', 70), ('kommentar', 69), ('fachlicher', 67), ('erfolge', 67), ('arbeiter', 63)]\n",
      "08.07.:\n",
      "[('amreibahr', 372), ('tagesthemen', 357), ('heute', 316), ('drkeichhorn', 243), ('dauerstellen', 164), ('einschalten', 159), ('wort', 156), ('kommen', 154), ('niemand', 153), ('uhr', 153), ('abend', 152), ('pwun', 151), ('debatte', 120), ('postdocs', 113), ('nochmal', 104), ('mitschreiben', 103), ('gefordert', 103), ('ford', 102), ('kommentar', 79), ('bund', 64), ('beitrag', 55), ('gew', 53), ('eigentlich', 46), ('fordert', 45), ('wissenschaft', 43)]\n",
      "03.08.:\n",
      "[('christine', 176), ('blume', 176), ('amreibahr', 157), ('german', 130), ('academia', 118), ('law', 101), ('researchers', 100), ('protests', 98), ('forces', 98), ('check', 95), ('correspondence', 94), ('drkeichhorn', 74), ('sebastiankubon', 74), ('heutejournal', 70), ('heute', 60), ('gerade', 60), ('abend', 50), ('mahaelhissy', 39), ('kurzfristig', 33), ('erfahren', 33), ('erneut', 33), ('fernsehen', 33), ('schaltet', 33), ('uhr', 33), ('english', 33)]\n",
      "04.08.:\n",
      "[('german', 68), ('bmbf', 57), ('bund', 57), ('heutejournal', 55), ('amreibahr', 55), ('naturehumbehav', 50), ('academia', 50), ('wisszeitvg', 46), ('law', 46), ('forces', 46), ('researchers', 46), ('academics', 39), ('protest', 37), ('limiting', 37), ('numbe', 36), ('drkeichhorn', 35), ('christine', 35), ('blume', 35), ('mahaelhissy', 34), ('dhdinfo', 28), ('kam', 26), ('gestern', 25), ('uni', 24), ('beitrag', 20), ('ichbinhannah', 20)]\n",
      "25.08.:\n",
      "[('wissenschaft', 174), ('amreibahr', 155), ('befristungen', 128), ('deshalb', 123), ('gern', 123), ('findest', 122), ('großem', 122), ('stil', 122), ('total', 122), ('supi', 122), ('möchtest', 122), ('äußern', 122), ('ichbinreyhan', 56), ('torstenkathke', 34), ('berliner', 32), ('replik', 30), ('gute', 29), ('frage', 28), ('hilmarpreu', 26), ('mlunterfinanziert', 25), ('gibt', 24), ('beitrag', 23), ('jahn', 23), ('debatte', 22), ('reden', 22)]\n",
      "12.08.:\n",
      "[('amreibahr', 71), ('debatte', 61), ('drkeichhorn', 48), ('anjakarliczek', 43), ('jahn', 39), ('immer', 36), ('elternschaft', 35), ('janinefunke', 34), ('gerade', 31), ('genauso', 28), ('kindern', 27), ('befristungsbefürworter', 27), ('vorher', 26), ('gibt', 26), ('sorry', 26), ('liebe', 26), ('scheinargumente', 26), ('wiederzukäuen', 26), ('weiterarbeiten', 25), ('unterstützun', 24), ('forschung', 24), ('dauerstellen', 22), ('bund', 22), ('wissenschaft', 22), ('bereits', 21)]\n",
      "26.08.:\n",
      "[('amreibahr', 65), ('wissenschaft', 51), ('drkeichhorn', 37), ('gern', 34), ('deshalb', 33), ('total', 32), ('findest', 31), ('befristungen', 31), ('großem', 31), ('stil', 31), ('supi', 31), ('möchtest', 31), ('äußern', 31), ('waspostdocswollen', 26), ('berlin', 22), ('unis', 19), ('professoren', 18), ('durchschnittlich', 18), ('700', 18), ('professorinnen', 18), ('gehört', 18), ('sebastiankubon', 18), ('gibt', 18), ('verdienen', 17), ('berliner', 17)]\n",
      "29.09.:\n",
      "[('entfristethanna', 114), ('gew', 55), ('bund', 55), ('amreibahr', 52), ('drkeichhorn', 51), ('ichbinreyhan', 46), ('heute', 46), ('aktivenkonferenz', 34), ('chrizzy80', 33), ('einsatz', 28), ('neue', 27), ('campus', 27), ('karriere', 27), ('interview', 25), ('gleich', 25), ('studium', 22), ('dlf', 19), ('stellen', 18), ('erwartungen', 18), ('dauerstellen', 18), ('wer', 18), ('promotion', 17), ('simoneclaar', 17), ('diskussion', 17), ('erst', 17)]\n",
      "10.09.:\n",
      "[('seit', 161), ('amreibahr', 126), ('arbeitsverträge', 120), ('ende', 89), ('davon', 86), ('monate', 76), ('aktuellen', 75), ('hannainzahlen', 68), ('verträge', 66), ('vertrags', 58), ('erwerbsarbeitslosigkeit', 49), ('100', 47), ('btw21', 45), ('anlässlich', 44), ('zahlen', 42), ('jahre', 41), ('2023', 40), ('lasst', 40), ('ausmaße', 37), ('deutlich', 37), ('wissenschaftspolitische', 37), ('2009', 31), ('stipendien', 30), ('stip', 29), ('anzahl', 28)]\n",
      "02.09.:\n",
      "[('berlin', 49), ('wissenschaft', 42), ('heute', 29), ('akellergew', 28), ('neue', 25), ('befristung', 23), ('gew', 22), ('bund', 22), ('geht', 22), ('hannafürberlhg', 22), ('berliner', 22), ('gesetz', 21), ('grundmar', 20), ('majormrton2', 19), ('immer', 19), ('wege', 18), ('beschlossen', 18), ('arbeitsbedingungen', 18), ('rton', 17), ('glücklicher', 17), ('universitäten', 17), ('name', 16), ('physiker', 16), ('beruf', 16), ('typische', 16)]\n",
      "06.09.:\n",
      "[('amreibahr', 32), ('heute', 29), ('another', 28), ('day', 26), ('life', 26), ('dropped', 26), ('son', 26), ('daycare', 26), ('pulled', 26), ('aside', 26), ('one', 26), ('caretakers', 26), ('bundestagswahl', 26), ('chance', 26), ('dtruebutschek', 25), ('chastis', 25), ('wer', 21), ('nutzen', 21), ('tage', 20), ('lasst', 20), ('echte', 20), ('veränderung', 20), ('dahin', 20), ('nochmal', 20), ('mlunterfinanziert', 20)]\n",
      "03.09.:\n",
      "[('berlin', 22), ('wissenschaft', 18), ('akellergew', 16), ('wissenschaftssystem', 16), ('deutsche', 15), ('zweierlei', 14), ('eindrücklich', 14), ('gezeigt', 14), ('erstens', 14), ('inhärent', 14), ('ungerecht', 14), ('grundmar', 14), ('zweiten', 13), ('gew', 13), ('bund', 12), ('online', 10), ('stellen', 9), ('mlunterfinanziert', 9), ('gute', 9), ('arbeit', 9), ('wer', 9), ('hilmarpreu', 8), ('ichbinreyhan', 8), ('trifft', 8), ('statt', 8)]\n"
     ]
    }
   ],
   "source": [
    "#get most frequent terms for days with highest tweet volume per month\n",
    "current_day = df_date.loc[(df_date['new_date'] > '2021-06-10 00:00:00') & (df_date['new_date'] <= '2021-06-10 23:59:59')]\n",
    "daily_words = list(itertools.chain(*current_day['processed w/o stopwords']))\n",
    "daily_word_count = collections.Counter(daily_words)\n",
    "print(\"10.06.:\\n{}\".format(daily_word_count.most_common(25)))\n",
    "current_day = df_date.loc[(df_date['new_date'] > '2021-06-11 00:00:00') & (df_date['new_date'] <= '2021-06-11 23:59:59') ]\n",
    "daily_words = list(itertools.chain(*current_day['processed w/o stopwords']))\n",
    "daily_word_count = collections.Counter(daily_words)\n",
    "print(\"11.06.:\\n{}\".format(daily_word_count.most_common(25)))\n",
    "current_day = df_date.loc[(df_date['new_date'] > '2021-06-24 00:00:00') & (df_date['new_date'] <= '2021-06-24 23:59:59') ]\n",
    "daily_words = list(itertools.chain(*current_day['processed w/o stopwords']))\n",
    "daily_word_count = collections.Counter(daily_words)\n",
    "print(\"24.06.:\\n{}\".format(daily_word_count.most_common(25)))\n",
    "current_day = df_date.loc[(df_date['new_date'] > '2021-06-25 00:00:00') & (df_date['new_date'] <= '2021-06-25 23:59:59') ]\n",
    "daily_words = list(itertools.chain(*current_day['processed w/o stopwords']))\n",
    "daily_word_count = collections.Counter(daily_words)\n",
    "print(\"25.06.:\\n{}\".format(daily_word_count.most_common(25)))\n",
    "current_day = df_date.loc[(df_date['new_date'] > '2021-06-17 00:00:00') & (df_date['new_date'] <= '2021-06-17 23:59:59') ]\n",
    "daily_words = list(itertools.chain(*current_day['processed w/o stopwords']))\n",
    "daily_word_count = collections.Counter(daily_words)\n",
    "print(\"17.06.:\\n{}\".format(daily_word_count.most_common(25)))\n",
    "current_day = df_date.loc[(df_date['new_date'] > '2021-06-30 00:00:00') & (df_date['new_date'] <= '2021-06-30 23:59:59') ]\n",
    "daily_words = list(itertools.chain(*current_day['processed w/o stopwords']))\n",
    "daily_word_count = collections.Counter(daily_words)\n",
    "print(\"30.06.:\\n{}\".format(daily_word_count.most_common(25)))\n",
    "current_day = df_date.loc[(df_date['new_date'] > '2021-07-01 00:00:00') & (df_date['new_date'] <= '2021-07-01 23:59:59') ]\n",
    "daily_words = list(itertools.chain(*current_day['processed w/o stopwords']))\n",
    "daily_word_count = collections.Counter(daily_words)\n",
    "print(\"01.07.:\\n{}\".format(daily_word_count.most_common(25)))\n",
    "current_day = df_date.loc[(df_date['new_date'] > '2021-07-02 00:00:00') & (df_date['new_date'] <= '2021-07-02 23:59:59') ]\n",
    "daily_words = list(itertools.chain(*current_day['processed w/o stopwords']))\n",
    "daily_word_count = collections.Counter(daily_words)\n",
    "print(\"02.07.:\\n{}\".format(daily_word_count.most_common(25)))\n",
    "current_day = df_date.loc[(df_date['new_date'] > '2021-07-09 00:00:00') & (df_date['new_date'] <= '2021-07-09 23:59:59') ]\n",
    "daily_words = list(itertools.chain(*current_day['processed w/o stopwords']))\n",
    "daily_word_count = collections.Counter(daily_words)\n",
    "print(\"09.07.:\\n{}\".format(daily_word_count.most_common(25)))\n",
    "current_day = df_date.loc[(df_date['new_date'] > '2021-07-08 00:00:00') & (df_date['new_date'] <= '2021-07-08 23:59:59') ]\n",
    "daily_words = list(itertools.chain(*current_day['processed w/o stopwords']))\n",
    "daily_word_count = collections.Counter(daily_words)\n",
    "print(\"08.07.:\\n{}\".format(daily_word_count.most_common(25)))\n",
    "current_day = df_date.loc[(df_date['new_date'] > '2021-08-03 00:00:00') & (df_date['new_date'] <= '2021-08-03 23:59:59') ]\n",
    "daily_words = list(itertools.chain(*current_day['processed w/o stopwords']))\n",
    "daily_word_count = collections.Counter(daily_words)\n",
    "print(\"03.08.:\\n{}\".format(daily_word_count.most_common(25)))\n",
    "current_day = df_date.loc[(df_date['new_date'] > '2021-08-04 00:00:00') & (df_date['new_date'] <= '2021-08-04 23:59:59') ]\n",
    "daily_words = list(itertools.chain(*current_day['processed w/o stopwords']))\n",
    "daily_word_count = collections.Counter(daily_words)\n",
    "print(\"04.08.:\\n{}\".format(daily_word_count.most_common(25)))\n",
    "current_day = df_date.loc[(df_date['new_date'] > '2021-08-25 00:00:00') & (df_date['new_date'] <= '2021-08-25 23:59:59') ]\n",
    "daily_words = list(itertools.chain(*current_day['processed w/o stopwords']))\n",
    "daily_word_count = collections.Counter(daily_words)\n",
    "print(\"25.08.:\\n{}\".format(daily_word_count.most_common(25)))\n",
    "current_day = df_date.loc[(df_date['new_date'] > '2021-08-12 00:00:00') & (df_date['new_date'] <= '2021-08-12 23:59:59') ]\n",
    "daily_words = list(itertools.chain(*current_day['processed w/o stopwords']))\n",
    "daily_word_count = collections.Counter(daily_words)\n",
    "print(\"12.08.:\\n{}\".format(daily_word_count.most_common(25)))\n",
    "current_day = df_date.loc[(df_date['new_date'] > '2021-08-26 00:00:00') & (df_date['new_date'] <= '2021-08-26 23:59:59') ]\n",
    "daily_words = list(itertools.chain(*current_day['processed w/o stopwords']))\n",
    "daily_word_count = collections.Counter(daily_words)\n",
    "print(\"26.08.:\\n{}\".format(daily_word_count.most_common(25)))\n",
    "current_day = df_date.loc[(df_date['new_date'] > '2021-09-29 00:00:00') & (df_date['new_date'] <= '2021-09-29 23:59:59') ]\n",
    "daily_words = list(itertools.chain(*current_day['processed w/o stopwords']))\n",
    "daily_word_count = collections.Counter(daily_words)\n",
    "print(\"29.09.:\\n{}\".format(daily_word_count.most_common(25)))\n",
    "current_day = df_date.loc[(df_date['new_date'] > '2021-09-10 00:00:00') & (df_date['new_date'] <= '2021-09-10 23:59:59') ]\n",
    "daily_words = list(itertools.chain(*current_day['processed w/o stopwords']))\n",
    "daily_word_count = collections.Counter(daily_words)\n",
    "print(\"10.09.:\\n{}\".format(daily_word_count.most_common(25)))\n",
    "current_day = df_date.loc[(df_date['new_date'] > '2021-09-02 00:00:00') & (df_date['new_date'] <= '2021-09-02 23:59:59') ]\n",
    "daily_words = list(itertools.chain(*current_day['processed w/o stopwords']))\n",
    "daily_word_count = collections.Counter(daily_words)\n",
    "print(\"02.09.:\\n{}\".format(daily_word_count.most_common(25)))\n",
    "current_day = df_date.loc[(df_date['new_date'] > '2021-09-06 00:00:00') & (df_date['new_date'] <= '2021-09-06 23:59:59') ]\n",
    "daily_words = list(itertools.chain(*current_day['processed w/o stopwords']))\n",
    "daily_word_count = collections.Counter(daily_words)\n",
    "print(\"06.09.:\\n{}\".format(daily_word_count.most_common(25)))\n",
    "current_day = df_date.loc[(df_date['new_date'] > '2021-09-03 00:00:00') & (df_date['new_date'] <= '2021-09-03 23:59:59') ]\n",
    "daily_words = list(itertools.chain(*current_day['processed w/o stopwords']))\n",
    "daily_word_count = collections.Counter(daily_words)\n",
    "print(\"03.09.:\\n{}\".format(daily_word_count.most_common(25)))"
   ]
  },
  {
   "cell_type": "markdown",
   "id": "b843410f",
   "metadata": {},
   "source": [
    "### Observations June:\n",
    "10th + 11th: Start of the movement under the hashtag #IchBinHanna\n",
    "24th: Issue got discussed in the \"aktuelle Stunde\" of the german Bundestag\n",
    "25th: Series of tweets of Achim Landwehr, a Dean of studies critizing and portraying the situation of scientific workers\n",
    "17th: State scecretary Wolf-Dieter Lukas uploads a video addressing the issues that arose with the hashtag\n",
    "14th: Initial video of the BMBF gets deleted from their website.\n",
    "\n",
    "### Observations July:\n",
    "1st +  2nd: Zoom conference of the GEW (union for education and science) \n",
    "9th: Journalist Thilo Jung presents the issue at a press conference of the german government \n",
    "\n",
    "### Observations August:\n",
    "3rd + 4th: TV report about #IchBinHanna in ZDF's \"heute journal\" \n",
    "\n",
    "### Observations September:\n",
    "2nd + 3rd: declaration of new \"Berliner Hochschulgesetz\"\n",
    "29th: IchBinHanna discussed in the \"hessischer Landtag\""
   ]
  },
  {
   "cell_type": "markdown",
   "id": "68e3bba6",
   "metadata": {},
   "source": [
    "## Distribution of user profiles"
   ]
  },
  {
   "cell_type": "code",
   "execution_count": 50,
   "id": "a8cfc299",
   "metadata": {},
   "outputs": [
    {
     "data": {
      "text/plain": [
       "Postdoc                 0.447285\n",
       "Academic unspecified    0.248608\n",
       "Promovierende           0.091586\n",
       "Prof                    0.076155\n",
       "Bot                     0.034989\n",
       "Media                   0.027615\n",
       "Student                 0.022951\n",
       "Institution             0.016823\n",
       "Union rep               0.013576\n",
       "Political rep           0.008985\n",
       "Jun. prof               0.007813\n",
       "Teacher                 0.003492\n",
       "Medical doctor          0.000122\n",
       "Name: user.group, dtype: float64"
      ]
     },
     "execution_count": 50,
     "metadata": {},
     "output_type": "execute_result"
    }
   ],
   "source": [
    "df_no_bots = df_date.loc[(df_date['user.group']!='Bot')& (df_date['user.group']!='Academic unspecified')]\n",
    "df_june_no_bots = df_june.loc[(df_june['user.group']!='Bot')& (df_june['user.group']!='Academic unspecified')]\n",
    "df_july_no_bots = df_july.loc[(df_july['user.group']!='Bot')& (df_july['user.group']!='Academic unspecified')]\n",
    "df_august_no_bots = df_august.loc[(df_august['user.group']!='Bot')& (df_august['user.group']!='Academic unspecified')]\n",
    "df_september_no_bots = df_september.loc[(df_september['user.group']!='Bot')& (df_september['user.group']!='Academic unspecified')]\n",
    "df_date['user.group'].value_counts()/40956"
   ]
  },
  {
   "cell_type": "code",
   "execution_count": 47,
   "id": "3e3271ea",
   "metadata": {},
   "outputs": [
    {
     "data": {
      "text/plain": [
       "Academic unspecified    0.361422\n",
       "Postdoc                 0.213867\n",
       "Promovierende           0.143822\n",
       "Prof                    0.112889\n",
       "Media                   0.052267\n",
       "Student                 0.050133\n",
       "Political rep           0.019911\n",
       "Teacher                 0.014578\n",
       "Institution             0.010667\n",
       "Union rep               0.009244\n",
       "Jun. prof               0.006044\n",
       "Bot                     0.004622\n",
       "Medical doctor          0.000533\n",
       "Name: user.group, dtype: float64"
      ]
     },
     "execution_count": 47,
     "metadata": {},
     "output_type": "execute_result"
    }
   ],
   "source": [
    "unique_users = df_date.drop_duplicates('author.username')\n",
    "unique_users['user.group'].value_counts()/5625"
   ]
  },
  {
   "cell_type": "code",
   "execution_count": 44,
   "id": "d325ac63",
   "metadata": {},
   "outputs": [
    {
     "data": {
      "text/plain": [
       "array(['diballestero', 'schuh_melissa', 'TimTheRose', ...,\n",
       "       'HetEconVienna', 'heinekenuwe', 'ProfCha0s84'], dtype=object)"
      ]
     },
     "execution_count": 44,
     "metadata": {},
     "output_type": "execute_result"
    }
   ],
   "source": []
  },
  {
   "cell_type": "code",
   "execution_count": 33,
   "id": "2313e8c5",
   "metadata": {},
   "outputs": [
    {
     "data": {
      "image/png": "[encoded data removed]",
      "text/plain": [
       "<Figure size 432x288 with 1 Axes>"
      ]
     },
     "metadata": {
      "needs_background": "light"
     },
     "output_type": "display_data"
    }
   ],
   "source": [
    "#whole data set\n",
    "df_no_bots['user.group'].hist()\n",
    "plt.title('User profile distribution of all tweets')\n",
    "plt.xlabel('User group')\n",
    "plt.xticks(rotation='vertical')\n",
    "plt.show()"
   ]
  },
  {
   "cell_type": "markdown",
   "id": "0c284f21",
   "metadata": {},
   "source": [
    "To get a broader picture and see if the participants of the discussion changed over time, the distribution is also shown for the single months"
   ]
  },
  {
   "cell_type": "code",
   "execution_count": 51,
   "id": "b0ef6c5a",
   "metadata": {},
   "outputs": [
    {
     "data": {
      "text/plain": [
       "Postdoc                 0.266762\n",
       "Academic unspecified    0.159053\n",
       "Promovierende           0.061544\n",
       "Prof                    0.053707\n",
       "Media                   0.019539\n",
       "Bot                     0.018707\n",
       "Student                 0.017070\n",
       "Institution             0.008965\n",
       "Political rep           0.007086\n",
       "Union rep               0.006656\n",
       "Jun. prof               0.005932\n",
       "Teacher                 0.002818\n",
       "Medical doctor          0.000134\n",
       "Name: user.group, dtype: float64"
      ]
     },
     "execution_count": 51,
     "metadata": {},
     "output_type": "execute_result"
    }
   ],
   "source": [
    "df_june['user.group'].value_counts()/len(df_june)"
   ]
  },
  {
   "cell_type": "code",
   "execution_count": 35,
   "id": "eb5811a7",
   "metadata": {},
   "outputs": [
    {
     "data": {
      "image/png": "[encoded data removed]",
      "text/plain": [
       "<Figure size 432x288 with 1 Axes>"
      ]
     },
     "metadata": {
      "needs_background": "light"
     },
     "output_type": "display_data"
    }
   ],
   "source": [
    "#distribution in June\n",
    "df_june_no_bots['user.group'].hist()\n",
    "plt.title('User profile distribution in June')\n",
    "plt.xlabel('User group')\n",
    "plt.xticks(rotation='vertical')\n",
    "plt.show()"
   ]
  },
  {
   "cell_type": "code",
   "execution_count": 52,
   "id": "0627cda1",
   "metadata": {},
   "outputs": [
    {
     "data": {
      "text/plain": [
       "Postdoc                 0.332283\n",
       "Academic unspecified    0.190441\n",
       "Promovierende           0.063187\n",
       "Prof                    0.055857\n",
       "Bot                     0.034233\n",
       "Media                   0.017593\n",
       "Institution             0.015027\n",
       "Student                 0.013854\n",
       "Union rep               0.009090\n",
       "Jun. prof               0.004325\n",
       "Political rep           0.004178\n",
       "Teacher                 0.002199\n",
       "Name: user.group, dtype: float64"
      ]
     },
     "execution_count": 52,
     "metadata": {},
     "output_type": "execute_result"
    }
   ],
   "source": [
    "df_july['user.group'].value_counts()/len(df_july)"
   ]
  },
  {
   "cell_type": "code",
   "execution_count": 37,
   "id": "ebd2551c",
   "metadata": {},
   "outputs": [
    {
     "data": {
      "image/png": "[encoded data removed]",
      "text/plain": [
       "<Figure size 432x288 with 1 Axes>"
      ]
     },
     "metadata": {
      "needs_background": "light"
     },
     "output_type": "display_data"
    }
   ],
   "source": [
    "#distribution in July\n",
    "df_july_no_bots['user.group'].hist()\n",
    "plt.title('User profile distribution in June')\n",
    "plt.xlabel('User group')\n",
    "plt.xticks(rotation='vertical')\n",
    "plt.show()"
   ]
  },
  {
   "cell_type": "code",
   "execution_count": 53,
   "id": "d3643c25",
   "metadata": {},
   "outputs": [
    {
     "data": {
      "text/plain": [
       "Postdoc                 0.383422\n",
       "Academic unspecified    0.165236\n",
       "Promovierende           0.062078\n",
       "Prof                    0.041081\n",
       "Bot                     0.036516\n",
       "Media                   0.016432\n",
       "Union rep               0.013511\n",
       "Student                 0.011868\n",
       "Institution             0.010407\n",
       "Political rep           0.005112\n",
       "Jun. prof               0.004930\n",
       "Teacher                 0.001278\n",
       "Name: user.group, dtype: float64"
      ]
     },
     "execution_count": 53,
     "metadata": {},
     "output_type": "execute_result"
    }
   ],
   "source": [
    "df_august['user.group'].value_counts()/len(df_august)"
   ]
  },
  {
   "cell_type": "code",
   "execution_count": 39,
   "id": "2234798d",
   "metadata": {},
   "outputs": [
    {
     "data": {
      "image/png": "[encoded data removed]",
      "text/plain": [
       "<Figure size 432x288 with 1 Axes>"
      ]
     },
     "metadata": {
      "needs_background": "light"
     },
     "output_type": "display_data"
    }
   ],
   "source": [
    "#distribution in August\n",
    "df_august_no_bots['user.group'].hist()\n",
    "plt.title('User profile distribution in June')\n",
    "plt.xlabel('User group')\n",
    "plt.xticks(rotation='vertical')\n",
    "plt.show()"
   ]
  },
  {
   "cell_type": "code",
   "execution_count": 54,
   "id": "a264b644",
   "metadata": {},
   "outputs": [
    {
     "data": {
      "text/plain": [
       "Postdoc                 0.392144\n",
       "Academic unspecified    0.169024\n",
       "Promovierende           0.057464\n",
       "Prof                    0.029405\n",
       "Union rep               0.024691\n",
       "Institution             0.020875\n",
       "Media                   0.016386\n",
       "Bot                     0.015488\n",
       "Student                 0.011223\n",
       "Political rep           0.004265\n",
       "Jun. prof               0.002918\n",
       "Teacher                 0.000224\n",
       "Name: user.group, dtype: float64"
      ]
     },
     "execution_count": 54,
     "metadata": {},
     "output_type": "execute_result"
    }
   ],
   "source": [
    "df_september['user.group'].value_counts()/len(df_september)"
   ]
  },
  {
   "cell_type": "code",
   "execution_count": 41,
   "id": "973c6911",
   "metadata": {},
   "outputs": [
    {
     "data": {
      "image/png": "[encoded data removed]",
      "text/plain": [
       "<Figure size 432x288 with 1 Axes>"
      ]
     },
     "metadata": {
      "needs_background": "light"
     },
     "output_type": "display_data"
    }
   ],
   "source": [
    "#distribution in August\n",
    "df_september_no_bots['user.group'].hist()\n",
    "plt.title('User profile distribution in June')\n",
    "plt.xlabel('User group')\n",
    "plt.xticks(rotation='vertical')\n",
    "plt.show()"
   ]
  }
 ],
 "metadata": {
  "kernelspec": {
   "display_name": "Python 3 (ipykernel)",
   "language": "python",
   "name": "python3"
  },
  "language_info": {
   "codemirror_mode": {
    "name": "ipython",
    "version": 3
   },
   "file_extension": ".py",
   "mimetype": "text/x-python",
   "name": "python",
   "nbconvert_exporter": "python",
   "pygments_lexer": "ipython3",
   "version": "3.8.5"
  }
 },
 "nbformat": 4,
 "nbformat_minor": 5
}
