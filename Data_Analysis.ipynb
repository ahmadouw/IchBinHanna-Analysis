{
 "cells": [
  {
   "cell_type": "markdown",
   "id": "38bee7b8",
   "metadata": {},
   "source": [
    "# Basic Analysis"
   ]
  },
  {
   "cell_type": "markdown",
   "id": "ce0e1439",
   "metadata": {},
   "source": [
    "## Tweet and user volume"
   ]
  },
  {
   "cell_type": "code",
   "execution_count": 1,
   "id": "e25754fb",
   "metadata": {},
   "outputs": [],
   "source": [
    "import pandas as pd\n",
    "import numpy as np\n",
    "import warnings\n",
    "import re\n",
    "import itertools\n",
    "import collections\n",
    "from datetime import datetime\n",
    "from matplotlib import pyplot as plt\n",
    "import nltk\n",
    "from nltk.corpus import stopwords\n",
    "warnings.filterwarnings('ignore')"
   ]
  },
  {
   "cell_type": "code",
   "execution_count": 2,
   "id": "b8e0025e",
   "metadata": {},
   "outputs": [],
   "source": [
    "df = pd.read_csv ('data/tweets/IchBinHanna.csv')\n",
    "df= df[['author.description', 'author.id', 'author.name', 'author.public_metrics.followers_count', 'author.public_metrics.following_count', 'author.username', 'author_id', 'created_at', 'id', 'lang', 'public_metrics.retweet_count','text', 'hashtags','reference_type','wanted_tag']]\n",
    "user_profiles = pd.read_csv('data/tweets/TwitterUserClassification.csv')\n",
    "user_merge = user_profiles[['author.id', 'user.group']]\n",
    "df = df.merge(user_merge)"
   ]
  },
  {
   "cell_type": "code",
   "execution_count": 3,
   "id": "0d19f4bd",
   "metadata": {},
   "outputs": [],
   "source": [
    "#only keep tweets from 01/06/2021 - 30/09/2021\n",
    "df['new_date'] = pd.to_datetime(df['created_at']).dt.strftime('%Y-%m-%d %H:%M:%S')\n",
    "df_date = df.loc[(df['new_date'] > '2021-06-01 00:00:00') & (df['new_date'] <= '2021-09-30 23:59:59')]"
   ]
  },
  {
   "cell_type": "code",
   "execution_count": 4,
   "id": "4a7faab9",
   "metadata": {},
   "outputs": [
    {
     "name": "stdout",
     "output_type": "stream",
     "text": [
      "111334\n",
      "13948\n"
     ]
    }
   ],
   "source": [
    "#number of total tweets\n",
    "print(df.shape[0])\n",
    "#number of total unique users\n",
    "print(len(pd.unique(df['author.id'])))"
   ]
  },
  {
   "cell_type": "code",
   "execution_count": 5,
   "id": "10f35d60",
   "metadata": {
    "scrolled": true
   },
   "outputs": [
    {
     "name": "stdout",
     "output_type": "stream",
     "text": [
      "de     95119\n",
      "en     12403\n",
      "und     3111\n",
      "fr       246\n",
      "ja        57\n",
      "es        47\n",
      "nl        44\n",
      "is        29\n",
      "it        28\n",
      "da        21\n",
      "pt        20\n",
      "lt        18\n",
      "no        14\n",
      "tr        14\n",
      "pl        14\n",
      "ca        12\n",
      "sv        10\n",
      "ro         5\n",
      "et         4\n",
      "hi         4\n",
      "tl         3\n",
      "fi         3\n",
      "ar         3\n",
      "in         3\n",
      "lv         3\n",
      "cs         2\n",
      "fa         2\n",
      "cy         2\n",
      "vi         1\n",
      "zh         1\n",
      "ht         1\n",
      "eu         1\n",
      "Name: lang, dtype: int64\n"
     ]
    }
   ],
   "source": [
    "#List the distribution of languages in the tweets (important for preprocessing (stopwords etc.))\n",
    "print(df_date['lang'].value_counts())"
   ]
  },
  {
   "cell_type": "markdown",
   "id": "46d79d2d",
   "metadata": {},
   "source": [
    "As tweets with undefined language mostly consist of only hashtags, URls or emojis, they will be discarded. Otherwise only german and english tweets are kept for the analysis"
   ]
  },
  {
   "cell_type": "code",
   "execution_count": 6,
   "id": "306eedeb",
   "metadata": {},
   "outputs": [],
   "source": [
    "df_date = df_date.loc[(df_date['lang'] == \"de\") | (df_date['lang'] == \"en\")]"
   ]
  },
  {
   "cell_type": "code",
   "execution_count": 7,
   "id": "53a1344c",
   "metadata": {
    "scrolled": true
   },
   "outputs": [
    {
     "name": "stdout",
     "output_type": "stream",
     "text": [
      "107522\n",
      "13611\n",
      "author.description                       102709\n",
      "author.id                                107522\n",
      "author.name                              107522\n",
      "author.public_metrics.followers_count    107522\n",
      "author.public_metrics.following_count    107522\n",
      "author.username                          107522\n",
      "author_id                                107522\n",
      "created_at                               107522\n",
      "id                                       107522\n",
      "lang                                     107522\n",
      "public_metrics.retweet_count             107522\n",
      "text                                     107522\n",
      "hashtags                                  69374\n",
      "reference_type                           107522\n",
      "wanted_tag                               107522\n",
      "user.group                                75129\n",
      "new_date                                 107522\n",
      "dtype: int64\n"
     ]
    }
   ],
   "source": [
    "pd.set_option('display.max_rows', 100)\n",
    "#number of remaining tweets\n",
    "print(df_date.shape[0])\n",
    "#number of remaining unique users\n",
    "print(len(pd.unique(df_date['author.id'])))\n",
    "#overview over \"missing values\"\n",
    "print(df_date.count())"
   ]
  },
  {
   "cell_type": "code",
   "execution_count": 8,
   "id": "dd518bef",
   "metadata": {},
   "outputs": [
    {
     "data": {
      "text/plain": [
       "<AxesSubplot:xlabel='week'>"
      ]
     },
     "execution_count": 8,
     "metadata": {},
     "output_type": "execute_result"
    },
    {
     "data": {
      "image/png": "[encoded data removed]",
      "text/plain": [
       "<Figure size 432x288 with 1 Axes>"
      ]
     },
     "metadata": {
      "needs_background": "light"
     },
     "output_type": "display_data"
    }
   ],
   "source": [
    "week_groups = df_date.groupby([pd.to_datetime(df_date['new_date']).dt.isocalendar().week]).size()\n",
    "week_groups.plot(kind='bar', legend = False)"
   ]
  },
  {
   "cell_type": "code",
   "execution_count": 9,
   "id": "9aa08075",
   "metadata": {},
   "outputs": [],
   "source": [
    "df_june = df_date.loc[(df_date['new_date'] > '2021-06-01 00:00:00') & (df_date['new_date'] <= '2021-06-30 23:59:59')]\n",
    "df_july = df_date.loc[(df_date['new_date'] > '2021-07-01 00:00:00') & (df_date['new_date'] <= '2021-07-31 23:59:59')]\n",
    "df_august = df_date.loc[(df_date['new_date'] > '2021-08-01 00:00:00') & (df_date['new_date'] <= '2021-08-31 23:59:59')]\n",
    "df_september = df_date.loc[(df_date['new_date'] > '2021-09-01 00:00:00') & (df_date['new_date'] <= '2021-09-30 23:59:59')]"
   ]
  },
  {
   "cell_type": "code",
   "execution_count": 10,
   "id": "da11f223",
   "metadata": {},
   "outputs": [
    {
     "data": {
      "text/plain": [
       "<AxesSubplot:xlabel='new_date'>"
      ]
     },
     "execution_count": 10,
     "metadata": {},
     "output_type": "execute_result"
    },
    {
     "data": {
      "image/png": "[encoded data removed]",
      "text/plain": [
       "<Figure size 432x288 with 2 Axes>"
      ]
     },
     "metadata": {
      "needs_background": "light"
     },
     "output_type": "display_data"
    }
   ],
   "source": [
    "june_groups = df_june.groupby([pd.to_datetime(df_june['new_date']).dt.day]).size()\n",
    "plt.subplot(1, 2, 1)\n",
    "june_groups.plot(kind='bar', legend = False)\n",
    "july_groups = df_july.groupby([pd.to_datetime(df_july['new_date']).dt.day]).size()\n",
    "plt.subplot(1, 2, 2)\n",
    "july_groups.plot(kind='bar', legend = False)"
   ]
  },
  {
   "cell_type": "code",
   "execution_count": 11,
   "id": "25a69ee6",
   "metadata": {},
   "outputs": [
    {
     "data": {
      "image/png": "[encoded data removed]",
      "text/plain": [
       "<Figure size 432x288 with 2 Axes>"
      ]
     },
     "metadata": {
      "needs_background": "light"
     },
     "output_type": "display_data"
    }
   ],
   "source": [
    "august_groups = df_august.groupby([pd.to_datetime(df_august['new_date']).dt.day]).size()\n",
    "plt.subplot(1, 2, 1)\n",
    "august_groups.plot(kind='bar', legend = False)\n",
    "september_groups = df_september.groupby([pd.to_datetime(df_september['new_date']).dt.day]).size()\n",
    "plt.subplot(1, 2, 2)\n",
    "september_groups.plot(kind='bar', legend = False)\n",
    "plt.xticks(rotation ='vertical')\n",
    "plt.show()"
   ]
  },
  {
   "cell_type": "markdown",
   "id": "82c7b854",
   "metadata": {},
   "source": [
    "## Missing Hashtag-Problem"
   ]
  },
  {
   "cell_type": "code",
   "execution_count": 12,
   "id": "8a97f5c8",
   "metadata": {},
   "outputs": [
    {
     "name": "stdout",
     "output_type": "stream",
     "text": [
      "60680\n"
     ]
    }
   ],
   "source": [
    "#number of tweets actually containing the hashtag\n",
    "df_hash = df_date[df_date['text'].str.contains(\"#ichbinhanna\", case = False)]\n",
    "print(df_hash.shape[0])"
   ]
  },
  {
   "cell_type": "code",
   "execution_count": 13,
   "id": "b7f401bd",
   "metadata": {},
   "outputs": [
    {
     "name": "stdout",
     "output_type": "stream",
     "text": [
      "46842\n"
     ]
    }
   ],
   "source": [
    "#number of tweets not containing the hashtag directly\n",
    "df_no_hash = df_date[-df_date['text'].str.contains(\"#ichbinhanna\", case = False)]\n",
    "print(df_no_hash.shape[0])"
   ]
  },
  {
   "cell_type": "code",
   "execution_count": 14,
   "id": "dc0428be",
   "metadata": {
    "scrolled": true
   },
   "outputs": [
    {
     "name": "stdout",
     "output_type": "stream",
     "text": [
      "43217\n",
      "40859\n"
     ]
    }
   ],
   "source": [
    "#number of tweets without the hashtag that are retweets (text from original tweet cut off)\n",
    "print(df_no_hash[df_no_hash['reference_type'] == 'retweeted'].shape[0])\n",
    "#number of tweets with the hashtag that are retweets\n",
    "print(df_hash[df_hash['reference_type'] == 'retweeted'].shape[0])"
   ]
  },
  {
   "cell_type": "code",
   "execution_count": 15,
   "id": "d594d880",
   "metadata": {},
   "outputs": [
    {
     "data": {
      "text/plain": [
       "1         Hanna is probably packing her/his/they suitcas...\n",
       "5         Are you tired of the rigors of academic produc...\n",
       "7         Thread about conference lectures, stress and e...\n",
       "21        An argument typical of the capitalist and merc...\n",
       "36        If we continue to discuss these issues in Germ...\n",
       "                                ...                        \n",
       "111299    \"Was ich hier im Bildungswesen beobachte, ist ...\n",
       "111300    \"Was ich hier im Bildungswesen beobachte, ist ...\n",
       "111307    if academia doesn’t work out, i will just over...\n",
       "111317    \"Ich vergleiche es mit dem Spiel Reise nach Je...\n",
       "111321    @jenniferhenkeHB @mlewandowsky Mehr Geld oder ...\n",
       "Name: text, Length: 3625, dtype: object"
      ]
     },
     "execution_count": 15,
     "metadata": {},
     "output_type": "execute_result"
    }
   ],
   "source": [
    "test =df_no_hash['text'].loc[df_no_hash['reference_type'] != 'retweeted']\n",
    "test"
   ]
  },
  {
   "cell_type": "code",
   "execution_count": 16,
   "id": "9eb022e5",
   "metadata": {},
   "outputs": [
    {
     "name": "stdout",
     "output_type": "stream",
     "text": [
      "retweeted       40859\n",
      "no_reference     8038\n",
      "quoted           6221\n",
      "replied_to       5562\n",
      "Name: reference_type, dtype: int64\n",
      "retweeted       43217\n",
      "replied_to       2446\n",
      "no_reference      717\n",
      "quoted            462\n",
      "Name: reference_type, dtype: int64\n"
     ]
    }
   ],
   "source": [
    "print(df_hash['reference_type'].value_counts())\n",
    "print(df_no_hash['reference_type'].value_counts())"
   ]
  },
  {
   "cell_type": "markdown",
   "id": "07e902a8",
   "metadata": {},
   "source": [
    "As a majority of those tweets are retweets that are mostly cut off due to the character constraint, a first approach is to exclude retweets directly for the sentiment analysis, as the original tweet (as long as it falls into our time frame) is most likely in the collection as well. If certain users or networks have to be observed, the whole data set might be of more interest."
   ]
  },
  {
   "cell_type": "code",
   "execution_count": 17,
   "id": "578b3a45",
   "metadata": {},
   "outputs": [],
   "source": [
    "#for further investigation\n",
    "compression_opts = dict(method='zip',\n",
    "                        archive_name='out.csv')  \n",
    "df_no_hash.to_csv('out.zip', index=False,\n",
    "          compression=compression_opts) "
   ]
  },
  {
   "cell_type": "markdown",
   "id": "12dfc527",
   "metadata": {},
   "source": [
    "## Get top hashtags appearing in tweets along with #IchBinHanna in september"
   ]
  },
  {
   "cell_type": "code",
   "execution_count": 18,
   "id": "aa428a1b",
   "metadata": {},
   "outputs": [],
   "source": [
    "#make the hashtags a list of strings, then adapt the monthly data frames, also remove tweets not containing the hashtag,\n",
    "#but keep retweets for this part of the analysis\n",
    "df_date = df_hash\n",
    "df_date['hashtags'] = df_hash['hashtags'].str.replace('[', '').str.replace(']','')\n",
    "df_date['hashtags separated'] = df_date['hashtags'].str.split(',')\n",
    "df_september = df_date.loc[(df_date['new_date'] > '2021-09-01 00:00:00') & (df_date['new_date'] <= '2021-09-30 23:59:59')]\n",
    "df_june = df_date.loc[(df_date['new_date'] > '2021-06-01 00:00:00') & (df_date['new_date'] <= '2021-06-30 23:59:59')]\n",
    "df_july = df_date.loc[(df_date['new_date'] > '2021-07-01 00:00:00') & (df_date['new_date'] <= '2021-07-31 23:59:59')]\n",
    "df_august = df_date.loc[(df_date['new_date'] > '2021-08-01 00:00:00') & (df_date['new_date'] <= '2021-08-31 23:59:59')]\n",
    "june_groups = df_june.groupby([pd.to_datetime(df_june['new_date']).dt.day]).size()\n",
    "july_groups = df_july.groupby([pd.to_datetime(df_july['new_date']).dt.day]).size()\n",
    "august_groups = df_august.groupby([pd.to_datetime(df_august['new_date']).dt.day]).size()\n",
    "september_groups = df_september.groupby([pd.to_datetime(df_september['new_date']).dt.day]).size()"
   ]
  },
  {
   "cell_type": "code",
   "execution_count": 19,
   "id": "1323e7c9",
   "metadata": {},
   "outputs": [
    {
     "name": "stdout",
     "output_type": "stream",
     "text": [
      "4473\n",
      "36954\n",
      "13750\n",
      "5503\n"
     ]
    }
   ],
   "source": [
    "print(len(df_september))\n",
    "print(len(df_june))\n",
    "print(len(df_july))\n",
    "print(len(df_august))"
   ]
  },
  {
   "cell_type": "code",
   "execution_count": 20,
   "id": "27a2c2a2",
   "metadata": {},
   "outputs": [],
   "source": [
    "#flatten the lists to count occurences of all strings and drop all variations of #IchBinHanna\n",
    "flat_hashtags = df_september['hashtags separated'].explode().to_frame().dropna()\n",
    "flat_hashtags = flat_hashtags[-flat_hashtags['hashtags separated'].str.contains(\"ichbinhanna\", case = False)]"
   ]
  },
  {
   "cell_type": "code",
   "execution_count": 21,
   "id": "d9654cc1",
   "metadata": {},
   "outputs": [],
   "source": [
    "#count occurences \n",
    "hashtag_count = flat_hashtags.value_counts()\n",
    "hashtag_count = hashtag_count[hashtag_count > 10].reset_index()"
   ]
  },
  {
   "cell_type": "code",
   "execution_count": 22,
   "id": "3968c1b2",
   "metadata": {},
   "outputs": [],
   "source": [
    "#for further investigation\n",
    "compression_opts = dict(method='zip',\n",
    "                        archive_name='top_hashtags.csv')  \n",
    "hashtag_count.to_csv('out.zip', index=False,\n",
    "          compression=compression_opts) "
   ]
  },
  {
   "cell_type": "markdown",
   "id": "5b398355",
   "metadata": {},
   "source": [
    "## Identify Events by observing spikes in tweet volume"
   ]
  },
  {
   "cell_type": "code",
   "execution_count": 23,
   "id": "03f0bd13",
   "metadata": {
    "scrolled": true
   },
   "outputs": [
    {
     "name": "stdout",
     "output_type": "stream",
     "text": [
      "Highest activity in June:\n",
      "new_date\n",
      "11    5951\n",
      "10    4486\n",
      "24    4092\n",
      "25    2983\n",
      "14    1846\n",
      "17    1666\n",
      "30    1526\n",
      "12    1499\n",
      "13    1424\n",
      "26    1261\n",
      "dtype: int64\n",
      "Highest activity in July:\n",
      "new_date\n",
      "1     1478\n",
      "9     1273\n",
      "2     1056\n",
      "8     1052\n",
      "6      712\n",
      "7      700\n",
      "12     677\n",
      "16     509\n",
      "13     486\n",
      "10     478\n",
      "dtype: int64\n",
      "Highest activity in August:\n",
      "new_date\n",
      "3     496\n",
      "25    445\n",
      "2     396\n",
      "12    370\n",
      "4     349\n",
      "10    277\n",
      "26    271\n",
      "23    269\n",
      "11    209\n",
      "20    208\n",
      "dtype: int64\n",
      "Highest activity in September:\n",
      "new_date\n",
      "10    399\n",
      "29    367\n",
      "23    285\n",
      "6     246\n",
      "2     245\n",
      "7     230\n",
      "24    201\n",
      "1     198\n",
      "11    193\n",
      "22    175\n",
      "dtype: int64\n"
     ]
    }
   ],
   "source": [
    "print(\"Highest activity in June:\\n{}\".format(june_groups.sort_values(ascending = False).head(10)))\n",
    "print(\"Highest activity in July:\\n{}\".format(july_groups.sort_values(ascending = False).head(10)))\n",
    "print(\"Highest activity in August:\\n{}\".format(august_groups.sort_values(ascending = False).head(10)))\n",
    "print(\"Highest activity in September:\\n{}\".format(september_groups.sort_values(ascending = False).head(10)))"
   ]
  },
  {
   "cell_type": "markdown",
   "id": "ca01010c",
   "metadata": {},
   "source": [
    "### First approach: search for most frequent words in tweets with the hashtag for the days with the highest activity\n",
    "\n",
    "Retweets are kept here, as they give an indication about the engagement of a topic and reflect that in a higher word count for frequently discussed themes."
   ]
  },
  {
   "cell_type": "code",
   "execution_count": 24,
   "id": "95cefc9e",
   "metadata": {},
   "outputs": [],
   "source": [
    "#First step: process the raw text data\n",
    "#remove linebreaks separately\n",
    "df_date['processed text'] = df_date['text'].replace(r'\\\\n',  ' ', regex=True)\n",
    "#function to remove URLs, punctuation, @ etc. (source: https://www.earthdatascience.org/courses/use-data-open-source-python/intro-to-apis/calculate-tweet-word-frequencies-in-python/)\n",
    "def rem_url(tweet):\n",
    "     return \" \".join(re.sub(\"([^0-9A-Za-zßäöü \\t])|(\\w+:\\/\\/\\S+)\", \" \", tweet).split())\n",
    "df_date['processed text'] = df_date['processed text'].apply(rem_url)"
   ]
  },
  {
   "cell_type": "code",
   "execution_count": 25,
   "id": "c70cb58f",
   "metadata": {},
   "outputs": [],
   "source": [
    "#lowercases and tokenize text\n",
    "df_date['processed text'] = df_date['processed text'].str.lower().str.split()"
   ]
  },
  {
   "cell_type": "code",
   "execution_count": 26,
   "id": "69fa71b4",
   "metadata": {},
   "outputs": [
    {
     "name": "stderr",
     "output_type": "stream",
     "text": [
      "[nltk_data] Downloading package stopwords to\n",
      "[nltk_data]     C:\\Users\\Admin\\AppData\\Roaming\\nltk_data...\n",
      "[nltk_data]   Package stopwords is already up-to-date!\n"
     ]
    }
   ],
   "source": [
    "#remove german and english stopwords (separately for the given language of a tweet)\n",
    "nltk.download(\"stopwords\")\n",
    "german_stop = set(stopwords.words('german'))\n",
    "english_stop = set(stopwords.words('english'))\n",
    "df_date['processed w/o stopwords'] = df_date[['processed text','lang']].apply(lambda x: ' '.join([word for word in x['processed text'] if word not in (english_stop)]).split() if x['lang'] == 'en' else ' '.join([word for word in x['processed text'] if word not in (german_stop)]).split(),axis=1)"
   ]
  },
  {
   "cell_type": "code",
   "execution_count": 27,
   "id": "c115f012",
   "metadata": {},
   "outputs": [],
   "source": [
    "#remove all words consisting of only one character (isn'\"t\", it'\"s\" etc.)\n",
    "df_date['processed w/o stopwords'] = df_date['processed w/o stopwords'].apply(lambda x: [word for word in x if len(word) > 2])"
   ]
  },
  {
   "cell_type": "code",
   "execution_count": 28,
   "id": "56bd5370",
   "metadata": {
    "scrolled": true
   },
   "outputs": [
    {
     "data": {
      "text/plain": [
       "[('ichbinhanna', 59081),\n",
       " ('innen', 6207),\n",
       " ('amreibahr', 5617),\n",
       " ('bund', 5322),\n",
       " ('amp', 5096),\n",
       " ('bmbf', 5052),\n",
       " ('wissenschaft', 4535),\n",
       " ('wisszeitvg', 4396),\n",
       " ('hanna', 4067),\n",
       " ('wissenschaftler', 3641),\n",
       " ('drkeichhorn', 3420),\n",
       " ('viele', 3175),\n",
       " ('mehr', 2962),\n",
       " ('german', 2832),\n",
       " ('mal', 2485),\n",
       " ('heute', 2442),\n",
       " ('ichbinhannah', 2251),\n",
       " ('system', 2232),\n",
       " ('geht', 2091),\n",
       " ('schon', 1965),\n",
       " ('anjakarliczek', 1828),\n",
       " ('gibt', 1822),\n",
       " ('gew', 1763),\n",
       " ('gerade', 1756),\n",
       " ('hannaimbundestag', 1721)]"
      ]
     },
     "execution_count": 28,
     "metadata": {},
     "output_type": "execute_result"
    }
   ],
   "source": [
    "#most frequent words overall\n",
    "all_words = list(itertools.chain(*df_date['processed w/o stopwords']))\n",
    "total_word_count = collections.Counter(all_words)\n",
    "total_word_count.most_common(25)"
   ]
  },
  {
   "cell_type": "code",
   "execution_count": 29,
   "id": "5b8f9503",
   "metadata": {},
   "outputs": [],
   "source": [
    "#remove additional stopwords encountered (like \"innen\" which occurs because of gendering in german), as well as the hashtag itself, rt etc.\n",
    "add_stop_all = [\"rt\", \"ichbinhanna\", \"hanna\", \"amp\"]\n",
    "add_stop_ger = [\"mehr\", \"mal\", \"innen\", \"ja\", \"schon\"]\n",
    "add_stop_en = []\n",
    "df_date['processed w/o stopwords'] = df_date[['processed w/o stopwords','lang']].apply(lambda x: ' '.join([word for word in x['processed w/o stopwords'] if word not in (add_stop_all) and word not in  (add_stop_en)]).split() if x['lang'] == 'en' else ' '.join([word for word in x['processed w/o stopwords'] if word not in (add_stop_all) and word not in  (add_stop_ger)]).split(),axis=1)"
   ]
  },
  {
   "cell_type": "code",
   "execution_count": 30,
   "id": "24785bc4",
   "metadata": {
    "scrolled": true
   },
   "outputs": [
    {
     "name": "stdout",
     "output_type": "stream",
     "text": [
      "10.06.:\n",
      "[('wissenschaftler', 935), ('teilen', 781), ('wisszeitvg', 622), ('prekären', 592), ('befristet', 591), ('nachwuchs', 569), ('momentan', 532), ('status', 532), ('angestellte', 531), ('degneranja', 530), ('wissenschaft', 513), ('bmbf', 474), ('german', 340), ('viele', 314), ('innovation', 300), ('gerade', 266), ('deutschland', 259), ('sagt', 248), ('tatsächlich', 248), ('trending', 245), ('kontext', 244), ('sorgt', 242), ('schwere', 241), ('sahiralsaid', 239), ('fördere', 239)]\n",
      "11.06.:\n",
      "[('wissenschaftler', 794), ('german', 737), ('wissenschaft', 645), ('system', 598), ('viele', 591), ('teilen', 588), ('trending', 575), ('academic', 544), ('gerade', 427), ('bmbf', 374), ('academia', 334), ('since', 321), ('wisszeitvg', 315), ('know', 315), ('befristungen', 309), ('martin', 300), ('everyone', 296), ('pia', 296), ('tweets', 295), ('lamberty', 295), ('befristet', 294), ('übrigens', 293), ('messed', 293), ('hebart', 292), ('prekären', 291)]\n",
      "24.06.:\n",
      "[('hannaimbundestag', 1075), ('geht', 411), ('bundestag', 340), ('wissenschaft', 337), ('anjakarliczek', 320), ('heute', 257), ('wisszeitvg', 246), ('debatte', 209), ('german', 195), ('bmbf', 187), ('amreibahr', 180), ('stunde', 169), ('bund', 166), ('sitte', 154), ('cdu', 152), ('karliczek', 151), ('winnerling', 149), ('wissenschaftler', 143), ('petra', 141), ('dorothee', 136), ('goetze', 136), ('argumente', 131), ('jenniferhenkehb', 130), ('los', 125), ('sebastiankubon', 123)]\n",
      "25.06.:\n",
      "[('chef', 1062), ('achimlandwehr', 990), ('dekan', 988), ('viele', 877), ('professor', 868), ('hannaimbundestag', 329), ('bund', 191), ('anjakarliczek', 189), ('amreibahr', 170), ('bmbf', 158), ('liebe', 133), ('diskussion', 128), ('wissenschaft', 116), ('profs', 112), ('wisszeitvg', 111), ('karliczek', 106), ('heute', 105), ('brauchen', 102), ('gew', 93), ('geht', 90), ('wurde', 84), ('hochschulleitungen', 83), ('stimmen', 83), ('thread', 82), ('hannaimbundes', 79)]\n",
      "17.06.:\n",
      "[('gibt', 368), ('wisszeitvg', 269), ('wissenschaftler', 232), ('bmbf', 203), ('artikel', 183), ('wegen', 180), ('mehrreiber', 179), ('suche', 177), ('wissenschaftsbetr', 176), ('winnerling', 172), ('gelernt', 172), ('fehlwahrnehmung', 170), ('denken', 169), ('verbreitete', 168), ('bund', 151), ('amreibahr', 145), ('drkeichhorn', 133), ('wissenschaft', 116), ('tazgezwitscher', 79), ('video', 78), ('macht', 74), ('liebe', 73), ('bitte', 70), ('danke', 68), ('hashtag', 64)]\n",
      "30.06.:\n",
      "[('anjakarliczek', 325), ('wirsindhanna', 191), ('wisszeitvg', 167), ('bund', 156), ('doktorvater', 147), ('gespräch', 141), ('selbstwahrnehmung', 136), ('join', 125), ('rät', 123), ('überhöhte', 123), ('vlt', 121), ('außenwahr', 116), ('erklärung', 99), ('wissenschaftsverbänden', 95), ('gew', 94), ('anschlussverwendung', 93), ('wissenschaft', 86), ('bmbf', 82), ('vhdtweets', 81), ('contracts', 76), ('ichbinhannah', 73), ('drkeichhorn', 72), ('support', 72), ('prekarität', 72), ('wissenschaftlicher', 72)]\n",
      "01.07.:\n",
      "[('gew', 214), ('bund', 194), ('hannabeidergew', 182), ('sollten', 132), ('drkeichhorn', 115), ('ichbinhannah', 99), ('wirsindhanna', 98), ('wisszeitvg', 97), ('kinofrau1', 96), ('janalasser', 95), ('bmbf', 93), ('akellergew', 86), ('amreibahr', 83), ('english', 82), ('arbeit', 75), ('hashtag', 73), ('geht', 71), ('uni', 71), ('karliczek', 68), ('danielhornuff', 68), ('professor', 66), ('äußern', 66), ('reaktionen', 64), ('grund', 62), ('twitter', 60)]\n",
      "02.07.:\n",
      "[('bund', 166), ('amreibahr', 147), ('bmbf', 136), ('wisszeitvg', 113), ('gew', 105), ('karliczek', 99), ('wissen', 97), ('reaktionen', 87), ('krudes', 87), ('ausbeuterisches', 87), ('verständnis', 87), ('bewusst', 81), ('akellergew', 66), ('drkeichhorn', 52), ('neurowissenschaftlerin', 51), ('wirsindhanna', 48), ('hashtag', 48), ('beitrag', 46), ('mahaelhissy', 42), ('immer', 42), ('wissenschaft', 42), ('wdr3', 41), ('per', 39), ('gerade', 38), ('fachgesellschaften', 37)]\n",
      "09.07.:\n",
      "[('tagesthemen', 225), ('tilojung', 140), ('amreibahr', 135), ('bund', 112), ('lange', 92), ('heute', 86), ('regierungspressekonferenz', 83), ('früher', 83), ('debatte', 81), ('wisszeitvg', 79), ('bewegung', 79), ('thematisiert', 78), ('kanzlerin', 76), ('nieniewieder', 76), ('kind', 76), ('trotz', 75), ('studium', 75), ('erfahren', 74), ('merkel', 74), ('drkeichhorn', 74), ('dauerstellen', 72), ('kommentar', 72), ('fachlicher', 72), ('erfolge', 72), ('arbeiter', 68)]\n",
      "08.07.:\n",
      "[('amreibahr', 375), ('tagesthemen', 356), ('heute', 316), ('drkeichhorn', 241), ('dauerstellen', 166), ('einschalten', 159), ('niemand', 157), ('wort', 156), ('kommen', 154), ('uhr', 153), ('abend', 152), ('pwun', 151), ('debatte', 122), ('postdocs', 115), ('nochmal', 107), ('mitschreiben', 106), ('gefordert', 106), ('ford', 105), ('kommentar', 79), ('bund', 68), ('gew', 57), ('beitrag', 55), ('eigentlich', 46), ('wissenschaft', 45), ('fordert', 45)]\n",
      "03.08.:\n",
      "[('christine', 180), ('blume', 180), ('amreibahr', 157), ('german', 133), ('academia', 121), ('law', 104), ('researchers', 103), ('protests', 101), ('forces', 101), ('check', 98), ('correspondence', 97), ('drkeichhorn', 74), ('sebastiankubon', 74), ('heutejournal', 71), ('heute', 59), ('gerade', 59), ('abend', 49), ('mahaelhissy', 40), ('english', 34), ('kurzfristig', 32), ('erfahren', 32), ('erneut', 32), ('fernsehen', 32), ('schaltet', 32), ('uhr', 32)]\n",
      "04.08.:\n",
      "[('german', 68), ('bmbf', 58), ('amreibahr', 57), ('bund', 57), ('heutejournal', 56), ('naturehumbehav', 52), ('academia', 52), ('law', 48), ('forces', 48), ('researchers', 48), ('wisszeitvg', 44), ('academics', 40), ('protest', 38), ('limiting', 38), ('christine', 38), ('blume', 38), ('numbe', 37), ('mahaelhissy', 36), ('drkeichhorn', 36), ('dhdinfo', 29), ('kam', 27), ('uni', 25), ('gestern', 25), ('ichbinhannah', 22), ('beitrag', 21)]\n",
      "25.08.:\n",
      "[('wissenschaft', 178), ('amreibahr', 159), ('befristungen', 131), ('deshalb', 126), ('gern', 126), ('findest', 125), ('großem', 125), ('stil', 125), ('total', 125), ('supi', 125), ('möchtest', 125), ('äußern', 125), ('ichbinreyhan', 56), ('torstenkathke', 34), ('berliner', 32), ('replik', 30), ('gute', 29), ('frage', 27), ('hilmarpreu', 26), ('mlunterfinanziert', 25), ('gibt', 23), ('beitrag', 23), ('jahn', 23), ('debatte', 22), ('reden', 22)]\n",
      "12.08.:\n",
      "[('amreibahr', 72), ('debatte', 61), ('drkeichhorn', 48), ('anjakarliczek', 44), ('jahn', 40), ('immer', 36), ('elternschaft', 35), ('janinefunke', 34), ('gerade', 31), ('genauso', 28), ('kindern', 27), ('befristungsbefürworter', 27), ('vorher', 26), ('gibt', 26), ('sorry', 26), ('liebe', 26), ('scheinargumente', 26), ('wiederzukäuen', 26), ('weiterarbeiten', 25), ('unterstützun', 24), ('forschung', 24), ('dauerstellen', 22), ('bund', 22), ('fehlt', 22), ('wissenschaft', 22)]\n",
      "26.08.:\n",
      "[('amreibahr', 66), ('wissenschaft', 51), ('drkeichhorn', 37), ('gern', 34), ('deshalb', 33), ('total', 32), ('findest', 31), ('befristungen', 31), ('großem', 31), ('stil', 31), ('supi', 31), ('möchtest', 31), ('äußern', 31), ('waspostdocswollen', 29), ('berlin', 22), ('unis', 21), ('professoren', 19), ('durchschnittlich', 19), ('700', 19), ('professorinnen', 19), ('gehört', 19), ('sebastiankubon', 19), ('gibt', 19), ('verdienen', 18), ('berliner', 18)]\n",
      "29.09.:\n",
      "[('entfristethanna', 114), ('gew', 56), ('bund', 56), ('drkeichhorn', 53), ('amreibahr', 52), ('ichbinreyhan', 47), ('heute', 45), ('chrizzy80', 34), ('aktivenkonferenz', 34), ('neue', 29), ('campus', 29), ('karriere', 29), ('einsatz', 28), ('interview', 27), ('gleich', 26), ('studium', 24), ('dlf', 21), ('erwartungen', 20), ('stellen', 18), ('diskussion', 18), ('bundesregierun', 18), ('wurde', 18), ('dauerstellen', 18), ('wer', 18), ('promotion', 17)]\n",
      "10.09.:\n",
      "[('seit', 160), ('amreibahr', 123), ('arbeitsverträge', 119), ('ende', 89), ('davon', 86), ('monate', 76), ('aktuellen', 74), ('hannainzahlen', 68), ('verträge', 66), ('vertrags', 58), ('erwerbsarbeitslosigkeit', 48), ('100', 47), ('jahre', 43), ('btw21', 43), ('anlässlich', 42), ('zahlen', 40), ('2023', 39), ('lasst', 39), ('ausmaße', 35), ('deutlich', 35), ('wissenschaftspolitische', 35), ('stipendien', 31), ('2009', 31), ('anzahl', 28), ('stip', 27)]\n",
      "02.09.:\n",
      "[('berlin', 47), ('wissenschaft', 43), ('akellergew', 28), ('heute', 27), ('neue', 24), ('befristung', 23), ('gew', 22), ('bund', 22), ('hannafürberlhg', 21), ('berliner', 21), ('geht', 20), ('grundmar', 20), ('gesetz', 20), ('majormrton2', 19), ('arbeitsbedingungen', 19), ('immer', 18), ('wege', 17), ('beschlossen', 17), ('rton', 17), ('glücklicher', 17), ('universitäten', 17), ('name', 16), ('physiker', 16), ('beruf', 16), ('typische', 16)]\n",
      "06.09.:\n",
      "[('amreibahr', 33), ('another', 28), ('heute', 28), ('bundestagswahl', 27), ('chance', 27), ('day', 26), ('life', 26), ('dropped', 26), ('son', 26), ('daycare', 26), ('pulled', 26), ('aside', 26), ('one', 26), ('caretakers', 26), ('dtruebutschek', 25), ('chastis', 25), ('nutzen', 22), ('wer', 21), ('tage', 21), ('lasst', 21), ('echte', 21), ('veränderung', 21), ('dahin', 21), ('nochmal', 21), ('richti', 20)]\n",
      "03.09.:\n",
      "[('berlin', 22), ('wissenschaft', 18), ('akellergew', 17), ('wissenschaftssystem', 17), ('deutsche', 16), ('zweierlei', 15), ('eindrücklich', 15), ('gezeigt', 15), ('erstens', 15), ('inhärent', 15), ('ungerecht', 15), ('zweiten', 14), ('grundmar', 14), ('gew', 13), ('bund', 12), ('online', 10), ('stellen', 9), ('mlunterfinanziert', 9), ('gute', 9), ('arbeit', 9), ('wer', 9), ('hilmarpreu', 8), ('ichbinreyhan', 8), ('trifft', 8), ('statt', 8)]\n"
     ]
    }
   ],
   "source": [
    "#get most frequent terms for days with highest tweet volume per month\n",
    "current_day = df_date.loc[(df_date['new_date'] > '2021-06-10 00:00:00') & (df_date['new_date'] <= '2021-06-10 23:59:59')]\n",
    "daily_words = list(itertools.chain(*current_day['processed w/o stopwords']))\n",
    "daily_word_count = collections.Counter(daily_words)\n",
    "print(\"10.06.:\\n{}\".format(daily_word_count.most_common(25)))\n",
    "current_day = df_date.loc[(df_date['new_date'] > '2021-06-11 00:00:00') & (df_date['new_date'] <= '2021-06-11 23:59:59') ]\n",
    "daily_words = list(itertools.chain(*current_day['processed w/o stopwords']))\n",
    "daily_word_count = collections.Counter(daily_words)\n",
    "print(\"11.06.:\\n{}\".format(daily_word_count.most_common(25)))\n",
    "current_day = df_date.loc[(df_date['new_date'] > '2021-06-24 00:00:00') & (df_date['new_date'] <= '2021-06-24 23:59:59') ]\n",
    "daily_words = list(itertools.chain(*current_day['processed w/o stopwords']))\n",
    "daily_word_count = collections.Counter(daily_words)\n",
    "print(\"24.06.:\\n{}\".format(daily_word_count.most_common(25)))\n",
    "current_day = df_date.loc[(df_date['new_date'] > '2021-06-25 00:00:00') & (df_date['new_date'] <= '2021-06-25 23:59:59') ]\n",
    "daily_words = list(itertools.chain(*current_day['processed w/o stopwords']))\n",
    "daily_word_count = collections.Counter(daily_words)\n",
    "print(\"25.06.:\\n{}\".format(daily_word_count.most_common(25)))\n",
    "current_day = df_date.loc[(df_date['new_date'] > '2021-06-17 00:00:00') & (df_date['new_date'] <= '2021-06-17 23:59:59') ]\n",
    "daily_words = list(itertools.chain(*current_day['processed w/o stopwords']))\n",
    "daily_word_count = collections.Counter(daily_words)\n",
    "print(\"17.06.:\\n{}\".format(daily_word_count.most_common(25)))\n",
    "current_day = df_date.loc[(df_date['new_date'] > '2021-06-30 00:00:00') & (df_date['new_date'] <= '2021-06-30 23:59:59') ]\n",
    "daily_words = list(itertools.chain(*current_day['processed w/o stopwords']))\n",
    "daily_word_count = collections.Counter(daily_words)\n",
    "print(\"30.06.:\\n{}\".format(daily_word_count.most_common(25)))\n",
    "current_day = df_date.loc[(df_date['new_date'] > '2021-07-01 00:00:00') & (df_date['new_date'] <= '2021-07-01 23:59:59') ]\n",
    "daily_words = list(itertools.chain(*current_day['processed w/o stopwords']))\n",
    "daily_word_count = collections.Counter(daily_words)\n",
    "print(\"01.07.:\\n{}\".format(daily_word_count.most_common(25)))\n",
    "current_day = df_date.loc[(df_date['new_date'] > '2021-07-02 00:00:00') & (df_date['new_date'] <= '2021-07-02 23:59:59') ]\n",
    "daily_words = list(itertools.chain(*current_day['processed w/o stopwords']))\n",
    "daily_word_count = collections.Counter(daily_words)\n",
    "print(\"02.07.:\\n{}\".format(daily_word_count.most_common(25)))\n",
    "current_day = df_date.loc[(df_date['new_date'] > '2021-07-09 00:00:00') & (df_date['new_date'] <= '2021-07-09 23:59:59') ]\n",
    "daily_words = list(itertools.chain(*current_day['processed w/o stopwords']))\n",
    "daily_word_count = collections.Counter(daily_words)\n",
    "print(\"09.07.:\\n{}\".format(daily_word_count.most_common(25)))\n",
    "current_day = df_date.loc[(df_date['new_date'] > '2021-07-08 00:00:00') & (df_date['new_date'] <= '2021-07-08 23:59:59') ]\n",
    "daily_words = list(itertools.chain(*current_day['processed w/o stopwords']))\n",
    "daily_word_count = collections.Counter(daily_words)\n",
    "print(\"08.07.:\\n{}\".format(daily_word_count.most_common(25)))\n",
    "current_day = df_date.loc[(df_date['new_date'] > '2021-08-03 00:00:00') & (df_date['new_date'] <= '2021-08-03 23:59:59') ]\n",
    "daily_words = list(itertools.chain(*current_day['processed w/o stopwords']))\n",
    "daily_word_count = collections.Counter(daily_words)\n",
    "print(\"03.08.:\\n{}\".format(daily_word_count.most_common(25)))\n",
    "current_day = df_date.loc[(df_date['new_date'] > '2021-08-04 00:00:00') & (df_date['new_date'] <= '2021-08-04 23:59:59') ]\n",
    "daily_words = list(itertools.chain(*current_day['processed w/o stopwords']))\n",
    "daily_word_count = collections.Counter(daily_words)\n",
    "print(\"04.08.:\\n{}\".format(daily_word_count.most_common(25)))\n",
    "current_day = df_date.loc[(df_date['new_date'] > '2021-08-25 00:00:00') & (df_date['new_date'] <= '2021-08-25 23:59:59') ]\n",
    "daily_words = list(itertools.chain(*current_day['processed w/o stopwords']))\n",
    "daily_word_count = collections.Counter(daily_words)\n",
    "print(\"25.08.:\\n{}\".format(daily_word_count.most_common(25)))\n",
    "current_day = df_date.loc[(df_date['new_date'] > '2021-08-12 00:00:00') & (df_date['new_date'] <= '2021-08-12 23:59:59') ]\n",
    "daily_words = list(itertools.chain(*current_day['processed w/o stopwords']))\n",
    "daily_word_count = collections.Counter(daily_words)\n",
    "print(\"12.08.:\\n{}\".format(daily_word_count.most_common(25)))\n",
    "current_day = df_date.loc[(df_date['new_date'] > '2021-08-26 00:00:00') & (df_date['new_date'] <= '2021-08-26 23:59:59') ]\n",
    "daily_words = list(itertools.chain(*current_day['processed w/o stopwords']))\n",
    "daily_word_count = collections.Counter(daily_words)\n",
    "print(\"26.08.:\\n{}\".format(daily_word_count.most_common(25)))\n",
    "current_day = df_date.loc[(df_date['new_date'] > '2021-09-29 00:00:00') & (df_date['new_date'] <= '2021-09-29 23:59:59') ]\n",
    "daily_words = list(itertools.chain(*current_day['processed w/o stopwords']))\n",
    "daily_word_count = collections.Counter(daily_words)\n",
    "print(\"29.09.:\\n{}\".format(daily_word_count.most_common(25)))\n",
    "current_day = df_date.loc[(df_date['new_date'] > '2021-09-10 00:00:00') & (df_date['new_date'] <= '2021-09-10 23:59:59') ]\n",
    "daily_words = list(itertools.chain(*current_day['processed w/o stopwords']))\n",
    "daily_word_count = collections.Counter(daily_words)\n",
    "print(\"10.09.:\\n{}\".format(daily_word_count.most_common(25)))\n",
    "current_day = df_date.loc[(df_date['new_date'] > '2021-09-02 00:00:00') & (df_date['new_date'] <= '2021-09-02 23:59:59') ]\n",
    "daily_words = list(itertools.chain(*current_day['processed w/o stopwords']))\n",
    "daily_word_count = collections.Counter(daily_words)\n",
    "print(\"02.09.:\\n{}\".format(daily_word_count.most_common(25)))\n",
    "current_day = df_date.loc[(df_date['new_date'] > '2021-09-06 00:00:00') & (df_date['new_date'] <= '2021-09-06 23:59:59') ]\n",
    "daily_words = list(itertools.chain(*current_day['processed w/o stopwords']))\n",
    "daily_word_count = collections.Counter(daily_words)\n",
    "print(\"06.09.:\\n{}\".format(daily_word_count.most_common(25)))\n",
    "current_day = df_date.loc[(df_date['new_date'] > '2021-09-03 00:00:00') & (df_date['new_date'] <= '2021-09-03 23:59:59') ]\n",
    "daily_words = list(itertools.chain(*current_day['processed w/o stopwords']))\n",
    "daily_word_count = collections.Counter(daily_words)\n",
    "print(\"03.09.:\\n{}\".format(daily_word_count.most_common(25)))"
   ]
  },
  {
   "cell_type": "markdown",
   "id": "b843410f",
   "metadata": {},
   "source": [
    "### Observations June:\n",
    "10th + 11th: Start of the movement under the hashtag #IchBinHanna\n",
    "24th: Issue got discussed in the \"aktuelle Stunde\" of the german Bundestag\n",
    "25th: Series of tweets of Achim Landwehr, a Dean of studies critizing and portraying the situation of scientific workers\n",
    "17th: State scecretary Wolf-Dieter Lukas uploads a video addressing the issues that arose with the hashtag\n",
    "14th: Initial video of the BMBF gets deleted from their website.\n",
    "\n",
    "### Observations July:\n",
    "1st +  2nd: Zoom conference of the GEW (union for education and science) \n",
    "9th: Journalist Thilo Jung presents the issue at a press conference of the german government \n",
    "\n",
    "### Observations August:\n",
    "3rd + 4th: TV report about #IchBinHanna in ZDF's \"heute journal\" \n",
    "\n",
    "### Observations September:\n",
    "2nd + 3rd: declaration of new \"Berliner Hochschulgesetz\"\n",
    "29th: IchBinHanna discussed in the \"hessischer Landtag\""
   ]
  },
  {
   "cell_type": "markdown",
   "id": "68e3bba6",
   "metadata": {},
   "source": [
    "## Distribution of user profiles"
   ]
  },
  {
   "cell_type": "code",
   "execution_count": 31,
   "id": "2313e8c5",
   "metadata": {},
   "outputs": [
    {
     "data": {
      "image/png": "[encoded data removed]",
      "text/plain": [
       "<Figure size 432x288 with 1 Axes>"
      ]
     },
     "metadata": {
      "needs_background": "light"
     },
     "output_type": "display_data"
    }
   ],
   "source": [
    "#whole data set\n",
    "df_date['user.group'].hist()\n",
    "plt.title('User profile distribution of all tweets')\n",
    "plt.xlabel('User group')\n",
    "plt.xticks(rotation='vertical')\n",
    "plt.show()"
   ]
  },
  {
   "cell_type": "markdown",
   "id": "0c284f21",
   "metadata": {},
   "source": [
    "To get a broader picture and see if the participants of the discussion changed over time, the distribution is also shown for the single months"
   ]
  },
  {
   "cell_type": "code",
   "execution_count": 32,
   "id": "eb5811a7",
   "metadata": {},
   "outputs": [
    {
     "data": {
      "image/png": "[encoded data removed]",
      "text/plain": [
       "<Figure size 432x288 with 1 Axes>"
      ]
     },
     "metadata": {
      "needs_background": "light"
     },
     "output_type": "display_data"
    }
   ],
   "source": [
    "#distribution in June\n",
    "df_june['user.group'].hist()\n",
    "plt.title('User profile distribution in June')\n",
    "plt.xlabel('User group')\n",
    "plt.xticks(rotation='vertical')\n",
    "plt.show()"
   ]
  },
  {
   "cell_type": "code",
   "execution_count": 33,
   "id": "ebd2551c",
   "metadata": {},
   "outputs": [
    {
     "data": {
      "image/png": "[encoded data removed]",
      "text/plain": [
       "<Figure size 432x288 with 1 Axes>"
      ]
     },
     "metadata": {
      "needs_background": "light"
     },
     "output_type": "display_data"
    }
   ],
   "source": [
    "#distribution in June\n",
    "df_july['user.group'].hist()\n",
    "plt.title('User profile distribution in June')\n",
    "plt.xlabel('User group')\n",
    "plt.xticks(rotation='vertical')\n",
    "plt.show()"
   ]
  },
  {
   "cell_type": "code",
   "execution_count": 34,
   "id": "2234798d",
   "metadata": {},
   "outputs": [
    {
     "data": {
      "image/png": "[encoded data removed]",
      "text/plain": [
       "<Figure size 432x288 with 1 Axes>"
      ]
     },
     "metadata": {
      "needs_background": "light"
     },
     "output_type": "display_data"
    }
   ],
   "source": [
    "#distribution in June\n",
    "df_august['user.group'].hist()\n",
    "plt.title('User profile distribution in June')\n",
    "plt.xlabel('User group')\n",
    "plt.xticks(rotation='vertical')\n",
    "plt.show()"
   ]
  },
  {
   "cell_type": "code",
   "execution_count": 35,
   "id": "973c6911",
   "metadata": {},
   "outputs": [
    {
     "data": {
      "image/png": "[encoded data removed]",
      "text/plain": [
       "<Figure size 432x288 with 1 Axes>"
      ]
     },
     "metadata": {
      "needs_background": "light"
     },
     "output_type": "display_data"
    }
   ],
   "source": [
    "#distribution in June\n",
    "df_september['user.group'].hist()\n",
    "plt.title('User profile distribution in June')\n",
    "plt.xlabel('User group')\n",
    "plt.xticks(rotation='vertical')\n",
    "plt.show()"
   ]
  }
 ],
 "metadata": {
  "kernelspec": {
   "display_name": "Python 3 (ipykernel)",
   "language": "python",
   "name": "python3"
  },
  "language_info": {
   "codemirror_mode": {
    "name": "ipython",
    "version": 3
   },
   "file_extension": ".py",
   "mimetype": "text/x-python",
   "name": "python",
   "nbconvert_exporter": "python",
   "pygments_lexer": "ipython3",
   "version": "3.8.5"
  }
 },
 "nbformat": 4,
 "nbformat_minor": 5
}
