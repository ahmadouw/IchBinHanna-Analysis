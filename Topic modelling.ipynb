{
 "cells": [
  {
   "cell_type": "code",
   "execution_count": 1,
   "id": "3b391b0c",
   "metadata": {},
   "outputs": [
    {
     "name": "stderr",
     "output_type": "stream",
     "text": [
      "[nltk_data] Downloading package wordnet to\n",
      "[nltk_data]     C:\\Users\\Admin\\AppData\\Roaming\\nltk_data...\n",
      "[nltk_data]   Package wordnet is already up-to-date!\n",
      "[nltk_data] Downloading package stopwords to\n",
      "[nltk_data]     C:\\Users\\Admin\\AppData\\Roaming\\nltk_data...\n",
      "[nltk_data]   Package stopwords is already up-to-date!\n"
     ]
    }
   ],
   "source": [
    "import pandas as pd\n",
    "import numpy as np\n",
    "import re\n",
    "import emoji\n",
    "import nltk\n",
    "from gensim.corpora import Dictionary\n",
    "from gensim.models.ldamulticore import LdaMulticore\n",
    "from gensim.models.coherencemodel import CoherenceModel\n",
    "import pyLDAvis.gensim_models\n",
    "from nltk.corpus import stopwords\n",
    "from nltk.tokenize import TweetTokenizer\n",
    "from nltk.stem import WordNetLemmatizer\n",
    "from HanTa import HanoverTagger as ht\n",
    "\n",
    "nltk.download('wordnet')\n",
    "nltk.download(\"stopwords\")\n",
    "import warnings\n",
    "warnings.filterwarnings('ignore')"
   ]
  },
  {
   "cell_type": "markdown",
   "id": "8bc51329",
   "metadata": {},
   "source": [
    "## Topic Modelling\n",
    "\n",
    "For topic modelling the same data set as for the sentiment analysis is used, which means that tweets not directly containing the hashtag, as well as retweets are removed. "
   ]
  },
  {
   "cell_type": "code",
   "execution_count": 2,
   "id": "56b32f2f",
   "metadata": {},
   "outputs": [],
   "source": [
    "df = pd.read_csv ('data/tweets/IchBinHanna.csv')"
   ]
  },
  {
   "cell_type": "code",
   "execution_count": 3,
   "id": "d8e4a4eb",
   "metadata": {},
   "outputs": [],
   "source": [
    "#get the correct data\n",
    "df['new_date'] = pd.to_datetime(df['created_at']).dt.strftime('%Y-%m-%d %H:%M:%S')\n",
    "df = df.loc[(df['new_date'] > '2021-06-01 00:00:00') & (df['new_date'] <= '2021-09-30 23:59:59')]\n",
    "df = df.loc[df['reference_type'] != 'retweeted']\n",
    "df = df[df['text'].str.contains(\"#ichbinhanna\", case = False)]\n",
    "df['processed'] = df['text'].astype(str)\n",
    "df = df.loc[(df['lang'] == 'de') | (df['lang'] == 'en')]"
   ]
  },
  {
   "cell_type": "code",
   "execution_count": 4,
   "id": "4272d19d",
   "metadata": {},
   "outputs": [],
   "source": [
    "#clean the data (remove URLs, emojis and line breaks)\n",
    "def rem_url(tweet):\n",
    "     return \" \".join(re.sub(\"([^0-9A-Za-zßäöü \\t])|(\\w+:\\/\\/\\S+)\", \" \", tweet).split())\n",
    "df['processed'] = df['processed'].apply(rem_url)\n",
    "def rem_emojis(text):\n",
    "    emojis = [x for x in text if x in emoji.UNICODE_EMOJI]\n",
    "    cleaned = ' '.join([str for str in text.split() if not any(i in str for i in emojis)])\n",
    "    return cleaned\n",
    "df['processed'] = df['processed'].apply(lambda x: rem_emojis(x))\n",
    "df['processed'] = df['text'].replace(r'\\\\n',  ' ', regex=True)\n",
    "df['processed'] = df['processed'].astype(str)"
   ]
  },
  {
   "cell_type": "code",
   "execution_count": 5,
   "id": "e75416e2",
   "metadata": {},
   "outputs": [],
   "source": [
    "#preprocessing (tokenization, stop word removal, stemming)\n",
    "german_stop = set(stopwords.words('german'))\n",
    "english_stop = set(stopwords.words('english'))\n",
    "add_stop_all = [\"ichbinhanna\",\"#ichbinhanna\", \"hanna\", \"mehr\", \"innen\", \"#wisszeitvg\", \"#ichbinhannah\", \"@amreibahr\", \"amreibahr\", \"@bmf_bund\",\"bmf_bund\" \"@drkeichhorn\", \"@bmbf_bund\", \"mehr\", \"innen\", \"schon\", \"gehen\", \"jahr\",\"wissenschaft\", \"wissenschaftler\", \"kommen\",\"academia\", \"academic\", \"year\", \"machen\", \"sagen\", \"sein\",\"geben\", \"also\", \"werden\", \"german\", \"germany\",\"gut\", \"haben\", \"geht\", \"gibt\", \"viele\", \"seit\", \"wäre\"]\n",
    "german_stop.update(set(add_stop_all))\n",
    "english_stop.update(set(add_stop_all))\n",
    "tweet_tokenizer = TweetTokenizer()\n",
    "df['tokenized'] = df['processed'].apply(lambda x: tweet_tokenizer.tokenize(x.lower()))\n",
    "df['tokenized'] = df[['tokenized','lang']].apply(lambda x: ' '.join([word for word in x['tokenized'] if word not in english_stop]).split() if x['lang'] == 'en' else ' '.join([word for word in x['tokenized'] if word not in german_stop]).split(),axis=1)\n",
    "#remove all words consisting of 3 characters or less to shorten the dictionary of unique words\n",
    "df['tokenized'] = df['tokenized'].apply(lambda x: [word for word in x if len(word) > 3])\n",
    "lemmatizer = WordNetLemmatizer()\n",
    "hannover = ht.HanoverTagger('morphmodel_ger.pgz')\n",
    "df['tokenized'] = df[['tokenized','lang']].apply(lambda x: [lemmatizer.lemmatize(word).lower() for word in x['tokenized']] if x['lang'] == 'en' else [hannover.analyze(word)[0].lower() for word in x['tokenized']] ,axis=1)"
   ]
  },
  {
   "cell_type": "code",
   "execution_count": 6,
   "id": "deb48dc9",
   "metadata": {},
   "outputs": [],
   "source": [
    "def perform_LDA(tokens):\n",
    "    #create the dictionary of lemmatized tokens\n",
    "    dic = Dictionary(tokens)\n",
    "    print(len(dic))\n",
    "    #remove low and high frequent terms\n",
    "    dic.filter_extremes(no_below=2, no_above=.99)\n",
    "    print(len(dic))\n",
    "    #create the bag of words \n",
    "    corpus = [dic.doc2bow(d) for d in tokens]\n",
    "    #build LDA model \n",
    "    LDA = LdaMulticore(corpus= corpus, num_topics=5, id2word= dic, workers=12, passes=5)\n",
    "    words = [re.findall(r'\"([^\"]*)\"',t[1]) for t in LDA.print_topics()]\n",
    "    #create topics\n",
    "    topics = [' '.join(t[0:10]) for t in words]\n",
    "\n",
    "    for id, t in enumerate(topics): \n",
    "        print(f\"------ Topic {id} ------\")\n",
    "        print(t, end=\"\\n\\n\")\n",
    "    # Compute Perplexity\n",
    "    perplexity = LDA.log_perplexity(corpus)\n",
    "    print('\\nPerplexity: ', perplexity) \n",
    "    # Compute Coherence Score\n",
    "    coherence_model = CoherenceModel(model=LDA, texts=tokens, \n",
    "                                   dictionary=dic, coherence='c_v')\n",
    "    coherence_lda_model = coherence_model.get_coherence()\n",
    "    print('\\nCoherence Score: ', coherence_lda_model)\n",
    "    "
   ]
  },
  {
   "cell_type": "code",
   "execution_count": 7,
   "id": "a8457206",
   "metadata": {},
   "outputs": [
    {
     "name": "stdout",
     "output_type": "stream",
     "text": [
      "47228\n",
      "15469\n",
      "------ Topic 0 ------\n",
      "machen arbeit forschung gut @drkeichhorn haben aktuell finden müssen zeigen\n",
      "\n",
      "------ Topic 1 ------\n",
      "jahr gut werden befristet stelle @drkeichhorn gerade bekommen brauchen stellen\n",
      "\n",
      "------ Topic 2 ------\n",
      "@anjakarliczek #hannaimbundestag immer #ichbinreyhan gut frage klar @gew_bund ganz bleiben\n",
      "\n",
      "------ Topic 3 ------\n",
      "jahr problem warum @anjakarliczek hashtag gut wichtig ganz arbeit thema\n",
      "\n",
      "------ Topic 4 ------\n",
      "jahr arbeit system wissen stellen befristet vertrag immer forschung gut\n",
      "\n",
      "\n",
      "Perplexity:  -8.734351923861636\n",
      "\n",
      "Coherence Score:  0.17035760239900616\n"
     ]
    }
   ],
   "source": [
    "#perform topic modelling by applying LDA on the whole data set, and on the german/english only sets (guided by: https://towardsdatascience.com/twitter-topic-modeling-e0e3315b12e2)\n",
    "#full data set\n",
    "perform_LDA(df['tokenized'])"
   ]
  },
  {
   "cell_type": "code",
   "execution_count": 8,
   "id": "20785f23",
   "metadata": {},
   "outputs": [
    {
     "name": "stdout",
     "output_type": "stream",
     "text": [
      "39811\n",
      "12601\n",
      "------ Topic 0 ------\n",
      "stellen befristet vertrag gut unbefristet machen wissen system wichtig gerade\n",
      "\n",
      "------ Topic 1 ------\n",
      "gut jahr arbeit @anjakarliczek forschung haben problem sehen eigentlich prekär\n",
      "\n",
      "------ Topic 2 ------\n",
      "müssen heute gut #hannaimbundestag stunde hashtag letzter aktuell arbeitsbedingung richtig\n",
      "\n",
      "------ Topic 3 ------\n",
      "machen system @drkeichhorn gut wissenschaftlich wissen sagen jahr @sebastiankubon @anjakarliczek\n",
      "\n",
      "------ Topic 4 ------\n",
      "jahr arbeit brauchen immer werden #ichbinreyhan #hannaimbundestag befristet promotion @anjakarliczek\n",
      "\n",
      "\n",
      "Perplexity:  -8.47576839732385\n",
      "\n",
      "Coherence Score:  0.16229792343764796\n"
     ]
    }
   ],
   "source": [
    "#only german tweets\n",
    "df_ger = df.loc[df['lang'] == \"de\"]\n",
    "df_en = df.loc[df['lang'] == \"en\"]\n",
    "perform_LDA(df_ger['tokenized'])"
   ]
  },
  {
   "cell_type": "code",
   "execution_count": 9,
   "id": "fe5af21d",
   "metadata": {},
   "outputs": [
    {
     "name": "stdout",
     "output_type": "stream",
     "text": [
      "9256\n",
      "3328\n",
      "------ Topic 0 ------\n",
      "contract thread need #ichbinreyhan condition system working career problem work\n",
      "\n",
      "------ Topic 1 ------\n",
      "year position system contract research time researcher permanent work career\n",
      "\n",
      "------ Topic 2 ------\n",
      "thread english system work academic would university contract debate position\n",
      "\n",
      "------ Topic 3 ------\n",
      "many research career working condition work important precarious system think\n",
      "\n",
      "------ Topic 4 ------\n",
      "like system year scholar people researcher university contract many student\n",
      "\n",
      "\n",
      "Perplexity:  -7.802982577701386\n",
      "\n",
      "Coherence Score:  0.19886803045807555\n"
     ]
    }
   ],
   "source": [
    "#only english tweets\n",
    "perform_LDA(df_en['tokenized'])"
   ]
  },
  {
   "cell_type": "code",
   "execution_count": 10,
   "id": "99da7fda",
   "metadata": {},
   "outputs": [],
   "source": [
    "#get topics by month\n",
    "df_june = df.loc[(df['new_date'] > '2021-06-01 00:00:00') & (df['new_date'] <= '2021-06-30 23:59:59')]\n",
    "df_july = df.loc[(df['new_date'] > '2021-07-01 00:00:00') & (df['new_date'] <= '2021-07-31 23:59:59')]\n",
    "df_august = df.loc[(df['new_date'] > '2021-08-01 00:00:00') & (df['new_date'] <= '2021-08-31 23:59:59')]\n",
    "df_september = df.loc[(df['new_date'] > '2021-09-01 00:00:00') & (df['new_date'] <= '2021-09-30 23:59:59')]"
   ]
  },
  {
   "cell_type": "code",
   "execution_count": 11,
   "id": "21f664fa",
   "metadata": {},
   "outputs": [
    {
     "name": "stdout",
     "output_type": "stream",
     "text": [
      "31199\n",
      "10502\n",
      "------ Topic 0 ------\n",
      "gut @anjakarliczek hashtag thread müssen danken warum jahr #hannaimbundestag letzter\n",
      "\n",
      "------ Topic 1 ------\n",
      "jahr arbeit #hannaimbundestag befristet promotion wissenschaftlich immer einfach @anjakarliczek prekär\n",
      "\n",
      "------ Topic 2 ------\n",
      "system gut #hannaimbundestag aktuell forschung sehen arbeit jahr haben @anjakarliczek\n",
      "\n",
      "------ Topic 3 ------\n",
      "jahr @drkeichhorn unbefristet gut forschung #hannaimbundestag @sebastiankubon innovation #95vswisszeitvg ganz\n",
      "\n",
      "------ Topic 4 ------\n",
      "vertrag befristet problem @anjakarliczek arbeit wissen forschung jahr lehre gerade\n",
      "\n",
      "\n",
      "Perplexity:  -8.49678942834381\n",
      "\n",
      "Coherence Score:  0.21886630566117052\n"
     ]
    }
   ],
   "source": [
    "#tweets from june\n",
    "perform_LDA(df_june['tokenized'])"
   ]
  },
  {
   "cell_type": "code",
   "execution_count": 12,
   "id": "35ab78ba",
   "metadata": {},
   "outputs": [
    {
     "name": "stdout",
     "output_type": "stream",
     "text": [
      "16767\n",
      "5780\n",
      "------ Topic 0 ------\n",
      "@anjakarliczek ganz #ichbinreyhan @drkeichhorn @tagesthemen kommentar sprechen danken haben heute\n",
      "\n",
      "------ Topic 1 ------\n",
      "gut #ichbinreyhan jahr arbeitsbedingung brauchen lehre arbeit @gew_bund gerade perspektive\n",
      "\n",
      "------ Topic 2 ------\n",
      "jahr stellen befristet gut gerade arbeit machen immer @anjakarliczek beitrag\n",
      "\n",
      "------ Topic 3 ------\n",
      "problem wichtig system sagen gut immer lehre forschung work eigentlich\n",
      "\n",
      "------ Topic 4 ------\n",
      "#ichbinreyhan system immer condition working thread sehen arbeit @gew_bund machen\n",
      "\n",
      "\n",
      "Perplexity:  -8.384196301857767\n",
      "\n",
      "Coherence Score:  0.32438354833603916\n"
     ]
    }
   ],
   "source": [
    "#tweets from july\n",
    "perform_LDA(df_july['tokenized'])"
   ]
  },
  {
   "cell_type": "code",
   "execution_count": 13,
   "id": "3ea7ba58",
   "metadata": {},
   "outputs": [
    {
     "name": "stdout",
     "output_type": "stream",
     "text": [
      "9918\n",
      "3233\n",
      "------ Topic 0 ------\n",
      "#ichbinreyhan kommen @karolinedoering finden @richterhedwig @klios_spiegel @tinido @achimlandwehr @esteinhauer @christinaholzel\n",
      "\n",
      "------ Topic 1 ------\n",
      "gut #wissenschaft immer zeit @drkeichhorn #ichbinreyhan promotion system befristet thread\n",
      "\n",
      "------ Topic 2 ------\n",
      "machen #ichbinreyhan system stellen uni heute arbeit wichtig wissen ganz\n",
      "\n",
      "------ Topic 3 ------\n",
      "#ichbinreyhan forschung jahr gut arbeit hochschule frage aktuell #dauerstell @anjakarliczek\n",
      "\n",
      "------ Topic 4 ------\n",
      "@drkeichhorn arbeit system stellen gut eigentlich @sebastiankubon ganz müssen warum\n",
      "\n",
      "\n",
      "Perplexity:  -8.069289995163897\n",
      "\n",
      "Coherence Score:  0.3309997800843364\n"
     ]
    }
   ],
   "source": [
    "#tweets from august\n",
    "perform_LDA(df_august['tokenized'])"
   ]
  },
  {
   "cell_type": "code",
   "execution_count": 14,
   "id": "3ab9a0c5",
   "metadata": {},
   "outputs": [
    {
     "name": "stdout",
     "output_type": "stream",
     "text": [
      "9231\n",
      "3015\n",
      "------ Topic 0 ------\n",
      "monat vertrag machen jahr gut #hannainzahlen lehre system @swh_hb @andreasbovensc1\n",
      "\n",
      "------ Topic 1 ------\n",
      "arbeit berlin @gew_bund #ichbinreyhan @drkeichhorn neu #dauerstell kommen wichtig gut\n",
      "\n",
      "------ Topic 2 ------\n",
      "#ichbinreyhan postdocs dürfen arbeit neu gut system immer bleiben werden\n",
      "\n",
      "------ Topic 3 ------\n",
      "stellen #ichbinreyhan hochschule gut neu arbeit unbefristet immer stelle befristet\n",
      "\n",
      "------ Topic 4 ------\n",
      "@gew_bund jahr #ichbinreyhan problem gut #dauerstell heute #entfristethanna stellen uni\n",
      "\n",
      "\n",
      "Perplexity:  -8.037735602361812\n",
      "\n",
      "Coherence Score:  0.2768987915876285\n"
     ]
    }
   ],
   "source": [
    "#tweets from september\n",
    "perform_LDA(df_september['tokenized'])"
   ]
  },
  {
   "cell_type": "code",
   "execution_count": 15,
   "id": "47aefb70",
   "metadata": {},
   "outputs": [
    {
     "data": {
      "text/html": [
       "\n",
       "<link rel=\"stylesheet\" type=\"text/css\" href=\"https://cdn.jsdelivr.net/gh/bmabey/pyLDAvis@3.3.1/pyLDAvis/js/ldavis.v1.0.0.css\">\n",
       "\n",
       "\n",
       "<div id=\"ldavis_el1678420429346984968858344304\"></div>\n",
       "<script type=\"text/javascript\">\n",
       "\n",
       "var ldavis_el1678420429346984968858344304_data = {\"mdsDat\": {\"x\": [-0.02348839927823485, -0.03612317432622297, -0.03894777658744502, 0.09972492669135884, -0.0011655764994560442], \"y\": [-0.009485114753222643, -0.05595251820500633, 0.0146510960095792, -0.01599902342129194, 0.06678556036994168], \"topics\": [1, 2, 3, 4, 5], \"cluster\": [1, 1, 1, 1, 1], \"Freq\": [21.884175608874937, 20.51823659389143, 19.701924253971036, 19.554031950643214, 18.341631592619382]}, \"tinfo\": {\"Term\": [\"thread\", \"jahr\", \"thema\", \"schreiben\", \"system\", \"#ichbinreyhan\", \"gut\", \"research\", \"arbeit\", \"ganz\", \"bitte\", \"position\", \"trending\", \"hashtag\", \"arbeitsbedingung\", \"daf\\u00fcr\", \"#hannaimbundestag\", \"machen\", \"finden\", \"zeit\", \"@anjakarliczek\", \"immer\", \"university\", \"gerade\", \"lassen\", \"lehre\", \"warum\", \"hochschule\", \"https://t.co/pp10dwyico\", \"klar\", \"#pflege\", \"steuerfinanziert\", \"#wissler\", \"#wirhabenplatz\", \"#krankenschwestern\", \"#klimastreik\", \"#seebr\\u00fccke\", \"faulvolk\", \"angela\", \"systemrelevanten\", \"pr\\u00e4gnant\", \"vorwand\", \"leitungsposten\", \"provozieren\", \"jedesmal\", \"mitinitiatorin\", \"#protest\", \"born\", \"lebenszeitstell\", \"#money\", \"einsch\\u00e4tz\", \"fire\", \"https://t.co/wulyum7guz\", \"algi\", \"@unter_bauffm\", \"einarbeiten\", \"throughout\", \"@maxplanckpress\", \"schicht\", \"ariane\", \"leendertz\", \"https://t.co/fjkmivxwmx\", \"gendern\", \"#r2g\", \"interpretation\", \"@arminlaschet\", \"hrsg\", \"besonders\", \"\\u00fcberzeugend\", \"maria\", \"eigenst\\u00e4ndig\", \"lehre\", \"arbeit\", \"forschungsprojekt\", \"zeit\", \"anstellung\", \"frei\", \"gut\", \"warten\", \"wortwahl\", \"verbessern\", \"anschlussverwendung\", \"freuen\", \"forschung\", \"schritt\", \"arbeitsbedingung\", \"wissenschaftlich\", \"endlich\", \"befristet\", \"unbefristet\", \"studium\", \"stelle\", \"bedingung\", \"neu\", \"n\\u00e4chster\", \"passieren\", \"arbeitsvertrag\", \"problem\", \"promovieren\", \"@drkeichhorn\", \"sagen\", \"wenig\", \"sehen\", \"@sebastiankubon\", \"gro\\u00df\", \"situation\", \"zeigen\", \"jahr\", \"professor\", \"m\\u00fcssen\", \"machen\", \"vertrag\", \"sprechen\", \"gerade\", \"wichtig\", \"stellen\", \"brauchen\", \"wissen\", \"frage\", \"uni\", \"gutschein\", \"https://t.co/7dwltvhfck\", \"#coaching\", \"session\", \"#wissenschaftlerinnen\", \"@sn_aktuell\", \"@mariamsalehi\", \"sehnsucht\", \"#karrieren\", \"https://t.co/wd0lgdsjeh\", \"#sarcasmoff\", \"#prek\\u00e4rearbeit\", \"#karliczexit\", \"verh\\u00f6hnung\", \"kommerzialisiert\", \"@simplewebstuff\", \"snap\", \"673/06\", \"br-drs\", \"@gabrielagan21\", \"selbstredend\", \"denkfehler\", \"einhellig\", \"#russland\", \"#meintwitterjubilaeum\", \"#faktenfuchs\", \"#scifi\", \"#tesla\", \"noticed\", \"beugen\", \"zehntausend\", \"fluktuation\", \"endg\\u00fcltig\", \"pap\", \"#wissenschaftler\", \"#dgfa\", \"@dievilla4\", \"#nichtsgemacht\", \"#nichtspassiert\", \"aufkl\\u00e4rung\", \"@stefingermdb\", \"therapie\", \"schreiben\", \"thema\", \"drauf\", \"@vhdtweets\", \"spielen\", \"@christinaholzel\", \"sp\\u00e4t\", \"workshop\", \"vertrauen\", \"media\", \"wenige\", \"@dgsoziologie\", \"@anjakarliczek\", \"promotion\", \"@karolinedoering\", \"befristung\", \"frau\", \"daf\\u00fcr\", \"klar\", \"land\", \"antrag\", \"stattfinden\", \"finden\", \"stehen\", \"fertig\", \"haben\", \"gerade\", \"debatte\", \"jahr\", \"perspektive\", \"problem\", \"stelle\", \"ganz\", \"bleiben\", \"stellen\", \"geld\", \"sehen\", \"#hannaimbundestag\", \"m\\u00fcssen\", \"sagen\", \"wissen\", \"sollen\", \"zeit\", \"forschung\", \"arbeit\", \"werden\", \"befristet\", \"vertrag\", \"brauchen\", \"hochschule\", \"#scholz\", \"#soforthilfen\", \"#afghanen\", \"#buntesrepublik\", \"#kultur\", \"#rechtesphantom\", \"ursprung\", \"r\\u00fcckblickend\", \"pfeil\", \"verachtet\", \"esdar\", \"zusammenstellung\", \"#justsaying\", \"posting\", \"monatsvertrag\", \"gesetzgeber\", \"#regierungserkl\\u00e4rung\", \"#erinnernmitgames\", \"dgpuk\", \"erweitern\", \"verengen\", \"qualifizierungsstelle\", \"entmutigen\", \"https://t.co/1lkbtjkrpw\", \"#ratifyc190\", \"gleichberechtigung\", \"entscheider\", \"collectiv\", \"viren\", \"f\\u00e9licitations\", \"hammer\", \"#fr\\u00fchsexualisierung\", \"twittert\", \"signature\", \"frustriert\", \"verlaufen\", \"sieben\", \"preis\", \"locker\", \"lassen\", \"studie\", \"vorwerfen\", \"jahr\", \"@humboldtuni\", \"prof\", \"@nga_wiss\", \"genug\", \"@chrizzy80\", \"her\", \"immer\", \"#dauerstell\", \"glauben\", \"deutsch\", \"m\\u00f6chten\", \"forscher\", \"verband\", \"innovation\", \"@gew_bund\", \"finden\", \"stellen\", \"machen\", \"gender\", \"kurz\", \"befristet\", \"nachhaltig\", \"kind\", \"dank\", \"mensch\", \"funktionieren\", \"weitere\", \"uni\", \"genau\", \"klar\", \"universit\\u00e4t\", \"@drkeichhorn\", \"forschung\", \"#hannaimbundestag\", \"brauchen\", \"professur\", \"dabei\", \"system\", \"@anjakarliczek\", \"vertrag\", \"wissen\", \"gut\", \"m\\u00fcssen\", \"arbeit\", \"ganz\", \"hochschule\", \"https://t.co/pp10dwyico\", \"bl\\u00e4tter-podcasts\", \"augustausgabe\", \"https://t.co/ux1uiiy0pp\", \"honour\", \"#gie\\u00dfen\", \"\\ufe0fende\", \"translation\", \"badge\", \"funny\", \"@hessenschau\", \"definitely\", \"@gruenehessen\", \"sparked\", \"\\ufe0farbeitsvertr\\u00e4ge\", \"\\ufe0ferwerbsarbeitslosigkeit\", \"lot\", \"comfortable\", \"#szplus\", \"@arbeiterkind_f\", \"\\ufe0fstipendium\", \"\\ufe0farbeitsortwechsel\", \"dreamed\", \"plattform\", \"feather\", \"https://t.co/pp10dwghee\", \"geordnet\", \"ausnahmslos\", \"ruffled\", \"@ilka_sommer\", \"trending\", \"early\", \"@jorischeyder\", \"message\", \"profile\", \"research\", \"interest\", \"thread\", \"talk\", \"#sand\", \"precarious\", \"university\", \"#usa\", \"#regenbogenfamilie\", \"podcasts\", \"researcher\", \"position\", \"career\", \"hashtag\", \"teaching\", \"want\", \"condition\", \"system\", \"precarity\", \"#ichbinreyhan\", \"english\", \"time\", \"working\", \"short\", \"good\", \"warum\", \"werden\", \"education\", \"great\", \"verstopfen\", \"scientist\", \"stunde\", \"contract\", \"aktuell\", \"#95vswisszeitvg\", \"sollen\", \"heute\", \"many\", \"universit\\u00e4t\", \"wissen\", \"@anjakarliczek\", \"danken\", \"letzter\", \"eigentlich\", \"jahr\", \"wichtig\", \"gut\", \"@drkeichhorn\", \"stellen\", \"sprechen\", \"meme\", \"@hadmut\", \"manifesto\", \"bundestagsabgebordneter\", \"identifikation\", \"daumen\", \"review-reihe\", \"#hatespeech\", \"geheule\", \"brutal\", \"wertgesch\\u00e4tzt\", \"@matthiasdaum\", \"parteiprogramm\", \"hauptgrund\", \"tankred\", \"#maskenrunter\", \"reached\", \"b\\u00fcrger\", \"aneinanderreihung\", \"https://t.co/amzrh09sdf\", \"rezipieren\", \"powerless\", \"impressing\", \"clicking\", \"mechanism\", \"#menschenbild\", \"organisationsgrad\", \"#sgbii\", \"atypisch\", \"@katharina2401\", \"z\\u00fcgig\", \"@karambadiaby\", \"laugh\", \"#eupen\", \"grateful\", \"mittelbauinitiativ\", \"schipanski\", \"upcoming\", \"#nationomat\", \"tough\", \"ersch\\u00f6pfung\", \"drukos\", \"sehenswert\", \"kaczmarek\", \"#hannagehtw\\u00e4hlen\", \"#wissenschaftprekaer\", \"minute\", \"f\\u00fcr's\", \"wahlkreis\", \"dauerbefristung\", \"reform\", \"eindruck\", \"raus\", \"bitte\", \"verstehen\", \"#keineausnahme\", \"count\", \"ganz\", \"betroffen\", \"scheinen\", \"hochschule\", \"nehmen\", \"#hannaimbundestag\", \"mittelbau\", \"sicher\", \"jobs\", \"hallo\", \"einfach\", \"sch\\u00f6n\", \"heute\", \"wissenschaftszeitvertragsgesetz\", \"prek\\u00e4r\", \"toll\", \"bissch\", \"machen\", \"gut\", \"arbeitsbedingung\", \"bleiben\", \"mensch\", \"studierend\", \"bekommen\", \"danken\", \"gerade\", \"haben\", \"#ichbinreyhan\", \"daf\\u00fcr\", \"m\\u00fcssen\", \"arbeit\", \"immer\", \"leute\", \"wirklich\", \"warum\", \"@gew_bund\", \"wichtig\", \"system\", \"brauchen\", \"befristet\", \"problem\", \"wissen\", \"@anjakarliczek\"], \"Freq\": [410.0, 1347.0, 445.0, 417.0, 802.0, 622.0, 1120.0, 190.0, 962.0, 620.0, 267.0, 259.0, 119.0, 327.0, 429.0, 343.0, 692.0, 767.0, 579.0, 540.0, 925.0, 703.0, 152.0, 581.0, 370.0, 532.0, 485.0, 530.0, 68.0, 306.0, 12.434579479903975, 13.216457443685899, 8.210344225911431, 8.174880083235607, 8.169090673867498, 8.145593254938449, 8.087384170722478, 8.08076207804223, 4.783361682040346, 8.735087832957577, 5.546939935291275, 3.882411462912134, 3.8816258094368017, 3.8810009323803194, 4.649141079801471, 7.708849399432304, 3.848956114040987, 3.8486371132099357, 3.8390393807776424, 3.840074401759762, 3.822991269255303, 6.86135715728548, 3.818286098140391, 3.8064987440037616, 3.802190956781245, 9.121110920898943, 3.798311177530904, 12.896317688524652, 3.785113292862461, 4.513873425691991, 4.513166519850382, 5.980479928736529, 10.16708219897448, 17.05324048601397, 5.215539997652484, 16.34306224273627, 5.894217000006961, 72.52816894361668, 11.000261329547506, 6.501627029270307, 8.492709907807663, 260.31954102458053, 429.8631497635957, 19.553839512498783, 250.83746261701432, 38.7450986701285, 81.10477205969468, 460.5307682362318, 35.99442632473168, 10.246772616867256, 37.11823672216276, 43.47009668926446, 71.65601848408816, 276.0959936266311, 39.63116121161464, 172.40534441375078, 183.48690975853762, 94.75877760555335, 289.12059558535805, 159.32719406409262, 116.98932793590949, 190.41706318190617, 82.66541599743698, 162.13178812253608, 105.53257386512092, 59.152930021135234, 76.95993410740272, 219.22921240930148, 110.49261315486498, 191.4876576784151, 144.51133426397786, 87.93108943655272, 176.2759597727892, 118.10399777467072, 127.21926387120004, 102.99111356647127, 125.83853202730214, 306.5446353459385, 99.05663679306302, 169.46778935063563, 190.6248286054561, 150.8673532727717, 113.12091751061529, 144.65647490266528, 136.92423891430695, 158.20063624921832, 132.29238476296945, 138.6605717394629, 121.44605901616454, 120.95496543963958, 26.2378121989385, 26.97685874360878, 27.346562495297253, 6.791112656045209, 28.900536214570234, 5.824350389114941, 8.273753278182545, 4.129871784190172, 34.68963297000148, 6.529462713555795, 4.862112069611407, 4.82149190970182, 6.361095985916815, 8.736081221628229, 4.749649847117103, 7.134037100049504, 5.546636758728332, 3.1475158276786708, 3.1474566933450987, 3.1476170054979615, 3.1472170796581973, 3.147205799698614, 3.146616849081594, 3.1465884782741576, 3.14643568609435, 3.146546434788439, 3.146224785031842, 3.1462654612497327, 3.146254864924064, 4.715207003255566, 9.414471663633694, 40.779780224928935, 7.748062041772101, 22.174672313824946, 34.79073695682953, 6.877589611646595, 11.933618884620516, 5.405476268152899, 5.4048592885454, 8.980662876183638, 7.599148117159599, 5.392113276033462, 259.17213597848195, 275.1891863700551, 21.309536330033115, 24.64488501923857, 38.193527498931424, 11.63819605950541, 58.43568705708874, 38.60554272083303, 23.666665047907536, 10.130957605503877, 33.0983191663389, 20.055543906814634, 367.2438071644469, 229.90149130094605, 41.065749760279495, 167.37923212270317, 142.04463431657337, 146.74213998689044, 132.17029168978135, 113.0194087451377, 60.84662870214757, 60.079383625787386, 203.47642630385693, 112.69035660051887, 43.278866892339614, 185.2105594172279, 189.16412919312086, 113.74077925132431, 301.54886315052585, 106.36302392635295, 183.9860562265292, 150.1601345472425, 168.7679277723612, 127.9222342999678, 176.49910542372217, 93.0398958677166, 142.85290836592378, 155.4849208208771, 144.4460379012623, 115.69635508071893, 149.27360902554548, 97.43224923505271, 123.72129842858719, 139.9340650061679, 154.35141203868434, 123.79149942796104, 130.20784670681758, 116.77966872640086, 116.39612275521914, 113.84270086431366, 5.012341371640164, 5.01223371618063, 5.0117381072053355, 5.011304531406418, 7.5330181383056765, 7.514053053662986, 5.756300004454625, 4.891522406435045, 4.0467362303202385, 4.046075855976999, 4.044700294907159, 4.042436248078297, 4.041060687008456, 4.014033258743824, 7.173108869754052, 12.684500580997225, 4.741548504768037, 4.741295777012423, 4.737360116600002, 8.532918107844518, 3.8648474081693207, 5.408691028590506, 5.392328711612772, 3.0825063218522897, 3.0824780951159485, 3.082437396100759, 3.082308078262172, 3.082463981747778, 3.082354356981057, 3.0822033767634176, 5.379355244085314, 8.419777471359954, 9.127528750459446, 4.590365120270591, 13.322370994580202, 7.5336719482916275, 9.689281502665946, 26.19953414912837, 10.041624036570921, 179.26877447183477, 31.20716723550324, 10.990204517262686, 516.1593837312433, 20.704297977608338, 79.2658693657782, 85.20951678368714, 76.08383655624019, 13.611349756884854, 16.136499148389, 268.76583535327325, 102.12016240297186, 81.89706332353786, 160.03803291541496, 98.77584817828631, 41.98483361821635, 19.13187577129521, 105.99973957246122, 160.0676828044164, 190.31710243427426, 225.26779922158775, 231.11282898707756, 28.315570475587954, 91.23384277841672, 239.57635461758787, 34.22337125121493, 112.73668169147692, 101.68592754258357, 144.60036605387734, 44.59500325245187, 49.89030222967365, 130.60988265168527, 102.5712440299058, 98.92217557947946, 106.65239423152974, 151.94782490965412, 172.6331965323278, 165.69730712409296, 137.5432303407779, 90.29427844246094, 85.05016569763326, 149.2653134323546, 160.06891165210084, 116.66928836488707, 121.30572017530234, 133.46148146976924, 113.15000513528643, 119.61373345246196, 103.85988513201544, 100.81386580549861, 61.05200474430236, 14.694800036214097, 14.620405617822863, 9.715503328063402, 16.827577281157048, 8.012914993342868, 10.363211281164942, 7.146000591123078, 13.456150039514894, 6.330251733916226, 6.312079215681502, 14.922949086891514, 6.2886959348597005, 7.821889531434419, 11.719277388762883, 7.7921423185107725, 13.194806646025329, 8.52622853184234, 5.4024652917593246, 6.93030511969697, 9.226225881602566, 4.597734741238223, 3.8308196811949515, 3.8298691307305175, 8.41513400501242, 3.8281410052288645, 3.82560110050947, 3.827107713222975, 8.404875356888377, 3.7837856754350714, 96.8450261336212, 32.44617685509549, 11.336151476415269, 17.963328072679598, 9.692518118752067, 140.00821579812768, 15.917652262069161, 278.4036100159153, 37.25032535618232, 15.261685139510712, 82.08778164242824, 100.13769645796201, 15.860780808236818, 14.553098305635956, 16.392027109953254, 93.33895299521161, 148.48055352615467, 95.97266186530477, 179.98976255977863, 45.15259340882897, 60.25034735796271, 80.11196575313402, 352.4166094462874, 59.776377748179286, 274.2057498340874, 45.62060562762762, 77.57687958838984, 77.04991890761588, 29.2926348039411, 53.67613446934452, 191.0888145658589, 223.73321148792024, 38.25982167655904, 43.66003763625636, 90.09511972557539, 47.34609121805243, 99.78027384713795, 96.47276998408964, 132.2685381319815, 110.8629599672233, 116.42517213794231, 149.6943914845485, 68.82323104354637, 107.8424845569585, 149.30353868494373, 169.5558326694893, 114.38427318545746, 107.91328525611614, 111.69127185705914, 158.13743740388395, 116.12607254122115, 145.34495401084024, 112.60512416757925, 103.30095119336848, 92.87245227543796, 9.73421630293676, 7.892765959329927, 4.673774299613716, 5.378402576478141, 5.289166632017032, 4.5371440965016046, 3.7775101484027087, 4.5299638241491795, 3.7672862276864167, 5.251218347216103, 4.460116662268214, 4.423590131893252, 4.426364890531167, 5.155231437294571, 4.4259148057967055, 3.6595375311500558, 3.655414962760809, 4.381173694293926, 3.622213803848949, 2.877496513297212, 2.8773666517818377, 2.8771387066277927, 2.8769040392305985, 2.8768988447699835, 2.876877761371017, 2.876831316781989, 2.876464648973873, 2.8763210374156944, 2.8760811755578857, 2.876125786807873, 6.445858121724721, 4.309515804553882, 4.313084093439861, 3.590376954739787, 9.211495897913101, 4.9861590776334, 5.000947401447718, 4.27275705123378, 3.5844864364024085, 4.931510601955335, 6.264879447221021, 9.538718805457707, 10.222441822798924, 6.2574250906820295, 19.10037634899113, 7.504849751733965, 30.03342527282231, 6.229861449319948, 15.447169643104697, 30.51561055165878, 62.38631776622267, 34.562618483461435, 50.41915562316289, 121.26622550576403, 113.09597696039943, 20.720319614150224, 8.485326803991402, 228.32357477882718, 56.275339186989015, 56.51155636678534, 193.21872060736817, 94.90985012416388, 233.58460271213642, 105.96925521912378, 88.2753432485027, 44.09928394919369, 40.82631420477526, 157.81736417955446, 92.35741195611737, 166.9712700092989, 32.494565601100085, 155.11375131867393, 67.7244192727978, 39.86262809367746, 207.80482468105842, 271.75305930957984, 131.90821596796505, 129.5654042302703, 134.3304235083771, 82.50624084465198, 122.845185087784, 125.84047974556852, 153.6544623314147, 147.16488212913723, 152.50749609420424, 104.18723989387345, 143.9357511878571, 187.72842262700038, 154.02901105295277, 100.34288925961633, 96.40639256072768, 114.49767465726397, 110.06429907824163, 112.6966317172245, 131.57920249929083, 114.3173523181368, 124.10853657619447, 114.1497606853074, 112.15047268368006, 113.21361377105114], \"Total\": [410.0, 1347.0, 445.0, 417.0, 802.0, 622.0, 1120.0, 190.0, 962.0, 620.0, 267.0, 259.0, 119.0, 327.0, 429.0, 343.0, 692.0, 767.0, 579.0, 540.0, 925.0, 703.0, 152.0, 581.0, 370.0, 532.0, 485.0, 530.0, 68.0, 306.0, 13.917915588890073, 14.851550243363025, 9.285390153356676, 9.28818343877389, 9.288546211976453, 9.289675269207256, 9.28994162868577, 9.292210083388294, 5.565031364270208, 10.227704212393425, 6.49754511088917, 4.63757994335914, 4.636939306631774, 4.63710358500905, 5.563110224373262, 9.266714223468, 4.637047917385499, 4.637430207678439, 4.63640458306381, 4.637993782960544, 4.635594118310222, 8.322962713382932, 4.635667526284603, 4.634601008695865, 4.6344239833849015, 11.124661630440313, 4.639378236229415, 15.772272049120303, 4.635157779543201, 5.554379917452407, 5.553682812354287, 7.438019791283399, 12.96720368305719, 22.495218750027696, 6.472504497821795, 22.185555994663183, 7.402637381956374, 119.59400229627309, 14.869280745102726, 8.308537118205804, 11.194843227113305, 532.60154822371, 962.4822095261234, 28.844260589186646, 540.0956669947334, 63.4915768730406, 150.79971705432766, 1120.910647888437, 59.59353984749711, 14.00005119961865, 64.23870357632008, 77.74970186503192, 141.2756480877635, 737.0770913389758, 70.06360466540512, 429.8688886864718, 468.5602736596802, 206.71297019518005, 845.5595123492028, 398.90995605099596, 273.3511159801476, 509.61613242757727, 182.47426072967028, 442.73078684707724, 260.3863399883978, 121.67265376537529, 173.30572433187064, 689.4603852959399, 282.8304035324819, 602.4291668036701, 410.5870694502694, 207.8985554361965, 544.8281308234648, 313.3474804906702, 349.2428563345307, 266.75183674279947, 357.3015439825835, 1347.9656353252701, 256.00184189031376, 606.8298295369003, 767.96882363972, 556.8955599387909, 338.30598374725395, 581.2534950264898, 516.4381698688765, 723.9469054262455, 556.6834328435408, 670.6939123089345, 444.15708293410296, 454.44919093680346, 27.49074753149533, 28.466557202270796, 30.296481877127636, 7.809046311238113, 33.24301791738067, 6.824559814368692, 9.742896797608, 4.874243144745153, 40.9621864203452, 7.78877632967899, 5.841798972445525, 5.834610184518009, 7.778963838996596, 10.713683274976232, 5.832751962792935, 8.76878921241275, 6.819625162592258, 3.890195034770537, 3.8901650815327056, 3.8903688418050186, 3.889964540192566, 3.890239276047127, 3.889927035693319, 3.88993091412445, 3.889883886834802, 3.890023394512814, 3.889637795634405, 3.8897303848216023, 3.8898371471561193, 5.83015874772068, 11.650400557282342, 52.50168841596569, 9.709768164151749, 29.11152308149036, 46.640342278026814, 8.722927903617704, 15.532633353903249, 6.808524455307242, 6.808416617214952, 11.62111952164834, 9.765836590017523, 6.817372303574429, 417.3225091504697, 445.04046998387656, 29.80770866648232, 35.10789347575282, 56.89324024885526, 15.540113509447018, 97.01663576145316, 62.371325639342615, 35.60694230765249, 13.560885368797946, 53.61946342204842, 30.113814186462566, 925.8630611716842, 536.7351621736822, 70.14088561569922, 381.0856171599988, 321.1265992615165, 343.85431751352, 306.33223117871324, 254.29185435871267, 118.53953591977306, 121.39013870651146, 579.0549011752114, 281.4670446415732, 81.25214331608711, 546.2594543579202, 581.2534950264898, 296.81698056228527, 1347.9656353252701, 300.8728724709586, 689.4603852959399, 509.61613242757727, 620.5006612474145, 420.10525827853775, 723.9469054262455, 255.38977518014892, 544.8281308234648, 692.930173815965, 606.8298295369003, 410.5870694502694, 670.6939123089345, 318.62807213821077, 540.0956669947334, 737.0770913389758, 962.4822095261234, 619.3336375980145, 845.5595123492028, 556.8955599387909, 556.6834328435408, 530.8946176664758, 5.759477724336716, 5.759383924087567, 5.759065579924582, 5.758742375916705, 8.65954365264889, 8.637750921908939, 6.711646415384894, 5.754073292336342, 4.793977136448087, 4.79362372235664, 4.793470387390114, 4.792186650235744, 4.791135670875615, 4.794219262680678, 8.614434965589217, 15.31795167290676, 5.746501561288792, 5.746420566740744, 5.742487454714411, 10.546888633831086, 4.782367322854453, 6.707170950853289, 6.694072545372699, 3.829128741105172, 3.829216687462901, 3.8292324804686975, 3.8290865115301744, 3.8293016080687936, 3.8292123630648067, 3.829072921740033, 6.686392714694172, 10.524724862925778, 11.472695250004028, 5.747683825305313, 17.161005996095707, 9.559154282119543, 12.49797351256733, 36.4502431410645, 13.34333478334355, 370.95975265447305, 50.56356811114387, 15.252287935428114, 1347.9656353252701, 32.17314628721703, 159.91973287990956, 175.99344804532336, 154.75300054540043, 20.086288577475525, 24.648732979075156, 703.3009583138725, 223.04397760133827, 176.4232941787698, 419.88246286263507, 235.83316009081634, 81.12902195881871, 30.546996194283402, 265.7068988171986, 458.51038854736214, 579.0549011752114, 723.9469054262455, 767.96882363972, 50.82837525157787, 237.27684217128973, 845.5595123492028, 65.49992558771444, 314.9083575386493, 279.72840389188656, 450.26460315313045, 93.86911792189957, 111.7836784233263, 454.44919093680346, 321.859577461836, 306.33223117871324, 346.06603641165253, 602.4291668036701, 737.0770913389758, 692.930173815965, 556.6834328435408, 282.71811193390334, 260.88452650355487, 802.0566826776942, 925.8630611716842, 556.8955599387909, 670.6939123089345, 1120.910647888437, 606.8298295369003, 962.4822095261234, 620.5006612474145, 530.8946176664758, 68.51434936588191, 16.521358299955708, 16.52255671799977, 11.011797891251527, 19.212471724008726, 9.182798407039316, 11.925911345250324, 8.24478348080383, 15.533461953906405, 7.3405864020669584, 7.34685306456041, 17.402118108611997, 7.347960056405675, 9.146207774207106, 13.758907851113547, 9.15913494621373, 15.553745970043954, 10.068157665060415, 6.429580246648797, 8.273006680375902, 11.017764268069838, 5.4998533355152, 4.588324114878987, 4.5880198088114055, 10.085198168111779, 4.588142134832169, 4.5857166157082565, 4.587723162592944, 10.085821615017798, 4.589582683760474, 119.26077166374183, 39.63753768385022, 13.751355843705337, 22.046574487357702, 11.940431130639322, 190.27360675327276, 20.130789690246967, 410.9055979886129, 49.91474211803946, 19.376952311083347, 122.48417965699443, 152.4699571487718, 20.267986680826073, 18.456290110692994, 21.117370847451504, 153.08193429727842, 259.68686926556165, 158.27825382555082, 327.741173518463, 68.24348713405303, 95.8109246497666, 136.9351907557239, 802.0566826776942, 97.88821444616315, 622.2451262101241, 72.97962945128441, 142.0945175211747, 141.88677650940255, 43.17263815896711, 95.13034705917487, 485.5236540770874, 619.3336375980145, 61.75799938481169, 74.53221547383612, 204.96892315408994, 84.05901894243857, 242.32986967368953, 237.73506922273899, 377.6422371089313, 293.773214372495, 318.62807213821077, 520.6791256980474, 149.71578993554562, 346.06603641165253, 670.6939123089345, 925.8630611716842, 427.2390227162957, 381.48358442426496, 449.0905024278294, 1347.9656353252701, 516.4381698688765, 1120.910647888437, 602.4291668036701, 723.9469054262455, 338.30598374725395, 10.857579900227787, 9.060862777902168, 5.4382284171518736, 6.342887266077515, 6.341644605030886, 5.4481986149834025, 4.537670041843614, 5.4445111085626, 4.536164612940263, 6.342501735033103, 5.449037656282021, 5.4454465748513075, 5.455408669869536, 6.355516653799908, 5.461039812186877, 4.5478422379659005, 4.543815819686826, 5.455555084049925, 4.538304451771709, 3.6369561177088894, 3.636972001694759, 3.636759972588481, 3.636473269704842, 3.6365686356303177, 3.6366238296795443, 3.6366898005469777, 3.6365858903514163, 3.636631593439193, 3.6363697053285753, 3.636554609826683, 8.180971553976118, 5.4541936243231035, 5.461532769295774, 4.545210739422435, 11.88978732475485, 6.359992047505887, 6.383919312166953, 5.44906173333307, 4.553557579948394, 6.364364008643146, 8.177279880243379, 12.685384123525461, 13.700372626556037, 8.217109209386912, 27.60434892364163, 10.022833555674655, 47.017464803697834, 8.22285242704594, 22.828933964691437, 49.538249113112656, 112.49952811915375, 58.76778961196304, 95.15997576369598, 267.7473173047333, 255.60060377558057, 33.94016254725496, 11.833318894168094, 620.5006612474145, 115.07083902609764, 116.72262380045511, 530.8946176664758, 227.47787063002795, 692.930173815965, 262.78964818977147, 210.76131733725876, 89.575092813666, 81.72588276214812, 451.6098403219702, 242.4764537462599, 520.6791256980474, 64.05008304718729, 477.5280953127159, 168.639144418012, 84.09390068864113, 767.96882363972, 1120.910647888437, 429.8688886864718, 420.10525827853775, 450.26460315313045, 232.0060539683541, 411.0161053008982, 427.2390227162957, 581.2534950264898, 546.2594543579202, 622.2451262101241, 343.85431751352, 606.8298295369003, 962.4822095261234, 703.3009583138725, 363.95551965643335, 337.00968763874164, 485.5236540770874, 458.51038854736214, 516.4381698688765, 802.0566826776942, 556.6834328435408, 845.5595123492028, 689.4603852959399, 670.6939123089345, 925.8630611716842], \"Category\": [\"Default\", \"Default\", \"Default\", \"Default\", \"Default\", \"Default\", \"Default\", \"Default\", \"Default\", \"Default\", \"Default\", \"Default\", \"Default\", \"Default\", \"Default\", \"Default\", \"Default\", \"Default\", \"Default\", \"Default\", \"Default\", \"Default\", \"Default\", \"Default\", \"Default\", \"Default\", \"Default\", \"Default\", \"Default\", \"Default\", \"Topic1\", \"Topic1\", \"Topic1\", \"Topic1\", \"Topic1\", \"Topic1\", \"Topic1\", \"Topic1\", \"Topic1\", \"Topic1\", \"Topic1\", \"Topic1\", \"Topic1\", \"Topic1\", \"Topic1\", \"Topic1\", \"Topic1\", \"Topic1\", \"Topic1\", \"Topic1\", \"Topic1\", \"Topic1\", \"Topic1\", \"Topic1\", \"Topic1\", \"Topic1\", \"Topic1\", \"Topic1\", \"Topic1\", \"Topic1\", \"Topic1\", \"Topic1\", \"Topic1\", \"Topic1\", \"Topic1\", \"Topic1\", \"Topic1\", \"Topic1\", \"Topic1\", \"Topic1\", \"Topic1\", \"Topic1\", \"Topic1\", \"Topic1\", \"Topic1\", \"Topic1\", \"Topic1\", \"Topic1\", \"Topic1\", \"Topic1\", \"Topic1\", \"Topic1\", \"Topic1\", \"Topic1\", \"Topic1\", \"Topic1\", \"Topic1\", \"Topic1\", \"Topic1\", \"Topic1\", \"Topic1\", \"Topic1\", \"Topic1\", \"Topic1\", \"Topic1\", \"Topic1\", \"Topic1\", \"Topic1\", \"Topic1\", \"Topic1\", \"Topic1\", \"Topic1\", \"Topic1\", \"Topic1\", \"Topic1\", \"Topic1\", \"Topic1\", \"Topic1\", \"Topic1\", \"Topic1\", \"Topic1\", \"Topic1\", \"Topic1\", \"Topic1\", \"Topic1\", \"Topic1\", \"Topic1\", \"Topic1\", \"Topic1\", \"Topic1\", \"Topic2\", \"Topic2\", \"Topic2\", \"Topic2\", \"Topic2\", \"Topic2\", \"Topic2\", \"Topic2\", \"Topic2\", \"Topic2\", \"Topic2\", \"Topic2\", \"Topic2\", \"Topic2\", \"Topic2\", \"Topic2\", \"Topic2\", \"Topic2\", \"Topic2\", \"Topic2\", \"Topic2\", \"Topic2\", \"Topic2\", \"Topic2\", \"Topic2\", \"Topic2\", \"Topic2\", \"Topic2\", \"Topic2\", \"Topic2\", \"Topic2\", \"Topic2\", \"Topic2\", \"Topic2\", \"Topic2\", \"Topic2\", \"Topic2\", \"Topic2\", \"Topic2\", \"Topic2\", \"Topic2\", \"Topic2\", \"Topic2\", \"Topic2\", \"Topic2\", \"Topic2\", \"Topic2\", \"Topic2\", \"Topic2\", \"Topic2\", \"Topic2\", \"Topic2\", \"Topic2\", \"Topic2\", \"Topic2\", \"Topic2\", \"Topic2\", \"Topic2\", \"Topic2\", \"Topic2\", \"Topic2\", \"Topic2\", \"Topic2\", \"Topic2\", \"Topic2\", \"Topic2\", \"Topic2\", \"Topic2\", \"Topic2\", \"Topic2\", \"Topic2\", \"Topic2\", \"Topic2\", \"Topic2\", \"Topic2\", \"Topic2\", \"Topic2\", \"Topic2\", \"Topic2\", \"Topic2\", \"Topic2\", \"Topic2\", \"Topic2\", \"Topic2\", \"Topic2\", \"Topic2\", \"Topic2\", \"Topic2\", \"Topic2\", \"Topic2\", \"Topic2\", \"Topic2\", \"Topic3\", \"Topic3\", \"Topic3\", \"Topic3\", \"Topic3\", \"Topic3\", \"Topic3\", \"Topic3\", \"Topic3\", \"Topic3\", \"Topic3\", \"Topic3\", \"Topic3\", \"Topic3\", \"Topic3\", \"Topic3\", \"Topic3\", \"Topic3\", \"Topic3\", \"Topic3\", \"Topic3\", \"Topic3\", \"Topic3\", \"Topic3\", \"Topic3\", \"Topic3\", \"Topic3\", \"Topic3\", \"Topic3\", \"Topic3\", \"Topic3\", \"Topic3\", \"Topic3\", \"Topic3\", \"Topic3\", \"Topic3\", \"Topic3\", \"Topic3\", \"Topic3\", \"Topic3\", \"Topic3\", \"Topic3\", \"Topic3\", \"Topic3\", \"Topic3\", \"Topic3\", \"Topic3\", \"Topic3\", \"Topic3\", \"Topic3\", \"Topic3\", \"Topic3\", \"Topic3\", \"Topic3\", \"Topic3\", \"Topic3\", \"Topic3\", \"Topic3\", \"Topic3\", \"Topic3\", \"Topic3\", \"Topic3\", \"Topic3\", \"Topic3\", \"Topic3\", \"Topic3\", \"Topic3\", \"Topic3\", \"Topic3\", \"Topic3\", \"Topic3\", \"Topic3\", \"Topic3\", \"Topic3\", \"Topic3\", \"Topic3\", \"Topic3\", \"Topic3\", \"Topic3\", \"Topic3\", \"Topic3\", \"Topic3\", \"Topic3\", \"Topic3\", \"Topic3\", \"Topic3\", \"Topic3\", \"Topic3\", \"Topic3\", \"Topic4\", \"Topic4\", \"Topic4\", \"Topic4\", \"Topic4\", \"Topic4\", \"Topic4\", \"Topic4\", \"Topic4\", \"Topic4\", \"Topic4\", \"Topic4\", \"Topic4\", \"Topic4\", \"Topic4\", \"Topic4\", \"Topic4\", \"Topic4\", \"Topic4\", \"Topic4\", \"Topic4\", \"Topic4\", \"Topic4\", \"Topic4\", \"Topic4\", \"Topic4\", \"Topic4\", \"Topic4\", \"Topic4\", \"Topic4\", \"Topic4\", \"Topic4\", \"Topic4\", \"Topic4\", \"Topic4\", \"Topic4\", \"Topic4\", \"Topic4\", \"Topic4\", \"Topic4\", \"Topic4\", \"Topic4\", \"Topic4\", \"Topic4\", \"Topic4\", \"Topic4\", \"Topic4\", \"Topic4\", \"Topic4\", \"Topic4\", \"Topic4\", \"Topic4\", \"Topic4\", \"Topic4\", \"Topic4\", \"Topic4\", \"Topic4\", \"Topic4\", \"Topic4\", \"Topic4\", \"Topic4\", \"Topic4\", \"Topic4\", \"Topic4\", \"Topic4\", \"Topic4\", \"Topic4\", \"Topic4\", \"Topic4\", \"Topic4\", \"Topic4\", \"Topic4\", \"Topic4\", \"Topic4\", \"Topic4\", \"Topic4\", \"Topic4\", \"Topic4\", \"Topic4\", \"Topic4\", \"Topic4\", \"Topic4\", \"Topic4\", \"Topic4\", \"Topic4\", \"Topic5\", \"Topic5\", \"Topic5\", \"Topic5\", \"Topic5\", \"Topic5\", \"Topic5\", \"Topic5\", \"Topic5\", \"Topic5\", \"Topic5\", \"Topic5\", \"Topic5\", \"Topic5\", \"Topic5\", \"Topic5\", \"Topic5\", \"Topic5\", \"Topic5\", \"Topic5\", \"Topic5\", \"Topic5\", \"Topic5\", \"Topic5\", \"Topic5\", \"Topic5\", \"Topic5\", \"Topic5\", \"Topic5\", \"Topic5\", \"Topic5\", \"Topic5\", \"Topic5\", \"Topic5\", \"Topic5\", \"Topic5\", \"Topic5\", \"Topic5\", \"Topic5\", \"Topic5\", \"Topic5\", \"Topic5\", \"Topic5\", \"Topic5\", \"Topic5\", \"Topic5\", \"Topic5\", \"Topic5\", \"Topic5\", \"Topic5\", \"Topic5\", \"Topic5\", \"Topic5\", \"Topic5\", \"Topic5\", \"Topic5\", \"Topic5\", \"Topic5\", \"Topic5\", \"Topic5\", \"Topic5\", \"Topic5\", \"Topic5\", \"Topic5\", \"Topic5\", \"Topic5\", \"Topic5\", \"Topic5\", \"Topic5\", \"Topic5\", \"Topic5\", \"Topic5\", \"Topic5\", \"Topic5\", \"Topic5\", \"Topic5\", \"Topic5\", \"Topic5\", \"Topic5\", \"Topic5\", \"Topic5\", \"Topic5\", \"Topic5\", \"Topic5\", \"Topic5\", \"Topic5\", \"Topic5\", \"Topic5\", \"Topic5\", \"Topic5\", \"Topic5\", \"Topic5\", \"Topic5\", \"Topic5\", \"Topic5\", \"Topic5\", \"Topic5\", \"Topic5\", \"Topic5\", \"Topic5\"], \"logprob\": [30.0, 29.0, 28.0, 27.0, 26.0, 25.0, 24.0, 23.0, 22.0, 21.0, 20.0, 19.0, 18.0, 17.0, 16.0, 15.0, 14.0, 13.0, 12.0, 11.0, 10.0, 9.0, 8.0, 7.0, 6.0, 5.0, 4.0, 3.0, 2.0, 1.0, -8.3014, -8.2404, -8.7165, -8.7208, -8.7215, -8.7244, -8.7316, -8.7324, -9.2568, -8.6546, -9.1087, -9.4654, -9.4657, -9.4658, -9.2852, -8.7795, -9.4741, -9.4742, -9.4767, -9.4764, -9.4809, -8.896, -9.4821, -9.4852, -9.4863, -8.6113, -9.4873, -8.265, -9.4908, -9.3147, -9.3149, -9.0334, -8.5027, -7.9856, -9.1703, -8.0281, -9.0479, -6.5379, -8.424, -8.9499, -8.6827, -5.26, -4.7584, -7.8487, -5.2971, -7.1649, -6.4262, -4.6895, -7.2385, -8.4949, -7.2078, -7.0498, -6.55, -5.2012, -7.1423, -5.6721, -5.6098, -6.2706, -5.1551, -5.7509, -6.0598, -5.5727, -6.4071, -5.7335, -6.1629, -6.7418, -6.4786, -5.4318, -6.117, -5.5671, -5.8485, -6.3454, -5.6499, -6.0503, -5.976, -6.1873, -5.9869, -5.0965, -6.2262, -5.6892, -5.5716, -5.8055, -6.0934, -5.8475, -5.9025, -5.758, -5.9369, -5.8899, -6.0224, -6.0265, -7.4903, -7.4625, -7.4489, -8.8418, -7.3936, -8.9954, -8.6444, -9.3392, -7.211, -8.8811, -9.176, -9.1844, -8.9073, -8.59, -9.1994, -8.7926, -9.0443, -9.6108, -9.6109, -9.6108, -9.6109, -9.6109, -9.6111, -9.6111, -9.6112, -9.6111, -9.6113, -9.6112, -9.6112, -9.2067, -8.5152, -7.0493, -8.71, -7.6585, -7.2081, -8.8292, -8.2781, -9.07, -9.0702, -8.5624, -8.7294, -9.0725, -5.2, -5.14, -7.6983, -7.5529, -7.1148, -8.3032, -6.6895, -7.1041, -7.5934, -8.4419, -7.258, -7.7589, -4.8514, -5.3198, -7.0423, -5.6372, -5.8013, -5.7688, -5.8734, -6.0299, -6.6491, -6.6618, -5.4419, -6.0328, -6.9898, -5.536, -5.5148, -6.0235, -5.0485, -6.0906, -5.5426, -5.7458, -5.6289, -5.906, -5.5841, -6.2244, -5.7956, -5.7109, -5.7845, -6.0065, -5.7517, -6.1783, -5.9394, -5.8163, -5.7182, -5.9389, -5.8883, -5.9972, -6.0005, -6.0226, -9.105, -9.105, -9.1051, -9.1052, -8.6976, -8.7001, -8.9666, -9.1294, -9.3189, -9.3191, -9.3194, -9.32, -9.3204, -9.3271, -8.7465, -8.1765, -9.1605, -9.1605, -9.1614, -8.5729, -9.3649, -9.0289, -9.0319, -9.5911, -9.5911, -9.5911, -9.5912, -9.5911, -9.5912, -9.5912, -9.0343, -8.5863, -8.5056, -9.1929, -8.1274, -8.6975, -8.4458, -7.4511, -8.4101, -5.528, -7.2762, -8.3199, -4.4704, -7.6865, -6.344, -6.2717, -6.385, -8.106, -7.9358, -5.123, -6.0907, -6.3114, -5.6414, -6.124, -6.9795, -7.7655, -6.0534, -5.6413, -5.4682, -5.2996, -5.274, -7.3734, -6.2034, -5.238, -7.1839, -5.9918, -6.095, -5.7429, -6.9192, -6.807, -5.8446, -6.0863, -6.1225, -6.0473, -5.6933, -5.5657, -5.6067, -5.7929, -6.2138, -6.2736, -5.7111, -5.6413, -5.9575, -5.9185, -5.823, -5.9881, -5.9326, -6.0738, -6.1036, -6.5976, -8.0218, -8.0269, -8.4356, -7.8863, -8.6283, -8.3711, -8.7428, -8.1099, -8.864, -8.8669, -8.0064, -8.8706, -8.6524, -8.2481, -8.6562, -8.1295, -8.5662, -9.0225, -8.7734, -8.4873, -9.1838, -9.3662, -9.3665, -8.5793, -9.3669, -9.3676, -9.3672, -8.5805, -9.3786, -6.1362, -7.2297, -8.2813, -7.821, -8.438, -5.7676, -7.9419, -5.0803, -7.0917, -7.984, -6.3015, -6.1028, -7.9455, -8.0315, -7.9125, -6.1731, -5.7089, -6.1453, -5.5164, -6.8993, -6.6108, -6.3259, -4.8445, -6.6187, -5.0954, -6.889, -6.3581, -6.3649, -7.332, -6.7264, -5.4566, -5.2989, -7.0649, -6.9329, -6.2085, -6.8518, -6.1064, -6.1401, -5.8245, -6.001, -5.9521, -5.7007, -6.4778, -6.0287, -5.7033, -5.5761, -5.9698, -6.028, -5.9936, -5.6459, -5.9546, -5.7302, -5.9854, -6.0717, -6.1781, -8.3697, -8.5794, -9.1033, -8.9629, -8.9797, -9.133, -9.3162, -9.1346, -9.319, -8.9869, -9.1501, -9.1584, -9.1577, -9.0053, -9.1578, -9.348, -9.3491, -9.168, -9.3582, -9.5884, -9.5884, -9.5885, -9.5886, -9.5886, -9.5886, -9.5886, -9.5888, -9.5888, -9.5889, -9.5889, -8.7819, -9.1845, -9.1837, -9.3671, -8.4249, -9.0386, -9.0357, -9.1931, -9.3687, -9.0497, -8.8104, -8.39, -8.3207, -8.8115, -7.6956, -8.6298, -7.243, -8.816, -7.9079, -7.2271, -6.512, -7.1025, -6.7249, -5.8473, -5.9171, -7.6142, -8.507, -5.2146, -6.6151, -6.6109, -5.3815, -6.0924, -5.1918, -5.9822, -6.1649, -6.8589, -6.936, -5.5839, -6.1196, -5.5275, -7.1642, -5.6012, -6.4299, -6.9599, -5.3087, -5.0404, -5.7632, -5.7811, -5.745, -6.2324, -5.8344, -5.8103, -5.6106, -5.6538, -5.6181, -5.9991, -5.6759, -5.4103, -5.6082, -6.0367, -6.0767, -5.9048, -5.9442, -5.9206, -5.7657, -5.9063, -5.8242, -5.9078, -5.9255, -5.916], \"loglift\": [30.0, 29.0, 28.0, 27.0, 26.0, 25.0, 24.0, 23.0, 22.0, 21.0, 20.0, 19.0, 18.0, 17.0, 16.0, 15.0, 14.0, 13.0, 12.0, 11.0, 10.0, 9.0, 8.0, 7.0, 6.0, 5.0, 4.0, 3.0, 2.0, 1.0, 1.4067, 1.4028, 1.3964, 1.3917, 1.391, 1.388, 1.3808, 1.3797, 1.368, 1.3617, 1.3612, 1.3417, 1.3416, 1.3414, 1.3399, 1.3353, 1.3331, 1.333, 1.3307, 1.3306, 1.3267, 1.3263, 1.3254, 1.3226, 1.3215, 1.3208, 1.3194, 1.3181, 1.3168, 1.312, 1.3119, 1.3013, 1.2761, 1.2424, 1.3035, 1.2138, 1.2915, 1.0193, 1.218, 1.2742, 1.2432, 0.8035, 0.7134, 1.1307, 0.7525, 1.0255, 0.8992, 0.6299, 1.0152, 1.2073, 0.9709, 0.938, 0.8406, 0.5375, 0.9496, 0.6058, 0.5819, 0.7394, 0.4463, 0.6016, 0.6707, 0.535, 0.7276, 0.5149, 0.6163, 0.7982, 0.7076, 0.3736, 0.5795, 0.3733, 0.4752, 0.6589, 0.391, 0.5437, 0.5096, 0.5677, 0.4758, 0.0384, 0.5699, 0.2438, 0.126, 0.2134, 0.4239, 0.1286, 0.1919, -0.0014, 0.0824, -0.0569, 0.2227, 0.1957, 1.5372, 1.5301, 1.4814, 1.4442, 1.4439, 1.4254, 1.4204, 1.4181, 1.4176, 1.4075, 1.4003, 1.3931, 1.3826, 1.3798, 1.3784, 1.3775, 1.3772, 1.372, 1.372, 1.372, 1.372, 1.3719, 1.3718, 1.3718, 1.3717, 1.3717, 1.3717, 1.3717, 1.3717, 1.3716, 1.3708, 1.3312, 1.3582, 1.3117, 1.2907, 1.3462, 1.3203, 1.3531, 1.353, 1.3261, 1.333, 1.3493, 1.1075, 1.1031, 1.2482, 1.23, 1.1853, 1.2947, 1.0769, 1.1041, 1.1754, 1.2923, 1.1014, 1.1774, 0.6592, 0.736, 1.0485, 0.7611, 0.7682, 0.7323, 0.7433, 0.7729, 0.917, 0.8805, 0.538, 0.6685, 0.954, 0.5023, 0.4613, 0.6247, 0.0864, 0.544, 0.2628, 0.3619, 0.2819, 0.3948, 0.1725, 0.5741, 0.2452, 0.0895, 0.1485, 0.3172, 0.0813, 0.399, 0.1101, -0.0777, -0.2464, -0.0262, -0.287, 0.0218, 0.0189, 0.0441, 1.4855, 1.4855, 1.4855, 1.4854, 1.4851, 1.4851, 1.4709, 1.462, 1.455, 1.4549, 1.4546, 1.4543, 1.4542, 1.4468, 1.4414, 1.4358, 1.4322, 1.4322, 1.432, 1.4126, 1.4114, 1.4093, 1.4082, 1.4076, 1.4075, 1.4075, 1.4075, 1.4075, 1.4075, 1.4075, 1.4069, 1.4013, 1.3958, 1.3996, 1.3713, 1.3863, 1.3699, 1.2942, 1.3402, 0.8972, 1.1419, 1.2967, 0.6645, 1.1837, 0.9226, 0.8991, 0.9145, 1.2353, 1.2008, 0.6625, 0.8432, 0.857, 0.6599, 0.7542, 0.9657, 1.1565, 0.7055, 0.5721, 0.5117, 0.457, 0.4236, 1.0394, 0.6687, 0.3633, 0.9753, 0.5972, 0.6125, 0.4886, 0.8802, 0.8177, 0.3776, 0.4809, 0.4941, 0.4474, 0.247, 0.1729, 0.1937, 0.2264, 0.4831, 0.5036, -0.057, -0.1307, 0.0614, -0.0855, -0.5036, -0.0551, -0.4608, -0.163, -0.0368, 1.5167, 1.5148, 1.5097, 1.5067, 1.4994, 1.4957, 1.4915, 1.489, 1.4884, 1.4839, 1.4802, 1.4783, 1.4763, 1.4756, 1.4715, 1.4704, 1.4675, 1.4658, 1.4579, 1.4549, 1.4545, 1.4528, 1.4516, 1.4514, 1.451, 1.4509, 1.4508, 1.4507, 1.4497, 1.4389, 1.4238, 1.4318, 1.4388, 1.4272, 1.4234, 1.3252, 1.3972, 1.2427, 1.3393, 1.3932, 1.2318, 1.2116, 1.3868, 1.3944, 1.3787, 1.1373, 1.073, 1.1317, 1.0327, 1.219, 1.1681, 1.0959, 0.8096, 1.1388, 0.8125, 1.1622, 1.0268, 1.0214, 1.2441, 1.0597, 0.6995, 0.6138, 1.1532, 1.0972, 0.81, 1.058, 0.7447, 0.7301, 0.5829, 0.6575, 0.6252, 0.3855, 0.8548, 0.466, 0.1297, -0.0656, 0.3142, 0.3692, 0.2405, -0.5109, 0.1397, -0.4108, -0.0451, -0.3151, 0.3393, 1.5868, 1.558, 1.5445, 1.5311, 1.5145, 1.513, 1.5126, 1.5121, 1.5103, 1.5072, 1.4957, 1.4882, 1.487, 1.4867, 1.4858, 1.4787, 1.4784, 1.4767, 1.4705, 1.4618, 1.4617, 1.4617, 1.4617, 1.4617, 1.4616, 1.4616, 1.4615, 1.4615, 1.4614, 1.4614, 1.4576, 1.4604, 1.4599, 1.4602, 1.4408, 1.4526, 1.4518, 1.4528, 1.4567, 1.4409, 1.4296, 1.4109, 1.4032, 1.4235, 1.3277, 1.4067, 1.2478, 1.4184, 1.3054, 1.2115, 1.1064, 1.1652, 1.0608, 0.9039, 0.8806, 1.2025, 1.3634, 0.6962, 0.9807, 0.9706, 0.6853, 0.8219, 0.6086, 0.7878, 0.8257, 0.9874, 1.002, 0.6446, 0.7308, 0.5587, 1.0174, 0.5715, 0.7837, 0.9495, 0.3888, 0.279, 0.5146, 0.5197, 0.4865, 0.6621, 0.4883, 0.4737, 0.3655, 0.3845, 0.2899, 0.502, 0.2571, 0.0615, 0.1774, 0.4076, 0.4445, 0.2513, 0.2691, 0.1737, -0.1116, 0.113, -0.2228, -0.1024, -0.0925, -0.4055]}, \"token.table\": {\"Topic\": [1, 2, 3, 4, 5, 3, 3, 2, 5, 1, 2, 3, 4, 5, 1, 2, 5, 3, 5, 2, 1, 3, 4, 1, 2, 3, 4, 5, 1, 2, 3, 4, 5, 5, 1, 2, 3, 4, 5, 3, 2, 5, 1, 2, 3, 4, 5, 1, 2, 3, 4, 5, 1, 2, 1, 2, 2, 3, 5, 2, 5, 1, 5, 2, 3, 2, 3, 1, 2, 2, 1, 1, 2, 3, 3, 1, 3, 3, 4, 3, 2, 3, 4, 2, 3, 2, 1, 2, 5, 3, 4, 2, 3, 4, 5, 1, 2, 2, 3, 4, 5, 2, 3, 4, 5, 1, 2, 4, 5, 1, 2, 2, 1, 2, 3, 4, 5, 3, 4, 1, 2, 3, 4, 5, 1, 2, 3, 4, 1, 2, 3, 4, 5, 1, 2, 3, 4, 2, 3, 4, 5, 1, 2, 3, 4, 5, 2, 1, 2, 3, 4, 5, 4, 5, 4, 1, 2, 3, 4, 5, 4, 3, 4, 5, 5, 1, 2, 3, 4, 5, 5, 2, 5, 5, 1, 2, 3, 4, 5, 1, 2, 3, 4, 5, 1, 2, 3, 4, 5, 2, 3, 2, 2, 3, 1, 1, 2, 3, 4, 5, 1, 2, 3, 4, 5, 1, 5, 1, 1, 2, 3, 4, 5, 1, 2, 3, 4, 5, 1, 2, 3, 4, 5, 1, 2, 3, 4, 5, 1, 2, 3, 4, 5, 1, 2, 3, 4, 5, 1, 5, 1, 2, 4, 5, 3, 4, 4, 4, 5, 1, 2, 3, 4, 5, 1, 2, 3, 4, 5, 1, 2, 3, 4, 5, 1, 2, 3, 4, 5, 1, 2, 3, 4, 5, 1, 2, 3, 4, 5, 2, 4, 1, 2, 3, 4, 5, 1, 2, 3, 4, 5, 1, 2, 3, 4, 5, 3, 4, 1, 2, 1, 2, 3, 4, 5, 5, 5, 5, 1, 2, 3, 4, 5, 5, 3, 4, 5, 1, 2, 3, 4, 5, 1, 2, 3, 4, 5, 1, 3, 4, 5, 1, 2, 3, 4, 5, 1, 2, 3, 4, 5, 1, 2, 3, 4, 5, 1, 2, 3, 4, 5, 1, 2, 3, 4, 5, 5, 1, 2, 3, 4, 5, 3, 4, 5, 2, 1, 2, 3, 4, 5, 3, 1, 2, 4, 5, 4, 4, 5, 1, 2, 3, 4, 5, 1, 2, 3, 4, 5, 1, 2, 4, 1, 2, 3, 4, 5, 1, 2, 4, 1, 2, 3, 4, 5, 1, 2, 3, 4, 5, 2, 1, 1, 2, 4, 1, 2, 3, 4, 5, 1, 2, 3, 4, 5, 1, 3, 3, 1, 5, 1, 2, 3, 3, 1, 2, 2, 4, 5, 1, 2, 3, 4, 5, 1, 2, 3, 4, 5, 1, 5, 1, 2, 3, 4, 5, 1, 2, 3, 4, 5, 1, 2, 3, 4, 5, 1, 2, 3, 4, 5, 1, 2, 3, 4, 5, 1, 2, 3, 4, 5, 1, 2, 3, 4, 5, 1, 2, 3, 4, 5, 1, 3, 4, 5, 1, 2, 3, 4, 5, 4, 3, 2, 5, 1, 2, 3, 4, 5, 5, 1, 2, 3, 4, 5, 1, 2, 3, 4, 5, 1, 2, 3, 4, 5, 1, 2, 4, 1, 2, 3, 4, 5, 4, 1, 2, 3, 4, 5, 1, 3, 1, 2, 3, 4, 5, 3, 1, 2, 3, 4, 5, 2, 3, 5, 1, 2, 3, 4, 5, 1, 2, 3, 4, 5, 1, 2, 3, 4, 5, 2, 1, 2, 3, 4, 5, 1, 2, 3, 4, 5, 3, 1, 2, 3, 4, 5, 5, 1, 3, 4, 5, 1, 2, 3, 4, 5, 1, 2, 3, 4, 5, 1, 4, 5, 1, 4, 3, 2, 5, 1, 2, 4, 2, 4, 5, 3, 4, 2, 4, 1, 5, 1, 2, 3, 4, 5, 5, 1, 2, 3, 4, 5, 1, 3, 4, 5, 1, 5, 1, 2, 3, 4, 5, 1, 1, 2, 3, 4, 5, 2, 3, 5, 1, 2, 3, 4, 5, 1, 2, 3, 4, 5, 2, 4, 1, 2, 3, 4, 5, 1, 2, 3, 4, 5, 1, 2, 3, 4, 5, 5, 1, 1, 1, 2, 3, 4, 5, 1, 1, 2, 3, 4, 5, 1, 2, 3, 4, 5, 1, 3, 4, 5, 1, 4, 5, 1, 2, 3, 4, 5, 5, 1, 2, 3, 4, 5, 1, 5, 5, 1, 2, 3, 5, 3, 5, 1, 2, 3, 4, 5, 2, 3, 4, 5, 1, 2, 3, 4, 5, 1, 4, 1, 2, 3, 4, 5, 5, 3, 5, 1, 2, 3, 4, 5, 1, 2, 3, 4, 5, 1, 2, 3, 4, 5, 1, 2, 3, 4, 5, 1, 2, 3, 4, 5, 2, 1, 2, 3, 4, 5, 5, 1, 2, 3, 4, 5, 5, 1, 2, 3, 4, 5, 1, 2, 3, 4, 5, 3, 4, 2, 3, 4, 5, 1, 2, 3, 4, 5, 3, 5, 1, 2, 3, 4, 5, 1, 2, 3, 4, 5, 1, 2, 3, 4, 5, 1, 2, 3, 4, 5, 1, 2, 3, 4, 5, 1, 2, 3, 4, 5, 1, 2, 3, 4, 5, 1, 2, 3, 4, 5, 2, 3, 4, 5, 1, 2, 3, 4, 5, 1, 2, 3, 4, 5, 1, 1, 3, 1, 2, 3, 4, 5, 5, 1, 2, 3, 4, 5, 1, 2, 3, 4, 5, 1, 2, 3, 4, 5, 5, 5, 2, 4, 5, 3, 1, 2, 3, 4, 5, 1, 2, 3, 4, 5, 1, 3, 5, 1, 2, 3, 4, 5, 1, 2, 3, 4, 5, 1, 2, 3, 4, 5, 1, 2, 3, 4, 5, 1, 2, 3, 4, 5, 2, 3, 4, 5, 2, 2, 2, 1, 2, 3, 4, 5, 1, 2, 3, 4, 5, 1, 2, 3, 3, 1, 2, 3, 4, 5, 2, 1, 2, 3, 4, 5, 4, 5, 1, 2, 3, 4, 5, 1, 2, 3, 4, 5, 1, 2, 3, 4, 5, 1, 2, 3, 4, 5, 1, 2, 3, 4, 5, 1, 2, 3, 4, 5, 1, 2, 3, 4, 5, 1, 2, 3, 1, 2, 3, 4, 5, 1, 2, 3, 4, 5, 1, 2, 3, 4, 5, 1, 2, 3, 4, 5, 1, 2, 3, 4, 5, 1, 2, 3, 1, 2, 3, 4, 5, 5, 1, 2, 3, 4, 5, 1, 2, 3, 4, 5, 2, 3, 1, 2, 3, 4, 5, 1, 1, 2, 3, 4, 5, 1, 2, 3, 4, 5, 1, 5, 4, 1, 2, 3, 4, 5, 1, 3, 4, 1, 2, 3, 4, 5, 1, 2, 3, 4, 5, 1, 2, 3, 4, 5, 1, 2, 3, 4, 5, 5, 3, 3, 1, 2, 3, 4, 5, 1, 2, 3, 4, 5, 3, 2, 3, 4, 1, 3, 1, 2, 3, 4, 5, 1, 2, 3, 4, 5, 1, 2, 3, 4, 5, 1, 2, 3, 4, 5, 3, 1, 2, 3, 4, 5, 1, 2, 4, 5, 1, 2, 3, 4, 5, 1, 2, 3, 4, 5, 1, 2, 3, 4, 5, 1, 2, 3, 4, 5, 1, 2, 3, 4, 5, 1, 2, 3, 4, 5, 1, 2, 3, 4, 5, 5, 1, 2, 3, 4, 5, 1, 2, 3, 4, 5, 1, 2, 3, 4, 5, 1, 2, 3, 4, 5, 1, 2, 3, 4, 5, 1, 2, 3, 4, 5, 1, 2, 3, 4, 5, 1, 2, 5, 1, 2, 5, 1, 2, 3, 4, 5, 1, 2, 3, 4, 5, 3, 3, 4, 5, 1, 2, 3, 5, 4, 1, 3, 4, 2, 4, 4, 1, 3, 4], \"Freq\": [0.17019931550533265, 0.11573553454362621, 0.21445113753671916, 0.3778424804218385, 0.11913952085373286, 0.8681963993307188, 0.8682451260383176, 0.8911925849840565, 0.06601426555437456, 0.1883036720008171, 0.06725131142886326, 0.45730891771627014, 0.13898604361965072, 0.15243630590542337, 0.1146404064150599, 0.8024828449054193, 0.1146404064150599, 0.8701068677324293, 0.8800472033796797, 0.7712035881922298, 0.1900287205649591, 0.7601148822598364, 0.8711941224656952, 0.03622617591040353, 0.21735705546242118, 0.03622617591040353, 0.03622617591040353, 0.688297342297667, 0.1154517482756454, 0.22368776228406295, 0.2395623776719642, 0.08370251749984292, 0.33769636370626277, 0.9183561021918908, 0.11892419383130878, 0.10928169162877023, 0.08517543612242386, 0.44034093391592716, 0.24588380616473304, 0.8348751266459066, 0.7713109514562208, 0.12855182524270345, 0.024412759361480706, 0.8544465776518246, 0.04882551872296141, 0.024412759361480706, 0.04882551872296141, 0.20624532926894165, 0.088390855400975, 0.088390855400975, 0.029463618466991665, 0.6187359878068249, 0.8611711139697016, 0.1076463892462127, 0.8612757925115312, 0.1076594740639414, 0.11547952641755058, 0.9238362113404046, 0.8795379854225259, 0.7712312468126393, 0.8249260081376156, 0.8624418632675921, 0.8784340441008177, 0.7343735096820431, 0.1468747019364086, 0.7343851413789213, 0.14687702827578428, 0.8621980729340647, 0.07184983941117207, 0.8569552792519668, 0.8626177842594551, 0.7557161452354878, 0.17781556358482067, 0.04445389089620517, 0.7834500486280107, 0.11577087705360696, 0.9261670164288557, 0.16254620955821963, 0.8127310477910982, 0.8700946039382315, 0.7712219230184563, 0.15482310901307436, 0.7741155450653717, 0.8559007291390709, 0.8681342717712862, 0.771280041387683, 0.8611464226316935, 0.10764330282896169, 0.824939211717862, 0.8681484106465653, 0.7776557423956381, 0.7712616822252042, 0.1480166751262996, 0.7894222673402644, 0.04933889170876653, 0.8613094317887481, 0.10766367897359351, 0.7504233093179762, 0.12864399588308165, 0.021440665980513605, 0.08576266392205442, 0.8723636365408851, 0.06016300941661276, 0.03008150470830638, 0.03008150470830638, 0.0997721846267543, 0.0997721846267543, 0.0997721846267543, 0.7981774770140344, 0.861568535933624, 0.107696066991703, 0.7711695617278878, 0.1252885063296525, 0.3963869122670903, 0.17281173286848622, 0.1836124661727666, 0.1220482863383684, 0.1208750383789806, 0.8461252686528642, 0.7211899491655228, 0.045074371822845176, 0.045074371822845176, 0.09014874364569035, 0.09014874364569035, 0.12869918863746888, 0.7721951318248131, 0.06434959431873444, 0.06434959431873444, 0.04978520527288379, 0.14935561581865137, 0.6969928738203731, 0.09957041054576758, 0.04978520527288379, 0.09962205323524334, 0.664147021568289, 0.19924410647048668, 0.03320735107841445, 0.7725670030693462, 0.06438058358911218, 0.12876116717822436, 0.06438058358911218, 0.31704972223273237, 0.17761424229791814, 0.25231182083442577, 0.18757391943611915, 0.06639784758800678, 0.7711351087749527, 0.21373561526158752, 0.08069609963957897, 0.34895610654953063, 0.1177726859604666, 0.2399073232528023, 0.8165531595084579, 0.8829181277869671, 0.8166761941847823, 0.06216364362209226, 0.03108182181104613, 0.6527182580319687, 0.09324546543313839, 0.15540910905523064, 0.8715389340633036, 0.07272010202962995, 0.7999211223259294, 0.07272010202962995, 0.7333806380033717, 0.11405615896884837, 0.5845378147153479, 0.11405615896884837, 0.14257019871106047, 0.04277105961331814, 0.8249566751708918, 0.8211110274681446, 0.10263887843351807, 0.7345586711791812, 0.8242312812962843, 0.06340240625356033, 0.06340240625356033, 0.06340240625356033, 0.06340240625356033, 0.2556913368071021, 0.017046089120473472, 0.48297252508008176, 0.15909683179108575, 0.07954841589554287, 0.37657874196155666, 0.08297497704237689, 0.25530762166885196, 0.20743744260594224, 0.0765922865006556, 0.7982858100969148, 0.11404083001384498, 0.8791775826138073, 0.8191822509274288, 0.2047955627318572, 0.8631061841429688, 0.028483622940540354, 0.7120905735135089, 0.22786898352432283, 0.028483622940540354, 0.028483622940540354, 0.1482884976762987, 0.18800863098245013, 0.10062433770891697, 0.3495371730941327, 0.21184071096614102, 0.863073216549781, 0.8813864390341727, 0.898467532834057, 0.5530567830941012, 0.21865035610697026, 0.051447142613404766, 0.10289428522680953, 0.07717071392010715, 0.614254707801405, 0.06300048285142616, 0.204751569267135, 0.07875060356428269, 0.06300048285142616, 0.18559208815267747, 0.514596244423333, 0.11810405609715839, 0.07592403606245897, 0.10123204808327863, 0.4467615045183119, 0.1600029574321396, 0.124677629167901, 0.07376759725767476, 0.19532828569637822, 0.4001220012119778, 0.034894360570812015, 0.07676759325578643, 0.17912438426350166, 0.3070703730231457, 0.4443015387798118, 0.08655224781424906, 0.18464479533706465, 0.12694329679423194, 0.16156419591993157, 0.9001904936840041, 0.8249986231058775, 0.08605022933781512, 0.7744520640403361, 0.08605022933781512, 0.08605022933781512, 0.06052332075886259, 0.9078498113829389, 0.871892191014253, 0.8369029414418927, 0.06437714934168405, 0.45485867249497625, 0.07672314957746587, 0.1698869740643887, 0.15892652412475075, 0.14248584921529378, 0.3417855228156283, 0.15374435282363902, 0.28383572828979514, 0.07450687867607123, 0.14664845961639414, 0.2361674016214931, 0.4382217341198817, 0.10233920736931368, 0.09709104288883606, 0.125955947531463, 0.2092375429839685, 0.22140251641326897, 0.09731978743440395, 0.172742622696067, 0.2992583463607921, 0.6103985032556679, 0.07525460999042481, 0.07525460999042481, 0.050169739993616534, 0.19231733664219672, 0.18249627948951755, 0.12166418632634504, 0.06952239218648287, 0.13904478437296575, 0.48665674530538017, 0.8576095808634313, 0.17152191617268625, 0.10702321959499332, 0.11891468843888148, 0.1545890949705459, 0.14269762612665776, 0.4756587537555259, 0.16433404615562194, 0.022409188112130267, 0.30999376888446867, 0.048553240909615575, 0.45191862692796037, 0.10711601226891607, 0.30468554600936126, 0.1642445521456713, 0.11425707975351046, 0.3094462576657575, 0.06052771096930214, 0.9079156645395321, 0.8625466736678835, 0.7711754995286768, 0.2371186067559862, 0.20837695745223028, 0.24789672524489464, 0.10059577256314566, 0.2047842512892608, 0.788332460735843, 0.7882845446017259, 0.7331976193759929, 0.09476980973351219, 0.15794968288918698, 0.03790792389340488, 0.6065267822944781, 0.10740578436464715, 0.8249534934131711, 0.7834326744277973, 0.8939073363176215, 0.09932303736862462, 0.05111907290863725, 0.08032997171357283, 0.16065994342714565, 0.5842179760987114, 0.13144904462221008, 0.24817541725289868, 0.02944454103000493, 0.11777816412001972, 0.40381084841149617, 0.19769906120146166, 0.0845071453700819, 0.0845071453700819, 0.0845071453700819, 0.6760571629606552, 0.2721510583688548, 0.18398944791133845, 0.32581464734299515, 0.15332453992611536, 0.06132981597044614, 0.1686760847425436, 0.42750662857161914, 0.07270520894075155, 0.02617387521867056, 0.30245366919352645, 0.21449377026149144, 0.17159501620919315, 0.36463940944453543, 0.16087032769611856, 0.08937240427562143, 0.1427772201428953, 0.16384271163938804, 0.13107416931151045, 0.2668295589555748, 0.29491688095089846, 0.18167779768416809, 0.12111853178944539, 0.040372843929815126, 0.040372843929815126, 0.6257790809121345, 0.9177345308684625, 0.1617158152780531, 0.3840750612853761, 0.09096514609390487, 0.27963359725163345, 0.08422698712398599, 0.05746426922048747, 0.861964038307312, 0.05746426922048747, 0.7711607916951321, 0.17862141583306926, 0.08097504184432473, 0.38105902044388107, 0.13575227603313264, 0.22387217451078015, 0.8707028164067036, 0.03354836868505976, 0.704515742386255, 0.03354836868505976, 0.23483858079541836, 0.87177799559295, 0.1576617610097383, 0.7883088050486916, 0.05045722103002561, 0.10091444206005122, 0.025228610515012805, 0.8073155364804098, 0.025228610515012805, 0.12953787492616642, 0.08096117182885401, 0.06476893746308321, 0.6153049058992905, 0.11334564056039563, 0.7146147416003498, 0.17865368540008744, 0.08932684270004372, 0.20708520776376352, 0.2315791570691549, 0.18704470378662513, 0.24939293838216683, 0.12469646919108342, 0.8090133703818352, 0.08989037448687058, 0.08989037448687058, 0.08508062040472214, 0.0680644963237777, 0.15314511672849984, 0.11911286856661099, 0.5955643428330549, 0.11514363806361523, 0.21035856953929705, 0.13507234465154863, 0.19042986295136363, 0.34985951565483087, 0.7712226919611865, 0.8628883154804954, 0.10298907070634067, 0.8239125656507253, 0.10298907070634067, 0.45957445200608477, 0.1402911485071206, 0.09191489040121695, 0.1548040259388917, 0.1548040259388917, 0.08221472272622511, 0.054809815150816746, 0.13702453787704186, 0.6303128742343925, 0.0959171765139293, 0.14938589225347632, 0.7469294612673816, 0.7834766832680268, 0.12229005422891764, 0.7337403253735059, 0.09481469224888901, 0.09481469224888901, 0.8533322302400012, 0.8344684908292231, 0.860936195825105, 0.10761702447813813, 0.09915521572614046, 0.7932417258091237, 0.09915521572614046, 0.24614735296515186, 0.5292168088750765, 0.07384420588954556, 0.061536838241287965, 0.08615157353780316, 0.1588795808709725, 0.35057124909573284, 0.32812087353787805, 0.07425893453751976, 0.08634759829944158, 0.8410466610338564, 0.12014952300483663, 0.057141019470293916, 0.7809272660940169, 0.07618802596039188, 0.057141019470293916, 0.03809401298019594, 0.1725646342329436, 0.03697813590705934, 0.5176939026988308, 0.23419486074470916, 0.049304181209412455, 0.37445201220216706, 0.1899394264793601, 0.23471086272092356, 0.08954287248312691, 0.11125023550933949, 0.6933788418032026, 0.1040068262704804, 0.03466894209016013, 0.13867576836064052, 0.03466894209016013, 0.27242614077135424, 0.22514557088541673, 0.18236791241718756, 0.14859607678437506, 0.16885917816406257, 0.11521935612025784, 0.44219320456963823, 0.13701761268354987, 0.12456146607595443, 0.18061412581013392, 0.5371362863420933, 0.08620705830181745, 0.14588886789538338, 0.05968180959356593, 0.1724141166036349, 0.509641972799672, 0.15572393613323313, 0.12033213246658922, 0.13448885393324678, 0.07786196806661656, 0.05827164213027544, 0.7575313476935807, 0.05827164213027544, 0.05827164213027544, 0.11718443981919756, 0.17045009428246918, 0.4793908901694446, 0.042612523570617296, 0.1811032251751235, 0.8173733910836501, 0.7834794639107369, 0.12161230046046809, 0.7296738027628085, 0.14504416452847899, 0.27236070894792164, 0.16760659012179793, 0.046736453014732116, 0.3674452168054801, 0.8818022142735401, 0.23101942886469162, 0.36414926922739527, 0.19186359346389645, 0.07048050372143135, 0.13704542390278318, 0.19884447902622596, 0.1118500194522521, 0.3200153334328324, 0.0963152945283282, 0.27651810364584545, 0.0393481001527373, 0.25576265099279244, 0.5508734021383223, 0.0786962003054746, 0.0786962003054746, 0.7711762878426821, 0.07711762878426821, 0.07711762878426821, 0.1809334869199227, 0.14862393568422222, 0.49110517878264737, 0.09046674345996135, 0.09046674345996135, 0.8722737001013322, 0.24946086559598551, 0.32515933515614664, 0.04645133359373523, 0.11526812410297262, 0.26494464346056396, 0.13056575988142394, 0.8486774392292555, 0.05101367164633201, 0.2550683582316601, 0.46479123055546945, 0.11336371476962669, 0.11903190050810802, 0.7834468174240495, 0.17870217575707278, 0.04204757076637007, 0.1261427122991102, 0.567642205345996, 0.08409514153274014, 0.08410579371070613, 0.08410579371070613, 0.7569521433963552, 0.04025105091707792, 0.08050210183415583, 0.09391911880651513, 0.5903487467838094, 0.21467227155774887, 0.3636438017170206, 0.24911032086126608, 0.20616026554035816, 0.06585675149205886, 0.11453348085575453, 0.41127274584145335, 0.09813449466932726, 0.11865352537291388, 0.12935910660956776, 0.2426598413641547, 0.9457727539133876, 0.1134991797494389, 0.33866690731687416, 0.1775712973499286, 0.10068475622934096, 0.2691028939220568, 0.11012423109816086, 0.18354038516360144, 0.15906833380845456, 0.036708077032720283, 0.5016770527805106, 0.7477873665738902, 0.09458683407763427, 0.1006892104697397, 0.12814990423421418, 0.5492138752894893, 0.12814990423421418, 0.7867181021405307, 0.0811400732726442, 0.6491205861811536, 0.20285018318161052, 0.0405700366363221, 0.10179013788760143, 0.18245402074192707, 0.10563127516637884, 0.2880852959083059, 0.3207349627779139, 0.16387433043191266, 0.2147318812556097, 0.1902449123404963, 0.06781006776492939, 0.3635373077397603, 0.05204952357849705, 0.8848419008344498, 0.05204952357849705, 0.8105219383870882, 0.13508698973118136, 0.7834680426895578, 0.9484813990026933, 0.8248656026924676, 0.8066663128580792, 0.13444438547634655, 0.8718125730310047, 0.01459548268728025, 0.8903244439240953, 0.08757289612368149, 0.09081169213925218, 0.9081169213925218, 0.8987291075912178, 0.1283898725130311, 0.8628746512383992, 0.7884390109205194, 0.15640530373187503, 0.14360850615381252, 0.3824820609443126, 0.09810878143181252, 0.21896742522462503, 0.8249751276855936, 0.1543053649811601, 0.1994679108293045, 0.398935821658609, 0.2220491837533767, 0.026344818411417576, 0.04967515012510827, 0.04967515012510827, 0.7948024020017324, 0.09935030025021654, 0.7724984975572686, 0.15449969951145373, 0.227750613186752, 0.22404131981237493, 0.38279907623571346, 0.11721367063031536, 0.0489626725417773, 0.8987778056407821, 0.2567678053970267, 0.1451296291374499, 0.0669829057557461, 0.03349145287787305, 0.4912079755421381, 0.12169729944171098, 0.12169729944171098, 0.7301837966502659, 0.11114344590141399, 0.12384555400443273, 0.35883455391027946, 0.11431897292716867, 0.292148486369431, 0.11099060607881156, 0.43090470595303315, 0.3231785294647749, 0.04896644385829922, 0.0881395989449386, 0.857228291532873, 0.17144565830657463, 0.08428972594620943, 0.2612981504332492, 0.3835182530552529, 0.06743178075696754, 0.20229534227090262, 0.1926919764047139, 0.4443712925251565, 0.14943459394651282, 0.07471729697325641, 0.13763712600336706, 0.12400267056153196, 0.18061258538310088, 0.4825321310981352, 0.1428726421687216, 0.07008846596956154, 0.7323951295298685, 0.8627374786513424, 0.9003034867020839, 0.4881698163798644, 0.1389406400465768, 0.17085943573295254, 0.07885820110751655, 0.1220424540949661, 0.8626379893045354, 0.2149502713825928, 0.21232892660963434, 0.16776606546934072, 0.28310523547951244, 0.12058185955608863, 0.15111736745171192, 0.1950787834376645, 0.26376849591571533, 0.11539871696312547, 0.2747588499122035, 0.14988756802359443, 0.7494378401179721, 0.07494378401179722, 0.07494378401179722, 0.06429319354488429, 0.8358115160834958, 0.06429319354488429, 0.2487080127742328, 0.10937944017296101, 0.3007934604756428, 0.07161749058943875, 0.27084432804733205, 0.9194170631432609, 0.1603037328950559, 0.1402657662831739, 0.12690712187525258, 0.4608732320732857, 0.10686915526337058, 0.8425069179340229, 0.12035813113343184, 0.8249409728650315, 0.07374149790402965, 0.7374149790402964, 0.07374149790402965, 0.07374149790402965, 0.09210155570478652, 0.9210155570478652, 0.09772031754633852, 0.13769681108802245, 0.32203286464134284, 0.14435956001163644, 0.2976027852547582, 0.04535852046191738, 0.09071704092383476, 0.8164533683145129, 0.04535852046191738, 0.021268692477892853, 0.19141823230103566, 0.08507476991157141, 0.06380607743367855, 0.6380607743367855, 0.8633049220121584, 0.1079131152515198, 0.16362897205504795, 0.20548754630168814, 0.15601832219202247, 0.06849584876722938, 0.40336444274035077, 0.7861645050265091, 0.8125895694798142, 0.11608422421140203, 0.1908128610186586, 0.08056543020787807, 0.4197882942410489, 0.10600714501036589, 0.2035337184199025, 0.27849652699006516, 0.23729881589686025, 0.18621365414128618, 0.05932470397421506, 0.23729881589686025, 0.07633596458524572, 0.15267192917049144, 0.5190845591796709, 0.1374047362534423, 0.12213754333639316, 0.11869286416837022, 0.07912857611224682, 0.2066135042930889, 0.1802373122556733, 0.41762304059241373, 0.3659108533058852, 0.22587089710239827, 0.11519415752222312, 0.18521413562396657, 0.10615932163812718, 0.7712405138074523, 0.4070874071378825, 0.1651392311974429, 0.08448983921729637, 0.049925814082947856, 0.29187399002338743, 0.8249495792082335, 0.03435065891951968, 0.755714496229433, 0.06870131783903936, 0.13740263567807873, 0.03435065891951968, 0.7332172971920834, 0.4849076450142307, 0.22190688839634287, 0.06575018915447196, 0.09862528373170794, 0.13150037830894393, 0.13627017837561103, 0.3523082660442627, 0.1595358185860812, 0.24262739076633183, 0.10635721239072081, 0.8343802830406584, 0.8718358173427894, 0.04735437982426124, 0.04735437982426124, 0.7576700771881798, 0.09470875964852248, 0.09626978857538783, 0.03465712388713962, 0.12707612091951193, 0.5699171483662959, 0.1732856194356981, 0.8343381436758501, 0.8249100910183896, 0.08980751661810103, 0.05715023784788248, 0.08164319692554639, 0.6694742147894804, 0.10613615600321032, 0.122588812840179, 0.09194160963013424, 0.07151014082343775, 0.612944064200895, 0.10215734403348249, 0.027434659245754372, 0.13717329622877186, 0.7133011403896137, 0.054869318491508744, 0.054869318491508744, 0.17381176273125104, 0.14030588075896167, 0.20312940945700422, 0.15915293936837444, 0.32458823160655315, 0.31763971458055235, 0.2668753766338887, 0.11748318210513581, 0.1319872786613254, 0.1653467007405615, 0.08754391811367761, 0.11880960315427676, 0.49399782364146655, 0.20010038425983454, 0.10005019212991727, 0.3867159676234573, 0.13281154443633886, 0.1796862071785761, 0.14453021012189818, 0.15234265391227103, 0.2723560916323671, 0.2016142496499341, 0.31833828892094856, 0.12026113137013612, 0.08842730247804127, 0.08374906978308223, 0.08374906978308223, 0.8374906978308223, 0.08374906978308223, 0.18444850827187764, 0.4285167363892107, 0.17513292704602523, 0.12296567218125176, 0.08756646352301262, 0.3889256551846165, 0.11314200878097934, 0.2899263975012596, 0.12374907210419615, 0.08132081881132891, 0.8626074286827029, 0.9234256780987423, 0.7454707859151701, 0.0945775776819139, 0.08406895793947902, 0.2206810145911324, 0.07356033819704413, 0.5254309871217439, 0.8803173717273804, 0.17777852346915643, 0.07111140938766257, 0.026666778520373465, 0.1688895972956986, 0.5511134227543849, 0.07883384488238801, 0.07357825522356214, 0.08934502420003974, 0.7357825522356214, 0.021022358635303467, 0.09798674199445805, 0.1829085850563217, 0.03266224733148602, 0.60751780036564, 0.07185694412926924, 0.8815096653380369, 0.8248620002029319, 0.09914908652667415, 0.7931926922133932, 0.09914908652667415, 0.8689496546141205, 0.3531528652232983, 0.2825222921786386, 0.13395453508469934, 0.06575949904157968, 0.1656165161047192, 0.08567319405958221, 0.2912888598025795, 0.1199424716834151, 0.01713463881191644, 0.4883372061396186, 0.862969544996633, 0.15664358383949573, 0.7832179191974786, 0.10064158793039484, 0.6206231255707682, 0.07907553337388165, 0.14137746875936416, 0.057509478817368474, 0.5709098210265301, 0.09990921867964277, 0.1570002007822958, 0.08563647315397951, 0.08563647315397951, 0.15671624775478282, 0.17321269488686522, 0.2144538127170712, 0.07835812387739141, 0.37941828403789524, 0.17844605122350535, 0.0832748239043025, 0.0832748239043025, 0.5591309605003167, 0.09517122731920286, 0.32303765177100874, 0.26246809206394456, 0.15601250227577126, 0.07892397173950781, 0.17803779671470366, 0.14598143090818652, 0.07299071545409326, 0.07299071545409326, 0.7299071545409326, 0.8206402268447234, 0.7712152563353418, 0.8963962718374711, 0.06948845676174852, 0.046325637841165675, 0.046325637841165675, 0.6717217486969023, 0.13897691352349703, 0.2087669623434338, 0.0996387774820934, 0.14708581437832835, 0.12336229593021088, 0.4175339246868676, 0.08001297162251549, 0.08001297162251549, 0.8001297162251548, 0.8699156307078884, 0.38612667585607663, 0.08997126427714407, 0.11621288302464441, 0.1237104883810731, 0.28490900354428955, 0.8798137517750749, 0.16947659268570822, 0.30443017575025366, 0.08787675176295981, 0.3640608287322621, 0.07218447466243127, 0.8746794515821644, 0.10933493144777055, 0.19334458631438786, 0.6679176618133399, 0.03515356114807052, 0.08788390287017629, 0.01757678057403526, 0.3340171484652826, 0.1743983341544396, 0.12710387065493053, 0.2748990690908963, 0.08867711906157945, 0.09276759526200658, 0.597835613910709, 0.10307510584667398, 0.08246008467733917, 0.11338261643134137, 0.08237901452750866, 0.494274087165052, 0.18123383196051907, 0.09061691598025953, 0.15652012760226647, 0.19185194511408923, 0.40146795922022377, 0.2202744555013617, 0.12790129674272616, 0.05684502077454496, 0.3728296415871437, 0.2943391907266924, 0.1589431629924139, 0.10792436993312055, 0.06671688323138361, 0.21824804942977516, 0.24311175126354703, 0.3107962729221482, 0.14227562715991673, 0.08426032288111573, 0.8753294967176601, 0.06733303820905077, 0.06733303820905077, 0.05933125592334968, 0.1384395971544826, 0.61308964454128, 0.09888542653891613, 0.0791083412311329, 0.06034325294765634, 0.29740603238487767, 0.11637627354190866, 0.17240929413616096, 0.35774928533253403, 0.4280209341032917, 0.32558857380506806, 0.10974895746238249, 0.08048256880574715, 0.05853277731327066, 0.11967158666428572, 0.14030461884778325, 0.024759638620197044, 0.41266064366995076, 0.30536887631576354, 0.1159519046578058, 0.09475639520422839, 0.18577240638723724, 0.43887172515642625, 0.16457689693365984, 0.8799628746688085, 0.09777365274097873, 0.09777365274097873, 0.040068322806724246, 0.12020496842017274, 0.08013664561344849, 0.7412639719243986, 0.040068322806724246, 0.7324612413690127, 0.1465341297750019, 0.07326706488750095, 0.058613651910000765, 0.6594035839875086, 0.058613651910000765, 0.11909029307361675, 0.6179213319857473, 0.02246986661766354, 0.07415055983828968, 0.16627701297071018, 0.7334204114653443, 0.14668408229306887, 0.11681515227575504, 0.0681421721608571, 0.05840757613787752, 0.6765544235970813, 0.0778767681838367, 0.862184498940733, 0.13371381480055097, 0.11260110720046397, 0.04222541520017399, 0.5489303976022619, 0.16186409160066698, 0.10673678440506519, 0.07708767762588042, 0.23719285423347822, 0.1719648193192717, 0.403227852196913, 0.15712489082050407, 0.7856244541025205, 0.8490216894473899, 0.025154960496638082, 0.050309920993276164, 0.033539947328850774, 0.8133437227246313, 0.08384986832212693, 0.08716347625460102, 0.7844712862914092, 0.08716347625460102, 0.3985861911645888, 0.22812165657847536, 0.16294404041319668, 0.10027325563889027, 0.10779374981180703, 0.2662563877615671, 0.19144054326658133, 0.2882610479071512, 0.1386293589171796, 0.11662469877159552, 0.16396672805257217, 0.013117338244205775, 0.07214536034313175, 0.6558669122102887, 0.0983800368315433, 0.14737071724465464, 0.12425374199059117, 0.30918954402309895, 0.31207916592985685, 0.10691601055004356, 0.734071331130486, 0.8939684287072083, 0.8344417984550363, 0.13094577203465146, 0.13094577203465146, 0.6219924171645944, 0.032736443008662866, 0.0982093290259886, 0.5759767545128213, 0.07783469655578665, 0.14010245380041597, 0.09340163586694399, 0.10896857517810131, 0.8364058488114039, 0.8400472338977154, 0.0933385815441906, 0.0933385815441906, 0.10461176485774543, 0.8368941188619634, 0.1017211994648816, 0.24647829101105925, 0.08215943033701975, 0.1291076762438882, 0.4420959822896777, 0.13172728618817084, 0.19515153509358643, 0.1707575932068881, 0.43909095396056946, 0.06342424890541559, 0.271145993723844, 0.21009325341516388, 0.21009325341516388, 0.11851414295214374, 0.1921365650890815, 0.14042205468806632, 0.6740258625027183, 0.028084410937613262, 0.08425323281283979, 0.056168821875226524, 0.7834509333921805, 0.8625188242259558, 0.06556393402967389, 0.7212032743264128, 0.06556393402967389, 0.13112786805934779, 0.219020301505681, 0.0876081206022724, 0.0438040603011362, 0.657060904517043, 0.17743279341205492, 0.08349778513508467, 0.03131166942565675, 0.626233388513135, 0.08349778513508467, 0.6040923243043763, 0.13424273873430587, 0.06712136936715293, 0.06712136936715293, 0.13424273873430587, 0.10504122625486471, 0.10092196248016413, 0.16477055098802307, 0.3933896904839051, 0.23479803515793288, 0.20575454596241405, 0.15207944701569734, 0.4472924912226392, 0.08051264842007506, 0.1162960477178862, 0.42328336440513153, 0.16835133811567732, 0.0913907264056534, 0.14430114695629484, 0.17316137634755382, 0.07459977673620645, 0.6154481580737031, 0.037299888368103225, 0.11189966510430967, 0.1491995534724129, 0.15984922179256322, 0.20021518689169535, 0.16146386039652852, 0.36167904728822386, 0.1178686180894658, 0.7340745746890789, 0.2652786102831715, 0.21299742431495522, 0.07938994906284695, 0.2246154656412255, 0.21880644497809035, 0.16616733006212372, 0.16320005631101436, 0.11275640254215538, 0.27002191135095105, 0.28485828010649783, 0.2072480418399473, 0.2221579729075694, 0.1804101659182275, 0.2221579729075694, 0.1669912279573676, 0.3905580781970318, 0.13445442036291258, 0.19421194052420707, 0.13658861751153026, 0.14299120895738324, 0.17174060479977873, 0.03122556450905068, 0.09367669352715204, 0.20296616930882944, 0.4996090321448109, 0.12686171638276084, 0.06343085819138042, 0.09162235072088283, 0.5426862311929214, 0.17619682830939007, 0.17636309453492544, 0.625287335169281, 0.03206601718816826, 0.14429707734675717, 0.03206601718816826, 0.7142831020698261, 0.14285662041396524, 0.07142831020698262, 0.08583395867663346, 0.7725056280897011, 0.08583395867663346, 0.3526433124121675, 0.11474901435634022, 0.1651266304152213, 0.1119502579086246, 0.25468683674212095, 0.4647324822964143, 0.22958895539743177, 0.07220942952015999, 0.1684886688803733, 0.06665485801860922, 0.834692029327202, 0.1222348706876972, 0.1222348706876972, 0.7334092241261833, 0.7397802347381803, 0.1345054972251237, 0.06725274861256185, 0.1345054972251237, 0.909115151800975, 0.07268018732453879, 0.07268018732453879, 0.8721622478944655, 0.0838510341935642, 0.8385103419356419, 0.8734449319700327, 0.09076251548583789, 0.09076251548583789, 0.816862639372541], \"Term\": [\"#95vswisszeitvg\", \"#95vswisszeitvg\", \"#95vswisszeitvg\", \"#95vswisszeitvg\", \"#95vswisszeitvg\", \"#afghanen\", \"#buntesrepublik\", \"#coaching\", \"#coaching\", \"#dauerstell\", \"#dauerstell\", \"#dauerstell\", \"#dauerstell\", \"#dauerstell\", \"#dgfa\", \"#dgfa\", \"#dgfa\", \"#erinnernmitgames\", \"#eupen\", \"#faktenfuchs\", \"#fr\\u00fchsexualisierung\", \"#fr\\u00fchsexualisierung\", \"#gie\\u00dfen\", \"#hannagehtw\\u00e4hlen\", \"#hannagehtw\\u00e4hlen\", \"#hannagehtw\\u00e4hlen\", \"#hannagehtw\\u00e4hlen\", \"#hannagehtw\\u00e4hlen\", \"#hannaimbundestag\", \"#hannaimbundestag\", \"#hannaimbundestag\", \"#hannaimbundestag\", \"#hannaimbundestag\", \"#hatespeech\", \"#ichbinreyhan\", \"#ichbinreyhan\", \"#ichbinreyhan\", \"#ichbinreyhan\", \"#ichbinreyhan\", \"#justsaying\", \"#karliczexit\", \"#karliczexit\", \"#karrieren\", \"#karrieren\", \"#karrieren\", \"#karrieren\", \"#karrieren\", \"#keineausnahme\", \"#keineausnahme\", \"#keineausnahme\", \"#keineausnahme\", \"#keineausnahme\", \"#klimastreik\", \"#klimastreik\", \"#krankenschwestern\", \"#krankenschwestern\", \"#kultur\", \"#kultur\", \"#maskenrunter\", \"#meintwitterjubilaeum\", \"#menschenbild\", \"#money\", \"#nationomat\", \"#nichtsgemacht\", \"#nichtsgemacht\", \"#nichtspassiert\", \"#nichtspassiert\", \"#pflege\", \"#pflege\", \"#prek\\u00e4rearbeit\", \"#protest\", \"#r2g\", \"#r2g\", \"#r2g\", \"#ratifyc190\", \"#rechtesphantom\", \"#rechtesphantom\", \"#regenbogenfamilie\", \"#regenbogenfamilie\", \"#regierungserkl\\u00e4rung\", \"#russland\", \"#sand\", \"#sand\", \"#sarcasmoff\", \"#scholz\", \"#scifi\", \"#seebr\\u00fccke\", \"#seebr\\u00fccke\", \"#sgbii\", \"#soforthilfen\", \"#szplus\", \"#tesla\", \"#usa\", \"#usa\", \"#usa\", \"#wirhabenplatz\", \"#wirhabenplatz\", \"#wissenschaftler\", \"#wissenschaftler\", \"#wissenschaftler\", \"#wissenschaftler\", \"#wissenschaftlerinnen\", \"#wissenschaftlerinnen\", \"#wissenschaftlerinnen\", \"#wissenschaftlerinnen\", \"#wissenschaftprekaer\", \"#wissenschaftprekaer\", \"#wissenschaftprekaer\", \"#wissenschaftprekaer\", \"#wissler\", \"#wissler\", \"673/06\", \"@anjakarliczek\", \"@anjakarliczek\", \"@anjakarliczek\", \"@anjakarliczek\", \"@anjakarliczek\", \"@arbeiterkind_f\", \"@arbeiterkind_f\", \"@arminlaschet\", \"@arminlaschet\", \"@arminlaschet\", \"@arminlaschet\", \"@arminlaschet\", \"@christinaholzel\", \"@christinaholzel\", \"@christinaholzel\", \"@christinaholzel\", \"@chrizzy80\", \"@chrizzy80\", \"@chrizzy80\", \"@chrizzy80\", \"@chrizzy80\", \"@dgsoziologie\", \"@dgsoziologie\", \"@dgsoziologie\", \"@dgsoziologie\", \"@dievilla4\", \"@dievilla4\", \"@dievilla4\", \"@dievilla4\", \"@drkeichhorn\", \"@drkeichhorn\", \"@drkeichhorn\", \"@drkeichhorn\", \"@drkeichhorn\", \"@gabrielagan21\", \"@gew_bund\", \"@gew_bund\", \"@gew_bund\", \"@gew_bund\", \"@gew_bund\", \"@gruenehessen\", \"@hadmut\", \"@hessenschau\", \"@humboldtuni\", \"@humboldtuni\", \"@humboldtuni\", \"@humboldtuni\", \"@humboldtuni\", \"@ilka_sommer\", \"@jorischeyder\", \"@jorischeyder\", \"@jorischeyder\", \"@karambadiaby\", \"@karolinedoering\", \"@karolinedoering\", \"@karolinedoering\", \"@karolinedoering\", \"@karolinedoering\", \"@katharina2401\", \"@mariamsalehi\", \"@mariamsalehi\", \"@matthiasdaum\", \"@maxplanckpress\", \"@maxplanckpress\", \"@maxplanckpress\", \"@maxplanckpress\", \"@maxplanckpress\", \"@nga_wiss\", \"@nga_wiss\", \"@nga_wiss\", \"@nga_wiss\", \"@nga_wiss\", \"@sebastiankubon\", \"@sebastiankubon\", \"@sebastiankubon\", \"@sebastiankubon\", \"@sebastiankubon\", \"@simplewebstuff\", \"@simplewebstuff\", \"@sn_aktuell\", \"@stefingermdb\", \"@stefingermdb\", \"@unter_bauffm\", \"@vhdtweets\", \"@vhdtweets\", \"@vhdtweets\", \"@vhdtweets\", \"@vhdtweets\", \"aktuell\", \"aktuell\", \"aktuell\", \"aktuell\", \"aktuell\", \"algi\", \"aneinanderreihung\", \"angela\", \"anschlussverwendung\", \"anschlussverwendung\", \"anschlussverwendung\", \"anschlussverwendung\", \"anschlussverwendung\", \"anstellung\", \"anstellung\", \"anstellung\", \"anstellung\", \"anstellung\", \"antrag\", \"antrag\", \"antrag\", \"antrag\", \"antrag\", \"arbeit\", \"arbeit\", \"arbeit\", \"arbeit\", \"arbeit\", \"arbeitsbedingung\", \"arbeitsbedingung\", \"arbeitsbedingung\", \"arbeitsbedingung\", \"arbeitsbedingung\", \"arbeitsvertrag\", \"arbeitsvertrag\", \"arbeitsvertrag\", \"arbeitsvertrag\", \"arbeitsvertrag\", \"ariane\", \"atypisch\", \"aufkl\\u00e4rung\", \"aufkl\\u00e4rung\", \"aufkl\\u00e4rung\", \"aufkl\\u00e4rung\", \"augustausgabe\", \"augustausgabe\", \"ausnahmslos\", \"badge\", \"badge\", \"bedingung\", \"bedingung\", \"bedingung\", \"bedingung\", \"bedingung\", \"befristet\", \"befristet\", \"befristet\", \"befristet\", \"befristet\", \"befristung\", \"befristung\", \"befristung\", \"befristung\", \"befristung\", \"bekommen\", \"bekommen\", \"bekommen\", \"bekommen\", \"bekommen\", \"besonders\", \"besonders\", \"besonders\", \"besonders\", \"besonders\", \"betroffen\", \"betroffen\", \"betroffen\", \"betroffen\", \"betroffen\", \"beugen\", \"beugen\", \"bissch\", \"bissch\", \"bissch\", \"bissch\", \"bissch\", \"bitte\", \"bitte\", \"bitte\", \"bitte\", \"bitte\", \"bleiben\", \"bleiben\", \"bleiben\", \"bleiben\", \"bleiben\", \"bl\\u00e4tter-podcasts\", \"bl\\u00e4tter-podcasts\", \"born\", \"br-drs\", \"brauchen\", \"brauchen\", \"brauchen\", \"brauchen\", \"brauchen\", \"brutal\", \"bundestagsabgebordneter\", \"b\\u00fcrger\", \"career\", \"career\", \"career\", \"career\", \"career\", \"clicking\", \"collectiv\", \"comfortable\", \"comfortable\", \"condition\", \"condition\", \"condition\", \"condition\", \"condition\", \"contract\", \"contract\", \"contract\", \"contract\", \"contract\", \"count\", \"count\", \"count\", \"count\", \"dabei\", \"dabei\", \"dabei\", \"dabei\", \"dabei\", \"daf\\u00fcr\", \"daf\\u00fcr\", \"daf\\u00fcr\", \"daf\\u00fcr\", \"daf\\u00fcr\", \"dank\", \"dank\", \"dank\", \"dank\", \"dank\", \"danken\", \"danken\", \"danken\", \"danken\", \"danken\", \"dauerbefristung\", \"dauerbefristung\", \"dauerbefristung\", \"dauerbefristung\", \"dauerbefristung\", \"daumen\", \"debatte\", \"debatte\", \"debatte\", \"debatte\", \"debatte\", \"definitely\", \"definitely\", \"definitely\", \"denkfehler\", \"deutsch\", \"deutsch\", \"deutsch\", \"deutsch\", \"deutsch\", \"dgpuk\", \"drauf\", \"drauf\", \"drauf\", \"drauf\", \"dreamed\", \"drukos\", \"drukos\", \"early\", \"early\", \"early\", \"early\", \"early\", \"education\", \"education\", \"education\", \"education\", \"education\", \"eigenst\\u00e4ndig\", \"eigenst\\u00e4ndig\", \"eigenst\\u00e4ndig\", \"eigentlich\", \"eigentlich\", \"eigentlich\", \"eigentlich\", \"eigentlich\", \"einarbeiten\", \"einarbeiten\", \"einarbeiten\", \"eindruck\", \"eindruck\", \"eindruck\", \"eindruck\", \"eindruck\", \"einfach\", \"einfach\", \"einfach\", \"einfach\", \"einfach\", \"einhellig\", \"einsch\\u00e4tz\", \"endg\\u00fcltig\", \"endg\\u00fcltig\", \"endg\\u00fcltig\", \"endlich\", \"endlich\", \"endlich\", \"endlich\", \"endlich\", \"english\", \"english\", \"english\", \"english\", \"english\", \"entmutigen\", \"entmutigen\", \"entscheider\", \"ersch\\u00f6pfung\", \"ersch\\u00f6pfung\", \"erweitern\", \"erweitern\", \"erweitern\", \"esdar\", \"faulvolk\", \"faulvolk\", \"feather\", \"feather\", \"feather\", \"fertig\", \"fertig\", \"fertig\", \"fertig\", \"fertig\", \"finden\", \"finden\", \"finden\", \"finden\", \"finden\", \"fire\", \"fire\", \"fluktuation\", \"fluktuation\", \"fluktuation\", \"fluktuation\", \"fluktuation\", \"forscher\", \"forscher\", \"forscher\", \"forscher\", \"forscher\", \"forschung\", \"forschung\", \"forschung\", \"forschung\", \"forschung\", \"forschungsprojekt\", \"forschungsprojekt\", \"forschungsprojekt\", \"forschungsprojekt\", \"forschungsprojekt\", \"frage\", \"frage\", \"frage\", \"frage\", \"frage\", \"frau\", \"frau\", \"frau\", \"frau\", \"frau\", \"frei\", \"frei\", \"frei\", \"frei\", \"frei\", \"freuen\", \"freuen\", \"freuen\", \"freuen\", \"freuen\", \"frustriert\", \"frustriert\", \"frustriert\", \"frustriert\", \"funktionieren\", \"funktionieren\", \"funktionieren\", \"funktionieren\", \"funktionieren\", \"funny\", \"f\\u00e9licitations\", \"f\\u00fcr's\", \"f\\u00fcr's\", \"ganz\", \"ganz\", \"ganz\", \"ganz\", \"ganz\", \"geheule\", \"geld\", \"geld\", \"geld\", \"geld\", \"geld\", \"genau\", \"genau\", \"genau\", \"genau\", \"genau\", \"gender\", \"gender\", \"gender\", \"gender\", \"gender\", \"gendern\", \"gendern\", \"gendern\", \"genug\", \"genug\", \"genug\", \"genug\", \"genug\", \"geordnet\", \"gerade\", \"gerade\", \"gerade\", \"gerade\", \"gerade\", \"gesetzgeber\", \"gesetzgeber\", \"glauben\", \"glauben\", \"glauben\", \"glauben\", \"glauben\", \"gleichberechtigung\", \"good\", \"good\", \"good\", \"good\", \"good\", \"grateful\", \"grateful\", \"grateful\", \"great\", \"great\", \"great\", \"great\", \"great\", \"gro\\u00df\", \"gro\\u00df\", \"gro\\u00df\", \"gro\\u00df\", \"gro\\u00df\", \"gut\", \"gut\", \"gut\", \"gut\", \"gut\", \"gutschein\", \"haben\", \"haben\", \"haben\", \"haben\", \"haben\", \"hallo\", \"hallo\", \"hallo\", \"hallo\", \"hallo\", \"hammer\", \"hashtag\", \"hashtag\", \"hashtag\", \"hashtag\", \"hashtag\", \"hauptgrund\", \"her\", \"her\", \"her\", \"her\", \"heute\", \"heute\", \"heute\", \"heute\", \"heute\", \"hochschule\", \"hochschule\", \"hochschule\", \"hochschule\", \"hochschule\", \"honour\", \"honour\", \"honour\", \"hrsg\", \"hrsg\", \"https://t.co/1lkbtjkrpw\", \"https://t.co/7dwltvhfck\", \"https://t.co/amzrh09sdf\", \"https://t.co/fjkmivxwmx\", \"https://t.co/fjkmivxwmx\", \"https://t.co/pp10dwghee\", \"https://t.co/pp10dwyico\", \"https://t.co/pp10dwyico\", \"https://t.co/pp10dwyico\", \"https://t.co/ux1uiiy0pp\", \"https://t.co/ux1uiiy0pp\", \"https://t.co/wd0lgdsjeh\", \"https://t.co/wd0lgdsjeh\", \"https://t.co/wulyum7guz\", \"identifikation\", \"immer\", \"immer\", \"immer\", \"immer\", \"immer\", \"impressing\", \"innovation\", \"innovation\", \"innovation\", \"innovation\", \"innovation\", \"interest\", \"interest\", \"interest\", \"interest\", \"interpretation\", \"interpretation\", \"jahr\", \"jahr\", \"jahr\", \"jahr\", \"jahr\", \"jedesmal\", \"jobs\", \"jobs\", \"jobs\", \"jobs\", \"jobs\", \"kaczmarek\", \"kaczmarek\", \"kaczmarek\", \"kind\", \"kind\", \"kind\", \"kind\", \"kind\", \"klar\", \"klar\", \"klar\", \"klar\", \"klar\", \"kommerzialisiert\", \"kommerzialisiert\", \"kurz\", \"kurz\", \"kurz\", \"kurz\", \"kurz\", \"land\", \"land\", \"land\", \"land\", \"land\", \"lassen\", \"lassen\", \"lassen\", \"lassen\", \"lassen\", \"laugh\", \"lebenszeitstell\", \"leendertz\", \"lehre\", \"lehre\", \"lehre\", \"lehre\", \"lehre\", \"leitungsposten\", \"letzter\", \"letzter\", \"letzter\", \"letzter\", \"letzter\", \"leute\", \"leute\", \"leute\", \"leute\", \"leute\", \"locker\", \"locker\", \"locker\", \"locker\", \"lot\", \"lot\", \"lot\", \"machen\", \"machen\", \"machen\", \"machen\", \"machen\", \"manifesto\", \"many\", \"many\", \"many\", \"many\", \"many\", \"maria\", \"maria\", \"mechanism\", \"media\", \"media\", \"media\", \"media\", \"meme\", \"meme\", \"mensch\", \"mensch\", \"mensch\", \"mensch\", \"mensch\", \"message\", \"message\", \"message\", \"message\", \"minute\", \"minute\", \"minute\", \"minute\", \"minute\", \"mitinitiatorin\", \"mitinitiatorin\", \"mittelbau\", \"mittelbau\", \"mittelbau\", \"mittelbau\", \"mittelbau\", \"mittelbauinitiativ\", \"monatsvertrag\", \"monatsvertrag\", \"m\\u00f6chten\", \"m\\u00f6chten\", \"m\\u00f6chten\", \"m\\u00f6chten\", \"m\\u00f6chten\", \"m\\u00fcssen\", \"m\\u00fcssen\", \"m\\u00fcssen\", \"m\\u00fcssen\", \"m\\u00fcssen\", \"nachhaltig\", \"nachhaltig\", \"nachhaltig\", \"nachhaltig\", \"nachhaltig\", \"nehmen\", \"nehmen\", \"nehmen\", \"nehmen\", \"nehmen\", \"neu\", \"neu\", \"neu\", \"neu\", \"neu\", \"noticed\", \"n\\u00e4chster\", \"n\\u00e4chster\", \"n\\u00e4chster\", \"n\\u00e4chster\", \"n\\u00e4chster\", \"organisationsgrad\", \"pap\", \"pap\", \"pap\", \"pap\", \"pap\", \"parteiprogramm\", \"passieren\", \"passieren\", \"passieren\", \"passieren\", \"passieren\", \"perspektive\", \"perspektive\", \"perspektive\", \"perspektive\", \"perspektive\", \"pfeil\", \"plattform\", \"podcasts\", \"podcasts\", \"podcasts\", \"podcasts\", \"position\", \"position\", \"position\", \"position\", \"position\", \"posting\", \"powerless\", \"precarious\", \"precarious\", \"precarious\", \"precarious\", \"precarious\", \"precarity\", \"precarity\", \"precarity\", \"precarity\", \"precarity\", \"preis\", \"preis\", \"preis\", \"preis\", \"preis\", \"prek\\u00e4r\", \"prek\\u00e4r\", \"prek\\u00e4r\", \"prek\\u00e4r\", \"prek\\u00e4r\", \"problem\", \"problem\", \"problem\", \"problem\", \"problem\", \"prof\", \"prof\", \"prof\", \"prof\", \"prof\", \"professor\", \"professor\", \"professor\", \"professor\", \"professor\", \"professur\", \"professur\", \"professur\", \"professur\", \"professur\", \"profile\", \"profile\", \"profile\", \"profile\", \"promotion\", \"promotion\", \"promotion\", \"promotion\", \"promotion\", \"promovieren\", \"promovieren\", \"promovieren\", \"promovieren\", \"promovieren\", \"provozieren\", \"pr\\u00e4gnant\", \"qualifizierungsstelle\", \"raus\", \"raus\", \"raus\", \"raus\", \"raus\", \"reached\", \"reform\", \"reform\", \"reform\", \"reform\", \"reform\", \"research\", \"research\", \"research\", \"research\", \"research\", \"researcher\", \"researcher\", \"researcher\", \"researcher\", \"researcher\", \"review-reihe\", \"rezipieren\", \"ruffled\", \"ruffled\", \"ruffled\", \"r\\u00fcckblickend\", \"sagen\", \"sagen\", \"sagen\", \"sagen\", \"sagen\", \"scheinen\", \"scheinen\", \"scheinen\", \"scheinen\", \"scheinen\", \"schicht\", \"schipanski\", \"schipanski\", \"schreiben\", \"schreiben\", \"schreiben\", \"schreiben\", \"schreiben\", \"schritt\", \"schritt\", \"schritt\", \"schritt\", \"schritt\", \"sch\\u00f6n\", \"sch\\u00f6n\", \"sch\\u00f6n\", \"sch\\u00f6n\", \"sch\\u00f6n\", \"scientist\", \"scientist\", \"scientist\", \"scientist\", \"scientist\", \"sehen\", \"sehen\", \"sehen\", \"sehen\", \"sehen\", \"sehenswert\", \"sehenswert\", \"sehenswert\", \"sehenswert\", \"sehnsucht\", \"selbstredend\", \"session\", \"short\", \"short\", \"short\", \"short\", \"short\", \"sicher\", \"sicher\", \"sicher\", \"sicher\", \"sicher\", \"sieben\", \"sieben\", \"sieben\", \"signature\", \"situation\", \"situation\", \"situation\", \"situation\", \"situation\", \"snap\", \"sollen\", \"sollen\", \"sollen\", \"sollen\", \"sollen\", \"sparked\", \"sparked\", \"spielen\", \"spielen\", \"spielen\", \"spielen\", \"spielen\", \"sprechen\", \"sprechen\", \"sprechen\", \"sprechen\", \"sprechen\", \"sp\\u00e4t\", \"sp\\u00e4t\", \"sp\\u00e4t\", \"sp\\u00e4t\", \"sp\\u00e4t\", \"stattfinden\", \"stattfinden\", \"stattfinden\", \"stattfinden\", \"stattfinden\", \"stehen\", \"stehen\", \"stehen\", \"stehen\", \"stehen\", \"stelle\", \"stelle\", \"stelle\", \"stelle\", \"stelle\", \"stellen\", \"stellen\", \"stellen\", \"stellen\", \"stellen\", \"steuerfinanziert\", \"steuerfinanziert\", \"steuerfinanziert\", \"studie\", \"studie\", \"studie\", \"studie\", \"studie\", \"studierend\", \"studierend\", \"studierend\", \"studierend\", \"studierend\", \"studium\", \"studium\", \"studium\", \"studium\", \"studium\", \"stunde\", \"stunde\", \"stunde\", \"stunde\", \"stunde\", \"system\", \"system\", \"system\", \"system\", \"system\", \"systemrelevanten\", \"systemrelevanten\", \"systemrelevanten\", \"talk\", \"talk\", \"talk\", \"talk\", \"talk\", \"tankred\", \"teaching\", \"teaching\", \"teaching\", \"teaching\", \"teaching\", \"thema\", \"thema\", \"thema\", \"thema\", \"thema\", \"therapie\", \"therapie\", \"thread\", \"thread\", \"thread\", \"thread\", \"thread\", \"throughout\", \"time\", \"time\", \"time\", \"time\", \"time\", \"toll\", \"toll\", \"toll\", \"toll\", \"toll\", \"tough\", \"tough\", \"translation\", \"trending\", \"trending\", \"trending\", \"trending\", \"trending\", \"twittert\", \"twittert\", \"twittert\", \"unbefristet\", \"unbefristet\", \"unbefristet\", \"unbefristet\", \"unbefristet\", \"uni\", \"uni\", \"uni\", \"uni\", \"uni\", \"university\", \"university\", \"university\", \"university\", \"university\", \"universit\\u00e4t\", \"universit\\u00e4t\", \"universit\\u00e4t\", \"universit\\u00e4t\", \"universit\\u00e4t\", \"upcoming\", \"ursprung\", \"verachtet\", \"verband\", \"verband\", \"verband\", \"verband\", \"verband\", \"verbessern\", \"verbessern\", \"verbessern\", \"verbessern\", \"verbessern\", \"verengen\", \"verh\\u00f6hnung\", \"verh\\u00f6hnung\", \"verh\\u00f6hnung\", \"verlaufen\", \"verlaufen\", \"verstehen\", \"verstehen\", \"verstehen\", \"verstehen\", \"verstehen\", \"verstopfen\", \"verstopfen\", \"verstopfen\", \"verstopfen\", \"verstopfen\", \"vertrag\", \"vertrag\", \"vertrag\", \"vertrag\", \"vertrag\", \"vertrauen\", \"vertrauen\", \"vertrauen\", \"vertrauen\", \"vertrauen\", \"viren\", \"vorwand\", \"vorwerfen\", \"vorwerfen\", \"vorwerfen\", \"vorwerfen\", \"wahlkreis\", \"wahlkreis\", \"wahlkreis\", \"wahlkreis\", \"want\", \"want\", \"want\", \"want\", \"want\", \"warten\", \"warten\", \"warten\", \"warten\", \"warten\", \"warum\", \"warum\", \"warum\", \"warum\", \"warum\", \"weitere\", \"weitere\", \"weitere\", \"weitere\", \"weitere\", \"wenig\", \"wenig\", \"wenig\", \"wenig\", \"wenig\", \"wenige\", \"wenige\", \"wenige\", \"wenige\", \"wenige\", \"werden\", \"werden\", \"werden\", \"werden\", \"werden\", \"wertgesch\\u00e4tzt\", \"wichtig\", \"wichtig\", \"wichtig\", \"wichtig\", \"wichtig\", \"wirklich\", \"wirklich\", \"wirklich\", \"wirklich\", \"wirklich\", \"wissen\", \"wissen\", \"wissen\", \"wissen\", \"wissen\", \"wissenschaftlich\", \"wissenschaftlich\", \"wissenschaftlich\", \"wissenschaftlich\", \"wissenschaftlich\", \"wissenschaftszeitvertragsgesetz\", \"wissenschaftszeitvertragsgesetz\", \"wissenschaftszeitvertragsgesetz\", \"wissenschaftszeitvertragsgesetz\", \"wissenschaftszeitvertragsgesetz\", \"working\", \"working\", \"working\", \"working\", \"working\", \"workshop\", \"workshop\", \"workshop\", \"workshop\", \"workshop\", \"wortwahl\", \"wortwahl\", \"wortwahl\", \"zehntausend\", \"zehntausend\", \"zehntausend\", \"zeigen\", \"zeigen\", \"zeigen\", \"zeigen\", \"zeigen\", \"zeit\", \"zeit\", \"zeit\", \"zeit\", \"zeit\", \"zusammenstellung\", \"z\\u00fcgig\", \"z\\u00fcgig\", \"z\\u00fcgig\", \"\\u00fcberzeugend\", \"\\u00fcberzeugend\", \"\\u00fcberzeugend\", \"\\u00fcberzeugend\", \"\\ufe0farbeitsortwechsel\", \"\\ufe0farbeitsvertr\\u00e4ge\", \"\\ufe0farbeitsvertr\\u00e4ge\", \"\\ufe0farbeitsvertr\\u00e4ge\", \"\\ufe0fende\", \"\\ufe0fende\", \"\\ufe0ferwerbsarbeitslosigkeit\", \"\\ufe0fstipendium\", \"\\ufe0fstipendium\", \"\\ufe0fstipendium\"]}, \"R\": 30, \"lambda.step\": 0.01, \"plot.opts\": {\"xlab\": \"PC1\", \"ylab\": \"PC2\"}, \"topic.order\": [1, 2, 4, 3, 5]};\n",
       "\n",
       "function LDAvis_load_lib(url, callback){\n",
       "  var s = document.createElement('script');\n",
       "  s.src = url;\n",
       "  s.async = true;\n",
       "  s.onreadystatechange = s.onload = callback;\n",
       "  s.onerror = function(){console.warn(\"failed to load library \" + url);};\n",
       "  document.getElementsByTagName(\"head\")[0].appendChild(s);\n",
       "}\n",
       "\n",
       "if(typeof(LDAvis) !== \"undefined\"){\n",
       "   // already loaded: just create the visualization\n",
       "   !function(LDAvis){\n",
       "       new LDAvis(\"#\" + \"ldavis_el1678420429346984968858344304\", ldavis_el1678420429346984968858344304_data);\n",
       "   }(LDAvis);\n",
       "}else if(typeof define === \"function\" && define.amd){\n",
       "   // require.js is available: use it to load d3/LDAvis\n",
       "   require.config({paths: {d3: \"https://d3js.org/d3.v5\"}});\n",
       "   require([\"d3\"], function(d3){\n",
       "      window.d3 = d3;\n",
       "      LDAvis_load_lib(\"https://cdn.jsdelivr.net/gh/bmabey/pyLDAvis@3.3.1/pyLDAvis/js/ldavis.v3.0.0.js\", function(){\n",
       "        new LDAvis(\"#\" + \"ldavis_el1678420429346984968858344304\", ldavis_el1678420429346984968858344304_data);\n",
       "      });\n",
       "    });\n",
       "}else{\n",
       "    // require.js not available: dynamically load d3 & LDAvis\n",
       "    LDAvis_load_lib(\"https://d3js.org/d3.v5.js\", function(){\n",
       "         LDAvis_load_lib(\"https://cdn.jsdelivr.net/gh/bmabey/pyLDAvis@3.3.1/pyLDAvis/js/ldavis.v3.0.0.js\", function(){\n",
       "                 new LDAvis(\"#\" + \"ldavis_el1678420429346984968858344304\", ldavis_el1678420429346984968858344304_data);\n",
       "            })\n",
       "         });\n",
       "}\n",
       "</script>"
      ],
      "text/plain": [
       "PreparedData(topic_coordinates=              x         y  topics  cluster       Freq\n",
       "topic                                                \n",
       "0     -0.023488 -0.009485       1        1  21.884176\n",
       "1     -0.036123 -0.055953       2        1  20.518237\n",
       "3     -0.038948  0.014651       3        1  19.701924\n",
       "2      0.099725 -0.015999       4        1  19.554032\n",
       "4     -0.001166  0.066786       5        1  18.341632, topic_info=               Term         Freq        Total Category  logprob  loglift\n",
       "292          thread   410.000000   410.000000  Default  30.0000  30.0000\n",
       "150            jahr  1347.000000  1347.000000  Default  29.0000  29.0000\n",
       "107           thema   445.000000   445.000000  Default  28.0000  28.0000\n",
       "153       schreiben   417.000000   417.000000  Default  27.0000  27.0000\n",
       "448          system   802.000000   802.000000  Default  26.0000  26.0000\n",
       "..              ...          ...          ...      ...      ...      ...\n",
       "366        brauchen   114.317352   556.683433   Topic5  -5.9063   0.1130\n",
       "205       befristet   124.108537   845.559512   Topic5  -5.8242  -0.2228\n",
       "286         problem   114.149761   689.460385   Topic5  -5.9078  -0.1024\n",
       "539          wissen   112.150473   670.693912   Topic5  -5.9255  -0.0925\n",
       "748  @anjakarliczek   113.213614   925.863061   Topic5  -5.9160  -0.4055\n",
       "\n",
       "[486 rows x 6 columns], token_table=       Topic      Freq                      Term\n",
       "term                                            \n",
       "480        1  0.170199           #95vswisszeitvg\n",
       "480        2  0.115736           #95vswisszeitvg\n",
       "480        3  0.214451           #95vswisszeitvg\n",
       "480        4  0.377842           #95vswisszeitvg\n",
       "480        5  0.119140           #95vswisszeitvg\n",
       "...      ...       ...                       ...\n",
       "14956      4  0.838510                     ️ende\n",
       "14957      4  0.873445  ️erwerbsarbeitslosigkeit\n",
       "14960      1  0.090763               ️stipendium\n",
       "14960      3  0.090763               ️stipendium\n",
       "14960      4  0.816863               ️stipendium\n",
       "\n",
       "[1252 rows x 3 columns], R=30, lambda_step=0.01, plot_opts={'xlab': 'PC1', 'ylab': 'PC2'}, topic_order=[1, 2, 4, 3, 5])"
      ]
     },
     "execution_count": 15,
     "metadata": {},
     "output_type": "execute_result"
    }
   ],
   "source": [
    "#Visualization of topic distance for whole data set\n",
    "full_dic = Dictionary(df['tokenized'])\n",
    "full_dic.filter_extremes(no_below=2, no_above=.99)\n",
    "#create the bag of words \n",
    "full_corpus = [full_dic.doc2bow(d) for d in df['tokenized']]\n",
    "#build LDA model for full data \n",
    "full_LDA = LdaMulticore(corpus= full_corpus, num_topics=5, id2word= full_dic, workers=12, passes=5)\n",
    "pyLDAvis.enable_notebook()\n",
    "pyLDAvis.gensim_models.prepare(full_LDA, full_corpus, full_dic)"
   ]
  }
 ],
 "metadata": {
  "kernelspec": {
   "display_name": "Python 3 (ipykernel)",
   "language": "python",
   "name": "python3"
  },
  "language_info": {
   "codemirror_mode": {
    "name": "ipython",
    "version": 3
   },
   "file_extension": ".py",
   "mimetype": "text/x-python",
   "name": "python",
   "nbconvert_exporter": "python",
   "pygments_lexer": "ipython3",
   "version": "3.8.5"
  }
 },
 "nbformat": 4,
 "nbformat_minor": 5
}
