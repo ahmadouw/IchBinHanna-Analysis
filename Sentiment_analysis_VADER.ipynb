{
 "cells": [
  {
   "cell_type": "code",
   "execution_count": 1,
   "id": "b8991008",
   "metadata": {},
   "outputs": [],
   "source": [
    "import pandas as pd\n",
    "import numpy as np\n",
    "from vaderSentiment.vaderSentiment import SentimentIntensityAnalyzer as enSentiment\n",
    "from GerVADER.vaderSentimentGER import SentimentIntensityAnalyzer as gerSentiment\n",
    "import re\n",
    "from matplotlib import pyplot as plt\n",
    "\n",
    "import warnings\n",
    "warnings.filterwarnings('ignore')"
   ]
  },
  {
   "cell_type": "code",
   "execution_count": 2,
   "id": "f2b448f7",
   "metadata": {},
   "outputs": [],
   "source": [
    "df = pd.read_csv ('IchBinHanna.csv')"
   ]
  },
  {
   "cell_type": "code",
   "execution_count": 3,
   "id": "2ed5575f",
   "metadata": {},
   "outputs": [],
   "source": [
    "#prepare data, drop retweets and split it into german and english tweets\n",
    "def rem_url(tweet):\n",
    "     return \" \".join(re.sub(\"([^0-9A-Za-zßäöü \\t])|(\\w+:\\/\\/\\S+)\", \" \", tweet).split())\n",
    "#only keep tweets from 01/06/2021 - 30/09/2021\n",
    "df['new_date'] = pd.to_datetime(df['created_at']).dt.strftime('%Y-%m-%d %H:%M:%S')\n",
    "df = df.loc[(df['new_date'] > '2021-06-01 00:00:00') & (df['new_date'] <= '2021-09-30 23:59:59')]\n",
    "df = df.loc[df['reference_type'] != 'retweeted']\n",
    "df['text'] = df['text'].astype(str)\n",
    "df['text'] = df['text'].apply(rem_url)\n",
    "df_ger = df.loc[df['lang'] == \"de\"]\n",
    "df_en = df.loc[df['lang'] == \"en\"]"
   ]
  },
  {
   "cell_type": "code",
   "execution_count": 4,
   "id": "20b82367",
   "metadata": {},
   "outputs": [],
   "source": [
    "#use VADER (source: https://github.com/cjhutto/vaderSentiment) to analyse the sentiment of english tweets\n",
    "analyser_en = enSentiment()\n",
    "df_en['sentiment scores'] = df_en['text'].apply(analyser_en.polarity_scores)"
   ]
  },
  {
   "cell_type": "code",
   "execution_count": 5,
   "id": "c42010b0",
   "metadata": {},
   "outputs": [],
   "source": [
    "#use GerVADER(source: https://github.com/KarstenAMF/GerVADER)\n",
    "analyser_ger = gerSentiment()\n",
    "df_ger['sentiment scores'] = df_ger['text'].apply(analyser_ger.polarity_scores)"
   ]
  },
  {
   "cell_type": "code",
   "execution_count": 6,
   "id": "d8b07695",
   "metadata": {},
   "outputs": [],
   "source": [
    "#split scores into separate columns\n",
    "df_en = pd.concat([df_en.drop(['sentiment scores'], axis=1), df_en['sentiment scores'].apply(pd.Series)], axis=1)\n",
    "df_ger = pd.concat([df_ger.drop(['sentiment scores'], axis=1), df_ger['sentiment scores'].apply(pd.Series)], axis=1)\n",
    "#rejoin data frames\n",
    "df_sentiment = pd.concat([df_en,df_ger])"
   ]
  },
  {
   "cell_type": "code",
   "execution_count": 7,
   "id": "c4684b6b",
   "metadata": {},
   "outputs": [
    {
     "data": {
      "text/plain": [
       "24503"
      ]
     },
     "execution_count": 7,
     "metadata": {},
     "output_type": "execute_result"
    }
   ],
   "source": [
    "#number of tweets left\n",
    "df_sentiment.shape[0]"
   ]
  },
  {
   "cell_type": "code",
   "execution_count": 8,
   "id": "6d868900",
   "metadata": {},
   "outputs": [
    {
     "name": "stdout",
     "output_type": "stream",
     "text": [
      "Max Sentiment scores:\n",
      " neg:1.0\n",
      " neu:1.0\n",
      " pos:1.0\n",
      " compound:0.9832\n",
      "Mean Sentiment scores:\n",
      " neg:0.0545\n",
      " neu:0.8316\n",
      " pos:0.1139\n",
      " compound:0.213\n"
     ]
    }
   ],
   "source": [
    "#some descriptive statistics\n",
    "print(\"Max Sentiment scores:\\n neg:{0}\\n neu:{1}\\n pos:{2}\\n compound:{3}\".format(df_sentiment['neg'].max(), df_sentiment['neu'].max(), df_sentiment['pos'].max(), df_sentiment['compound'].max()))\n",
    "print(\"Mean Sentiment scores:\\n neg:{0}\\n neu:{1}\\n pos:{2}\\n compound:{3}\".format(round(df_sentiment['neg'].mean(),4), round(df_sentiment['neu'].mean(),4), round(df_sentiment['pos'].mean(),4), round(df_sentiment['compound'].mean(),4)))"
   ]
  },
  {
   "cell_type": "code",
   "execution_count": 9,
   "id": "f20f3a67",
   "metadata": {},
   "outputs": [
    {
     "data": {
      "text/plain": [
       "positive    14177\n",
       "negative     5450\n",
       "neutral      4875\n",
       "0               1\n",
       "Name: sentiment, dtype: int64"
      ]
     },
     "execution_count": 9,
     "metadata": {},
     "output_type": "execute_result"
    }
   ],
   "source": [
    "#VADERs documentation suggests that scores below -0.05 imply a negative, between -0.05 and 0.05 a neutral and above a positive sentiment\n",
    "conditions = [(df_sentiment['compound'] <= -0.05), (df_sentiment['compound'] > -0.05) & (df_sentiment['compound'] < 0.05),(df_sentiment['compound'] > 0.05)]\n",
    "values = ['negative', 'neutral', 'positive']\n",
    "df_sentiment['sentiment'] = np.select(conditions, values)\n",
    "df_sentiment['sentiment'].value_counts()"
   ]
  },
  {
   "cell_type": "code",
   "execution_count": 10,
   "id": "33b05525",
   "metadata": {},
   "outputs": [
    {
     "data": {
      "image/png": "[encoded data removed]",
      "text/plain": [
       "<Figure size 432x288 with 1 Axes>"
      ]
     },
     "metadata": {
      "needs_background": "light"
     },
     "output_type": "display_data"
    }
   ],
   "source": [
    "#distribution of overall sentiment scores\n",
    "df_sentiment['compound'].hist()\n",
    "plt.title('Sentiments from all english and german tweets')\n",
    "plt.xlabel('compound sentiment score')\n",
    "plt.show()"
   ]
  }
 ],
 "metadata": {
  "kernelspec": {
   "display_name": "Python 3 (ipykernel)",
   "language": "python",
   "name": "python3"
  },
  "language_info": {
   "codemirror_mode": {
    "name": "ipython",
    "version": 3
   },
   "file_extension": ".py",
   "mimetype": "text/x-python",
   "name": "python",
   "nbconvert_exporter": "python",
   "pygments_lexer": "ipython3",
   "version": "3.8.5"
  }
 },
 "nbformat": 4,
 "nbformat_minor": 5
}
