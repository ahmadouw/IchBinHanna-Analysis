{
 "cells": [
  {
   "cell_type": "markdown",
   "id": "38bee7b8",
   "metadata": {},
   "source": [
    "# Basic Analysis"
   ]
  },
  {
   "cell_type": "markdown",
   "id": "ce0e1439",
   "metadata": {},
   "source": [
    "## Tweet and user volume"
   ]
  },
  {
   "cell_type": "code",
   "execution_count": 43,
   "id": "e25754fb",
   "metadata": {},
   "outputs": [],
   "source": [
    "import pandas as pd\n",
    "import numpy as np"
   ]
  },
  {
   "cell_type": "code",
   "execution_count": 3,
   "id": "b8e0025e",
   "metadata": {},
   "outputs": [
    {
     "name": "stderr",
     "output_type": "stream",
     "text": [
      "C:\\Users\\Admin\\anaconda3\\lib\\site-packages\\IPython\\core\\interactiveshell.py:3441: DtypeWarning: Columns (6,8,9,10,13,37,41,42,55) have mixed types.Specify dtype option on import or set low_memory=False.\n",
      "  exec(code_obj, self.user_global_ns, self.user_ns)\n"
     ]
    }
   ],
   "source": [
    "df = pd.read_csv ('IchBinHanna.csv')"
   ]
  },
  {
   "cell_type": "code",
   "execution_count": 4,
   "id": "4a7faab9",
   "metadata": {},
   "outputs": [
    {
     "name": "stdout",
     "output_type": "stream",
     "text": [
      "116928\n",
      "19010\n"
     ]
    }
   ],
   "source": [
    "#number of total tweets\n",
    "print(df.shape[0])\n",
    "#number of total unique users\n",
    "print(len(pd.unique(df['author.id'])))"
   ]
  },
  {
   "cell_type": "code",
   "execution_count": 59,
   "id": "0d19f4bd",
   "metadata": {},
   "outputs": [],
   "source": [
    "#only keep tweets from 01/06/2021 - 30/09/2021\n",
    "from datetime import datetime\n",
    "df['new_date'] = pd.to_datetime(df['created_at']).dt.strftime('%Y-%m-%d %H:%M:%S')\n",
    "df_date = df.loc[(df['new_date'] > '2021-06-01 00:00:00') & (df['new_date'] <= '2021-09-30 23:59:59')]"
   ]
  },
  {
   "cell_type": "code",
   "execution_count": 6,
   "id": "53a1344c",
   "metadata": {},
   "outputs": [
    {
     "name": "stdout",
     "output_type": "stream",
     "text": [
      "116717\n",
      "18987\n",
      "__twarc.retrieved_at                                98885\n",
      "__twarc.url                                         98885\n",
      "__twarc.version                                     98885\n",
      "attachments.media                                    3287\n",
      "attachments.media_keys                               3287\n",
      "attachments.poll.duration_minutes                      83\n",
      "attachments.poll.end_datetime                          83\n",
      "attachments.poll.id                                    83\n",
      "attachments.poll.options                               83\n",
      "attachments.poll.voting_status                         83\n",
      "attachments.poll_ids                                   89\n",
      "author.created_at                                  116717\n",
      "author.description                                 111104\n",
      "author.entities.description.cashtags                    9\n",
      "author.entities.description.hashtags                40708\n",
      "author.entities.description.mentions                51884\n",
      "author.entities.description.urls                     7687\n",
      "author.entities.url.urls                            59215\n",
      "author.id                                          116717\n",
      "author.location                                     73732\n",
      "author.name                                        116717\n",
      "author.pinned_tweet_id                              62969\n",
      "author.profile_image_url                           116717\n",
      "author.protected                                   116717\n",
      "author.public_metrics.followers_count              116717\n",
      "author.public_metrics.following_count              116717\n",
      "author.public_metrics.listed_count                 116717\n",
      "author.public_metrics.tweet_count                  116717\n",
      "author.url                                          59215\n",
      "author.username                                    116717\n",
      "author.verified                                    116717\n",
      "author.withheld.country_codes                           0\n",
      "author_id                                          116717\n",
      "context_annotations                                  9218\n",
      "conversation_id                                    116717\n",
      "created_at                                         116717\n",
      "entities.annotations                                 3196\n",
      "entities.cashtags                                       6\n",
      "entities.hashtags                                   73991\n",
      "entities.mentions                                  100702\n",
      "entities.urls                                       18276\n",
      "geo.coordinates.coordinates                             2\n",
      "geo.coordinates.type                                    2\n",
      "geo.country                                           126\n",
      "geo.country_code                                      126\n",
      "geo.full_name                                         126\n",
      "geo.geo.bbox                                          126\n",
      "geo.geo.type                                          126\n",
      "geo.id                                                126\n",
      "geo.name                                              126\n",
      "geo.place_id                                          249\n",
      "geo.place_type                                        126\n",
      "id                                                 116717\n",
      "in_reply_to_user.created_at                          9004\n",
      "in_reply_to_user.description                         8801\n",
      "in_reply_to_user.entities.description.cashtags          1\n",
      "in_reply_to_user.entities.description.hashtags       2990\n",
      "in_reply_to_user.entities.description.mentions       4305\n",
      "in_reply_to_user.entities.description.urls            942\n",
      "in_reply_to_user.entities.url.urls                   5185\n",
      "in_reply_to_user.id                                  9004\n",
      "in_reply_to_user.location                            6374\n",
      "in_reply_to_user.name                                9003\n",
      "in_reply_to_user.pinned_tweet_id                     5365\n",
      "in_reply_to_user.profile_image_url                   9003\n",
      "in_reply_to_user.protected                           9004\n",
      "in_reply_to_user.public_metrics.followers_count      9004\n",
      "in_reply_to_user.public_metrics.following_count      9004\n",
      "in_reply_to_user.public_metrics.listed_count         9004\n",
      "in_reply_to_user.public_metrics.tweet_count          9004\n",
      "in_reply_to_user.url                                 5185\n",
      "in_reply_to_user.username                            9004\n",
      "in_reply_to_user.verified                            9004\n",
      "in_reply_to_user.withheld.country_codes                 0\n",
      "in_reply_to_user_id                                  9177\n",
      "lang                                               116717\n",
      "possibly_sensitive                                 116717\n",
      "public_metrics.like_count                          116717\n",
      "public_metrics.quote_count                         116717\n",
      "public_metrics.reply_count                         116717\n",
      "public_metrics.retweet_count                       116717\n",
      "referenced_tweets                                  106970\n",
      "reply_settings                                     116717\n",
      "source                                             116717\n",
      "text                                               116717\n",
      "type                                                17832\n",
      "withheld.scope                                          0\n",
      "withheld.copyright                                      0\n",
      "withheld.country_codes                                  0\n",
      "hashtags                                            73991\n",
      "reference_type                                     116717\n",
      "wanted_tag                                         116717\n",
      "new_date                                           116717\n",
      "dtype: int64\n"
     ]
    }
   ],
   "source": [
    "pd.set_option('display.max_rows', 100)\n",
    "#number of remaining tweets\n",
    "print(df_date.shape[0])\n",
    "#number of remaining unique users\n",
    "print(len(pd.unique(df_date['author.id'])))\n",
    "#overview over \"missing values\"\n",
    "print(df_date.count())"
   ]
  },
  {
   "cell_type": "code",
   "execution_count": 7,
   "id": "dd518bef",
   "metadata": {},
   "outputs": [
    {
     "data": {
      "text/plain": [
       "<AxesSubplot:xlabel='week'>"
      ]
     },
     "execution_count": 7,
     "metadata": {},
     "output_type": "execute_result"
    },
    {
     "data": {
      "image/png": "[encoded data removed]",
      "text/plain": [
       "<Figure size 432x288 with 1 Axes>"
      ]
     },
     "metadata": {
      "needs_background": "light"
     },
     "output_type": "display_data"
    }
   ],
   "source": [
    "from matplotlib import pyplot as plt\n",
    "week_groups = df_date.groupby([pd.to_datetime(df_date['new_date']).dt.isocalendar().week]).size()\n",
    "week_groups.plot(kind='bar', legend = False)"
   ]
  },
  {
   "cell_type": "code",
   "execution_count": 8,
   "id": "9aa08075",
   "metadata": {},
   "outputs": [],
   "source": [
    "df_june = df_date.loc[(df_date['new_date'] > '2021-06-01 00:00:00') & (df_date['new_date'] <= '2021-06-30 23:59:59')]\n",
    "df_july = df_date.loc[(df_date['new_date'] > '2021-07-01 00:00:00') & (df_date['new_date'] <= '2021-07-31 23:59:59')]\n",
    "df_august = df_date.loc[(df_date['new_date'] > '2021-08-01 00:00:00') & (df_date['new_date'] <= '2021-08-31 23:59:59')]\n",
    "df_september = df_date.loc[(df_date['new_date'] > '2021-09-01 00:00:00') & (df_date['new_date'] <= '2021-09-30 23:59:59')]"
   ]
  },
  {
   "cell_type": "code",
   "execution_count": 9,
   "id": "da11f223",
   "metadata": {},
   "outputs": [
    {
     "data": {
      "text/plain": [
       "<AxesSubplot:xlabel='new_date'>"
      ]
     },
     "execution_count": 9,
     "metadata": {},
     "output_type": "execute_result"
    },
    {
     "data": {
      "image/png": "[encoded data removed]",
      "text/plain": [
       "<Figure size 432x288 with 2 Axes>"
      ]
     },
     "metadata": {
      "needs_background": "light"
     },
     "output_type": "display_data"
    }
   ],
   "source": [
    "june_groups = df_june.groupby([pd.to_datetime(df_june['new_date']).dt.day]).size()\n",
    "plt.subplot(1, 2, 1)\n",
    "june_groups.plot(kind='bar', legend = False)\n",
    "july_groups = df_july.groupby([pd.to_datetime(df_july['new_date']).dt.day]).size()\n",
    "plt.subplot(1, 2, 2)\n",
    "july_groups.plot(kind='bar', legend = False)"
   ]
  },
  {
   "cell_type": "code",
   "execution_count": 10,
   "id": "25a69ee6",
   "metadata": {},
   "outputs": [
    {
     "data": {
      "text/plain": [
       "<AxesSubplot:xlabel='new_date'>"
      ]
     },
     "execution_count": 10,
     "metadata": {},
     "output_type": "execute_result"
    },
    {
     "data": {
      "image/png": "[encoded data removed]",
      "text/plain": [
       "<Figure size 432x288 with 2 Axes>"
      ]
     },
     "metadata": {
      "needs_background": "light"
     },
     "output_type": "display_data"
    }
   ],
   "source": [
    "august_groups = df_august.groupby([pd.to_datetime(df_august['new_date']).dt.day]).size()\n",
    "plt.subplot(1, 2, 1)\n",
    "august_groups.plot(kind='bar', legend = False)\n",
    "september_groups = df_september.groupby([pd.to_datetime(df_september['new_date']).dt.day]).size()\n",
    "plt.subplot(1, 2, 2)\n",
    "september_groups.plot(kind='bar', legend = False)"
   ]
  },
  {
   "cell_type": "markdown",
   "id": "82c7b854",
   "metadata": {},
   "source": [
    "## Missing Hashtag-Problem"
   ]
  },
  {
   "cell_type": "code",
   "execution_count": 11,
   "id": "8a97f5c8",
   "metadata": {},
   "outputs": [
    {
     "name": "stdout",
     "output_type": "stream",
     "text": [
      "64400\n"
     ]
    }
   ],
   "source": [
    "#number of tweets actually containing the hashtag\n",
    "df_hash = df_date[df_date['text'].str.contains(\"#ichbinhanna\", case = False)]\n",
    "print(df_hash.shape[0])"
   ]
  },
  {
   "cell_type": "code",
   "execution_count": 12,
   "id": "b7f401bd",
   "metadata": {},
   "outputs": [
    {
     "name": "stdout",
     "output_type": "stream",
     "text": [
      "52317\n"
     ]
    }
   ],
   "source": [
    "#number of tweets not containing the hashtag directly\n",
    "df_no_hash = df_date[-df_date['text'].str.contains(\"#ichbinhanna\", case = False)]\n",
    "print(df_no_hash.shape[0])"
   ]
  },
  {
   "cell_type": "code",
   "execution_count": 13,
   "id": "dc0428be",
   "metadata": {
    "scrolled": true
   },
   "outputs": [
    {
     "name": "stdout",
     "output_type": "stream",
     "text": [
      "2         Hanna is probably packing her/his/they suitcases. Hanna is about to travel back to her/his/they city or her/his/they country. Hanna can't pay the rent, can't buy food, doesn't have her/his/they visa renewed.\n",
      "5                                                                           RT @TimTheRose: Am Donnerstag moderiere ich eine Diskussionsrunde mit MdB @NicoleGohlke in #Freising.\\nAls Fraktionssprecherin fuer #Hochsch…\n",
      "11                                                                       RT @AmreiBahr: Mangelnde Grundfinanzierung der Hochschulen baden Wissenschaftler_innen aus: Risiken werden individualisiert &amp; auf sie abgew…\n",
      "12                                                                       RT @AmreiBahr: Mangelnde Grundfinanzierung der Hochschulen baden Wissenschaftler_innen aus: Risiken werden individualisiert &amp; auf sie abgew…\n",
      "16                                                                          RT @TimTheRose: Am Donnerstag moderiere ich eine Diskussionsrunde mit MdB @NicoleGohlke in #Freising.\\nAls Fraktionssprecherin fuer #Hochsch…\n",
      "                                                                                                               ...                                                                                                       \n",
      "116914                                                                       RT @vesin9: Über prekäre Arbeitsbedingungen, Erfahrungen mit Rassismus, Sexismus und Philosemitismus in der Academia, Solidarität unter Kol…\n",
      "116915                                                                   RT @AmreiBahr: Mangelnde Grundfinanzierung der Hochschulen baden Wissenschaftler_innen aus: Risiken werden individualisiert &amp; auf sie abgew…\n",
      "116917                                                                       RT @catavar3: Sehr wichtige Feststellung. Eine Festanstellung oder Professur ist (laut Aussage eines senior colleagues) auch bei sehr guten…\n",
      "116918                                                                   RT @AmreiBahr: Mangelnde Grundfinanzierung der Hochschulen baden Wissenschaftler_innen aus: Risiken werden individualisiert &amp; auf sie abgew…\n",
      "116926                     Verhandelter Tarif.\\nRechtsschutz im Arbeitsleben.\\nKostenfreie Bildung.\\nLohnsteuererklärung umsonst.\\nGut verhandelte Arbeitsbedingungen.\\n\\nZiemlicher Schnapper. 😏 https://t.co/d03mmEd49s\n",
      "Name: text, Length: 52317, dtype: object\n",
      "47586\n"
     ]
    }
   ],
   "source": [
    "pd.options.display.max_colwidth = 500\n",
    "print(df_no_hash['text'])\n",
    "#number of tweets without the hashtag that are retweets (text from original tweet cut off)\n",
    "print(df_no_hash[df_no_hash['reference_type'] == 'retweeted'].shape[0])"
   ]
  },
  {
   "cell_type": "code",
   "execution_count": 109,
   "id": "578b3a45",
   "metadata": {},
   "outputs": [],
   "source": [
    "compression_opts = dict(method='zip',\n",
    "                        archive_name='out.csv')  \n",
    "df_no_hash.to_csv('out.zip', index=False,\n",
    "          compression=compression_opts) "
   ]
  },
  {
   "cell_type": "markdown",
   "id": "d349275f",
   "metadata": {},
   "source": [
    "## Get top hashtags appearing in tweets along with #IchBinHanna in september"
   ]
  },
  {
   "cell_type": "code",
   "execution_count": 103,
   "id": "57ed632c",
   "metadata": {},
   "outputs": [
    {
     "name": "stderr",
     "output_type": "stream",
     "text": [
      "C:\\Users\\Admin\\AppData\\Local\\Temp/ipykernel_15200/3598185478.py:2: FutureWarning: The default value of regex will change from True to False in a future version. In addition, single character regular expressions will *not* be treated as literal strings when regex=True.\n",
      "  df_september['hashtags'] = df_september['hashtags'].str.replace('[', '').str.replace(']','')\n",
      "C:\\Users\\Admin\\AppData\\Local\\Temp/ipykernel_15200/3598185478.py:2: SettingWithCopyWarning: \n",
      "A value is trying to be set on a copy of a slice from a DataFrame.\n",
      "Try using .loc[row_indexer,col_indexer] = value instead\n",
      "\n",
      "See the caveats in the documentation: https://pandas.pydata.org/pandas-docs/stable/user_guide/indexing.html#returning-a-view-versus-a-copy\n",
      "  df_september['hashtags'] = df_september['hashtags'].str.replace('[', '').str.replace(']','')\n"
     ]
    }
   ],
   "source": [
    "#make the hashtags a list of strings and replace the hashtag #ichbinhanna\n",
    "df_date['hashtags'] = df_date['hashtags'].str.replace('[', '').str.replace(']','')"
   ]
  },
  {
   "cell_type": "code",
   "execution_count": 104,
   "id": "e4bd31be",
   "metadata": {},
   "outputs": [
    {
     "name": "stderr",
     "output_type": "stream",
     "text": [
      "C:\\Users\\Admin\\AppData\\Local\\Temp/ipykernel_15200/2159421236.py:1: SettingWithCopyWarning: \n",
      "A value is trying to be set on a copy of a slice from a DataFrame.\n",
      "Try using .loc[row_indexer,col_indexer] = value instead\n",
      "\n",
      "See the caveats in the documentation: https://pandas.pydata.org/pandas-docs/stable/user_guide/indexing.html#returning-a-view-versus-a-copy\n",
      "  df_september['hashtags separated'] = df_september['hashtags'].str.split(',')\n"
     ]
    }
   ],
   "source": [
    "df_date['hashtags separated'] = df_date['hashtags'].str.split(',')\n"
   ]
  },
  {
   "cell_type": "code",
   "execution_count": 105,
   "id": "a19aa868",
   "metadata": {},
   "outputs": [],
   "source": [
    "#flatten the lists to count occurences of all strings and drop all variations of #IchBinHanna\n",
    "flat_hashtags = df_september['hashtags separated'].explode().to_frame().dropna()\n",
    "flat_hashtags = flat_hashtags[-flat_hashtags['hashtags separated'].str.contains(\"ichbinhanna\", case = False)]"
   ]
  },
  {
   "cell_type": "code",
   "execution_count": 121,
   "id": "98e6a7de",
   "metadata": {},
   "outputs": [],
   "source": [
    "#count occurences \n",
    "hashtag_count = flat_hashtags.value_counts()\n",
    "hashtag_count = hashtag_count[hashtag_count > 10].reset_index()"
   ]
  },
  {
   "cell_type": "code",
   "execution_count": 122,
   "id": "19e0498c",
   "metadata": {},
   "outputs": [],
   "source": [
    "compression_opts = dict(method='zip',\n",
    "                        archive_name='top_hashtags.csv')  \n",
    "hashtag_count.to_csv('out.zip', index=False,\n",
    "          compression=compression_opts) "
   ]
  },
  {
   "cell_type": "code",
   "execution_count": 119,
   "id": "f313dada",
   "metadata": {},
   "outputs": [],
   "source": []
  }
 ],
 "metadata": {
  "kernelspec": {
   "display_name": "Python 3 (ipykernel)",
   "language": "python",
   "name": "python3"
  },
  "language_info": {
   "codemirror_mode": {
    "name": "ipython",
    "version": 3
   },
   "file_extension": ".py",
   "mimetype": "text/x-python",
   "name": "python",
   "nbconvert_exporter": "python",
   "pygments_lexer": "ipython3",
   "version": "3.8.5"
  }
 },
 "nbformat": 4,
 "nbformat_minor": 5
}
