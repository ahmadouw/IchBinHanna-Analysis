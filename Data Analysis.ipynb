{
 "cells": [
  {
   "cell_type": "markdown",
   "id": "38bee7b8",
   "metadata": {},
   "source": [
    "# Basic Analysis"
   ]
  },
  {
   "cell_type": "markdown",
   "id": "ce0e1439",
   "metadata": {},
   "source": [
    "## Tweet and user volume"
   ]
  },
  {
   "cell_type": "code",
   "execution_count": 1,
   "id": "e25754fb",
   "metadata": {},
   "outputs": [],
   "source": [
    "import pandas as pd\n",
    "import numpy as np\n",
    "import warnings\n",
    "import re\n",
    "import itertools\n",
    "import collections\n",
    "from datetime import datetime\n",
    "from matplotlib import pyplot as plt\n",
    "import nltk\n",
    "from nltk.corpus import stopwords\n",
    "warnings.filterwarnings('ignore')"
   ]
  },
  {
   "cell_type": "code",
   "execution_count": 2,
   "id": "b8e0025e",
   "metadata": {},
   "outputs": [],
   "source": [
    "df = pd.read_csv ('data/tweets/IchBinHanna.csv')"
   ]
  },
  {
   "cell_type": "code",
   "execution_count": 3,
   "id": "4a7faab9",
   "metadata": {},
   "outputs": [
    {
     "name": "stdout",
     "output_type": "stream",
     "text": [
      "116928\n",
      "19010\n"
     ]
    }
   ],
   "source": [
    "#number of total tweets\n",
    "print(df.shape[0])\n",
    "#number of total unique users\n",
    "print(len(pd.unique(df['author.id'])))"
   ]
  },
  {
   "cell_type": "code",
   "execution_count": 4,
   "id": "0d19f4bd",
   "metadata": {},
   "outputs": [],
   "source": [
    "#only keep tweets from 01/06/2021 - 30/09/2021\n",
    "df['new_date'] = pd.to_datetime(df['created_at']).dt.strftime('%Y-%m-%d %H:%M:%S')\n",
    "df_date = df.loc[(df['new_date'] > '2021-06-01 00:00:00') & (df['new_date'] <= '2021-09-30 23:59:59')]"
   ]
  },
  {
   "cell_type": "code",
   "execution_count": 5,
   "id": "10f35d60",
   "metadata": {
    "scrolled": true
   },
   "outputs": [
    {
     "name": "stdout",
     "output_type": "stream",
     "text": [
      "de     99219\n",
      "en     13648\n",
      "und     3147\n",
      "fr       302\n",
      "ja        61\n",
      "es        52\n",
      "nl        51\n",
      "it        32\n",
      "is        29\n",
      "da        21\n",
      "pt        20\n",
      "no        18\n",
      "lt        17\n",
      "tr        16\n",
      "ca        14\n",
      "pl        14\n",
      "sv        14\n",
      "ro         6\n",
      "hi         4\n",
      "et         4\n",
      "cs         3\n",
      "in         3\n",
      "ar         3\n",
      "tl         3\n",
      "fi         3\n",
      "lv         3\n",
      "fa         2\n",
      "cy         2\n",
      "ht         2\n",
      "vi         1\n",
      "zh         1\n",
      "ru         1\n",
      "eu         1\n",
      "Name: lang, dtype: int64\n"
     ]
    }
   ],
   "source": [
    "#List the distribution of languages in the tweets (important for preprocessing (stopwords etc.))\n",
    "print(df_date['lang'].value_counts())"
   ]
  },
  {
   "cell_type": "markdown",
   "id": "46d79d2d",
   "metadata": {},
   "source": [
    "As tweets with undefined language mostly consist of only hashtags, URls or emojis, they will be discarded. Otherwise only german and english tweets are kept for the analysis"
   ]
  },
  {
   "cell_type": "code",
   "execution_count": 6,
   "id": "306eedeb",
   "metadata": {},
   "outputs": [],
   "source": [
    "df_date = df_date.loc[(df_date['lang'] == \"de\") | (df_date['lang'] == \"en\")]"
   ]
  },
  {
   "cell_type": "code",
   "execution_count": 7,
   "id": "53a1344c",
   "metadata": {
    "scrolled": true
   },
   "outputs": [
    {
     "name": "stdout",
     "output_type": "stream",
     "text": [
      "112867\n",
      "18534\n",
      "__twarc.retrieved_at                                95949\n",
      "__twarc.url                                         95949\n",
      "__twarc.version                                     95949\n",
      "attachments.media                                    2774\n",
      "attachments.media_keys                               2774\n",
      "attachments.poll.duration_minutes                      83\n",
      "attachments.poll.end_datetime                          83\n",
      "attachments.poll.id                                    83\n",
      "attachments.poll.options                               83\n",
      "attachments.poll.voting_status                         83\n",
      "attachments.poll_ids                                   88\n",
      "author.created_at                                  112867\n",
      "author.description                                 107368\n",
      "author.entities.description.cashtags                    9\n",
      "author.entities.description.hashtags                39280\n",
      "author.entities.description.mentions                49795\n",
      "author.entities.description.urls                     7509\n",
      "author.entities.url.urls                            57535\n",
      "author.id                                          112867\n",
      "author.location                                     71600\n",
      "author.name                                        112867\n",
      "author.pinned_tweet_id                              60576\n",
      "author.profile_image_url                           112867\n",
      "author.protected                                   112867\n",
      "author.public_metrics.followers_count              112867\n",
      "author.public_metrics.following_count              112867\n",
      "author.public_metrics.listed_count                 112867\n",
      "author.public_metrics.tweet_count                  112867\n",
      "author.url                                          57535\n",
      "author.username                                    112867\n",
      "author.verified                                    112867\n",
      "author.withheld.country_codes                           0\n",
      "author_id                                          112867\n",
      "context_annotations                                  8920\n",
      "conversation_id                                    112867\n",
      "created_at                                         112867\n",
      "entities.annotations                                 3111\n",
      "entities.cashtags                                       6\n",
      "entities.hashtags                                   70374\n",
      "entities.mentions                                   98701\n",
      "entities.urls                                       15378\n",
      "geo.coordinates.coordinates                             2\n",
      "geo.coordinates.type                                    2\n",
      "geo.country                                           118\n",
      "geo.country_code                                      118\n",
      "geo.full_name                                         118\n",
      "geo.geo.bbox                                          118\n",
      "geo.geo.type                                          118\n",
      "geo.id                                                118\n",
      "geo.name                                              118\n",
      "geo.place_id                                          237\n",
      "geo.place_type                                        118\n",
      "id                                                 112867\n",
      "in_reply_to_user.created_at                          8689\n",
      "in_reply_to_user.description                         8494\n",
      "in_reply_to_user.entities.description.cashtags          0\n",
      "in_reply_to_user.entities.description.hashtags       2892\n",
      "in_reply_to_user.entities.description.mentions       4176\n",
      "in_reply_to_user.entities.description.urls            890\n",
      "in_reply_to_user.entities.url.urls                   5001\n",
      "in_reply_to_user.id                                  8689\n",
      "in_reply_to_user.location                            6144\n",
      "in_reply_to_user.name                                8688\n",
      "in_reply_to_user.pinned_tweet_id                     5163\n",
      "in_reply_to_user.profile_image_url                   8688\n",
      "in_reply_to_user.protected                           8689\n",
      "in_reply_to_user.public_metrics.followers_count      8689\n",
      "in_reply_to_user.public_metrics.following_count      8689\n",
      "in_reply_to_user.public_metrics.listed_count         8689\n",
      "in_reply_to_user.public_metrics.tweet_count          8689\n",
      "in_reply_to_user.url                                 5001\n",
      "in_reply_to_user.username                            8689\n",
      "in_reply_to_user.verified                            8689\n",
      "in_reply_to_user.withheld.country_codes                 0\n",
      "in_reply_to_user_id                                  8859\n",
      "lang                                               112867\n",
      "possibly_sensitive                                 112867\n",
      "public_metrics.like_count                          112867\n",
      "public_metrics.quote_count                         112867\n",
      "public_metrics.reply_count                         112867\n",
      "public_metrics.retweet_count                       112867\n",
      "referenced_tweets                                  103455\n",
      "reply_settings                                     112867\n",
      "source                                             112867\n",
      "text                                               112867\n",
      "type                                                16918\n",
      "withheld.scope                                          0\n",
      "withheld.copyright                                      0\n",
      "withheld.country_codes                                  0\n",
      "hashtags                                            70374\n",
      "reference_type                                     112867\n",
      "wanted_tag                                         112867\n",
      "new_date                                           112867\n",
      "dtype: int64\n"
     ]
    }
   ],
   "source": [
    "pd.set_option('display.max_rows', 100)\n",
    "#number of remaining tweets\n",
    "print(df_date.shape[0])\n",
    "#number of remaining unique users\n",
    "print(len(pd.unique(df_date['author.id'])))\n",
    "#overview over \"missing values\"\n",
    "print(df_date.count())"
   ]
  },
  {
   "cell_type": "code",
   "execution_count": 8,
   "id": "dd518bef",
   "metadata": {},
   "outputs": [
    {
     "data": {
      "text/plain": [
       "<AxesSubplot:xlabel='week'>"
      ]
     },
     "execution_count": 8,
     "metadata": {},
     "output_type": "execute_result"
    },
    {
     "data": {
      "image/png": "[encoded data removed]",
      "text/plain": [
       "<Figure size 432x288 with 1 Axes>"
      ]
     },
     "metadata": {
      "needs_background": "light"
     },
     "output_type": "display_data"
    }
   ],
   "source": [
    "week_groups = df_date.groupby([pd.to_datetime(df_date['new_date']).dt.isocalendar().week]).size()\n",
    "week_groups.plot(kind='bar', legend = False)"
   ]
  },
  {
   "cell_type": "code",
   "execution_count": 9,
   "id": "9aa08075",
   "metadata": {},
   "outputs": [],
   "source": [
    "df_june = df_date.loc[(df_date['new_date'] > '2021-06-01 00:00:00') & (df_date['new_date'] <= '2021-06-30 23:59:59')]\n",
    "df_july = df_date.loc[(df_date['new_date'] > '2021-07-01 00:00:00') & (df_date['new_date'] <= '2021-07-31 23:59:59')]\n",
    "df_august = df_date.loc[(df_date['new_date'] > '2021-08-01 00:00:00') & (df_date['new_date'] <= '2021-08-31 23:59:59')]\n",
    "df_september = df_date.loc[(df_date['new_date'] > '2021-09-01 00:00:00') & (df_date['new_date'] <= '2021-09-30 23:59:59')]"
   ]
  },
  {
   "cell_type": "code",
   "execution_count": 10,
   "id": "da11f223",
   "metadata": {},
   "outputs": [
    {
     "data": {
      "text/plain": [
       "<AxesSubplot:xlabel='new_date'>"
      ]
     },
     "execution_count": 10,
     "metadata": {},
     "output_type": "execute_result"
    },
    {
     "data": {
      "image/png": "[encoded data removed]",
      "text/plain": [
       "<Figure size 432x288 with 2 Axes>"
      ]
     },
     "metadata": {
      "needs_background": "light"
     },
     "output_type": "display_data"
    }
   ],
   "source": [
    "june_groups = df_june.groupby([pd.to_datetime(df_june['new_date']).dt.day]).size()\n",
    "plt.subplot(1, 2, 1)\n",
    "june_groups.plot(kind='bar', legend = False)\n",
    "july_groups = df_july.groupby([pd.to_datetime(df_july['new_date']).dt.day]).size()\n",
    "plt.subplot(1, 2, 2)\n",
    "july_groups.plot(kind='bar', legend = False)"
   ]
  },
  {
   "cell_type": "code",
   "execution_count": 11,
   "id": "25a69ee6",
   "metadata": {},
   "outputs": [
    {
     "data": {
      "text/plain": [
       "<AxesSubplot:xlabel='new_date'>"
      ]
     },
     "execution_count": 11,
     "metadata": {},
     "output_type": "execute_result"
    },
    {
     "data": {
      "image/png": "[encoded data removed]",
      "text/plain": [
       "<Figure size 432x288 with 2 Axes>"
      ]
     },
     "metadata": {
      "needs_background": "light"
     },
     "output_type": "display_data"
    }
   ],
   "source": [
    "august_groups = df_august.groupby([pd.to_datetime(df_august['new_date']).dt.day]).size()\n",
    "plt.subplot(1, 2, 1)\n",
    "august_groups.plot(kind='bar', legend = False)\n",
    "september_groups = df_september.groupby([pd.to_datetime(df_september['new_date']).dt.day]).size()\n",
    "plt.subplot(1, 2, 2)\n",
    "september_groups.plot(kind='bar', legend = False)"
   ]
  },
  {
   "cell_type": "markdown",
   "id": "82c7b854",
   "metadata": {},
   "source": [
    "## Missing Hashtag-Problem"
   ]
  },
  {
   "cell_type": "code",
   "execution_count": 12,
   "id": "8a97f5c8",
   "metadata": {},
   "outputs": [
    {
     "name": "stdout",
     "output_type": "stream",
     "text": [
      "60832\n"
     ]
    }
   ],
   "source": [
    "#number of tweets actually containing the hashtag\n",
    "df_hash = df_date[df_date['text'].str.contains(\"#ichbinhanna\", case = False)]\n",
    "print(df_hash.shape[0])"
   ]
  },
  {
   "cell_type": "code",
   "execution_count": 13,
   "id": "b7f401bd",
   "metadata": {},
   "outputs": [
    {
     "name": "stdout",
     "output_type": "stream",
     "text": [
      "52035\n"
     ]
    }
   ],
   "source": [
    "#number of tweets not containing the hashtag directly\n",
    "df_no_hash = df_date[-df_date['text'].str.contains(\"#ichbinhanna\", case = False)]\n",
    "print(df_no_hash.shape[0])"
   ]
  },
  {
   "cell_type": "code",
   "execution_count": 14,
   "id": "dc0428be",
   "metadata": {
    "scrolled": true
   },
   "outputs": [
    {
     "name": "stdout",
     "output_type": "stream",
     "text": [
      "47468\n",
      "40896\n"
     ]
    }
   ],
   "source": [
    "#number of tweets without the hashtag that are retweets (text from original tweet cut off)\n",
    "print(df_no_hash[df_no_hash['reference_type'] == 'retweeted'].shape[0])\n",
    "#number of tweets with the hashtag that are retweets\n",
    "print(df_hash[df_hash['reference_type'] == 'retweeted'].shape[0])"
   ]
  },
  {
   "cell_type": "code",
   "execution_count": 15,
   "id": "9eb022e5",
   "metadata": {},
   "outputs": [
    {
     "name": "stdout",
     "output_type": "stream",
     "text": [
      "retweeted       40896\n",
      "no_reference     8159\n",
      "quoted           6205\n",
      "replied_to       5572\n",
      "Name: reference_type, dtype: int64\n",
      "retweeted       47468\n",
      "replied_to       2760\n",
      "no_reference     1253\n",
      "quoted            554\n",
      "Name: reference_type, dtype: int64\n"
     ]
    }
   ],
   "source": [
    "print(df_hash['reference_type'].value_counts())\n",
    "print(df_no_hash['reference_type'].value_counts())"
   ]
  },
  {
   "cell_type": "markdown",
   "id": "07e902a8",
   "metadata": {},
   "source": [
    "As a majority of those tweets are retweets that are mostly cut off due to the character constraint, a first approach is to exclude retweets directly for the sentiment analysis, as the original tweet (as long as it falls into our time frame) is most likely in the collection as well. If certain users or networks have to be observed, the whole data set might be of more interest."
   ]
  },
  {
   "cell_type": "code",
   "execution_count": 16,
   "id": "578b3a45",
   "metadata": {},
   "outputs": [],
   "source": [
    "#for further investigation\n",
    "compression_opts = dict(method='zip',\n",
    "                        archive_name='out.csv')  \n",
    "df_no_hash.to_csv('out.zip', index=False,\n",
    "          compression=compression_opts) "
   ]
  },
  {
   "cell_type": "markdown",
   "id": "12dfc527",
   "metadata": {},
   "source": [
    "## Get top hashtags appearing in tweets along with #IchBinHanna in september"
   ]
  },
  {
   "cell_type": "code",
   "execution_count": 17,
   "id": "aa428a1b",
   "metadata": {},
   "outputs": [],
   "source": [
    "#make the hashtags a list of strings, then adapt the monthly data frames, also remove tweets not containing the hashtag,\n",
    "#but keep retweets for this part of the analysis\n",
    "df_date['hashtags'] = df_hash['hashtags'].str.replace('[', '').str.replace(']','')\n",
    "df_date['hashtags separated'] = df_date['hashtags'].str.split(',')\n",
    "df_september = df_date.loc[(df_date['new_date'] > '2021-09-01 00:00:00') & (df_date['new_date'] <= '2021-09-30 23:59:59')]\n",
    "df_june = df_date.loc[(df_date['new_date'] > '2021-06-01 00:00:00') & (df_date['new_date'] <= '2021-06-30 23:59:59')]\n",
    "df_july = df_date.loc[(df_date['new_date'] > '2021-07-01 00:00:00') & (df_date['new_date'] <= '2021-07-31 23:59:59')]\n",
    "df_august = df_date.loc[(df_date['new_date'] > '2021-08-01 00:00:00') & (df_date['new_date'] <= '2021-08-31 23:59:59')]"
   ]
  },
  {
   "cell_type": "code",
   "execution_count": 18,
   "id": "27a2c2a2",
   "metadata": {},
   "outputs": [],
   "source": [
    "#flatten the lists to count occurences of all strings and drop all variations of #IchBinHanna\n",
    "flat_hashtags = df_september['hashtags separated'].explode().to_frame().dropna()\n",
    "flat_hashtags = flat_hashtags[-flat_hashtags['hashtags separated'].str.contains(\"ichbinhanna\", case = False)]"
   ]
  },
  {
   "cell_type": "code",
   "execution_count": 19,
   "id": "d9654cc1",
   "metadata": {},
   "outputs": [],
   "source": [
    "#count occurences \n",
    "hashtag_count = flat_hashtags.value_counts()\n",
    "hashtag_count = hashtag_count[hashtag_count > 10].reset_index()"
   ]
  },
  {
   "cell_type": "code",
   "execution_count": 20,
   "id": "3968c1b2",
   "metadata": {},
   "outputs": [],
   "source": [
    "#for further investigation\n",
    "compression_opts = dict(method='zip',\n",
    "                        archive_name='top_hashtags.csv')  \n",
    "hashtag_count.to_csv('out.zip', index=False,\n",
    "          compression=compression_opts) "
   ]
  },
  {
   "cell_type": "markdown",
   "id": "5b398355",
   "metadata": {},
   "source": [
    "## Identify Events by observing spikes in tweet volume"
   ]
  },
  {
   "cell_type": "code",
   "execution_count": 21,
   "id": "03f0bd13",
   "metadata": {
    "scrolled": true
   },
   "outputs": [
    {
     "name": "stdout",
     "output_type": "stream",
     "text": [
      "Highest activity in June:\n",
      "new_date\n",
      "11    9654\n",
      "10    8244\n",
      "24    8228\n",
      "25    4833\n",
      "17    3003\n",
      "14    2942\n",
      "13    2830\n",
      "30    2794\n",
      "12    2595\n",
      "15    2119\n",
      "dtype: int64\n",
      "Highest activity in July:\n",
      "new_date\n",
      "1     2574\n",
      "9     2222\n",
      "2     1686\n",
      "8     1659\n",
      "6     1357\n",
      "7     1317\n",
      "27    1259\n",
      "12    1242\n",
      "13    1108\n",
      "16    1066\n",
      "dtype: int64\n",
      "Highest activity in August:\n",
      "new_date\n",
      "3     872\n",
      "4     811\n",
      "25    807\n",
      "12    733\n",
      "26    645\n",
      "23    629\n",
      "2     618\n",
      "11    617\n",
      "24    571\n",
      "27    486\n",
      "dtype: int64\n",
      "Highest activity in September:\n",
      "new_date\n",
      "29    626\n",
      "10    622\n",
      "2     566\n",
      "6     514\n",
      "3     442\n",
      "23    435\n",
      "7     429\n",
      "15    390\n",
      "24    388\n",
      "22    344\n",
      "dtype: int64\n"
     ]
    }
   ],
   "source": [
    "print(\"Highest activity in June:\\n{}\".format(june_groups.sort_values(ascending = False).head(10)))\n",
    "print(\"Highest activity in July:\\n{}\".format(july_groups.sort_values(ascending = False).head(10)))\n",
    "print(\"Highest activity in August:\\n{}\".format(august_groups.sort_values(ascending = False).head(10)))\n",
    "print(\"Highest activity in September:\\n{}\".format(september_groups.sort_values(ascending = False).head(10)))"
   ]
  },
  {
   "cell_type": "markdown",
   "id": "ca01010c",
   "metadata": {},
   "source": [
    "### First approach: search for most frequent words in tweets with the hashtag for the days with the highest activity\n",
    "\n",
    "Retweets are kept here, as they give an indication about the engagement of a topic and reflect that in a higher word count for frequently discussed themes."
   ]
  },
  {
   "cell_type": "code",
   "execution_count": 22,
   "id": "95cefc9e",
   "metadata": {},
   "outputs": [],
   "source": [
    "#First step: process the raw text data\n",
    "#remove linebreaks separately\n",
    "df_date['processed text'] = df_date['text'].replace(r'\\\\n',  ' ', regex=True)\n",
    "#function to remove URLs, punctuation, @ etc. (source: https://www.earthdatascience.org/courses/use-data-open-source-python/intro-to-apis/calculate-tweet-word-frequencies-in-python/)\n",
    "def rem_url(tweet):\n",
    "     return \" \".join(re.sub(\"([^0-9A-Za-zßäöü \\t])|(\\w+:\\/\\/\\S+)\", \" \", tweet).split())\n",
    "df_date['processed text'] = df_date['processed text'].apply(rem_url)"
   ]
  },
  {
   "cell_type": "code",
   "execution_count": 23,
   "id": "c70cb58f",
   "metadata": {},
   "outputs": [],
   "source": [
    "#lowercases and tokenize text\n",
    "df_date['processed text'] = df_date['processed text'].str.lower().str.split()"
   ]
  },
  {
   "cell_type": "code",
   "execution_count": 24,
   "id": "69fa71b4",
   "metadata": {},
   "outputs": [
    {
     "name": "stderr",
     "output_type": "stream",
     "text": [
      "[nltk_data] Downloading package stopwords to\n",
      "[nltk_data]     C:\\Users\\Admin\\AppData\\Roaming\\nltk_data...\n",
      "[nltk_data]   Package stopwords is already up-to-date!\n"
     ]
    }
   ],
   "source": [
    "#remove german and english stopwords (separately for the given language of a tweet)\n",
    "nltk.download(\"stopwords\")\n",
    "german_stop = set(stopwords.words('german'))\n",
    "english_stop = set(stopwords.words('english'))\n",
    "df_date['processed w/o stopwords'] = df_date[['processed text','lang']].apply(lambda x: ' '.join([word for word in x['processed text'] if word not in (english_stop)]).split() if x['lang'] == 'en' else ' '.join([word for word in x['processed text'] if word not in (german_stop)]).split(),axis=1)"
   ]
  },
  {
   "cell_type": "code",
   "execution_count": 25,
   "id": "c115f012",
   "metadata": {},
   "outputs": [],
   "source": [
    "#remove all words consisting of only one character (isn'\"t\", it'\"s\" etc.)\n",
    "df_date['processed w/o stopwords'] = df_date['processed w/o stopwords'].apply(lambda x: [word for word in x if len(word) > 1])"
   ]
  },
  {
   "cell_type": "code",
   "execution_count": 26,
   "id": "56bd5370",
   "metadata": {
    "scrolled": true
   },
   "outputs": [
    {
     "data": {
      "text/plain": [
       "[('rt', 88536),\n",
       " ('ichbinhanna', 59241),\n",
       " ('amreibahr', 12013),\n",
       " ('innen', 10710),\n",
       " ('amp', 10062),\n",
       " ('bmbf', 9649),\n",
       " ('bund', 9601),\n",
       " ('wissenschaft', 8496),\n",
       " ('wisszeitvg', 7511),\n",
       " ('wissenschaftler', 6419),\n",
       " ('hanna', 6396),\n",
       " ('drkeichhorn', 6047),\n",
       " ('mehr', 4953),\n",
       " ('anjakarliczek', 4615),\n",
       " ('mal', 4503),\n",
       " ('viele', 4404),\n",
       " ('heute', 3939),\n",
       " ('german', 3926),\n",
       " ('system', 3738),\n",
       " ('ja', 3725),\n",
       " ('schon', 3354),\n",
       " ('gibt', 3332),\n",
       " ('geht', 3207),\n",
       " ('jahre', 3126),\n",
       " ('uni', 3124)]"
      ]
     },
     "execution_count": 26,
     "metadata": {},
     "output_type": "execute_result"
    }
   ],
   "source": [
    "#most frequent words overall\n",
    "all_words = list(itertools.chain(*df_date['processed w/o stopwords']))\n",
    "total_word_count = collections.Counter(all_words)\n",
    "total_word_count.most_common(25)"
   ]
  },
  {
   "cell_type": "code",
   "execution_count": 27,
   "id": "5b8f9503",
   "metadata": {},
   "outputs": [],
   "source": [
    "#remove additional stopwords encountered (like \"innen\" which occurs because of gendering in german), as well as the hashtag itself, rt etc.\n",
    "add_stop_all = [\"rt\", \"ichbinhanna\", \"hanna\", \"amp\"]\n",
    "add_stop_ger = [\"mehr\", \"mal\", \"innen\", \"ja\", \"schon\"]\n",
    "add_stop_en = []\n",
    "df_date['processed w/o stopwords'] = df_date[['processed w/o stopwords','lang']].apply(lambda x: ' '.join([word for word in x['processed w/o stopwords'] if word not in (add_stop_all) and word not in  (add_stop_en)]).split() if x['lang'] == 'en' else ' '.join([word for word in x['processed w/o stopwords'] if word not in (add_stop_all) and word not in  (add_stop_ger)]).split(),axis=1)"
   ]
  },
  {
   "cell_type": "code",
   "execution_count": 28,
   "id": "24785bc4",
   "metadata": {
    "scrolled": true
   },
   "outputs": [
    {
     "name": "stdout",
     "output_type": "stream",
     "text": [
      "10.06.:\n",
      "[('wissenschaftler', 1188), ('befristet', 839), ('jahre', 816), ('wisszeitvg', 798), ('teilen', 793), ('bmbf', 790), ('wissenschaft', 743), ('de', 706), ('seit', 645), ('prekären', 603), ('nachwuchs', 578), ('stelle', 558), ('momentan', 530), ('status', 530), ('angestellte', 529), ('degneranja', 529), ('bund', 499), ('forsche', 465), ('befristete', 452), ('promoviert', 437), ('jahren', 435), ('system', 431), ('german', 393), ('12', 371), ('viele', 359)]\n",
      "11.06.:\n",
      "[('wissenschaftler', 950), ('wissenschaft', 910), ('system', 885), ('german', 840), ('viele', 728), ('bmbf', 692), ('teilen', 600), ('academic', 599), ('trending', 589), ('bund', 571), ('jahre', 566), ('gerade', 485), ('wisszeitvg', 450), ('uni', 440), ('germany', 415), ('academia', 400), ('stelle', 392), ('befristet', 384), ('de', 377), ('since', 371), ('befristungen', 370), ('seit', 360), ('know', 336), ('martin', 327), ('ok', 314)]\n",
      "24.06.:\n",
      "[('hannaimbundestag', 1433), ('anjakarliczek', 796), ('wissenschaft', 609), ('heute', 569), ('bundestag', 567), ('geht', 509), ('bmbf', 460), ('german', 441), ('wisszeitvg', 435), ('amreibahr', 428), ('hochschulen', 407), ('karliczek', 400), ('bund', 385), ('wissenschaftler', 349), ('debatte', 346), ('drkeichhorn', 310), ('promotion', 265), ('wer', 265), ('cdu', 263), ('winnerling', 262), ('stunde', 255), ('statt', 253), ('frau', 251), ('gerade', 246), ('unis', 242)]\n",
      "25.06.:\n",
      "[('achimlandwehr', 1137), ('chef', 1094), ('dekan', 1014), ('viele', 915), ('professor', 901), ('anjakarliczek', 468), ('hannaimbundestag', 434), ('amreibahr', 337), ('bund', 293), ('karliczek', 267), ('bmbf', 257), ('wissenschaft', 190), ('heute', 189), ('liebe', 183), ('gerade', 175), ('wisszeitvg', 165), ('hochschulen', 145), ('wer', 139), ('diskussion', 136), ('frau', 131), ('drkeichhorn', 130), ('unis', 129), ('brauchen', 129), ('gestern', 122), ('uni', 121)]\n",
      "17.06.:\n",
      "[('bmbf', 629), ('amreibahr', 426), ('gibt', 414), ('bund', 390), ('wisszeitvg', 340), ('staatssekretär', 296), ('wissenschaftler', 288), ('danke', 256), ('herr', 207), ('weiterhin', 203), ('artikel', 201), ('position', 200), ('wissenschaft', 191), ('drkeichhorn', 187), ('wegen', 185), ('winnerling', 182), ('mehrreiber', 182), ('sozmethode', 181), ('suche', 181), ('offenbar', 180), ('geehrter', 179), ('erneute', 179), ('darlegung', 179), ('unveränderten', 179), ('fehlwahrnehmung', 179)]\n",
      "30.06.:\n",
      "[('anjakarliczek', 772), ('wisszeitvg', 273), ('wirsindhanna', 259), ('anschlussverwendung', 234), ('doktorvater', 205), ('bund', 192), ('wissenschaftler', 175), ('erklärung', 164), ('wissenschaft', 160), ('gespräch', 151), ('selbstwahrnehmung', 148), ('rät', 143), ('frau', 138), ('drkeichhorn', 131), ('vhdtweets', 130), ('überhöhte', 125), ('bmbf', 123), ('vlt', 122), ('join', 121), ('außenwahr', 117), ('problem', 112), ('amreibahr', 110), ('wissenschaftsverbänden', 98), ('gew', 98), ('gibt', 92)]\n",
      "01.07.:\n",
      "[('gew', 277), ('bund', 231), ('hannabeidergew', 207), ('anjakarliczek', 192), ('schuh', 178), ('melissa', 178), ('wisszeitvg', 175), ('drkeichhorn', 172), ('akellergew', 167), ('amreibahr', 141), ('kinofrau1', 139), ('sollten', 138), ('jenniferhenkehb', 126), ('janalasser', 122), ('bmbf', 120), ('wissenschaft', 116), ('geht', 113), ('danke', 109), ('wirsindhanna', 107), ('german', 105), ('ichbinhannah', 99), ('english', 94), ('mahaelhissy', 93), ('arbeit', 91), ('choukri', 90)]\n",
      "02.07.:\n",
      "[('amreibahr', 240), ('bund', 220), ('wisszeitvg', 212), ('bmbf', 184), ('wissenschaft', 153), ('gew', 124), ('wissenschaftler', 118), ('akellergew', 116), ('karliczek', 106), ('anjakarliczek', 102), ('wissen', 97), ('gerade', 89), ('verständnis', 86), ('reaktionen', 85), ('krudes', 85), ('ausbeuterisches', 85), ('bewusst', 78), ('mahaelhissy', 75), ('immer', 71), ('gibt', 68), ('wer', 64), ('drkeichhorn', 62), ('statement', 55), ('12', 53), ('fachgesellschaften', 53)]\n",
      "09.07.:\n",
      "[('tagesthemen', 363), ('amreibahr', 310), ('dauerstellen', 245), ('wer', 163), ('bund', 152), ('tilojung', 147), ('niemand', 140), ('heute', 137), ('drkeichhorn', 134), ('frau', 133), ('lange', 124), ('kommentar', 123), ('rubner', 122), ('wurde', 117), ('wisszeitvg', 109), ('geht', 107), ('sagen', 99), ('wissenschaftler', 97), ('debatte', 95), ('dafür', 93), ('akellergew', 88), ('früher', 85), ('prekäre', 84), ('regierungspressekonferenz', 82), ('bewegung', 81)]\n",
      "08.07.:\n",
      "[('amreibahr', 468), ('tagesthemen', 468), ('heute', 332), ('drkeichhorn', 309), ('dauerstellen', 191), ('niemand', 167), ('wort', 162), ('kommen', 160), ('einschalten', 159), ('22', 157), ('15', 153), ('abend', 153), ('uhr', 153), ('pwun', 151), ('debatte', 130), ('bund', 118), ('postdocs', 116), ('kommentar', 116), ('wissenschaft', 108), ('nochmal', 104), ('mitschreiben', 103), ('gefordert', 103), ('ford', 102), ('gew', 96), ('akellergew', 96)]\n",
      "03.08.:\n",
      "[('amreibahr', 238), ('christine', 194), ('blume', 194), ('academia', 168), ('german', 164), ('researchers', 106), ('law', 105), ('heutejournal', 103), ('check', 101), ('protests', 98), ('forces', 98), ('correspondence', 94), ('ar', 94), ('drkeichhorn', 83), ('sebastiankubon', 77), ('wissenschaftler', 75), ('mahaelhissy', 73), ('annamariaschuck', 70), ('heute', 68), ('gerade', 61), ('viele', 59), ('system', 55), ('sicherheit', 53), ('kaum', 52), ('wisszeitvg', 51)]\n",
      "04.08.:\n",
      "[('bmbf', 154), ('amreibahr', 153), ('bund', 137), ('heutejournal', 99), ('german', 95), ('wisszeitvg', 83), ('mlewandowsky', 82), ('befristete', 82), ('wisszvg', 80), ('beworben', 78), ('kafkaesken', 77), ('niederungen', 77), ('mitarbeiterstelle', 77), ('professor', 77), ('academia', 69), ('mahaelhissy', 69), ('christine', 62), ('blume', 62), ('naturehumbehav', 57), ('wissenschaftler', 54), ('schuld', 49), ('researchers', 48), ('law', 46), ('forces', 46), ('drkeichhorn', 46)]\n",
      "25.08.:\n",
      "[('wissenschaft', 220), ('amreibahr', 214), ('befristungen', 129), ('deshalb', 124), ('gern', 123), ('findest', 122), ('großem', 122), ('stil', 122), ('total', 122), ('supi', 122), ('möchtest', 122), ('äußern', 122), ('drkeichhorn', 69), ('gute', 57), ('ichbinreyhan', 56), ('jmwiarda', 55), ('reden', 54), ('akellergew', 47), ('gut', 47), ('torstenkathke', 45), ('berliner', 42), ('ber', 41), ('diskutiert', 40), ('system', 39), ('jahn', 39)]\n",
      "12.08.:\n",
      "[('amreibahr', 140), ('drkeichhorn', 128), ('jahn', 77), ('debatte', 62), ('immer', 62), ('academia', 57), ('forschung', 56), ('taking', 56), ('revolutionary', 55), ('work', 54), ('real', 53), ('vacation', 53), ('without', 53), ('act', 53), ('everyone', 53), ('communicates', 53), ('anjakarliczek', 50), ('wissenschaft', 48), ('gibt', 46), ('gerade', 46), ('jmwiarda', 43), ('niemand', 39), ('janinefunke', 39), ('frage', 36), ('elternschaft', 35)]\n",
      "26.08.:\n",
      "[('amreibahr', 209), ('drkeichhorn', 137), ('berlin', 92), ('postdocs', 67), ('wissenschaft', 61), ('waspostdocswollen', 61), ('fu', 61), ('sebastiankubon', 61), ('uni', 61), ('neue', 56), ('jenniferhenkehb', 46), ('akellergew', 46), ('unis', 41), ('total', 39), ('gern', 37), ('zeit', 33), ('deshalb', 33), ('wer', 32), ('findest', 31), ('befristungen', 31), ('großem', 31), ('stil', 31), ('supi', 31), ('möchtest', 31), ('äußern', 31)]\n",
      "29.09.:\n",
      "[('entfristethanna', 154), ('amreibahr', 121), ('drkeichhorn', 103), ('bund', 81), ('gew', 80), ('simoneclaar', 53), ('jenniferhenkehb', 53), ('dr', 52), ('heute', 49), ('wendy', 49), ('shaw', 49), ('aktivenkonferenz', 48), ('ichbinreyhan', 46), ('chrizzy80', 46), ('hochschulen', 43), ('gleich', 34), ('arbeitsverträge', 30), ('lasst', 30), ('akellergew', 29), ('hey', 29), ('immer', 28), ('allerletzten', 28), ('drücker', 28), ('ausstellt', 28), ('beschäftige', 28)]\n",
      "10.09.:\n",
      "[('seit', 186), ('amreibahr', 159), ('arbeitsverträge', 141), ('ende', 104), ('davon', 93), ('hannainzahlen', 90), ('aktuellen', 86), ('monate', 84), ('verträge', 72), ('vertrags', 69), ('jahre', 59), ('100', 55), ('zahlen', 54), ('erwerbsarbeitslosigkeit', 53), ('10', 49), ('btw21', 45), ('anlässlich', 44), ('12', 43), ('ha', 42), ('lasst', 41), ('2023', 40), ('deutlich', 38), ('ausmaße', 37), ('wissenschaftspolitische', 37), ('berlin', 37)]\n",
      "02.09.:\n",
      "[('neue', 196), ('berliner', 196), ('beschlossen', 172), ('berlhg', 171), ('hochschulgesetz', 170), ('jule', 146), ('specht', 146), ('abgeordnetenhaus', 141), ('stellen', 141), ('wurde', 140), ('eben', 134), ('bedeutet', 134), ('pro', 133), ('berlin', 60), ('wissenschaft', 56), ('akellergew', 53), ('heute', 49), ('gesetz', 37), ('tobias', 33), ('schulze', 32), ('gew', 29), ('hannafürberlhg', 29), ('bund', 28), ('postdocs', 24), ('uni', 24)]\n",
      "06.09.:\n",
      "[('amreibahr', 82), ('cm', 61), ('dartenne', 61), ('nachwuchs', 60), ('wissenschaftler', 50), ('genauso', 42), ('akellergew', 39), ('stelle', 39), ('minister', 39), ('abgeordneten', 38), ('landtags', 38), ('wären', 38), ('bund', 33), ('wissenschaft', 33), ('mitarbeiter', 31), ('heute', 29), ('another', 28), ('müssen', 27), ('daycare', 27), ('chance', 27), ('day', 26), ('life', 26), ('dropped', 26), ('son', 26), ('pulled', 26)]\n",
      "03.09.:\n",
      "[('neue', 205), ('hochschulgesetz', 201), ('berliner', 200), ('beschlossen', 199), ('stellen', 195), ('berlhg', 194), ('jule', 194), ('specht', 193), ('abgeordnetenhaus', 188), ('bedeutet', 187), ('wurde', 186), ('eben', 184), ('pro', 184), ('berlin', 38), ('akellergew', 35), ('wissenschaft', 25), ('gew', 20), ('grundmar', 19), ('arbeit', 16), ('wissenschaftssystem', 16), ('deutsche', 15), ('bund', 14), ('zweierlei', 14), ('eindrücklich', 14), ('gezeigt', 14)]\n"
     ]
    }
   ],
   "source": [
    "#get most frequent terms for days with highest tweet volume per month\n",
    "current_day = df_date.loc[(df_date['new_date'] > '2021-06-10 00:00:00') & (df_date['new_date'] <= '2021-06-10 23:59:59')]\n",
    "daily_words = list(itertools.chain(*current_day['processed w/o stopwords']))\n",
    "daily_word_count = collections.Counter(daily_words)\n",
    "print(\"10.06.:\\n{}\".format(daily_word_count.most_common(25)))\n",
    "current_day = df_date.loc[(df_date['new_date'] > '2021-06-11 00:00:00') & (df_date['new_date'] <= '2021-06-11 23:59:59') ]\n",
    "daily_words = list(itertools.chain(*current_day['processed w/o stopwords']))\n",
    "daily_word_count = collections.Counter(daily_words)\n",
    "print(\"11.06.:\\n{}\".format(daily_word_count.most_common(25)))\n",
    "current_day = df_date.loc[(df_date['new_date'] > '2021-06-24 00:00:00') & (df_date['new_date'] <= '2021-06-24 23:59:59') ]\n",
    "daily_words = list(itertools.chain(*current_day['processed w/o stopwords']))\n",
    "daily_word_count = collections.Counter(daily_words)\n",
    "print(\"24.06.:\\n{}\".format(daily_word_count.most_common(25)))\n",
    "current_day = df_date.loc[(df_date['new_date'] > '2021-06-25 00:00:00') & (df_date['new_date'] <= '2021-06-25 23:59:59') ]\n",
    "daily_words = list(itertools.chain(*current_day['processed w/o stopwords']))\n",
    "daily_word_count = collections.Counter(daily_words)\n",
    "print(\"25.06.:\\n{}\".format(daily_word_count.most_common(25)))\n",
    "current_day = df_date.loc[(df_date['new_date'] > '2021-06-17 00:00:00') & (df_date['new_date'] <= '2021-06-17 23:59:59') ]\n",
    "daily_words = list(itertools.chain(*current_day['processed w/o stopwords']))\n",
    "daily_word_count = collections.Counter(daily_words)\n",
    "print(\"17.06.:\\n{}\".format(daily_word_count.most_common(25)))\n",
    "current_day = df_date.loc[(df_date['new_date'] > '2021-06-30 00:00:00') & (df_date['new_date'] <= '2021-06-30 23:59:59') ]\n",
    "daily_words = list(itertools.chain(*current_day['processed w/o stopwords']))\n",
    "daily_word_count = collections.Counter(daily_words)\n",
    "print(\"30.06.:\\n{}\".format(daily_word_count.most_common(25)))\n",
    "current_day = df_date.loc[(df_date['new_date'] > '2021-07-01 00:00:00') & (df_date['new_date'] <= '2021-07-01 23:59:59') ]\n",
    "daily_words = list(itertools.chain(*current_day['processed w/o stopwords']))\n",
    "daily_word_count = collections.Counter(daily_words)\n",
    "print(\"01.07.:\\n{}\".format(daily_word_count.most_common(25)))\n",
    "current_day = df_date.loc[(df_date['new_date'] > '2021-07-02 00:00:00') & (df_date['new_date'] <= '2021-07-02 23:59:59') ]\n",
    "daily_words = list(itertools.chain(*current_day['processed w/o stopwords']))\n",
    "daily_word_count = collections.Counter(daily_words)\n",
    "print(\"02.07.:\\n{}\".format(daily_word_count.most_common(25)))\n",
    "current_day = df_date.loc[(df_date['new_date'] > '2021-07-09 00:00:00') & (df_date['new_date'] <= '2021-07-09 23:59:59') ]\n",
    "daily_words = list(itertools.chain(*current_day['processed w/o stopwords']))\n",
    "daily_word_count = collections.Counter(daily_words)\n",
    "print(\"09.07.:\\n{}\".format(daily_word_count.most_common(25)))\n",
    "current_day = df_date.loc[(df_date['new_date'] > '2021-07-08 00:00:00') & (df_date['new_date'] <= '2021-07-08 23:59:59') ]\n",
    "daily_words = list(itertools.chain(*current_day['processed w/o stopwords']))\n",
    "daily_word_count = collections.Counter(daily_words)\n",
    "print(\"08.07.:\\n{}\".format(daily_word_count.most_common(25)))\n",
    "current_day = df_date.loc[(df_date['new_date'] > '2021-08-03 00:00:00') & (df_date['new_date'] <= '2021-08-03 23:59:59') ]\n",
    "daily_words = list(itertools.chain(*current_day['processed w/o stopwords']))\n",
    "daily_word_count = collections.Counter(daily_words)\n",
    "print(\"03.08.:\\n{}\".format(daily_word_count.most_common(25)))\n",
    "current_day = df_date.loc[(df_date['new_date'] > '2021-08-04 00:00:00') & (df_date['new_date'] <= '2021-08-04 23:59:59') ]\n",
    "daily_words = list(itertools.chain(*current_day['processed w/o stopwords']))\n",
    "daily_word_count = collections.Counter(daily_words)\n",
    "print(\"04.08.:\\n{}\".format(daily_word_count.most_common(25)))\n",
    "current_day = df_date.loc[(df_date['new_date'] > '2021-08-25 00:00:00') & (df_date['new_date'] <= '2021-08-25 23:59:59') ]\n",
    "daily_words = list(itertools.chain(*current_day['processed w/o stopwords']))\n",
    "daily_word_count = collections.Counter(daily_words)\n",
    "print(\"25.08.:\\n{}\".format(daily_word_count.most_common(25)))\n",
    "current_day = df_date.loc[(df_date['new_date'] > '2021-08-12 00:00:00') & (df_date['new_date'] <= '2021-08-12 23:59:59') ]\n",
    "daily_words = list(itertools.chain(*current_day['processed w/o stopwords']))\n",
    "daily_word_count = collections.Counter(daily_words)\n",
    "print(\"12.08.:\\n{}\".format(daily_word_count.most_common(25)))\n",
    "current_day = df_date.loc[(df_date['new_date'] > '2021-08-26 00:00:00') & (df_date['new_date'] <= '2021-08-26 23:59:59') ]\n",
    "daily_words = list(itertools.chain(*current_day['processed w/o stopwords']))\n",
    "daily_word_count = collections.Counter(daily_words)\n",
    "print(\"26.08.:\\n{}\".format(daily_word_count.most_common(25)))\n",
    "current_day = df_date.loc[(df_date['new_date'] > '2021-09-29 00:00:00') & (df_date['new_date'] <= '2021-09-29 23:59:59') ]\n",
    "daily_words = list(itertools.chain(*current_day['processed w/o stopwords']))\n",
    "daily_word_count = collections.Counter(daily_words)\n",
    "print(\"29.09.:\\n{}\".format(daily_word_count.most_common(25)))\n",
    "current_day = df_date.loc[(df_date['new_date'] > '2021-09-10 00:00:00') & (df_date['new_date'] <= '2021-09-10 23:59:59') ]\n",
    "daily_words = list(itertools.chain(*current_day['processed w/o stopwords']))\n",
    "daily_word_count = collections.Counter(daily_words)\n",
    "print(\"10.09.:\\n{}\".format(daily_word_count.most_common(25)))\n",
    "current_day = df_date.loc[(df_date['new_date'] > '2021-09-02 00:00:00') & (df_date['new_date'] <= '2021-09-02 23:59:59') ]\n",
    "daily_words = list(itertools.chain(*current_day['processed w/o stopwords']))\n",
    "daily_word_count = collections.Counter(daily_words)\n",
    "print(\"02.09.:\\n{}\".format(daily_word_count.most_common(25)))\n",
    "current_day = df_date.loc[(df_date['new_date'] > '2021-09-06 00:00:00') & (df_date['new_date'] <= '2021-09-06 23:59:59') ]\n",
    "daily_words = list(itertools.chain(*current_day['processed w/o stopwords']))\n",
    "daily_word_count = collections.Counter(daily_words)\n",
    "print(\"06.09.:\\n{}\".format(daily_word_count.most_common(25)))\n",
    "current_day = df_date.loc[(df_date['new_date'] > '2021-09-03 00:00:00') & (df_date['new_date'] <= '2021-09-03 23:59:59') ]\n",
    "daily_words = list(itertools.chain(*current_day['processed w/o stopwords']))\n",
    "daily_word_count = collections.Counter(daily_words)\n",
    "print(\"03.09.:\\n{}\".format(daily_word_count.most_common(25)))"
   ]
  },
  {
   "cell_type": "markdown",
   "id": "b843410f",
   "metadata": {},
   "source": [
    "### Observations June:\n",
    "10th + 11th: Start of the movement under the hashtag #IchBinHanna\n",
    "24th: Issue got discussed in the \"aktuelle Stunde\" of the german Bundestag\n",
    "25th: Series of tweets of Achim Landwehr, a Dean of studies critizing and portraying the situation of scientific workers\n",
    "17th: State scecretary Wolf-Dieter Lukas uploads a video addressing the issues that arose with the hashtag\n",
    "14th: Initial video of the BMBF gets deleted from their website.\n",
    "\n",
    "### Observations July:\n",
    "1st +  2nd: Zoom conference of the GEW (union for education and science) \n",
    "9th: Journalist Thilo Jung presents the issue at a press conference of the german government \n",
    "\n",
    "### Observations August:\n",
    "3rd + 4th: TV report about #IchBinHanna in ZDF's \"heute journal\" \n",
    "\n",
    "### Observations September:\n",
    "2nd + 3rd: declaration of new \"Berliner Hochschulgesetz\"\n",
    "29th: IchBinHanna discussed in the \"hessischer Landtag\""
   ]
  }
 ],
 "metadata": {
  "kernelspec": {
   "display_name": "Python 3 (ipykernel)",
   "language": "python",
   "name": "python3"
  },
  "language_info": {
   "codemirror_mode": {
    "name": "ipython",
    "version": 3
   },
   "file_extension": ".py",
   "mimetype": "text/x-python",
   "name": "python",
   "nbconvert_exporter": "python",
   "pygments_lexer": "ipython3",
   "version": "3.8.5"
  }
 },
 "nbformat": 4,
 "nbformat_minor": 5
}
